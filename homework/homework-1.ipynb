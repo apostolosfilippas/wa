{
 "cells": [
  {
   "cell_type": "markdown",
   "metadata": {},
   "source": [
    "---\n",
    "\n",
    "### 🎓 **Professor**: Apostolos Filippas\n",
    "\n",
    "### 📘 **Class**: Web Analytics\n",
    "\n",
    "### 📋 **Topic**: Homework 1 \n",
    "\n",
    "🚫 **Note**: You are not allowed to share the contents of this notebook with anyone outside this class without written permission by the professor.\n",
    "\n",
    "---\n",
    "\n",
    "# <center><font color='red'>Instructions </font></center>\n",
    "\n",
    "In this homework you are asked to do a basic data analysis using a real-life dataset downloaded from www.politifact.com .\n",
    "\n",
    "You will be asked to do things step by step. Please follow the guidelines and write your code in the code cells provided. \n",
    "- Feel free to comment your code as well as you think your code should be commented.\n",
    "- There are multiple correct ways to answer each question!\n",
    "- The analysis that is required is similar to the Python #3 notebook. Look to this notebook for hints! "
   ]
  },
  {
   "cell_type": "markdown",
   "metadata": {},
   "source": [
    "## Q1 - Understanding your data source\n",
    "\n",
    "Visit the www.politifact.com website and browse around. What is the main function of the website? Write your answer in the Markdown cell below.\n"
   ]
  },
  {
   "cell_type": "markdown",
   "metadata": {},
   "source": []
  },
  {
   "cell_type": "markdown",
   "metadata": {},
   "source": [
    "## Q2 - Data format and attributes\n",
    "\n",
    "Your data file has been pulled from the politifact website. It can be downloaded from the following link https://bit.ly/politifactData.\n",
    "\n",
    "Every line represents a different political statement that politifact has put under its microscope. The tab-separated features are the following:\n",
    "1. Politifact Rating\n",
    "2. Statement\n",
    "3. Who made the statement\n",
    "4. when the statement was made\n",
    "5. where the statement was made\n",
    "6. '|'-separated subjects of the statement\n",
    "\n",
    "Put the data into a list named **statements**. \n",
    "- Every element of the list should be a list with the 6 features mentioned above. \n",
    "- The 6th element of the list of features should be a list containing the subjects that the corresponding statement is about. \n",
    "- Print the entry with index 37"
   ]
  },
  {
   "cell_type": "code",
   "execution_count": null,
   "metadata": {},
   "outputs": [],
   "source": []
  },
  {
   "cell_type": "markdown",
   "metadata": {},
   "source": [
    "## Q3 - The set of ratings\n",
    "\n",
    "Use your data to find all possible ratings that politifact might assign to a statement. In other words, all possible values that the first attribute can take. Store them into a set with name **ratings** and print the set."
   ]
  },
  {
   "cell_type": "code",
   "execution_count": null,
   "metadata": {},
   "outputs": [],
   "source": []
  },
  {
   "cell_type": "markdown",
   "metadata": {},
   "source": [
    "## Q4 - The distribution of ratings\n",
    "\n",
    "You are now asked to find how many times each of the possible ratings appears. \n",
    "\n",
    "I suggest you do that using a disctionary (with keys being the rating string, and values being the number of times it appears) but feel free to follow your own strategy. \n",
    "\n",
    "Print the distribution of ratings."
   ]
  },
  {
   "cell_type": "code",
   "execution_count": null,
   "metadata": {},
   "outputs": [],
   "source": []
  },
  {
   "cell_type": "markdown",
   "metadata": {},
   "source": [
    "## Q5 - Changing labels to binary\n",
    "\n",
    "Not all of the ratings seem to tell us confidently that the statement is a lie; for example some of them refer to whether the quoter has flopped on a previous statement they made, or that the statement is half true. \n",
    "\n",
    "Toward that end make a new list with name **new_statements** that contains only those entries for which the rating is 'False', 'Mostly False', 'Pants on Fire!', 'Mostly True', and 'True'. \n",
    "\n",
    "After you do this, turn the old ratings into 0 or 1 's as follows:\n",
    "- 'False', 'Mostly False', 'Pants on Fire!' should be mapped to 0\n",
    "- 'Mostly True', 'True' should be mapped to 1"
   ]
  },
  {
   "cell_type": "code",
   "execution_count": null,
   "metadata": {},
   "outputs": [],
   "source": []
  },
  {
   "cell_type": "markdown",
   "metadata": {},
   "source": [
    "## Q6 - Does Trump lie? (in this data set)\n",
    "\n",
    "How many lies (0's) and how many truths (1's) that Donald Trump said are in our data set? Donald Trump's identifier is 'donald-trump'. Print the numbers"
   ]
  },
  {
   "cell_type": "code",
   "execution_count": null,
   "metadata": {},
   "outputs": [],
   "source": []
  },
  {
   "cell_type": "markdown",
   "metadata": {},
   "source": [
    "## Q7 - How about Hillary and Obama? (in this data set)\n",
    "\n",
    "Perform the same exercise for Hillary, and for Obama. Their respective identifiers are 'hillary-clinton' and 'barack-obama'"
   ]
  },
  {
   "cell_type": "code",
   "execution_count": null,
   "metadata": {},
   "outputs": [],
   "source": []
  },
  {
   "cell_type": "markdown",
   "metadata": {},
   "source": [
    "## Q8 - Obama's favorite subjects\n",
    "\n",
    "What are the top 10 subjects obama talks about? Use the new_statements list for this question. If one statement is on more than one subject, then it counts as a +1 for every subject it is about. Print the top 10, along with the number of mentions."
   ]
  },
  {
   "cell_type": "code",
   "execution_count": null,
   "metadata": {},
   "outputs": [],
   "source": []
  }
 ],
 "metadata": {
  "kernelspec": {
   "display_name": "Python 3 (ipykernel)",
   "language": "python",
   "name": "python3"
  },
  "language_info": {
   "codemirror_mode": {
    "name": "ipython",
    "version": 3
   },
   "file_extension": ".py",
   "mimetype": "text/x-python",
   "name": "python",
   "nbconvert_exporter": "python",
   "pygments_lexer": "ipython3",
   "version": "3.8.11"
  }
 },
 "nbformat": 4,
 "nbformat_minor": 1
}
