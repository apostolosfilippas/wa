{
 "cells": [
  {
   "cell_type": "markdown",
   "metadata": {},
   "source": [
    "---\n",
    "\n",
    "### 🎓 **Professor**: Apostolos Filippas\n",
    "\n",
    "### 📘 **Class**: Web Analytics\n",
    "\n",
    "### 📋 **Topic**: Homework 2\n",
    "\n",
    "🚫 **Note**: You are not allowed to share the contents of this notebook with anyone outside this class without written permission by the professor.\n",
    "\n",
    "---\n",
    "\n",
    "# Homework 2: Parsing rotten tomatoes reviews\n",
    "\n",
    "In this homework, you have to create a script that will parse data from [Rotten Tomatoes](https://rottentomatoes.com), a movie reviews website. \n",
    "- The work you have to do is similar to what we covered in Lectures 4-6, albeit for a different website. \n",
    "- Please read and follow the instructions below very carefully.\n",
    "\n",
    "## Step 1\n",
    "---\n",
    "\n",
    "Your script should begin by importing libraries, and then defining two variables\n",
    "1. **movie** a string variable indicating the movie for which reviews will be parsed\n",
    "2. **pageNum** the number of review pages to parse\n",
    "\n",
    "For example, to parse the first 3 pages of the [Gangs of New York](https://www.rottentomatoes.com/m/gangs_of_new_york/reviews) reviews, I would have to open your script and set **movie='gangs_of_new_york'** and **pageNum=3**. \n",
    "\n",
    "Your code should then go to the movie's [All Critics](https://www.rottentomatoes.com/m/gangs_of_new_york/reviews) reviews page, and parse the first 3 pages of reviews.\n",
    "- Note: pagination on RT happens by clicking on the \"Load more\" button.\n",
    "\n",
    "## Step 2\n",
    "---\n",
    "\n",
    "For each review contained in each of the pages you requested, parse the following information\n",
    "1. **The critic** This should be None if the review doesn't have a critic's name.\n",
    "2. **The rating.** The rating should be 'rotten', 'fresh', or None if the review doesn't have a rating.\n",
    "3. **The source** This should be None if the review doesn't have a source.\n",
    "4. **The text.**  This should be None if the review doesn't have text.\n",
    "5. **The date.**  This should be None if the review doesn't have a date.\n",
    "\n",
    "Continuing with our [Gangs of New York](https://www.rottentomatoes.com/m/gangs_of_new_york/reviews) example:\n"
   ]
  },
  {
   "cell_type": "markdown",
   "metadata": {},
   "source": [
    "![Gangs of New York Reviews Page](../assets/wa-hw2-1.png)\n",
    "\n",
    "The load more button is at the bottom of the review page:\n",
    "\n",
    "![Load More Button](../assets/wa-hw2-2.png)\n"
   ]
  },
  {
   "cell_type": "markdown",
   "metadata": {},
   "source": [
    "## Step 3\n",
    "\n",
    "After parsing the data, save them in a file that is called **firstname_lastname_movie.json**,\n",
    "\n",
    "The JSON file should be a list of dicts, one for each review, with the following structure:\n",
    "\n",
    "```json\n",
    "[\n",
    "    { \"critic_name\":... , \"rating\": ... , \"source\": ... , \"text\":... , \"date\": ... },\n",
    "    { \"critic_name\":... , \"rating\": ... , \"source\": ... , \"text\":... , \"date\": ... },\n",
    "]\n",
    "```\n",
    "\n",
    "**Note:** \n",
    "- [This notebook](https://github.com/apostolosfilippas/wa/blob/main/scripts/06.0%20JSON.ipynb) introduces you to JSON. We can think of JSON files as lists of dicts, all with the same keys.\n",
    "\n",
    "**Example**\n",
    "- I would save my data to `apostolos_filippas_gangs_of_new_york.json`. \n",
    "\n",
    "## Deliverables and Grading\n",
    "\n",
    "**Deliverables**  \n",
    "- Submit *only* your python code (script or notebook) on Blackboard\n",
    "\n",
    "**Grading**  \n",
    "- To grade your exercise, we will use your script to parse reviews from a few randomly selected movies. In other words, I will change the *movie* variable and the *pageNum* variable in the beginning of your code. \n",
    "- Your grade will be the percentage of items successfully parsed, compared to my own script. As such, please make sure that you have run your parser for a bunch of different movies, to ensure your code works for many different cases.\n",
    "\n",
    "**Collaboration**  \n",
    "- I encourage you to talk to other students about this assignment and help one another. \n",
    "- However, *this is not a group assignment*. This means that you have to write your own scripts. \n",
    "- If you have any questions about collaborating, please read course policies #5 and #7. If you still have questions, contact the instructor.\n"
   ]
  }
 ],
 "metadata": {
  "language_info": {
   "name": "python"
  }
 },
 "nbformat": 4,
 "nbformat_minor": 2
}
