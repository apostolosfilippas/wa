{
 "cells": [
  {
   "cell_type": "markdown",
   "metadata": {
    "id": "7BMnSjxRSDxh"
   },
   "source": [
    "---\n",
    "\n",
    "### 🎓 **Professor**: Apostolos Filippas\n",
    "\n",
    "### 📘 **Class**: Web Analytics\n",
    "\n",
    "### 📋 **Topic**: Practice Problem 1\n",
    "\n",
    "🚫 **Note**: You are not allowed to share the contents of this notebook with anyone outside this class without written permission by the professor.\n",
    "\n",
    "---\n",
    "\n",
    "# <center><font color='red'>Instructions</font></center>\n",
    "\n",
    "\n",
    "In this Homework you are asked to do things step by step. \n",
    "\n",
    "Please follow the guidelines and write your code in the code cells provided. \n",
    "- Feel free to comment your code as well as you think your code should be commented.\n",
    "- There are multiple correct ways to answer each question!\n",
    "\n",
    "**Question 1:** Make two strings, \"The quick brown fox\" and \"jumps over the lazy dog\", assign them to variables x and y, assign their concatenation to variable z, and print z."
   ]
  },
  {
   "cell_type": "code",
   "execution_count": null,
   "metadata": {
    "id": "JZqg13xaSDxl"
   },
   "outputs": [],
   "source": []
  },
  {
   "cell_type": "code",
   "execution_count": null,
   "metadata": {},
   "outputs": [],
   "source": []
  },
  {
   "cell_type": "markdown",
   "metadata": {
    "id": "QbD_ehWgSDxl"
   },
   "source": [
    "**Question 2:** We would like to have a newline between fox and jumps. \n",
    "Add the concatenation of variables x, a newline, and variable y to a variable z, and print z."
   ]
  },
  {
   "cell_type": "code",
   "execution_count": null,
   "metadata": {
    "id": "CSF1qPVJSDxm"
   },
   "outputs": [],
   "source": []
  },
  {
   "cell_type": "code",
   "execution_count": null,
   "metadata": {},
   "outputs": [],
   "source": []
  },
  {
   "cell_type": "markdown",
   "metadata": {
    "id": "Q_m4p3ccSDxm"
   },
   "source": [
    "**Question 3:** Print the 31st to the 39th character of the string Z. \n",
    "(Tip: Python uses zero-based indexing. The outcome should be full words)"
   ]
  },
  {
   "cell_type": "code",
   "execution_count": null,
   "metadata": {
    "id": "VaIFkGBUSDxm"
   },
   "outputs": [],
   "source": []
  },
  {
   "cell_type": "code",
   "execution_count": null,
   "metadata": {},
   "outputs": [],
   "source": []
  },
  {
   "cell_type": "markdown",
   "metadata": {
    "id": "whJoSWR9SDxm"
   },
   "source": [
    "For all of the remaining exercises, use the string \n",
    "\n",
    "`z = \"The quick brown fox\\njumps over the lazy dog\"`"
   ]
  },
  {
   "cell_type": "markdown",
   "metadata": {
    "id": "RL11TtZ0SDxn"
   },
   "source": [
    "**Question 4:** Find how many \"o\"'s there exist up to the beginning of the word \"jumps\" in the string z. \n",
    "\n",
    "Tip: To do this, you will first need to extract the substring that ends right before the word \"jumps\" begins.\n",
    "To do that, you have to \n",
    "- use the \"find\" function to find the index of the first \"x\" in the string z\n",
    "- get the substring and save it to some other variable\n",
    "- use the \"count\" function. "
   ]
  },
  {
   "cell_type": "code",
   "execution_count": null,
   "metadata": {
    "id": "UJKm-dfGSDxn"
   },
   "outputs": [],
   "source": []
  },
  {
   "cell_type": "code",
   "execution_count": null,
   "metadata": {
    "id": "GP6D7C9ySDxn"
   },
   "outputs": [],
   "source": []
  },
  {
   "cell_type": "markdown",
   "metadata": {
    "id": "XmJYpLO2SDxo"
   },
   "source": [
    "**Question 5:** \n",
    "Print string z where every character up to but not including the first \"x\" character is uppercased\n",
    "\n"
   ]
  },
  {
   "cell_type": "code",
   "execution_count": null,
   "metadata": {
    "id": "0kzs24HQSDxo"
   },
   "outputs": [],
   "source": []
  },
  {
   "cell_type": "code",
   "execution_count": null,
   "metadata": {},
   "outputs": [],
   "source": []
  },
  {
   "cell_type": "markdown",
   "metadata": {
    "id": "SPMMYaADSDxo"
   },
   "source": [
    "**Question 6:** Print string z where every character including the first \"x\" character is uppercased"
   ]
  },
  {
   "cell_type": "code",
   "execution_count": null,
   "metadata": {
    "id": "Bn4WhbpgSDxp"
   },
   "outputs": [],
   "source": []
  },
  {
   "cell_type": "code",
   "execution_count": null,
   "metadata": {
    "id": "TxB0rykvSDxp"
   },
   "outputs": [],
   "source": []
  },
  {
   "cell_type": "markdown",
   "metadata": {
    "id": "ijj6EctLSDxp"
   },
   "source": [
    "**Question 7:** Split string z at the newline character"
   ]
  },
  {
   "cell_type": "code",
   "execution_count": null,
   "metadata": {
    "id": "Ab_Vf9ZoSDxp"
   },
   "outputs": [],
   "source": []
  },
  {
   "cell_type": "code",
   "execution_count": null,
   "metadata": {},
   "outputs": [],
   "source": []
  },
  {
   "cell_type": "markdown",
   "metadata": {
    "id": "Bi9mUd7aSDxp"
   },
   "source": [
    "**Question 8:** Split string z at every emtpy space"
   ]
  },
  {
   "cell_type": "code",
   "execution_count": null,
   "metadata": {
    "id": "GSsNTG80SDxq"
   },
   "outputs": [],
   "source": []
  },
  {
   "cell_type": "code",
   "execution_count": null,
   "metadata": {
    "id": "X0IvBmIYSDxq"
   },
   "outputs": [],
   "source": []
  },
  {
   "cell_type": "markdown",
   "metadata": {
    "id": "-dIr99heSDxq"
   },
   "source": [
    "**Question 9:** Assign a short motivational sentence to a variable and print it 20 times."
   ]
  },
  {
   "cell_type": "code",
   "execution_count": null,
   "metadata": {
    "id": "apXYWzdqSDxq"
   },
   "outputs": [],
   "source": []
  },
  {
   "cell_type": "code",
   "execution_count": null,
   "metadata": {
    "id": "M2BgxXV2SDxq"
   },
   "outputs": [],
   "source": []
  },
  {
   "cell_type": "markdown",
   "metadata": {},
   "source": [
    "Bonus: \"Combine all the techniques you've learned to print the string z backward, but with each word still in its original order. For example, 'hello world' would become 'world hello'.\""
   ]
  },
  {
   "cell_type": "code",
   "execution_count": null,
   "metadata": {},
   "outputs": [],
   "source": []
  },
  {
   "cell_type": "code",
   "execution_count": null,
   "metadata": {},
   "outputs": [],
   "source": []
  }
 ],
 "metadata": {
  "colab": {
   "collapsed_sections": [],
   "name": "1. Practice problem 1.ipynb",
   "provenance": []
  },
  "kernelspec": {
   "display_name": "Python 3",
   "language": "python",
   "name": "python3"
  },
  "language_info": {
   "codemirror_mode": {
    "name": "ipython",
    "version": 3
   },
   "file_extension": ".py",
   "mimetype": "text/x-python",
   "name": "python",
   "nbconvert_exporter": "python",
   "pygments_lexer": "ipython3",
   "version": "3.8.3"
  }
 },
 "nbformat": 4,
 "nbformat_minor": 1
}
