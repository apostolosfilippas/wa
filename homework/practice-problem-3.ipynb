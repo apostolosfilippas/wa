{
 "cells": [
  {
   "cell_type": "markdown",
   "metadata": {
    "id": "5TesOqrwmktv"
   },
   "source": [
    "---\n",
    "\n",
    "### 🎓 **Professor**: Apostolos Filippas\n",
    "\n",
    "### 📘 **Class**: Web Analytics\n",
    "\n",
    "### 📋 **Topic**: Practice Problem 3\n",
    "\n",
    "🚫 **Note**: You are not allowed to share the contents of this notebook with anyone outside this class without written permission by the professor.\n",
    "\n",
    "---\n",
    "\n",
    "# <center><font color='red'>Instructions </font></center>\n",
    "\n",
    "You will be asked to do things step by step. Please follow the guidelines and write your code in the code cells provided. \n",
    "- Feel free to comment your code as well as you think your code should be commented.\n",
    "- There are multiple correct ways to answer each question!\n",
    "\n",
    "**Question 1:** Make an empty list, then use a for loop and the range function to append numbers 1 to 20 to the list. Print the list"
   ]
  },
  {
   "cell_type": "code",
   "execution_count": null,
   "metadata": {
    "id": "h3cPSGJDmktw"
   },
   "outputs": [],
   "source": []
  },
  {
   "cell_type": "markdown",
   "metadata": {
    "id": "-txJ1oxomkty"
   },
   "source": [
    "**Question 2:** Make an empty list, then use a for loop and the range function to append every number from 1 to 20, whose square is larger than 40 and less than 120. Print the list"
   ]
  },
  {
   "cell_type": "code",
   "execution_count": null,
   "metadata": {
    "id": "15lGESaKmktz"
   },
   "outputs": [],
   "source": []
  },
  {
   "cell_type": "markdown",
   "metadata": {
    "id": "HHrPsX_Fmkt1"
   },
   "source": [
    "**Question 3:** Make two empty lists, then use a for loop and the range function to \n",
    "- append every number in the range from 1 to 20 whose square is larger than 40 and less than 120 to the first list,\n",
    "- append every number that doesn't satisfy the above condtion to the second list\n",
    "Print the two lists"
   ]
  },
  {
   "cell_type": "code",
   "execution_count": null,
   "metadata": {
    "id": "EQ1shJCamkt2"
   },
   "outputs": [],
   "source": []
  },
  {
   "cell_type": "markdown",
   "metadata": {
    "id": "TzxBFq59mkt4"
   },
   "source": [
    "**Question 3:** Make three empty lists, then use a for loop and the range function to \n",
    "- append every number in the range from 1 to 20 to the first list, if the square of these numbers is larger than 40 and less than 120\n",
    "- append every number that is not appended to the first list to the second list if it is less than 10, else append it to the third list\n",
    "- Print the three lists"
   ]
  },
  {
   "cell_type": "code",
   "execution_count": null,
   "metadata": {
    "id": "2h15bsT6mkt5"
   },
   "outputs": [],
   "source": []
  },
  {
   "cell_type": "markdown",
   "metadata": {
    "id": "63Gk0EVRmkt7"
   },
   "source": [
    "**Question 4:** Someone gave Drake---the well known rapper---the following gifts for Christmas. The gifts are described in the dictionary, where the key is the number of gifts, and the associated value describes the gift."
   ]
  },
  {
   "cell_type": "code",
   "execution_count": null,
   "metadata": {
    "id": "N5bmvbZvmkt8"
   },
   "outputs": [],
   "source": [
    "my_dict = {1:'partidge in a pear tree',\n",
    "           2:'turtle doves',\n",
    "           3:'french hens',\n",
    "           4:'calling birds',\n",
    "           5:'golden rings',\n",
    "           6:'geese a laying',\n",
    "           7:'swans a swimming',\n",
    "           8:'maids a milking',\n",
    "           9:'ladies dancing',\n",
    "           10:'lords a leaping',\n",
    "           11:'pipers piping',\n",
    "           12:'drummer drumming',\n",
    "           13:'platinum rings'}"
   ]
  },
  {
   "cell_type": "markdown",
   "metadata": {
    "id": "jWz3kvWBmkt-"
   },
   "source": [
    "Drake only accepts \"really big\" rings and \"ninja\" turtle doves.\n",
    "- Use a for loop to find if any rings or turtles were offered to Drake. To do this, search the dictionary values one by one, checking if the string \"rings\" or \"turtles\" are contained within each value.\n",
    "- If they are contained within a value, change them to \"really big rings\" and \"ninja turtles\" respectively. Do this by appending \"really big\" in front of the value containing rings, and \"ninja\" in front of the value containing turtles.\n",
    "Print your dictionary."
   ]
  },
  {
   "cell_type": "code",
   "execution_count": null,
   "metadata": {
    "id": "kSbzI-cRmkt-"
   },
   "outputs": [],
   "source": []
  },
  {
   "cell_type": "markdown",
   "metadata": {
    "id": "y42i6OuomkuA"
   },
   "source": [
    "**Question 5:** Make another dict, with reversed orders of keys and entries: the key now is the gift, and the associated value is how many of that gift were given to Drake. Print the result"
   ]
  },
  {
   "cell_type": "code",
   "execution_count": null,
   "metadata": {
    "id": "q8plk6InmkuB"
   },
   "outputs": [],
   "source": []
  },
  {
   "cell_type": "markdown",
   "metadata": {
    "id": "NBuzwMk1mkuD"
   },
   "source": [
    "**Question 6:** Drake would never accept less than 6 gifts of the same kind - he's quite greedy. \n",
    "\n",
    "Find how many gifts are missing, so that we could buy him enough gifts before Christmas eve.\n",
    "Store the results of how many keys are missing so that we can give the list to a member of Drake's entourage.\n",
    "Store the results as follows: create a dictionary that stores the gift name as a key, and the number of items that's missing as the key's value. \n",
    "\n",
    "Print that dictionary."
   ]
  },
  {
   "cell_type": "code",
   "execution_count": null,
   "metadata": {
    "id": "22_jTL1wmkuD"
   },
   "outputs": [],
   "source": []
  },
  {
   "cell_type": "markdown",
   "metadata": {
    "id": "A7FvrUo1IffQ"
   },
   "source": [
    "**Question 7:**\n",
    "\n",
    "- First, go to [this link](https://github.com/apostolosfilippas/wa/blob/44958c11a409affbcfc8b37daec8ef776514a5d8/data/shakespeare.txt) and download the 'shakespeare.txt' file\n",
    "- After you download it, put it on your working directory, or wherever else you prefer in your computer. (I put it in a \"data\" folder)\n",
    "\n",
    "Print the second paragraph of Shakespeare's *The Sonnets*, located from the 318rd line to the 332nd. \n",
    "\n",
    "*Tip: Once splitting the .txt file by line, your variable containing the file's contents should work just like a list!*"
   ]
  },
  {
   "cell_type": "code",
   "execution_count": null,
   "metadata": {
    "id": "abJj35ajUVXN"
   },
   "outputs": [],
   "source": []
  }
 ],
 "metadata": {
  "colab": {
   "collapsed_sections": [],
   "name": "3. Practice problem 3.ipynb",
   "provenance": []
  },
  "kernelspec": {
   "display_name": "Python 3",
   "language": "python",
   "name": "python3"
  },
  "language_info": {
   "codemirror_mode": {
    "name": "ipython",
    "version": 3
   },
   "file_extension": ".py",
   "mimetype": "text/x-python",
   "name": "python",
   "nbconvert_exporter": "python",
   "pygments_lexer": "ipython3",
   "version": "3.8.3"
  }
 },
 "nbformat": 4,
 "nbformat_minor": 0
}
