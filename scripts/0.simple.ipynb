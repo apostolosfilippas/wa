{
 "cells": [
  {
   "cell_type": "markdown",
   "id": "5d46e914",
   "metadata": {},
   "source": [
    "---\n",
    "\n",
    "### 🎓 **Professor**: Apostolos Filippas\n",
    "\n",
    "### 📘 **Class**: Web Analytics\n",
    "\n",
    "### 📋 **Topic**: Your first script\n",
    "\n",
    "🚫 **Note**: You are not allowed to share the contents of this notebook with anyone outside this class without written permission by the professor.\n",
    "\n",
    "---"
   ]
  },
  {
   "cell_type": "code",
   "execution_count": null,
   "id": "1ffb7956",
   "metadata": {},
   "outputs": [],
   "source": [
    "# This is the first script for this class\n",
    "# You are supposed to download, open and run it!\n",
    "print(\"Never pay more than 20 bucks for a computer game 🐒\")"
   ]
  },
  {
   "cell_type": "markdown",
   "id": "05648819",
   "metadata": {},
   "source": [
    "If you get an error, the likely problem is that you first have to install the ipython kernel\n",
    "\n",
    "Run the command below in your notebook, or in your terminal (without the preceding %)"
   ]
  },
  {
   "cell_type": "code",
   "execution_count": null,
   "id": "3f5a2fb6",
   "metadata": {},
   "outputs": [],
   "source": [
    "%pip install ipykernel"
   ]
  },
  {
   "cell_type": "markdown",
   "id": "dfd4d020",
   "metadata": {},
   "source": [
    "Then try to run the first cell again!"
   ]
  }
 ],
 "metadata": {
  "kernelspec": {
   "display_name": ".venv",
   "language": "python",
   "name": "python3"
  },
  "language_info": {
   "codemirror_mode": {
    "name": "ipython",
    "version": 3
   },
   "file_extension": ".py",
   "mimetype": "text/x-python",
   "name": "python",
   "nbconvert_exporter": "python",
   "pygments_lexer": "ipython3",
   "version": "3.12.3"
  }
 },
 "nbformat": 4,
 "nbformat_minor": 5
}
