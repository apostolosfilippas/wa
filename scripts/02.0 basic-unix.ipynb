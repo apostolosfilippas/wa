{
 "cells": [
  {
   "cell_type": "markdown",
   "metadata": {},
   "source": [
    "---\n",
    "\n",
    "### 🎓 **Professor**: Apostolos Filippas\n",
    "\n",
    "### 📘 **Class**: Web Analytics\n",
    "\n",
    "### 📋 **Topic**: Basic unix commands (self-study)\n",
    "\n",
    "🚫 **Note**: You are not allowed to share the contents of this notebook with anyone outside this class without written permission by the professor.\n",
    "\n",
    "---\n",
    "\n",
    "# 1. 🐧 Simple Unix Commands\n",
    "\n",
    "We can use some simple commands to navigate around our filesystem (instead of clicking on the files).\n",
    "\n",
    "I showed you in class how to run these commands in the terminal, but I'd like to show you how to run them Notebooks as well.\n",
    "\n",
    "\n",
    "- The `%` prefix used before commands in the code snippets indicates that these commands are executed in the IPython environment. \n",
    "- It's essential to distinguish between the Unix commands and IPython magic commands. While %pwd, %ls, and %cd are magic commands that work within the IPython environment, their counterparts pwd, ls, and cd (without the % prefix) are the actual Unix commands that work in a Unix-like terminal.\n",
    "\n",
    "## Current working directory\n",
    "\n",
    "The `pwd` command will Print your Working Directory, that is the directory your python is curently working in."
   ]
  },
  {
   "cell_type": "code",
   "execution_count": null,
   "metadata": {},
   "outputs": [],
   "source": [
    "%pwd"
   ]
  },
  {
   "cell_type": "markdown",
   "metadata": {},
   "source": [
    "The `ls` command gives you a list of the files and folders in your current directory."
   ]
  },
  {
   "cell_type": "code",
   "execution_count": null,
   "metadata": {},
   "outputs": [],
   "source": [
    "\n",
    "%ls"
   ]
  },
  {
   "cell_type": "markdown",
   "metadata": {},
   "source": [
    "The `ls` command with the flags `-la` will give you even more information, and even allow you to see hidden files!"
   ]
  },
  {
   "cell_type": "code",
   "execution_count": null,
   "metadata": {},
   "outputs": [],
   "source": [
    "%ls -la"
   ]
  },
  {
   "cell_type": "markdown",
   "metadata": {},
   "source": [
    "The `cd pathname` will Change your Directory to the folder pathname.\n",
    "\n",
    "Instead of typing the full path, you can use the following shortcuts:\n",
    "- `.` refers to the current folder\n",
    "- `..` refers to the previous folder\n",
    "- `~` refers to the user folder\n",
    "\n",
    "The `cd ..` command will move you back to the previous folder. "
   ]
  },
  {
   "cell_type": "code",
   "execution_count": null,
   "metadata": {},
   "outputs": [],
   "source": [
    "% cd .."
   ]
  },
  {
   "cell_type": "code",
   "execution_count": null,
   "metadata": {},
   "outputs": [],
   "source": [
    "%ls"
   ]
  },
  {
   "cell_type": "code",
   "execution_count": null,
   "metadata": {},
   "outputs": [],
   "source": [
    "%cd .."
   ]
  },
  {
   "cell_type": "code",
   "execution_count": null,
   "metadata": {},
   "outputs": [],
   "source": [
    "%ls"
   ]
  },
  {
   "cell_type": "markdown",
   "metadata": {},
   "source": [
    "## Notes\n",
    "\n",
    "You now know the basics of how to navigate through your file system using the command line! \n",
    "- That means that could do show without necessarily using a mouse/trackpad :)\n",
    "- People used to only be able to navigate through the file system of their OS using the command line\n",
    "\n",
    "The command line is not a leftover from an obsolete past; instead, it can actually make your workflow much much faster.  I suggest you invest in learning more"
   ]
  }
 ],
 "metadata": {
  "kernelspec": {
   "display_name": "Python 3",
   "language": "python",
   "name": "python3"
  },
  "language_info": {
   "codemirror_mode": {
    "name": "ipython",
    "version": 3
   },
   "file_extension": ".py",
   "mimetype": "text/x-python",
   "name": "python",
   "nbconvert_exporter": "python",
   "pygments_lexer": "ipython3",
   "version": "3.10.4"
  }
 },
 "nbformat": 4,
 "nbformat_minor": 2
}
