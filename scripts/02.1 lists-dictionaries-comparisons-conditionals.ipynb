{
 "cells": [
  {
   "cell_type": "markdown",
   "metadata": {
    "id": "Ny-XkunmTU1t"
   },
   "source": [
    "---\n",
    "\n",
    "### 🎓 **Professor**: Apostolos Filippas\n",
    "\n",
    "### 📘 **Class**: Web Analytics\n",
    "\n",
    "### 📋 **Topic**: Lists, Dictionaries, Comparisons\n",
    "\n",
    "🚫 **Note**: You are not allowed to share the contents of this notebook with anyone outside this class without written permission by the professor.\n",
    "\n",
    "---\n",
    "\n",
    "# 📜 1. Lists\n",
    "\n",
    "We introduced the concept of *sequence* when discussing strings.\n",
    "Strings are, simply put, a sequence of characters that is immutable.\n",
    "\n",
    "Lists are the more general version of sequences and are very much **mutable**; the elements of a list can be changed!\n",
    "\n",
    "\n",
    "## 1.1 Basics\n",
    "Lists are constructed with brackets **[ ]** and with commas separating every element of the list. \n",
    "Let's see an example."
   ]
  },
  {
   "cell_type": "code",
   "execution_count": null,
   "metadata": {
    "id": "qd-7MhqmTU1y"
   },
   "outputs": [],
   "source": [
    "#assign a list to a variable with name first_list\n",
    "first_list = [1, 2, 3]\n",
    "first_list"
   ]
  },
  {
   "cell_type": "code",
   "execution_count": null,
   "metadata": {
    "id": "z2YFOf7qTU1z"
   },
   "outputs": [],
   "source": [
    "#lists can hold different types of objects in each index, not only integers!\n",
    "first_list = [1.3233, 5, 'hello_world']\n",
    "first_list"
   ]
  },
  {
   "cell_type": "code",
   "execution_count": null,
   "metadata": {
    "id": "E4OMvov5TU1z"
   },
   "outputs": [],
   "source": [
    "#the len() function tells you how many elements the list has\n",
    "len(first_list)"
   ]
  },
  {
   "cell_type": "markdown",
   "metadata": {
    "id": "5L6GMLWdTU10"
   },
   "source": [
    "## 1.2 Indexing and Slicing\n",
    "Indexing and slicing of lists works very similarly to that of strings. Let's work through some examples."
   ]
  },
  {
   "cell_type": "code",
   "execution_count": null,
   "metadata": {
    "id": "lUWPPHHRTU10"
   },
   "outputs": [],
   "source": [
    "# Access the first element of the list\n",
    "first_list[0]"
   ]
  },
  {
   "cell_type": "code",
   "execution_count": null,
   "metadata": {
    "id": "Zh3wYCuITU10"
   },
   "outputs": [],
   "source": [
    "# Access the second element of the list\n",
    "first_list[1]"
   ]
  },
  {
   "cell_type": "code",
   "execution_count": null,
   "metadata": {
    "id": "x2TRtLNdTU11"
   },
   "outputs": [],
   "source": [
    "# Access the third element of the list\n",
    "first_list[2]"
   ]
  },
  {
   "cell_type": "code",
   "execution_count": null,
   "metadata": {
    "id": "2E1lLhuQTU11"
   },
   "outputs": [],
   "source": [
    "# Access the twentieth element of the list\n",
    "first_list[19]"
   ]
  },
  {
   "cell_type": "code",
   "execution_count": null,
   "metadata": {
    "id": "oQkVzdIHTU12"
   },
   "outputs": [],
   "source": [
    "# Access the last element of the list\n",
    "first_list[-1]"
   ]
  },
  {
   "cell_type": "code",
   "execution_count": null,
   "metadata": {
    "id": "v4skMo2gTU12"
   },
   "outputs": [],
   "source": [
    "# Access index 1 and everything after it\n",
    "# notice that the outcome is a list!\n",
    "first_list[1:]"
   ]
  },
  {
   "cell_type": "code",
   "execution_count": null,
   "metadata": {
    "id": "Qsq2FECTTU12"
   },
   "outputs": [],
   "source": [
    "# Access index 2 and everything after it\n",
    "# notice that the outcome is a list, which ic different than accessing the element at position 2!\n",
    "first_list[2:]"
   ]
  },
  {
   "cell_type": "code",
   "execution_count": null,
   "metadata": {
    "id": "tbCGJLp5TU13"
   },
   "outputs": [],
   "source": [
    "# notice that the outcome is a list, which ic different than accessing the element at position 2!\n",
    "first_list[2]"
   ]
  },
  {
   "cell_type": "code",
   "execution_count": null,
   "metadata": {
    "id": "3XctZ6DDTU13"
   },
   "outputs": [],
   "source": [
    "#concatenating lists, just as in strings\n",
    "first_list + ['new element', 'another new element']"
   ]
  },
  {
   "cell_type": "code",
   "execution_count": null,
   "metadata": {
    "id": "vOAMmJrkTU13"
   },
   "outputs": [],
   "source": [
    "#this change is not permanent, because we haven't assigned it to a variable!\n",
    "first_list"
   ]
  },
  {
   "cell_type": "code",
   "execution_count": null,
   "metadata": {
    "id": "WsNV7zQ_TU13"
   },
   "outputs": [],
   "source": [
    "#to make it permanent we would have to reassign!\n",
    "first_list = first_list + ['new element', 'another new element']\n",
    "first_list"
   ]
  },
  {
   "cell_type": "code",
   "execution_count": null,
   "metadata": {
    "id": "aRqxDsoRTU14"
   },
   "outputs": [],
   "source": [
    "#remember that when slicing the elements we access do not include the second index\n",
    "first_list[3:5]"
   ]
  },
  {
   "cell_type": "code",
   "execution_count": null,
   "metadata": {
    "id": "C9GMzpWMTU14"
   },
   "outputs": [],
   "source": [
    "#we can even multiply a list!\n",
    "['some string']*5"
   ]
  },
  {
   "cell_type": "markdown",
   "metadata": {
    "id": "SWRkxDVfTU14"
   },
   "source": [
    "## 1.3 Useful list functions\n",
    "\n",
    "We are now going to cover some of the most useful list methods. \n",
    "- **append( k )**  appends k at the end of the list\n",
    "- **pop( k )**    pops off the item at index k. If we specify no index, pops off the last element\n",
    "- **reverse( )**   reverses the order of the items in the list\n",
    "- **sort( )**      sorts the list in alphabetical order, but for numbers it orders in ascending order\n",
    "- **insert( k, arg )** inserts arg at index k. Everything that follows is shifted one position to the right\n",
    "- **remove( arg )** removes the first occurence of arg from the list\n",
    "\n",
    "Let's see some examples."
   ]
  },
  {
   "cell_type": "code",
   "execution_count": null,
   "metadata": {
    "id": "e7y_cB0hTU15"
   },
   "outputs": [],
   "source": [
    "#create a new list\n",
    "x = [1,2,3]\n",
    "x"
   ]
  },
  {
   "cell_type": "code",
   "execution_count": null,
   "metadata": {
    "id": "npe0k-ZeTU15"
   },
   "outputs": [],
   "source": [
    "#append the string 'hello world' at the end of the list\n",
    "x.append('hello world')\n",
    "x"
   ]
  },
  {
   "cell_type": "code",
   "execution_count": null,
   "metadata": {},
   "outputs": [],
   "source": [
    "# find the index of the first occurence of 'hello world'\n",
    "x.index('hello world')"
   ]
  },
  {
   "cell_type": "code",
   "execution_count": null,
   "metadata": {},
   "outputs": [],
   "source": [
    "# what if I try to find the index of an element that is not in the list?\n",
    "x.index('hello world!')"
   ]
  },
  {
   "cell_type": "code",
   "execution_count": null,
   "metadata": {
    "id": "2lupdMBdTU15"
   },
   "outputs": [],
   "source": [
    "#pop the first item of the list\n",
    "x.pop(0)\n",
    "x"
   ]
  },
  {
   "cell_type": "code",
   "execution_count": null,
   "metadata": {
    "id": "dsOHIOGxTU15"
   },
   "outputs": [],
   "source": [
    "#you can assign the popped item to another variable!\n",
    "#when pop has no argument, it pops the last item off the list\n",
    "popped_item = x.pop()\n",
    "x"
   ]
  },
  {
   "cell_type": "code",
   "execution_count": null,
   "metadata": {
    "id": "knvTxuTBTU15"
   },
   "outputs": [],
   "source": [
    "popped_item"
   ]
  },
  {
   "cell_type": "code",
   "execution_count": null,
   "metadata": {
    "id": "xSu1h93ETU15"
   },
   "outputs": [],
   "source": [
    "# create a list of numbers then sort it\n",
    "number_list = [1,4,5,2,0,6]\n",
    "number_list.sort()\n",
    "number_list"
   ]
  },
  {
   "cell_type": "code",
   "execution_count": null,
   "metadata": {
    "id": "MnnYWa1KTU16"
   },
   "outputs": [],
   "source": [
    "#create a list of characters then sort it\n",
    "char_list = ['a','x','d', 'z','o']\n",
    "char_list.sort()\n",
    "char_list"
   ]
  },
  {
   "cell_type": "code",
   "execution_count": null,
   "metadata": {
    "id": "LCKrM6KaTU16"
   },
   "outputs": [],
   "source": [
    "#now reverse your list of characters\n",
    "char_list.reverse()\n",
    "char_list"
   ]
  },
  {
   "cell_type": "code",
   "execution_count": null,
   "metadata": {
    "id": "CinJd-nlTU16"
   },
   "outputs": [],
   "source": [
    "#insert 'hello_world' in the 3rd position (index 2)\n",
    "char_list.insert(2, 'hello_world')\n",
    "char_list"
   ]
  },
  {
   "cell_type": "code",
   "execution_count": null,
   "metadata": {
    "id": "Y-uEbANhTU16"
   },
   "outputs": [],
   "source": [
    "#let's remove 'o' from the list\n",
    "char_list.remove('o')\n",
    "char_list"
   ]
  },
  {
   "cell_type": "markdown",
   "metadata": {
    "id": "3J70scWUTU16"
   },
   "source": [
    "## 1.4 Nesting - lists of lists\n",
    "\n",
    "Data structures in Python support nesting - you can have data structures within data structures.\n",
    "\n",
    "Lets see an example of lists inside lists."
   ]
  },
  {
   "cell_type": "code",
   "execution_count": null,
   "metadata": {
    "id": "f4rxPmjbTU16"
   },
   "outputs": [],
   "source": [
    "x1 = [1,2,3]\n",
    "x2 = [4,5,6]\n",
    "x3 = [7,8,9]\n",
    "\n",
    "#now make a list of lists\n",
    "matrix = [x1, x2, x3]\n",
    "matrix"
   ]
  },
  {
   "cell_type": "markdown",
   "metadata": {
    "id": "LsGVVRaDTU16"
   },
   "source": [
    "You now have a list of lists. \n",
    "\n",
    "The variable matrix is a list that has\n",
    "- the list [1,2,3] in its first place (index = 0)\n",
    "- the list [4,5,6] in its first place (index = 1)\n",
    "- the list [7,8,9] in its first place (index = 2)\n",
    "\n",
    "When you use indexing you get back an element that is a list."
   ]
  },
  {
   "cell_type": "code",
   "execution_count": null,
   "metadata": {
    "id": "3618vYfPTU17"
   },
   "outputs": [],
   "source": [
    "matrix[0]"
   ]
  },
  {
   "cell_type": "code",
   "execution_count": null,
   "metadata": {
    "id": "Dhqr7S7uTU17"
   },
   "outputs": [],
   "source": [
    "matrix[1]"
   ]
  },
  {
   "cell_type": "markdown",
   "metadata": {
    "id": "-7CtTwYdTU17"
   },
   "source": [
    "Since matrix[1] is now a list, you can use indexing on that list, and hence we have two levels of indexing."
   ]
  },
  {
   "cell_type": "code",
   "execution_count": null,
   "metadata": {
    "id": "lA8VmfodTU17"
   },
   "outputs": [],
   "source": [
    "matrix[1][0]"
   ]
  },
  {
   "cell_type": "code",
   "execution_count": null,
   "metadata": {
    "id": "3F8FAD56TU18"
   },
   "outputs": [],
   "source": [
    "matrix[1][1:]"
   ]
  },
  {
   "cell_type": "code",
   "execution_count": null,
   "metadata": {
    "id": "YmM9OiTlTU18"
   },
   "outputs": [],
   "source": [
    "matrix[0][:2]"
   ]
  },
  {
   "cell_type": "markdown",
   "metadata": {
    "id": "RCfwDMAaTU18"
   },
   "source": [
    "You can also have a list with elements of many different types"
   ]
  },
  {
   "cell_type": "code",
   "execution_count": null,
   "metadata": {
    "id": "OE06scliTU18"
   },
   "outputs": [],
   "source": [
    "l = [ 1, 2.5, 'hello world', [4,5,6]]\n",
    "l[2]"
   ]
  },
  {
   "cell_type": "code",
   "execution_count": null,
   "metadata": {
    "id": "5KEKwt_eTU19"
   },
   "outputs": [],
   "source": [
    "# access the five first elements of the string on position 2\n",
    "l[2][:5]"
   ]
  },
  {
   "cell_type": "code",
   "execution_count": null,
   "metadata": {
    "id": "HWSxJ76sTU19"
   },
   "outputs": [],
   "source": [
    "# access the second element of the list on position 3\n",
    "l[3][2]"
   ]
  },
  {
   "cell_type": "code",
   "execution_count": null,
   "metadata": {
    "id": "xLijTLAUTU19"
   },
   "outputs": [],
   "source": [
    "#careful - not all elements of the list can be indexed.\n",
    "#for example, integers have no meaningful indexing\n",
    "l[1][1]"
   ]
  },
  {
   "cell_type": "markdown",
   "metadata": {
    "id": "dZgxHGPATU1-"
   },
   "source": [
    "We can therefore have lists, and lists of lists, and even lists of lists of lists of lists ... it's like inception!"
   ]
  },
  {
   "cell_type": "markdown",
   "metadata": {
    "id": "y5X7Qs4_TU1-"
   },
   "source": [
    "---\n",
    "# 🔑 2. Dictionaries\n",
    "\n",
    "We saw how two type of sequences work - **strings** and **lists**.\n",
    "\n",
    "While sequences are definitely useful, we will now introduce one of the most commonly used (and most powerful) data structure that Python offers, the **dictionary**\n",
    "\n",
    "The dictionary belongs to the class of data structures we call *mappings*.\n",
    "- Sequences are stored and can be accessed by their index which indicates their relative position (0, 1, ...). This sounds nice and orderly, but finding an element stored in a list is costly...\n",
    "- On the other hand, **every object of a mapping is associated with a unique key**\n",
    "\n",
    "This distinction is important; to access an object you just use its key.\n",
    "- A python dictionary consists of keys, and the values that are associated with each key.\n",
    "- Almost any object can be a dictionary value.\n",
    "- However, **only immutable objects can be dictionary keys**\n",
    "\n",
    "But enough with the definitions, practice is the best teacher when it comes to programming. \n",
    "\n",
    "## 2.1  Dictionary Basics\n",
    "\n",
    "We start by constructing a dictionary. \n",
    "\n",
    "Dictionaries are defined by using **{ }**. Each element is of the form x:y where x is the *key* and y is the corresponding *value*."
   ]
  },
  {
   "cell_type": "code",
   "execution_count": null,
   "metadata": {
    "id": "IatjomYBTU1_"
   },
   "outputs": [],
   "source": [
    "#our first simple dictionary\n",
    "first_dict = {'key1':'value1', 'key2':'value2'}"
   ]
  },
  {
   "cell_type": "markdown",
   "metadata": {
    "id": "VoZ-8OLPTU1_"
   },
   "source": [
    "This is a dictionary that has two values:\n",
    "- 'value1' accessible through the key 'key1'\n",
    "- 'value2' accessible through the key 'key2'\n",
    "\n",
    "To access these values, use the key (instead of using the index as you would've done with lists)"
   ]
  },
  {
   "cell_type": "code",
   "execution_count": null,
   "metadata": {
    "id": "UV2dmIpJTU1_"
   },
   "outputs": [],
   "source": [
    "first_dict['key1']"
   ]
  },
  {
   "cell_type": "code",
   "execution_count": null,
   "metadata": {
    "id": "w5g1-mH2TU1_"
   },
   "outputs": [],
   "source": [
    "first_dict['key2']"
   ]
  },
  {
   "cell_type": "code",
   "execution_count": null,
   "metadata": {
    "id": "x1507kC2TU2A"
   },
   "outputs": [],
   "source": [
    "#careful which keys you use; if they haven't been used in the dictionary you'll get an error\n",
    "first_dict['other_key']"
   ]
  },
  {
   "cell_type": "code",
   "execution_count": null,
   "metadata": {
    "executionInfo": {
     "elapsed": 3,
     "status": "ok",
     "timestamp": 1623368585945,
     "user": {
      "displayName": "Leonardo Luchetti",
      "photoUrl": "https://lh3.googleusercontent.com/a-/AOh14Gj7abvlnZb1Gu1xalxFnLFcMHF0epo2McTfuXnM=s64",
      "userId": "05854504905374019893"
     },
     "user_tz": 240
    },
    "id": "rzYxixSRTU2A"
   },
   "outputs": [],
   "source": [
    "#dictionaries are pretty flexible!\n",
    "first_dict = {'key1':1337, \n",
    "              'key2':['hello','world','(again)'], \n",
    "              'key3':[1,2,5.66], \n",
    "               1337: 'elite'}"
   ]
  },
  {
   "cell_type": "code",
   "execution_count": null,
   "metadata": {
    "executionInfo": {
     "elapsed": 177,
     "status": "ok",
     "timestamp": 1623368593202,
     "user": {
      "displayName": "Leonardo Luchetti",
      "photoUrl": "https://lh3.googleusercontent.com/a-/AOh14Gj7abvlnZb1Gu1xalxFnLFcMHF0epo2McTfuXnM=s64",
      "userId": "05854504905374019893"
     },
     "user_tz": 240
    },
    "id": "4ZkwGpBPTU2A"
   },
   "outputs": [],
   "source": [
    "# and you can add elements as you go\n",
    "first_dict['MIS201'] = \"pure fire\"\n",
    "first_dict['cat'] = 'dog'"
   ]
  },
  {
   "cell_type": "code",
   "execution_count": null,
   "metadata": {
    "executionInfo": {
     "elapsed": 157,
     "status": "ok",
     "timestamp": 1623368594120,
     "user": {
      "displayName": "Leonardo Luchetti",
      "photoUrl": "https://lh3.googleusercontent.com/a-/AOh14Gj7abvlnZb1Gu1xalxFnLFcMHF0epo2McTfuXnM=s64",
      "userId": "05854504905374019893"
     },
     "user_tz": 240
    },
    "id": "dXYALxE1TccB"
   },
   "outputs": [],
   "source": [
    "# the same method goes for replacing values\n",
    "first_dict['key1'] = \"value1\""
   ]
  },
  {
   "cell_type": "code",
   "execution_count": null,
   "metadata": {
    "id": "yKRtW6RRTU2B"
   },
   "outputs": [],
   "source": [
    "first_dict"
   ]
  },
  {
   "cell_type": "markdown",
   "metadata": {},
   "source": [
    "#### Note\n",
    "\n",
    "Before Python 3.7, dictionaries were unordered. From Python 3.7 onwards, dictionaries maintain the order of items insertion."
   ]
  },
  {
   "cell_type": "markdown",
   "metadata": {
    "id": "Sty3aiexTU2B"
   },
   "source": [
    "## 2.2 Inception Part 2\n",
    "\n",
    "The value of a dictionary entry can be pretty much anything"
   ]
  },
  {
   "cell_type": "code",
   "execution_count": null,
   "metadata": {
    "id": "aaDmCDvMTU2B"
   },
   "outputs": [],
   "source": [
    "#now the value associated with 'key2' is a list of strings\n",
    "first_dict['key2']"
   ]
  },
  {
   "cell_type": "code",
   "execution_count": null,
   "metadata": {
    "id": "VbZRFw2kTU2B"
   },
   "outputs": [],
   "source": [
    "#and we can access any of its elements indexing iteratively\n",
    "first_dict['key2'][2]"
   ]
  },
  {
   "cell_type": "code",
   "execution_count": null,
   "metadata": {
    "id": "saTqxmY6TU2C"
   },
   "outputs": [],
   "source": [
    "#or even go deeper\n",
    "first_dict['key2'][2][:4]"
   ]
  },
  {
   "cell_type": "code",
   "execution_count": null,
   "metadata": {
    "id": "5ZrYrJJCTU2C"
   },
   "outputs": [],
   "source": [
    "#and deeper\n",
    "first_dict['key2'][2][:4].upper()"
   ]
  },
  {
   "cell_type": "markdown",
   "metadata": {
    "id": "B8dTAnkNTU2C"
   },
   "source": [
    "and a value can also be ... you guessed it ... a dictionary!"
   ]
  },
  {
   "cell_type": "code",
   "execution_count": null,
   "metadata": {
    "id": "wtAlyiZjTU2C"
   },
   "outputs": [],
   "source": [
    "#as before, we can have a dictionary inside a dictionary, etc.\n",
    "first_dict['dict1'] = {'inner_dict':'some_value'}"
   ]
  },
  {
   "cell_type": "code",
   "execution_count": null,
   "metadata": {
    "id": "VNAH79GNTU2D"
   },
   "outputs": [],
   "source": [
    "first_dict"
   ]
  },
  {
   "cell_type": "markdown",
   "metadata": {
    "id": "ffXJYHZYTU2D"
   },
   "source": [
    "## 2.3 Useful dictionary operations\n",
    "\n",
    "We cover here some commonly used dictionary methods\n",
    "- **keys()**   returns a list with all the keys\n",
    "- **values()** returns a list with all the values\n",
    "- **items()**  returns a list whose elements are *tuples* with dictionary key-value pairs.\n",
    "- **get(key)** returns the value associated with the key. If the key is not in the dictionary, it returns None.\n",
    "- **in** checks whether a key is in the dictionary.\n",
    "- **len()** returns the number of key-value pairs in the dictionary."
   ]
  },
  {
   "cell_type": "code",
   "execution_count": null,
   "metadata": {
    "id": "82AoE28sTU2D"
   },
   "outputs": [],
   "source": [
    "#create a dictionary\n",
    "my_dict = {'cat':'die Katze', 'dog':'der Hund', 'mice':'die Mäuse'}"
   ]
  },
  {
   "cell_type": "code",
   "execution_count": null,
   "metadata": {
    "id": "7H7NLX3oTU2D"
   },
   "outputs": [],
   "source": [
    "#get the list of all keys\n",
    "list(my_dict.keys())"
   ]
  },
  {
   "cell_type": "code",
   "execution_count": null,
   "metadata": {
    "id": "KIJ0s3CcTU2E"
   },
   "outputs": [],
   "source": [
    "#get the list of all value\n",
    "list(my_dict.values())"
   ]
  },
  {
   "cell_type": "code",
   "execution_count": null,
   "metadata": {
    "id": "fvkn0469TU2E"
   },
   "outputs": [],
   "source": [
    "#get the list of all pairs\n",
    "list(my_dict.items())"
   ]
  },
  {
   "cell_type": "code",
   "execution_count": null,
   "metadata": {
    "id": "xha2JQUxTU2E"
   },
   "outputs": [],
   "source": [
    "#you can delete a key/value pair by using del[key]\n",
    "del my_dict['mice']\n",
    "my_dict"
   ]
  },
  {
   "cell_type": "code",
   "execution_count": null,
   "metadata": {},
   "outputs": [],
   "source": [
    "#get the value associated with the key 'cat'\n",
    "my_dict.get('cat')\n"
   ]
  },
  {
   "cell_type": "code",
   "execution_count": null,
   "metadata": {},
   "outputs": [],
   "source": [
    "#get the value associated with the key 'mice'\n",
    "my_dict.get('mice', 'not in the dictionary')"
   ]
  },
  {
   "cell_type": "code",
   "execution_count": null,
   "metadata": {},
   "outputs": [],
   "source": [
    "#check the length of the dictionary\n",
    "len(my_dict)"
   ]
  },
  {
   "cell_type": "code",
   "execution_count": null,
   "metadata": {},
   "outputs": [],
   "source": [
    "# check whether the key 'dog' is in the dictionary\n",
    "'dog' in my_dict"
   ]
  },
  {
   "cell_type": "markdown",
   "metadata": {
    "id": "9-_UwiagTU2E"
   },
   "source": [
    "#### Notes \n",
    "- Maybe going over all the different data types seems a little bit unnecessary now, but they will come in extremely handy in a while\n",
    "- In the dictionary methods we used list() to convert something to a list. We won't bother with what that *something* is for now, but know that it is there to make Python both faster and more efficient"
   ]
  },
  {
   "cell_type": "markdown",
   "metadata": {
    "id": "cF6juWedTU2E"
   },
   "source": [
    "---\n",
    "# ⚖️ 3. Comparison\n",
    "\n",
    "\n",
    "## 3.1 Booleans\n",
    "\n",
    "Booleans are variables that can assume two values: True (1) and False (0).\n",
    "\n",
    "They can be useful in many situations, especially when we want to check whether a relationship holds or not. Let's see some examples."
   ]
  },
  {
   "cell_type": "code",
   "execution_count": null,
   "metadata": {
    "id": "YSoT-k6VTU2F"
   },
   "outputs": [],
   "source": [
    "done = True\n",
    "done"
   ]
  },
  {
   "cell_type": "code",
   "execution_count": null,
   "metadata": {
    "id": "dIYhXyiTTU2F"
   },
   "outputs": [],
   "source": [
    "done = False\n",
    "done"
   ]
  },
  {
   "cell_type": "code",
   "execution_count": null,
   "metadata": {
    "id": "IYcizOBUTU2F"
   },
   "outputs": [],
   "source": [
    "#check whether the number 15 is greater than -3\n",
    "15>-3"
   ]
  },
  {
   "cell_type": "code",
   "execution_count": null,
   "metadata": {
    "id": "w1m2MiJ-TU2F"
   },
   "outputs": [],
   "source": [
    "3>4"
   ]
  },
  {
   "cell_type": "code",
   "execution_count": null,
   "metadata": {
    "id": "YpPDVUJBTU2F"
   },
   "outputs": [],
   "source": [
    "#check whether the number 15 is equal to -3\n",
    "15==3"
   ]
  },
  {
   "cell_type": "code",
   "execution_count": null,
   "metadata": {
    "id": "LkA_XGd8TU2F"
   },
   "outputs": [],
   "source": [
    "#check whether the number 15 is not equal to -3\n",
    "15!=3"
   ]
  },
  {
   "cell_type": "markdown",
   "metadata": {
    "id": "eZpgGHX-TU2G"
   },
   "source": [
    "## Table of Comparison Operators\n",
    "\n",
    "<table class=\"table table-bordered\">\n",
    "<tr>\n",
    "<th style=\"width:10%\">Operator</th><th style=\"width:45%\">Description</th><th>x=3, y=4</th>\n",
    "</tr>\n",
    "<tr>\n",
    "<td>==</td>\n",
    "<td>If the values of two args are equal, the condition becomes true.</td>\n",
    "<td> (x == y) is not true.</td>\n",
    "</tr>\n",
    "<tr>\n",
    "<td>!=</td>\n",
    "<td>If the values of two args are not equal, the condition becomes true.</td>\n",
    "<td>(x != y) is true</td>\n",
    "</tr>\n",
    "<tr>\n",
    "<td>&gt;</td>\n",
    "<td>If the value of the left arg is greater than the value of the right arg, the condition becomes true.</td>\n",
    "<td> (x &gt; y) is not true.</td>\n",
    "</tr>\n",
    "<tr>\n",
    "<td>&lt;</td>\n",
    "<td>If the value of the left arg is less than the value of the right arg, the condition becomes true.</td>\n",
    "<td> (x &lt; y) is true.</td>\n",
    "</tr>\n",
    "<tr>\n",
    "<td>&gt;=</td>\n",
    "<td>If the value of the left arg is greater than or equal to the value of the right arg, the condition becomes true.</td>\n",
    "<td> (x &gt;= y) is not true. </td>\n",
    "</tr>\n",
    "<tr>\n",
    "<td>&lt;=</td>\n",
    "<td>If the value of the left arg is less than or equal to the value of the right arg, the condition becomes true.</td>\n",
    "<td> (x &lt;= y) is true. </td>\n",
    "</tr>\n",
    "</table>"
   ]
  },
  {
   "cell_type": "markdown",
   "metadata": {
    "id": "KEZWTSswTU2G"
   },
   "source": [
    "## 3.2 Non-numeric equality\n",
    "\n",
    "The == and != operators can also check whether two objects are the same or different."
   ]
  },
  {
   "cell_type": "code",
   "execution_count": null,
   "metadata": {
    "id": "wEKNbKkHTU2G"
   },
   "outputs": [],
   "source": [
    "x=[5,6]\n",
    "y=[5,6]\n",
    "x==y"
   ]
  },
  {
   "cell_type": "code",
   "execution_count": null,
   "metadata": {
    "id": "njw1BDcdTU2G"
   },
   "outputs": [],
   "source": [
    "x='this is a random string!!!'\n",
    "y='this is a different string'\n",
    "x==y"
   ]
  },
  {
   "cell_type": "code",
   "execution_count": null,
   "metadata": {
    "id": "JkYJkT7_TU2G"
   },
   "outputs": [],
   "source": [
    "x!=y"
   ]
  },
  {
   "cell_type": "code",
   "execution_count": null,
   "metadata": {
    "id": "b0PiIS98TU2H"
   },
   "outputs": [],
   "source": [
    "len(x)==len(y)"
   ]
  },
  {
   "cell_type": "markdown",
   "metadata": {
    "id": "oTvn7seeTU2H"
   },
   "source": [
    "## 3.3 AND and OR statements\n",
    "\n",
    "We use the and statement to check whether two conditions hold at the same time\n",
    "- if both conditions hold, then the AND statement returns the value True\n",
    "- if at least one (or both) do not hold, then the AND statement returns the value False"
   ]
  },
  {
   "cell_type": "code",
   "execution_count": null,
   "metadata": {
    "id": "Mab80XiJTU2H"
   },
   "outputs": [],
   "source": [
    "4>2 and 2<5"
   ]
  },
  {
   "cell_type": "code",
   "execution_count": null,
   "metadata": {
    "id": "NfZIE2SJTU2H"
   },
   "outputs": [],
   "source": [
    "4>3 and 15<4"
   ]
  },
  {
   "cell_type": "markdown",
   "metadata": {
    "id": "VrXv4BH2TU2H"
   },
   "source": [
    "On the other hand, the **or** statement returns two if any of its two operands holds True."
   ]
  },
  {
   "cell_type": "code",
   "execution_count": null,
   "metadata": {
    "id": "5rSXZc0iTU2I"
   },
   "outputs": [],
   "source": [
    "15<0 or 5==5"
   ]
  },
  {
   "cell_type": "markdown",
   "metadata": {
    "id": "gKEcTA9rTU2I"
   },
   "source": [
    "While 15<0 is false, 5==5 holds true, and the or statement returns the value True."
   ]
  },
  {
   "cell_type": "code",
   "execution_count": null,
   "metadata": {
    "id": "GgCHryHcTU2I"
   },
   "outputs": [],
   "source": [
    "#parentheses work as in numerical calculations!\n",
    "( (5>3 and 3<2) or 15>0 ) and 5>=6"
   ]
  },
  {
   "cell_type": "code",
   "execution_count": null,
   "metadata": {
    "id": "Th_sARGbTU2J"
   },
   "outputs": [],
   "source": [
    "# assign my_dict to the variable second_dict by reference\n",
    "second_dict = my_dict\n",
    "\n",
    "#both refer to the same content\n",
    "print( my_dict == second_dict )\n",
    "print(my_dict)\n",
    "print(second_dict)\n",
    "\n",
    "#but each variable refers to the same place in memory!\n",
    "my_dict is second_dict"
   ]
  },
  {
   "cell_type": "code",
   "execution_count": null,
   "metadata": {
    "id": "0wp-3c9HTU2J"
   },
   "outputs": [],
   "source": [
    "# when you change the contents, then they change for every referece (variable) to this place in memory\n",
    "my_dict['mice'] = 'die Mäuse'\n",
    "print(my_dict)\n",
    "print(second_dict)"
   ]
  },
  {
   "cell_type": "code",
   "execution_count": null,
   "metadata": {
    "id": "NVmpMwHbTU2J"
   },
   "outputs": [],
   "source": [
    "del my_dict['mice']\n",
    "print(my_dict)\n",
    "print(second_dict)"
   ]
  },
  {
   "cell_type": "markdown",
   "metadata": {
    "id": "MbR8Fme1TU2K"
   },
   "source": [
    "If you don't want this to happen, you have to perform an **assignment by value**\n",
    "- that is, make a copy of the original memory contents to the new variable\n",
    "- this can be done by specifying that you want a new copy"
   ]
  },
  {
   "cell_type": "code",
   "execution_count": null,
   "metadata": {
    "id": "msYofQD2TU2K"
   },
   "outputs": [],
   "source": [
    "second_dict = dict(my_dict)\n",
    "print( my_dict == second_dict )\n",
    "print( my_dict is second_dict )"
   ]
  },
  {
   "cell_type": "code",
   "execution_count": null,
   "metadata": {
    "id": "MSLmQBTNTU2K"
   },
   "outputs": [],
   "source": [
    "my_dict['mice'] = 'die Mäuse'\n",
    "print(my_dict)\n",
    "print(second_dict)"
   ]
  },
  {
   "cell_type": "markdown",
   "metadata": {
    "id": "RNQme6x3TU2K"
   },
   "source": [
    "The same thing holds for lists, but instead of dict(my_dict) you would have to call list(my_list)"
   ]
  },
  {
   "cell_type": "markdown",
   "metadata": {
    "id": "n-QXugARTU2K"
   },
   "source": [
    "---\n",
    "# ❓ 4. Conditionals\n",
    "\n",
    "## 4.1 If-else\n",
    "\n",
    "The **if (condition):** statement allows us to tell our computer to perform a certain set of actions if a condition holds. \n",
    "\n",
    "Let's see an example."
   ]
  },
  {
   "cell_type": "code",
   "execution_count": null,
   "metadata": {
    "id": "4tZK4Bg0TU2K"
   },
   "outputs": [],
   "source": [
    "#the condition x>0 holds, and the code inside the if block is executed\n",
    "x=5\n",
    "if x>0:\n",
    "    print('x is positive')"
   ]
  },
  {
   "cell_type": "code",
   "execution_count": null,
   "metadata": {
    "id": "X43eSJILTU2L"
   },
   "outputs": [],
   "source": [
    "#the condition x>0 does not hold, and the code inside the if block is ignored\n",
    "x=5\n",
    "if x<0:\n",
    "    print('x is negative')"
   ]
  },
  {
   "cell_type": "markdown",
   "metadata": {
    "id": "TqCJaPCMTU2L"
   },
   "source": [
    "The **else:** statement always follows an if statement, and tells us what to do when the if condition does not hold. \n",
    "\n",
    "Again, let's work through it using an example. "
   ]
  },
  {
   "cell_type": "code",
   "execution_count": null,
   "metadata": {
    "id": "XiR94WYPTU2L"
   },
   "outputs": [],
   "source": [
    "x=5\n",
    "if x>0: \n",
    "    print('x is positive')\n",
    "else:\n",
    "    print('x is not positive')"
   ]
  },
  {
   "cell_type": "code",
   "execution_count": null,
   "metadata": {
    "id": "LlWc-fXCTU2M"
   },
   "outputs": [],
   "source": [
    "x=-3\n",
    "if x>0: \n",
    "    print('x is positive')\n",
    "else:\n",
    "    print('x is not positive')"
   ]
  },
  {
   "cell_type": "markdown",
   "metadata": {
    "id": "AENRVYZITU2M"
   },
   "source": [
    "## 4.2 The elif statement\n",
    "\n",
    "The elif statement works similarly to if with few differences.\n",
    "- it always follows after an if statement\n",
    "- if the above if statement does not hold, then the following elif statement is checked.\n",
    "\n",
    "Let's see an example"
   ]
  },
  {
   "cell_type": "code",
   "execution_count": null,
   "metadata": {
    "id": "Ivxjo2TOTU2M"
   },
   "outputs": [],
   "source": [
    "name = 'Sarah'\n",
    "#the if condition is true - it is executed and anything below is ignored\n",
    "if name == 'Sarah':\n",
    "    print('Welcome Sarah!')\n",
    "elif name =='James':\n",
    "    print('Welcome James')"
   ]
  },
  {
   "cell_type": "code",
   "execution_count": null,
   "metadata": {
    "id": "nxO6LE4dTU2M"
   },
   "outputs": [],
   "source": [
    "name = 'James'\n",
    "#the if condition is not true - we move on to the next condition which happens to be true\n",
    "if name == 'Sarah':\n",
    "    print('Welcome Sarah!')\n",
    "elif name =='James':\n",
    "    print('Welcome James')"
   ]
  },
  {
   "cell_type": "code",
   "execution_count": null,
   "metadata": {
    "id": "m5Xtt-SETU2M"
   },
   "outputs": [],
   "source": [
    "name = 'Sarah'\n",
    "#both conditions are true, but only the first true condition is executed\n",
    "if name == 'Sarah':\n",
    "    print('Welcome Sarah!')\n",
    "elif name =='Sarah':\n",
    "    print('You are not welcome Sarah')"
   ]
  },
  {
   "cell_type": "code",
   "execution_count": null,
   "metadata": {
    "id": "_HjMFEekTU2N"
   },
   "outputs": [],
   "source": [
    "name = 'Arya'\n",
    "#none of the conditions are true, and the else condition is executed\n",
    "if name == 'Sarah':\n",
    "    print('Welcome Sarah!')\n",
    "elif name =='James':\n",
    "    print('Welcome James')\n",
    "else:\n",
    "    print('Welcome, what is your name?')"
   ]
  },
  {
   "cell_type": "markdown",
   "metadata": {
    "id": "909KYizwTU2N"
   },
   "source": [
    "## 4.3 Identation\n",
    "\n",
    "A code block - what is contained within an if or else statement can be simply identified by the fact that it is indented uniformly."
   ]
  },
  {
   "cell_type": "code",
   "execution_count": null,
   "metadata": {
    "id": "NTSvCYRpTU2N"
   },
   "outputs": [],
   "source": [
    "name = 'Sarah'\n",
    "#none of the conditions are true, and the else condition is executed\n",
    "if name == 'Sarah':\n",
    "    print('Welcome Sarah!')\n",
    "    print('Would you like your regular?')\n",
    "elif name =='James':\n",
    "    print('Welcome James')\n",
    "    print('Dinner for two?')    \n",
    "else:\n",
    "    print('Welcome, what is your name?')\n",
    "    x = 'No one'\n",
    "    print('and how could I help you today,'+str(x))"
   ]
  },
  {
   "cell_type": "code",
   "execution_count": null,
   "metadata": {
    "id": "W26Tl9l7TU2N"
   },
   "outputs": [],
   "source": [
    "name = 'Arya'\n",
    "#none of the conditions are true, and the else condition is executed\n",
    "if name == 'Sarah':\n",
    "    print('Welcome Sarah!')\n",
    "    print('would you like your regular?')\n",
    "elif name =='James':\n",
    "    print('Welcome James')\n",
    "    print('Dinner for two?')    \n",
    "else:\n",
    "    print('Welcome, what is your name?')\n",
    "    name = 'No One'\n",
    "    print('and how could I help you today, '+str(name)+'?')"
   ]
  },
  {
   "cell_type": "markdown",
   "metadata": {
    "id": "SQBjwmYwTU2N"
   },
   "source": [
    "## 4.4 If's within if's\n",
    "\n",
    "In its natural inception fashion, Python allows for if statements within if statements within if statements... .\n",
    "\n",
    "Let's see a simple example"
   ]
  },
  {
   "cell_type": "code",
   "execution_count": null,
   "metadata": {
    "id": "hDc67WL8TU2N"
   },
   "outputs": [],
   "source": [
    "x = -30\n",
    "if x>0:\n",
    "    if x>10:\n",
    "        print('x is positive and  bigger than 10')\n",
    "    else:\n",
    "        print('x is positive and less than or equal to 10')\n",
    "elif x<0:\n",
    "    if x<-10:\n",
    "        print('x is negative and less than -10')\n",
    "    else:\n",
    "        print('x is negative and bigger than or equal to -10')\n",
    "else:\n",
    "    print('x equals 0')\n",
    "    "
   ]
  },
  {
   "cell_type": "markdown",
   "metadata": {},
   "source": [
    "## 4.5 IFs and dictionaries\n",
    "\n",
    "We can use if statements to check whether a key is in a dictionary or not."
   ]
  },
  {
   "cell_type": "code",
   "execution_count": null,
   "metadata": {},
   "outputs": [],
   "source": [
    "my_dict = {'cat':'die Katze', 'dog':'der Hund', 'mice':'die Mäuse'}\n",
    "\n",
    "candidate_key = 'cat'\n",
    "\n",
    "if candidate_key in my_dict:\n",
    "    print(f'The key {candidate_key} is in the dictionary, and the associated value is {my_dict[candidate_key]}')\n",
    "else:\n",
    "    print(f'The key {candidate_key} is not in the dictionary')"
   ]
  }
 ],
 "metadata": {
  "colab": {
   "collapsed_sections": [
    "SWRkxDVfTU14",
    "3J70scWUTU16",
    "Sty3aiexTU2B",
    "ffXJYHZYTU2D",
    "9-_UwiagTU2E",
    "eZpgGHX-TU2G",
    "KEZWTSswTU2G",
    "oTvn7seeTU2H",
    "AENRVYZITU2M",
    "909KYizwTU2N",
    "SQBjwmYwTU2N"
   ],
   "name": "02.1 Lists, Dictionaries, Comparison, Conditionals.ipynb",
   "provenance": []
  },
  "kernelspec": {
   "display_name": ".venv",
   "language": "python",
   "name": "python3"
  },
  "language_info": {
   "codemirror_mode": {
    "name": "ipython",
    "version": 3
   },
   "file_extension": ".py",
   "mimetype": "text/x-python",
   "name": "python",
   "nbconvert_exporter": "python",
   "pygments_lexer": "ipython3",
   "version": "3.12.3"
  }
 },
 "nbformat": 4,
 "nbformat_minor": 1
}
