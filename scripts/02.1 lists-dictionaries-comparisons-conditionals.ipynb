{
 "cells": [
  {
   "cell_type": "markdown",
   "metadata": {
    "id": "Ny-XkunmTU1t"
   },
   "source": [
    "---\n",
    "\n",
    "### 🎓 **Professor**: Apostolos Filippas\n",
    "\n",
    "### 📘 **Class**: Web Analytics\n",
    "\n",
    "### 📋 **Topic**: Lists, Dictionaries, Comparisons\n",
    "\n",
    "🚫 **Note**: You are not allowed to share the contents of this notebook with anyone outside this class without written permission by the professor.\n",
    "\n",
    "---\n",
    "\n",
    "# 📜 1. Lists\n",
    "\n",
    "We introduced the concept of *sequence* when discussing strings.\n",
    "Strings are, simply put, a sequence of characters that is immutable.\n",
    "\n",
    "Lists are the more general version of sequences and are very much **mutable**; the elements of a list can be changed!\n",
    "\n",
    "\n",
    "## 1.1 Basics\n",
    "Lists are constructed with brackets **[ ]** and with commas separating every element of the list. \n",
    "Let's see an example."
   ]
  },
  {
   "cell_type": "code",
   "execution_count": 1,
   "metadata": {
    "id": "qd-7MhqmTU1y",
    "scrolled": true
   },
   "outputs": [
    {
     "data": {
      "text/plain": [
       "[1, 2, 3]"
      ]
     },
     "execution_count": 1,
     "metadata": {},
     "output_type": "execute_result"
    }
   ],
   "source": [
    "#assign a list to a variable with name first_list\n",
    "first_list = [1, 2, 3]\n",
    "first_list"
   ]
  },
  {
   "cell_type": "code",
   "execution_count": 2,
   "metadata": {
    "id": "z2YFOf7qTU1z"
   },
   "outputs": [
    {
     "data": {
      "text/plain": [
       "[1.3233, 5, 'hello_world']"
      ]
     },
     "execution_count": 2,
     "metadata": {},
     "output_type": "execute_result"
    }
   ],
   "source": [
    "#lists can hold different types of objects in each index, not only integers!\n",
    "first_list = [1.3233, 5, 'hello_world']\n",
    "first_list"
   ]
  },
  {
   "cell_type": "code",
   "execution_count": 3,
   "metadata": {
    "id": "E4OMvov5TU1z"
   },
   "outputs": [
    {
     "data": {
      "text/plain": [
       "3"
      ]
     },
     "execution_count": 3,
     "metadata": {},
     "output_type": "execute_result"
    }
   ],
   "source": [
    "#the len() function tells you how many elements the list has\n",
    "len(first_list)"
   ]
  },
  {
   "cell_type": "markdown",
   "metadata": {
    "id": "5L6GMLWdTU10"
   },
   "source": [
    "## 1.2 Indexing and Slicing\n",
    "Indexing and slicing of lists works very similarly to that of strings. Let's work through some examples."
   ]
  },
  {
   "cell_type": "code",
   "execution_count": 4,
   "metadata": {
    "id": "lUWPPHHRTU10"
   },
   "outputs": [
    {
     "data": {
      "text/plain": [
       "1.3233"
      ]
     },
     "execution_count": 4,
     "metadata": {},
     "output_type": "execute_result"
    }
   ],
   "source": [
    "# Access the first element of the list\n",
    "first_list[0]"
   ]
  },
  {
   "cell_type": "code",
   "execution_count": 5,
   "metadata": {
    "id": "Zh3wYCuITU10"
   },
   "outputs": [
    {
     "data": {
      "text/plain": [
       "5"
      ]
     },
     "execution_count": 5,
     "metadata": {},
     "output_type": "execute_result"
    }
   ],
   "source": [
    "# Access the second element of the list\n",
    "first_list[1]"
   ]
  },
  {
   "cell_type": "code",
   "execution_count": 6,
   "metadata": {
    "id": "x2TRtLNdTU11"
   },
   "outputs": [
    {
     "data": {
      "text/plain": [
       "'hello_world'"
      ]
     },
     "execution_count": 6,
     "metadata": {},
     "output_type": "execute_result"
    }
   ],
   "source": [
    "# Access the third element of the list\n",
    "first_list[2]"
   ]
  },
  {
   "cell_type": "code",
   "execution_count": 7,
   "metadata": {
    "id": "2E1lLhuQTU11",
    "scrolled": true
   },
   "outputs": [
    {
     "ename": "IndexError",
     "evalue": "list index out of range",
     "output_type": "error",
     "traceback": [
      "\u001b[0;31m---------------------------------------------------------------------------\u001b[0m",
      "\u001b[0;31mIndexError\u001b[0m                                Traceback (most recent call last)",
      "Cell \u001b[0;32mIn[7], line 2\u001b[0m\n\u001b[1;32m      1\u001b[0m \u001b[38;5;66;03m# Access the twentieth element of the list\u001b[39;00m\n\u001b[0;32m----> 2\u001b[0m \u001b[43mfirst_list\u001b[49m\u001b[43m[\u001b[49m\u001b[38;5;241;43m19\u001b[39;49m\u001b[43m]\u001b[49m\n",
      "\u001b[0;31mIndexError\u001b[0m: list index out of range"
     ]
    }
   ],
   "source": [
    "# Access the twentieth element of the list\n",
    "first_list[19]"
   ]
  },
  {
   "cell_type": "code",
   "execution_count": 8,
   "metadata": {
    "id": "oQkVzdIHTU12"
   },
   "outputs": [
    {
     "data": {
      "text/plain": [
       "'hello_world'"
      ]
     },
     "execution_count": 8,
     "metadata": {},
     "output_type": "execute_result"
    }
   ],
   "source": [
    "# Access the last element of the list\n",
    "first_list[-1]"
   ]
  },
  {
   "cell_type": "code",
   "execution_count": 9,
   "metadata": {
    "id": "v4skMo2gTU12"
   },
   "outputs": [
    {
     "data": {
      "text/plain": [
       "[5, 'hello_world']"
      ]
     },
     "execution_count": 9,
     "metadata": {},
     "output_type": "execute_result"
    }
   ],
   "source": [
    "# Access index 1 and everything after it\n",
    "# notice that the outcome is a list!\n",
    "first_list[1:]"
   ]
  },
  {
   "cell_type": "code",
   "execution_count": 10,
   "metadata": {
    "id": "Qsq2FECTTU12"
   },
   "outputs": [
    {
     "data": {
      "text/plain": [
       "['hello_world']"
      ]
     },
     "execution_count": 10,
     "metadata": {},
     "output_type": "execute_result"
    }
   ],
   "source": [
    "# Access index 2 and everything after it\n",
    "# notice that the outcome is a list, which ic different than accessing the element at position 2!\n",
    "first_list[2:]"
   ]
  },
  {
   "cell_type": "code",
   "execution_count": 11,
   "metadata": {
    "id": "tbCGJLp5TU13"
   },
   "outputs": [
    {
     "data": {
      "text/plain": [
       "'hello_world'"
      ]
     },
     "execution_count": 11,
     "metadata": {},
     "output_type": "execute_result"
    }
   ],
   "source": [
    "# notice that the outcome is a list, which ic different than accessing the element at position 2!\n",
    "first_list[2]"
   ]
  },
  {
   "cell_type": "code",
   "execution_count": 12,
   "metadata": {
    "id": "3XctZ6DDTU13"
   },
   "outputs": [
    {
     "data": {
      "text/plain": [
       "[1.3233, 5, 'hello_world', 'new element', 'another new element']"
      ]
     },
     "execution_count": 12,
     "metadata": {},
     "output_type": "execute_result"
    }
   ],
   "source": [
    "#concatenating lists, just as in strings\n",
    "first_list + ['new element', 'another new element']"
   ]
  },
  {
   "cell_type": "code",
   "execution_count": 13,
   "metadata": {
    "id": "vOAMmJrkTU13"
   },
   "outputs": [
    {
     "data": {
      "text/plain": [
       "[1.3233, 5, 'hello_world']"
      ]
     },
     "execution_count": 13,
     "metadata": {},
     "output_type": "execute_result"
    }
   ],
   "source": [
    "#this change is not permanent, because we haven't assigned it to a variable!\n",
    "first_list"
   ]
  },
  {
   "cell_type": "code",
   "execution_count": 14,
   "metadata": {
    "id": "WsNV7zQ_TU13"
   },
   "outputs": [
    {
     "data": {
      "text/plain": [
       "[1.3233, 5, 'hello_world', 'new element', 'another new element']"
      ]
     },
     "execution_count": 14,
     "metadata": {},
     "output_type": "execute_result"
    }
   ],
   "source": [
    "#to make it permanent we would have to reassign!\n",
    "first_list = first_list + ['new element', 'another new element']\n",
    "first_list"
   ]
  },
  {
   "cell_type": "code",
   "execution_count": 15,
   "metadata": {
    "id": "aRqxDsoRTU14"
   },
   "outputs": [
    {
     "data": {
      "text/plain": [
       "['new element', 'another new element']"
      ]
     },
     "execution_count": 15,
     "metadata": {},
     "output_type": "execute_result"
    }
   ],
   "source": [
    "#remember that when slicing the elements we access do not include the second index\n",
    "first_list[3:5]"
   ]
  },
  {
   "cell_type": "code",
   "execution_count": 16,
   "metadata": {
    "id": "C9GMzpWMTU14"
   },
   "outputs": [
    {
     "data": {
      "text/plain": [
       "['some string', 'some string', 'some string', 'some string', 'some string']"
      ]
     },
     "execution_count": 16,
     "metadata": {},
     "output_type": "execute_result"
    }
   ],
   "source": [
    "#we can even multiply a list!\n",
    "['some string']*5"
   ]
  },
  {
   "cell_type": "markdown",
   "metadata": {
    "id": "SWRkxDVfTU14"
   },
   "source": [
    "## 1.3 Useful list functions\n",
    "\n",
    "We are now going to cover some of the most useful list methods. \n",
    "- **append( k )**  appends k at the end of the list\n",
    "- **pop( k )**    pops off the item at index k. If we specify no index, pops off the last element\n",
    "- **reverse( )**   reverses the order of the items in the list\n",
    "- **sort( )**      sorts the list in alphabetical order, but for numbers it orders in ascending order\n",
    "- **insert( k, arg )** inserts arg at index k. Everything that follows is shifted one position to the right\n",
    "- **remove( arg )** removes the first occurence of arg from the list\n",
    "\n",
    "Let's see some examples."
   ]
  },
  {
   "cell_type": "code",
   "execution_count": 17,
   "metadata": {
    "id": "e7y_cB0hTU15"
   },
   "outputs": [
    {
     "data": {
      "text/plain": [
       "[1, 2, 3]"
      ]
     },
     "execution_count": 17,
     "metadata": {},
     "output_type": "execute_result"
    }
   ],
   "source": [
    "#create a new list\n",
    "x = [1,2,3]\n",
    "x"
   ]
  },
  {
   "cell_type": "code",
   "execution_count": 18,
   "metadata": {
    "id": "npe0k-ZeTU15"
   },
   "outputs": [
    {
     "data": {
      "text/plain": [
       "[1, 2, 3, 'hello world']"
      ]
     },
     "execution_count": 18,
     "metadata": {},
     "output_type": "execute_result"
    }
   ],
   "source": [
    "#append the string 'hello world' at the end of the list\n",
    "x.append('hello world')\n",
    "x"
   ]
  },
  {
   "cell_type": "code",
   "execution_count": 19,
   "metadata": {
    "id": "2lupdMBdTU15"
   },
   "outputs": [
    {
     "data": {
      "text/plain": [
       "[2, 3, 'hello world']"
      ]
     },
     "execution_count": 19,
     "metadata": {},
     "output_type": "execute_result"
    }
   ],
   "source": [
    "#pop the first item of the list\n",
    "x.pop(0)\n",
    "x"
   ]
  },
  {
   "cell_type": "code",
   "execution_count": 20,
   "metadata": {
    "id": "dsOHIOGxTU15"
   },
   "outputs": [
    {
     "data": {
      "text/plain": [
       "[2, 3]"
      ]
     },
     "execution_count": 20,
     "metadata": {},
     "output_type": "execute_result"
    }
   ],
   "source": [
    "#you can assign the popped item to another variable!\n",
    "#when pop has no argument, it pops the last item off the list\n",
    "popped_item = x.pop()\n",
    "x"
   ]
  },
  {
   "cell_type": "code",
   "execution_count": 21,
   "metadata": {
    "id": "knvTxuTBTU15"
   },
   "outputs": [
    {
     "data": {
      "text/plain": [
       "'hello world'"
      ]
     },
     "execution_count": 21,
     "metadata": {},
     "output_type": "execute_result"
    }
   ],
   "source": [
    "popped_item"
   ]
  },
  {
   "cell_type": "code",
   "execution_count": 22,
   "metadata": {
    "id": "xSu1h93ETU15"
   },
   "outputs": [
    {
     "data": {
      "text/plain": [
       "[0, 1, 2, 4, 5, 6]"
      ]
     },
     "execution_count": 22,
     "metadata": {},
     "output_type": "execute_result"
    }
   ],
   "source": [
    "# create a list of numbers then sort it\n",
    "number_list = [1,4,5,2,0,6]\n",
    "number_list.sort()\n",
    "number_list"
   ]
  },
  {
   "cell_type": "code",
   "execution_count": 23,
   "metadata": {
    "id": "MnnYWa1KTU16"
   },
   "outputs": [
    {
     "data": {
      "text/plain": [
       "['a', 'd', 'o', 'x', 'z']"
      ]
     },
     "execution_count": 23,
     "metadata": {},
     "output_type": "execute_result"
    }
   ],
   "source": [
    "#create a list of characters then sort it\n",
    "char_list = ['a','x','d', 'z','o']\n",
    "char_list.sort()\n",
    "char_list"
   ]
  },
  {
   "cell_type": "code",
   "execution_count": 24,
   "metadata": {
    "id": "LCKrM6KaTU16"
   },
   "outputs": [
    {
     "data": {
      "text/plain": [
       "['z', 'x', 'o', 'd', 'a']"
      ]
     },
     "execution_count": 24,
     "metadata": {},
     "output_type": "execute_result"
    }
   ],
   "source": [
    "#now reverse your list of characters\n",
    "char_list.reverse()\n",
    "char_list"
   ]
  },
  {
   "cell_type": "code",
   "execution_count": 25,
   "metadata": {
    "id": "CinJd-nlTU16"
   },
   "outputs": [
    {
     "data": {
      "text/plain": [
       "['z', 'x', 'hello_world', 'o', 'd', 'a']"
      ]
     },
     "execution_count": 25,
     "metadata": {},
     "output_type": "execute_result"
    }
   ],
   "source": [
    "#insert 'hello_world' in the 3rd position (index 2)\n",
    "char_list.insert(2, 'hello_world')\n",
    "char_list"
   ]
  },
  {
   "cell_type": "code",
   "execution_count": 26,
   "metadata": {
    "id": "Y-uEbANhTU16"
   },
   "outputs": [
    {
     "data": {
      "text/plain": [
       "['z', 'x', 'hello_world', 'd', 'a']"
      ]
     },
     "execution_count": 26,
     "metadata": {},
     "output_type": "execute_result"
    }
   ],
   "source": [
    "#let's remove 'o' from the list\n",
    "char_list.remove('o')\n",
    "char_list"
   ]
  },
  {
   "cell_type": "markdown",
   "metadata": {
    "id": "3J70scWUTU16"
   },
   "source": [
    "## 1.4 Nesting - lists of lists\n",
    "\n",
    "Data structures in Python support nesting - you can have data structures within data structures.\n",
    "\n",
    "Lets see an example of lists inside lists."
   ]
  },
  {
   "cell_type": "code",
   "execution_count": 27,
   "metadata": {
    "id": "f4rxPmjbTU16"
   },
   "outputs": [
    {
     "data": {
      "text/plain": [
       "[[1, 2, 3], [4, 5, 6], [7, 8, 9]]"
      ]
     },
     "execution_count": 27,
     "metadata": {},
     "output_type": "execute_result"
    }
   ],
   "source": [
    "x1 = [1,2,3]\n",
    "x2 = [4,5,6]\n",
    "x3 = [7,8,9]\n",
    "\n",
    "#now make a list of lists\n",
    "matrix = [x1, x2, x3]\n",
    "matrix"
   ]
  },
  {
   "cell_type": "markdown",
   "metadata": {
    "id": "LsGVVRaDTU16"
   },
   "source": [
    "You now have a list of lists. \n",
    "\n",
    "The variable matrix is a list that has\n",
    "- the list [1,2,3] in its first place (index = 0)\n",
    "- the list [4,5,6] in its first place (index = 1)\n",
    "- the list [7,8,9] in its first place (index = 2)\n",
    "\n",
    "When you use indexing you get back an element that is a list."
   ]
  },
  {
   "cell_type": "code",
   "execution_count": 28,
   "metadata": {
    "id": "3618vYfPTU17"
   },
   "outputs": [
    {
     "data": {
      "text/plain": [
       "[1, 2, 3]"
      ]
     },
     "execution_count": 28,
     "metadata": {},
     "output_type": "execute_result"
    }
   ],
   "source": [
    "matrix[0]"
   ]
  },
  {
   "cell_type": "code",
   "execution_count": 29,
   "metadata": {
    "id": "Dhqr7S7uTU17"
   },
   "outputs": [
    {
     "data": {
      "text/plain": [
       "[4, 5, 6]"
      ]
     },
     "execution_count": 29,
     "metadata": {},
     "output_type": "execute_result"
    }
   ],
   "source": [
    "matrix[1]"
   ]
  },
  {
   "cell_type": "markdown",
   "metadata": {
    "id": "-7CtTwYdTU17"
   },
   "source": [
    "Since matrix[1] is now a list, you can use indexing on that list, and hence we have two levels of indexing."
   ]
  },
  {
   "cell_type": "code",
   "execution_count": 30,
   "metadata": {
    "id": "lA8VmfodTU17"
   },
   "outputs": [
    {
     "data": {
      "text/plain": [
       "4"
      ]
     },
     "execution_count": 30,
     "metadata": {},
     "output_type": "execute_result"
    }
   ],
   "source": [
    "matrix[1][0]"
   ]
  },
  {
   "cell_type": "code",
   "execution_count": 31,
   "metadata": {
    "id": "3F8FAD56TU18"
   },
   "outputs": [
    {
     "data": {
      "text/plain": [
       "[5, 6]"
      ]
     },
     "execution_count": 31,
     "metadata": {},
     "output_type": "execute_result"
    }
   ],
   "source": [
    "matrix[1][1:]"
   ]
  },
  {
   "cell_type": "code",
   "execution_count": 32,
   "metadata": {
    "id": "YmM9OiTlTU18"
   },
   "outputs": [
    {
     "data": {
      "text/plain": [
       "[1, 2]"
      ]
     },
     "execution_count": 32,
     "metadata": {},
     "output_type": "execute_result"
    }
   ],
   "source": [
    "matrix[0][:2]"
   ]
  },
  {
   "cell_type": "markdown",
   "metadata": {
    "id": "RCfwDMAaTU18"
   },
   "source": [
    "You can also have a list with elements of many different types"
   ]
  },
  {
   "cell_type": "code",
   "execution_count": 33,
   "metadata": {
    "id": "OE06scliTU18"
   },
   "outputs": [
    {
     "data": {
      "text/plain": [
       "'hello world'"
      ]
     },
     "execution_count": 33,
     "metadata": {},
     "output_type": "execute_result"
    }
   ],
   "source": [
    "l = [ 1, 2.5, 'hello world', [4,5,6]]\n",
    "l[2]"
   ]
  },
  {
   "cell_type": "code",
   "execution_count": 34,
   "metadata": {
    "id": "5KEKwt_eTU19"
   },
   "outputs": [
    {
     "data": {
      "text/plain": [
       "'hello'"
      ]
     },
     "execution_count": 34,
     "metadata": {},
     "output_type": "execute_result"
    }
   ],
   "source": [
    "# access the five first elements of the string on position 2\n",
    "l[2][:5]"
   ]
  },
  {
   "cell_type": "code",
   "execution_count": 35,
   "metadata": {
    "id": "HWSxJ76sTU19"
   },
   "outputs": [
    {
     "data": {
      "text/plain": [
       "6"
      ]
     },
     "execution_count": 35,
     "metadata": {},
     "output_type": "execute_result"
    }
   ],
   "source": [
    "# access the second element of the list on position 3\n",
    "l[3][2]"
   ]
  },
  {
   "cell_type": "code",
   "execution_count": 36,
   "metadata": {
    "id": "xLijTLAUTU19"
   },
   "outputs": [
    {
     "ename": "TypeError",
     "evalue": "'float' object is not subscriptable",
     "output_type": "error",
     "traceback": [
      "\u001b[0;31m---------------------------------------------------------------------------\u001b[0m",
      "\u001b[0;31mTypeError\u001b[0m                                 Traceback (most recent call last)",
      "Cell \u001b[0;32mIn[36], line 3\u001b[0m\n\u001b[1;32m      1\u001b[0m \u001b[38;5;66;03m#careful - not all elements of the list can be indexed.\u001b[39;00m\n\u001b[1;32m      2\u001b[0m \u001b[38;5;66;03m#for example, integers have no meaningful indexing\u001b[39;00m\n\u001b[0;32m----> 3\u001b[0m \u001b[43ml\u001b[49m\u001b[43m[\u001b[49m\u001b[38;5;241;43m1\u001b[39;49m\u001b[43m]\u001b[49m\u001b[43m[\u001b[49m\u001b[38;5;241;43m1\u001b[39;49m\u001b[43m]\u001b[49m\n",
      "\u001b[0;31mTypeError\u001b[0m: 'float' object is not subscriptable"
     ]
    }
   ],
   "source": [
    "#careful - not all elements of the list can be indexed.\n",
    "#for example, integers have no meaningful indexing\n",
    "l[1][1]"
   ]
  },
  {
   "cell_type": "markdown",
   "metadata": {
    "id": "dZgxHGPATU1-"
   },
   "source": [
    "We can therefore have lists, and lists of lists, and even lists of lists of lists of lists ... it's like inception!"
   ]
  },
  {
   "cell_type": "markdown",
   "metadata": {
    "collapsed": true,
    "id": "y5X7Qs4_TU1-"
   },
   "source": [
    "---\n",
    "# 🔑 2. Dictionaries\n",
    "\n",
    "We saw how two type of sequences work - **strings** and **lists**.\n",
    "\n",
    "While sequences are definitely useful, we will now introduce one of the most commonly used (and most powerful) data structure that Python offers, the **dictionary**\n",
    "\n",
    "The dictionary belongs to the class of data structures we call *mappings*.\n",
    "- Sequences are stored and can be accessed by their index which indicates their relative position (0, 1, ...). This sounds nice and orderly, but finding an element stored in a list is costly...\n",
    "- On the other hand, **every object of a mapping is associated with a unique key**\n",
    "\n",
    "This distinction is important; to access an object you just use its key.\n",
    "- A python dictionary consists of keys, and the values that are associated with each key.\n",
    "- Almost any object can be a dictionary value.\n",
    "- However, **only immutable objects can be dictionary keys**\n",
    "\n",
    "But enough with the definitions, practice is the best teacher when it comes to programming. \n",
    "\n",
    "## 2.1  Dictionary Basics\n",
    "\n",
    "We start by constructing a dictionary. \n",
    "\n",
    "Dictionaries are defined by using **{ }**. Each element is of the form x:y where x is the *key* and y is the corresponding *value*."
   ]
  },
  {
   "cell_type": "code",
   "execution_count": 37,
   "metadata": {
    "id": "IatjomYBTU1_"
   },
   "outputs": [],
   "source": [
    "#our first simple dictionary\n",
    "first_dict = {'key1':'value1', 'key2':'value2'}"
   ]
  },
  {
   "cell_type": "markdown",
   "metadata": {
    "id": "VoZ-8OLPTU1_"
   },
   "source": [
    "This is a dictionary that has two values:\n",
    "- 'value1' accessible through the key 'key1'\n",
    "- 'value2' accessible through the key 'key2'\n",
    "\n",
    "To access these values, use the key (instead of using the index as you would've done with lists)"
   ]
  },
  {
   "cell_type": "code",
   "execution_count": 38,
   "metadata": {
    "id": "UV2dmIpJTU1_"
   },
   "outputs": [
    {
     "data": {
      "text/plain": [
       "'value1'"
      ]
     },
     "execution_count": 38,
     "metadata": {},
     "output_type": "execute_result"
    }
   ],
   "source": [
    "first_dict['key1']"
   ]
  },
  {
   "cell_type": "code",
   "execution_count": 39,
   "metadata": {
    "id": "w5g1-mH2TU1_"
   },
   "outputs": [
    {
     "data": {
      "text/plain": [
       "'value2'"
      ]
     },
     "execution_count": 39,
     "metadata": {},
     "output_type": "execute_result"
    }
   ],
   "source": [
    "first_dict['key2']"
   ]
  },
  {
   "cell_type": "code",
   "execution_count": 40,
   "metadata": {
    "id": "x1507kC2TU2A"
   },
   "outputs": [
    {
     "ename": "KeyError",
     "evalue": "'other_key'",
     "output_type": "error",
     "traceback": [
      "\u001b[0;31m---------------------------------------------------------------------------\u001b[0m",
      "\u001b[0;31mKeyError\u001b[0m                                  Traceback (most recent call last)",
      "Cell \u001b[0;32mIn[40], line 2\u001b[0m\n\u001b[1;32m      1\u001b[0m \u001b[38;5;66;03m#careful which keys you use; if they haven't been used in the dictionary you'll get an error\u001b[39;00m\n\u001b[0;32m----> 2\u001b[0m \u001b[43mfirst_dict\u001b[49m\u001b[43m[\u001b[49m\u001b[38;5;124;43m'\u001b[39;49m\u001b[38;5;124;43mother_key\u001b[39;49m\u001b[38;5;124;43m'\u001b[39;49m\u001b[43m]\u001b[49m\n",
      "\u001b[0;31mKeyError\u001b[0m: 'other_key'"
     ]
    }
   ],
   "source": [
    "#careful which keys you use; if they haven't been used in the dictionary you'll get an error\n",
    "first_dict['other_key']"
   ]
  },
  {
   "cell_type": "code",
   "execution_count": 41,
   "metadata": {
    "executionInfo": {
     "elapsed": 3,
     "status": "ok",
     "timestamp": 1623368585945,
     "user": {
      "displayName": "Leonardo Luchetti",
      "photoUrl": "https://lh3.googleusercontent.com/a-/AOh14Gj7abvlnZb1Gu1xalxFnLFcMHF0epo2McTfuXnM=s64",
      "userId": "05854504905374019893"
     },
     "user_tz": 240
    },
    "id": "rzYxixSRTU2A"
   },
   "outputs": [],
   "source": [
    "#dictionaries are pretty flexible!\n",
    "first_dict = {'key1':1337, \n",
    "              'key2':['hello','world','(again)'], \n",
    "              'key3':[1,2,5.66], \n",
    "               1337: 'elite'}"
   ]
  },
  {
   "cell_type": "code",
   "execution_count": 42,
   "metadata": {
    "executionInfo": {
     "elapsed": 177,
     "status": "ok",
     "timestamp": 1623368593202,
     "user": {
      "displayName": "Leonardo Luchetti",
      "photoUrl": "https://lh3.googleusercontent.com/a-/AOh14Gj7abvlnZb1Gu1xalxFnLFcMHF0epo2McTfuXnM=s64",
      "userId": "05854504905374019893"
     },
     "user_tz": 240
    },
    "id": "4ZkwGpBPTU2A"
   },
   "outputs": [],
   "source": [
    "# and you can add elements as you go\n",
    "first_dict['MIS201'] = \"pure fire\"\n",
    "first_dict['cat'] = 'dog'"
   ]
  },
  {
   "cell_type": "code",
   "execution_count": 43,
   "metadata": {
    "executionInfo": {
     "elapsed": 157,
     "status": "ok",
     "timestamp": 1623368594120,
     "user": {
      "displayName": "Leonardo Luchetti",
      "photoUrl": "https://lh3.googleusercontent.com/a-/AOh14Gj7abvlnZb1Gu1xalxFnLFcMHF0epo2McTfuXnM=s64",
      "userId": "05854504905374019893"
     },
     "user_tz": 240
    },
    "id": "dXYALxE1TccB"
   },
   "outputs": [],
   "source": [
    "# the same method goes for replacing values\n",
    "first_dict['key1'] = \"value1\""
   ]
  },
  {
   "cell_type": "code",
   "execution_count": 44,
   "metadata": {
    "id": "yKRtW6RRTU2B"
   },
   "outputs": [
    {
     "data": {
      "text/plain": [
       "{'key1': 'value1',\n",
       " 'key2': ['hello', 'world', '(again)'],\n",
       " 'key3': [1, 2, 5.66],\n",
       " 1337: 'elite',\n",
       " 'MIS201': 'pure fire',\n",
       " 'cat': 'dog'}"
      ]
     },
     "execution_count": 44,
     "metadata": {},
     "output_type": "execute_result"
    }
   ],
   "source": [
    "first_dict"
   ]
  },
  {
   "cell_type": "markdown",
   "metadata": {},
   "source": [
    "#### Note\n",
    "\n",
    "Before Python 3.7, dictionaries were unordered. From Python 3.7 onwards, dictionaries maintain the order of items insertion."
   ]
  },
  {
   "cell_type": "markdown",
   "metadata": {
    "id": "Sty3aiexTU2B"
   },
   "source": [
    "## 2.2 Inception Part 2\n",
    "\n",
    "The value of a dictionary entry can be pretty much anything"
   ]
  },
  {
   "cell_type": "code",
   "execution_count": 45,
   "metadata": {
    "id": "aaDmCDvMTU2B"
   },
   "outputs": [
    {
     "data": {
      "text/plain": [
       "['hello', 'world', '(again)']"
      ]
     },
     "execution_count": 45,
     "metadata": {},
     "output_type": "execute_result"
    }
   ],
   "source": [
    "#now the value associated with 'key2' is a list of strings\n",
    "first_dict['key2']"
   ]
  },
  {
   "cell_type": "code",
   "execution_count": 46,
   "metadata": {
    "id": "VbZRFw2kTU2B"
   },
   "outputs": [
    {
     "data": {
      "text/plain": [
       "'(again)'"
      ]
     },
     "execution_count": 46,
     "metadata": {},
     "output_type": "execute_result"
    }
   ],
   "source": [
    "#and we can access any of its elements indexing iteratively\n",
    "first_dict['key2'][2]"
   ]
  },
  {
   "cell_type": "code",
   "execution_count": 47,
   "metadata": {
    "id": "saTqxmY6TU2C"
   },
   "outputs": [
    {
     "data": {
      "text/plain": [
       "'(aga'"
      ]
     },
     "execution_count": 47,
     "metadata": {},
     "output_type": "execute_result"
    }
   ],
   "source": [
    "#or even go deeper\n",
    "first_dict['key2'][2][:4]"
   ]
  },
  {
   "cell_type": "code",
   "execution_count": 48,
   "metadata": {
    "id": "5ZrYrJJCTU2C"
   },
   "outputs": [
    {
     "data": {
      "text/plain": [
       "'(AGA'"
      ]
     },
     "execution_count": 48,
     "metadata": {},
     "output_type": "execute_result"
    }
   ],
   "source": [
    "#and deeper\n",
    "first_dict['key2'][2][:4].upper()"
   ]
  },
  {
   "cell_type": "markdown",
   "metadata": {
    "id": "B8dTAnkNTU2C"
   },
   "source": [
    "and a value can also be ... you guessed it ... a dictionary!"
   ]
  },
  {
   "cell_type": "code",
   "execution_count": 49,
   "metadata": {
    "id": "wtAlyiZjTU2C"
   },
   "outputs": [],
   "source": [
    "#as before, we can have a dictionary inside a dictionary, etc.\n",
    "first_dict['dict1'] = {'inner_dict':'some_value'}"
   ]
  },
  {
   "cell_type": "code",
   "execution_count": 50,
   "metadata": {
    "id": "VNAH79GNTU2D"
   },
   "outputs": [
    {
     "data": {
      "text/plain": [
       "{'key1': 'value1',\n",
       " 'key2': ['hello', 'world', '(again)'],\n",
       " 'key3': [1, 2, 5.66],\n",
       " 1337: 'elite',\n",
       " 'MIS201': 'pure fire',\n",
       " 'cat': 'dog',\n",
       " 'dict1': {'inner_dict': 'some_value'}}"
      ]
     },
     "execution_count": 50,
     "metadata": {},
     "output_type": "execute_result"
    }
   ],
   "source": [
    "first_dict"
   ]
  },
  {
   "cell_type": "markdown",
   "metadata": {
    "id": "ffXJYHZYTU2D"
   },
   "source": [
    "## 2.3 Useful dictionary operations\n",
    "\n",
    "We cover here some commonly used dictionary methods\n",
    "- **keys()**   returns a list with all the keys\n",
    "- **values()** returns a list with all the values\n",
    "- **items()**  returns a list whose elements are *tuples* with dictionary key-value pairs."
   ]
  },
  {
   "cell_type": "code",
   "execution_count": 51,
   "metadata": {
    "id": "82AoE28sTU2D"
   },
   "outputs": [],
   "source": [
    "#create a typical dictionary\n",
    "my_dict = {'cat':'die Katze', 'dog':'der Hund', 'mice':'die Mäuse'}"
   ]
  },
  {
   "cell_type": "code",
   "execution_count": 52,
   "metadata": {
    "id": "7H7NLX3oTU2D"
   },
   "outputs": [
    {
     "data": {
      "text/plain": [
       "['cat', 'dog', 'mice']"
      ]
     },
     "execution_count": 52,
     "metadata": {},
     "output_type": "execute_result"
    }
   ],
   "source": [
    "#get the list of all keys\n",
    "list(my_dict.keys())"
   ]
  },
  {
   "cell_type": "code",
   "execution_count": 53,
   "metadata": {
    "id": "KIJ0s3CcTU2E"
   },
   "outputs": [
    {
     "data": {
      "text/plain": [
       "['die Katze', 'der Hund', 'die Mäuse']"
      ]
     },
     "execution_count": 53,
     "metadata": {},
     "output_type": "execute_result"
    }
   ],
   "source": [
    "#get the list of all value\n",
    "list(my_dict.values())"
   ]
  },
  {
   "cell_type": "code",
   "execution_count": 54,
   "metadata": {
    "id": "fvkn0469TU2E"
   },
   "outputs": [
    {
     "data": {
      "text/plain": [
       "[('cat', 'die Katze'), ('dog', 'der Hund'), ('mice', 'die Mäuse')]"
      ]
     },
     "execution_count": 54,
     "metadata": {},
     "output_type": "execute_result"
    }
   ],
   "source": [
    "#get the list of all pairs\n",
    "list(my_dict.items())"
   ]
  },
  {
   "cell_type": "code",
   "execution_count": 55,
   "metadata": {
    "id": "xha2JQUxTU2E"
   },
   "outputs": [
    {
     "data": {
      "text/plain": [
       "{'cat': 'die Katze', 'dog': 'der Hund'}"
      ]
     },
     "execution_count": 55,
     "metadata": {},
     "output_type": "execute_result"
    }
   ],
   "source": [
    "#you can delete a key/value pair by using del[key]\n",
    "del my_dict['mice']\n",
    "my_dict"
   ]
  },
  {
   "cell_type": "markdown",
   "metadata": {
    "id": "9-_UwiagTU2E"
   },
   "source": [
    "#### Note 1 \n",
    "\n",
    "Maybe going over all the different data types seems a little bit unnecessary now, but they will come in extremely handy in a while\n",
    "\n",
    "#### Note 2\n",
    "In the dictionary methods we used list() to convert something to a list. We won't bother with what that *something* is for now, but know that it is there to make Python both faster and more efficient\n",
    "\n",
    "#### BONUS\n",
    "\n",
    "The `.get()` dictionary method is a very useful method that allows you to retrieve a value from a dictionary without having to worry about whether the key exists or not."
   ]
  },
  {
   "cell_type": "code",
   "execution_count": 56,
   "metadata": {},
   "outputs": [
    {
     "data": {
      "text/plain": [
       "'die Katze'"
      ]
     },
     "execution_count": 56,
     "metadata": {},
     "output_type": "execute_result"
    }
   ],
   "source": [
    "my_dict = {'cat':'die Katze', 'dog':'der Hund', 'mice':'die Mäuse'}\n",
    "my_dict.get('cat')"
   ]
  },
  {
   "cell_type": "code",
   "execution_count": 57,
   "metadata": {},
   "outputs": [],
   "source": [
    "my_dict.get('dogg')"
   ]
  },
  {
   "cell_type": "markdown",
   "metadata": {
    "id": "cF6juWedTU2E"
   },
   "source": [
    "---\n",
    "# ⚖️ 3. Comparison\n",
    "\n",
    "\n",
    "## 3.1 Booleans\n",
    "\n",
    "Booleans are variables that can assume two values: True (1) and False (0).\n",
    "\n",
    "They can be useful in many situations, especially when we want to check whether a relationship holds or not. Let's see some examples."
   ]
  },
  {
   "cell_type": "code",
   "execution_count": 58,
   "metadata": {
    "id": "YSoT-k6VTU2F"
   },
   "outputs": [
    {
     "data": {
      "text/plain": [
       "True"
      ]
     },
     "execution_count": 58,
     "metadata": {},
     "output_type": "execute_result"
    }
   ],
   "source": [
    "done = True\n",
    "done"
   ]
  },
  {
   "cell_type": "code",
   "execution_count": 59,
   "metadata": {
    "id": "dIYhXyiTTU2F"
   },
   "outputs": [
    {
     "data": {
      "text/plain": [
       "False"
      ]
     },
     "execution_count": 59,
     "metadata": {},
     "output_type": "execute_result"
    }
   ],
   "source": [
    "done = False\n",
    "done"
   ]
  },
  {
   "cell_type": "code",
   "execution_count": 60,
   "metadata": {
    "id": "IYcizOBUTU2F"
   },
   "outputs": [
    {
     "data": {
      "text/plain": [
       "True"
      ]
     },
     "execution_count": 60,
     "metadata": {},
     "output_type": "execute_result"
    }
   ],
   "source": [
    "#check whether the number 15 is greater than -3\n",
    "15>-3"
   ]
  },
  {
   "cell_type": "code",
   "execution_count": 61,
   "metadata": {
    "id": "w1m2MiJ-TU2F"
   },
   "outputs": [
    {
     "data": {
      "text/plain": [
       "False"
      ]
     },
     "execution_count": 61,
     "metadata": {},
     "output_type": "execute_result"
    }
   ],
   "source": [
    "3>4"
   ]
  },
  {
   "cell_type": "code",
   "execution_count": 62,
   "metadata": {
    "id": "YpPDVUJBTU2F"
   },
   "outputs": [
    {
     "data": {
      "text/plain": [
       "False"
      ]
     },
     "execution_count": 62,
     "metadata": {},
     "output_type": "execute_result"
    }
   ],
   "source": [
    "#check whether the number 15 is equal to -3\n",
    "15==3"
   ]
  },
  {
   "cell_type": "code",
   "execution_count": 63,
   "metadata": {
    "id": "LkA_XGd8TU2F"
   },
   "outputs": [
    {
     "data": {
      "text/plain": [
       "True"
      ]
     },
     "execution_count": 63,
     "metadata": {},
     "output_type": "execute_result"
    }
   ],
   "source": [
    "#check whether the number 15 is not equal to -3\n",
    "15!=3"
   ]
  },
  {
   "cell_type": "markdown",
   "metadata": {
    "id": "eZpgGHX-TU2G"
   },
   "source": [
    "## Table of Comparison Operators\n",
    "\n",
    "<table class=\"table table-bordered\">\n",
    "<tr>\n",
    "<th style=\"width:10%\">Operator</th><th style=\"width:45%\">Description</th><th>x=3, y=4</th>\n",
    "</tr>\n",
    "<tr>\n",
    "<td>==</td>\n",
    "<td>If the values of two args are equal, the condition becomes true.</td>\n",
    "<td> (x == y) is not true.</td>\n",
    "</tr>\n",
    "<tr>\n",
    "<td>!=</td>\n",
    "<td>If the values of two args are not equal, the condition becomes true.</td>\n",
    "<td>(x != y) is true</td>\n",
    "</tr>\n",
    "<tr>\n",
    "<td>&gt;</td>\n",
    "<td>If the value of the left arg is greater than the value of the right arg, the condition becomes true.</td>\n",
    "<td> (x &gt; y) is not true.</td>\n",
    "</tr>\n",
    "<tr>\n",
    "<td>&lt;</td>\n",
    "<td>If the value of the left arg is less than the value of the right arg, the condition becomes true.</td>\n",
    "<td> (x &lt; y) is true.</td>\n",
    "</tr>\n",
    "<tr>\n",
    "<td>&gt;=</td>\n",
    "<td>If the value of the left arg is greater than or equal to the value of the right arg, the condition becomes true.</td>\n",
    "<td> (x &gt;= y) is not true. </td>\n",
    "</tr>\n",
    "<tr>\n",
    "<td>&lt;=</td>\n",
    "<td>If the value of the left arg is less than or equal to the value of the right arg, the condition becomes true.</td>\n",
    "<td> (x &lt;= y) is true. </td>\n",
    "</tr>\n",
    "</table>"
   ]
  },
  {
   "cell_type": "markdown",
   "metadata": {
    "id": "KEZWTSswTU2G"
   },
   "source": [
    "## 3.2 Non-numeric equality\n",
    "\n",
    "The == and != operators can also check whether two objects are the same or different."
   ]
  },
  {
   "cell_type": "code",
   "execution_count": 64,
   "metadata": {
    "id": "wEKNbKkHTU2G"
   },
   "outputs": [
    {
     "data": {
      "text/plain": [
       "True"
      ]
     },
     "execution_count": 64,
     "metadata": {},
     "output_type": "execute_result"
    }
   ],
   "source": [
    "x=[5,6]\n",
    "y=[5,6]\n",
    "x==y"
   ]
  },
  {
   "cell_type": "code",
   "execution_count": 65,
   "metadata": {
    "id": "njw1BDcdTU2G"
   },
   "outputs": [
    {
     "data": {
      "text/plain": [
       "False"
      ]
     },
     "execution_count": 65,
     "metadata": {},
     "output_type": "execute_result"
    }
   ],
   "source": [
    "x='this is a random string!!!'\n",
    "y='this is a different string'\n",
    "x==y"
   ]
  },
  {
   "cell_type": "code",
   "execution_count": 66,
   "metadata": {
    "id": "JkYJkT7_TU2G"
   },
   "outputs": [
    {
     "data": {
      "text/plain": [
       "True"
      ]
     },
     "execution_count": 66,
     "metadata": {},
     "output_type": "execute_result"
    }
   ],
   "source": [
    "x!=y"
   ]
  },
  {
   "cell_type": "code",
   "execution_count": 67,
   "metadata": {
    "id": "b0PiIS98TU2H"
   },
   "outputs": [
    {
     "data": {
      "text/plain": [
       "True"
      ]
     },
     "execution_count": 67,
     "metadata": {},
     "output_type": "execute_result"
    }
   ],
   "source": [
    "len(x)==len(y)"
   ]
  },
  {
   "cell_type": "markdown",
   "metadata": {
    "id": "oTvn7seeTU2H"
   },
   "source": [
    "## 3.3 AND and OR statements\n",
    "\n",
    "We use the and statement to check whether two conditions hold at the same time\n",
    "- if both conditions hold, then the AND statement returns the value True\n",
    "- if at least one (or both) do not hold, then the AND statement returns the value False"
   ]
  },
  {
   "cell_type": "code",
   "execution_count": 68,
   "metadata": {
    "id": "Mab80XiJTU2H"
   },
   "outputs": [
    {
     "data": {
      "text/plain": [
       "True"
      ]
     },
     "execution_count": 68,
     "metadata": {},
     "output_type": "execute_result"
    }
   ],
   "source": [
    "4>2 and 2<5"
   ]
  },
  {
   "cell_type": "code",
   "execution_count": 69,
   "metadata": {
    "id": "NfZIE2SJTU2H"
   },
   "outputs": [
    {
     "data": {
      "text/plain": [
       "False"
      ]
     },
     "execution_count": 69,
     "metadata": {},
     "output_type": "execute_result"
    }
   ],
   "source": [
    "4>3 and 15<4"
   ]
  },
  {
   "cell_type": "markdown",
   "metadata": {
    "id": "VrXv4BH2TU2H"
   },
   "source": [
    "On the other hand, the **or** statement returns two if any of its two operands holds True."
   ]
  },
  {
   "cell_type": "code",
   "execution_count": 70,
   "metadata": {
    "id": "5rSXZc0iTU2I"
   },
   "outputs": [
    {
     "data": {
      "text/plain": [
       "True"
      ]
     },
     "execution_count": 70,
     "metadata": {},
     "output_type": "execute_result"
    }
   ],
   "source": [
    "15<0 or 5==5"
   ]
  },
  {
   "cell_type": "markdown",
   "metadata": {
    "id": "gKEcTA9rTU2I"
   },
   "source": [
    "While 15<0 is false, 5==5 holds true, and the or statement returns the value True."
   ]
  },
  {
   "cell_type": "code",
   "execution_count": 71,
   "metadata": {
    "id": "GgCHryHcTU2I"
   },
   "outputs": [
    {
     "data": {
      "text/plain": [
       "False"
      ]
     },
     "execution_count": 71,
     "metadata": {},
     "output_type": "execute_result"
    }
   ],
   "source": [
    "#parentheses work as in numerical calculations!\n",
    "( (5>3 and 3<2) or 15>0 ) and 5>=6"
   ]
  },
  {
   "cell_type": "code",
   "execution_count": 72,
   "metadata": {
    "id": "Th_sARGbTU2J"
   },
   "outputs": [
    {
     "name": "stdout",
     "output_type": "stream",
     "text": [
      "True\n",
      "{'cat': 'die Katze', 'dog': 'der Hund', 'mice': 'die Mäuse'}\n",
      "{'cat': 'die Katze', 'dog': 'der Hund', 'mice': 'die Mäuse'}\n"
     ]
    },
    {
     "data": {
      "text/plain": [
       "True"
      ]
     },
     "execution_count": 72,
     "metadata": {},
     "output_type": "execute_result"
    }
   ],
   "source": [
    "# assign my_dict to the variable second_dict by reference\n",
    "second_dict = my_dict\n",
    "\n",
    "#both refer to the same content\n",
    "print( my_dict == second_dict )\n",
    "print(my_dict)\n",
    "print(second_dict)\n",
    "\n",
    "#but each variable refers to the same place in memory!\n",
    "my_dict is second_dict"
   ]
  },
  {
   "cell_type": "code",
   "execution_count": 73,
   "metadata": {
    "id": "0wp-3c9HTU2J"
   },
   "outputs": [
    {
     "name": "stdout",
     "output_type": "stream",
     "text": [
      "{'cat': 'die Katze', 'dog': 'der Hund', 'mice': 'die Mäuse'}\n",
      "{'cat': 'die Katze', 'dog': 'der Hund', 'mice': 'die Mäuse'}\n"
     ]
    }
   ],
   "source": [
    "# when you change the contents, then they change for every referece (variable) to this place in memory\n",
    "my_dict['mice'] = 'die Mäuse'\n",
    "print(my_dict)\n",
    "print(second_dict)"
   ]
  },
  {
   "cell_type": "code",
   "execution_count": 74,
   "metadata": {
    "id": "NVmpMwHbTU2J"
   },
   "outputs": [
    {
     "name": "stdout",
     "output_type": "stream",
     "text": [
      "{'cat': 'die Katze', 'dog': 'der Hund'}\n",
      "{'cat': 'die Katze', 'dog': 'der Hund'}\n"
     ]
    }
   ],
   "source": [
    "del my_dict['mice']\n",
    "print(my_dict)\n",
    "print(second_dict)"
   ]
  },
  {
   "cell_type": "markdown",
   "metadata": {
    "id": "MbR8Fme1TU2K"
   },
   "source": [
    "If you don't want this to happen, you have to perform an **assignment by value**\n",
    "- that is, make a copy of the original memory contents to the new variable\n",
    "- this can be done by specifying that you want a new copy"
   ]
  },
  {
   "cell_type": "code",
   "execution_count": 75,
   "metadata": {
    "id": "msYofQD2TU2K"
   },
   "outputs": [
    {
     "name": "stdout",
     "output_type": "stream",
     "text": [
      "True\n",
      "False\n"
     ]
    }
   ],
   "source": [
    "second_dict = dict(my_dict)\n",
    "print( my_dict == second_dict )\n",
    "print( my_dict is second_dict )"
   ]
  },
  {
   "cell_type": "code",
   "execution_count": 76,
   "metadata": {
    "id": "MSLmQBTNTU2K"
   },
   "outputs": [
    {
     "name": "stdout",
     "output_type": "stream",
     "text": [
      "{'cat': 'die Katze', 'dog': 'der Hund', 'mice': 'die Mäuse'}\n",
      "{'cat': 'die Katze', 'dog': 'der Hund'}\n"
     ]
    }
   ],
   "source": [
    "my_dict['mice'] = 'die Mäuse'\n",
    "print(my_dict)\n",
    "print(second_dict)"
   ]
  },
  {
   "cell_type": "markdown",
   "metadata": {
    "id": "RNQme6x3TU2K"
   },
   "source": [
    "The same thing holds for lists, but instead of dict(my_dict) you would have to call list(my_list)"
   ]
  },
  {
   "cell_type": "markdown",
   "metadata": {
    "id": "n-QXugARTU2K"
   },
   "source": [
    "---\n",
    "# ❓ 4. Conditionals\n",
    "\n",
    "## 4.1 If-else\n",
    "\n",
    "The **if (condition):** statement allows us to tell our computer to perform a certain set of actions if a condition holds. \n",
    "\n",
    "Let's see an example."
   ]
  },
  {
   "cell_type": "code",
   "execution_count": 77,
   "metadata": {
    "id": "4tZK4Bg0TU2K"
   },
   "outputs": [
    {
     "name": "stdout",
     "output_type": "stream",
     "text": [
      "x is positive\n"
     ]
    }
   ],
   "source": [
    "#the condition x>0 holds, and the code inside the if block is executed\n",
    "x=5\n",
    "if x>0:\n",
    "    print('x is positive')"
   ]
  },
  {
   "cell_type": "code",
   "execution_count": 78,
   "metadata": {
    "id": "X43eSJILTU2L"
   },
   "outputs": [],
   "source": [
    "#the condition x>0 does not hold, and the code inside the if block is ignored\n",
    "x=5\n",
    "if x<0:\n",
    "    print('x is negative')"
   ]
  },
  {
   "cell_type": "markdown",
   "metadata": {
    "id": "TqCJaPCMTU2L"
   },
   "source": [
    "The **else:** statement always follows an if statement, and tells us what to do when the if condition does not hold. \n",
    "\n",
    "Again, let's work through it using an example. "
   ]
  },
  {
   "cell_type": "code",
   "execution_count": 79,
   "metadata": {
    "id": "XiR94WYPTU2L"
   },
   "outputs": [
    {
     "name": "stdout",
     "output_type": "stream",
     "text": [
      "x is positive\n"
     ]
    }
   ],
   "source": [
    "x=5\n",
    "if x>0: \n",
    "    print('x is positive')\n",
    "else:\n",
    "    print('x is not positive')"
   ]
  },
  {
   "cell_type": "code",
   "execution_count": 80,
   "metadata": {
    "id": "LlWc-fXCTU2M"
   },
   "outputs": [
    {
     "name": "stdout",
     "output_type": "stream",
     "text": [
      "x is not positive\n"
     ]
    }
   ],
   "source": [
    "x=-3\n",
    "if x>0: \n",
    "    print('x is positive')\n",
    "else:\n",
    "    print('x is not positive')"
   ]
  },
  {
   "cell_type": "markdown",
   "metadata": {
    "id": "AENRVYZITU2M"
   },
   "source": [
    "## 4.2 The elif statement\n",
    "\n",
    "The elif statement works similarly to if with few differences.\n",
    "- it always follows after an if statement\n",
    "- if the above if statement does not hold, then the following elif statement is checked.\n",
    "\n",
    "Let's see an example"
   ]
  },
  {
   "cell_type": "code",
   "execution_count": 81,
   "metadata": {
    "id": "Ivxjo2TOTU2M"
   },
   "outputs": [
    {
     "name": "stdout",
     "output_type": "stream",
     "text": [
      "Welcome Sarah!\n"
     ]
    }
   ],
   "source": [
    "name = 'Sarah'\n",
    "#the if condition is true - it is executed and anything below is ignored\n",
    "if name == 'Sarah':\n",
    "    print('Welcome Sarah!')\n",
    "elif name =='James':\n",
    "    print('Welcome James')"
   ]
  },
  {
   "cell_type": "code",
   "execution_count": 82,
   "metadata": {
    "id": "nxO6LE4dTU2M"
   },
   "outputs": [
    {
     "name": "stdout",
     "output_type": "stream",
     "text": [
      "Welcome James\n"
     ]
    }
   ],
   "source": [
    "name = 'James'\n",
    "#the if condition is not true - we move on to the next condition which happens to be true\n",
    "if name == 'Sarah':\n",
    "    print('Welcome Sarah!')\n",
    "elif name =='James':\n",
    "    print('Welcome James')"
   ]
  },
  {
   "cell_type": "code",
   "execution_count": 83,
   "metadata": {
    "id": "m5Xtt-SETU2M"
   },
   "outputs": [
    {
     "name": "stdout",
     "output_type": "stream",
     "text": [
      "Welcome Sarah!\n"
     ]
    }
   ],
   "source": [
    "name = 'Sarah'\n",
    "#both conditions are true, but only the first true condition is executed\n",
    "if name == 'Sarah':\n",
    "    print('Welcome Sarah!')\n",
    "elif name =='Sarah':\n",
    "    print('You are not welcome Sarah')"
   ]
  },
  {
   "cell_type": "code",
   "execution_count": 84,
   "metadata": {
    "id": "_HjMFEekTU2N"
   },
   "outputs": [
    {
     "name": "stdout",
     "output_type": "stream",
     "text": [
      "Welcome, what is your name?\n"
     ]
    }
   ],
   "source": [
    "name = 'Arya'\n",
    "#none of the conditions are true, and the else condition is executed\n",
    "if name == 'Sarah':\n",
    "    print('Welcome Sarah!')\n",
    "elif name =='James':\n",
    "    print('Welcome James')\n",
    "else:\n",
    "    print('Welcome, what is your name?')"
   ]
  },
  {
   "cell_type": "markdown",
   "metadata": {
    "id": "909KYizwTU2N"
   },
   "source": [
    "## 4.3 Identation\n",
    "\n",
    "A code block - what is contained within an if or else statement can be simply identified by the fact that it is indented uniformly."
   ]
  },
  {
   "cell_type": "code",
   "execution_count": 85,
   "metadata": {
    "id": "NTSvCYRpTU2N"
   },
   "outputs": [
    {
     "name": "stdout",
     "output_type": "stream",
     "text": [
      "Welcome Sarah!\n",
      "Would you like your regular?\n"
     ]
    }
   ],
   "source": [
    "name = 'Sarah'\n",
    "#none of the conditions are true, and the else condition is executed\n",
    "if name == 'Sarah':\n",
    "    print('Welcome Sarah!')\n",
    "    print('Would you like your regular?')\n",
    "elif name =='James':\n",
    "    print('Welcome James')\n",
    "    print('Dinner for two?')    \n",
    "else:\n",
    "    print('Welcome, what is your name?')\n",
    "    x = 'No one'\n",
    "    print('and how could I help you today,'+str(x))"
   ]
  },
  {
   "cell_type": "code",
   "execution_count": 86,
   "metadata": {
    "id": "W26Tl9l7TU2N"
   },
   "outputs": [
    {
     "name": "stdout",
     "output_type": "stream",
     "text": [
      "Welcome, what is your name?\n",
      "and how could I help you today, No One?\n"
     ]
    }
   ],
   "source": [
    "name = 'Arya'\n",
    "#none of the conditions are true, and the else condition is executed\n",
    "if name == 'Sarah':\n",
    "    print('Welcome Sarah!')\n",
    "    print('would you like your regular?')\n",
    "elif name =='James':\n",
    "    print('Welcome James')\n",
    "    print('Dinner for two?')    \n",
    "else:\n",
    "    print('Welcome, what is your name?')\n",
    "    name = 'No One'\n",
    "    print('and how could I help you today, '+str(name)+'?')"
   ]
  },
  {
   "cell_type": "markdown",
   "metadata": {
    "id": "SQBjwmYwTU2N"
   },
   "source": [
    "## 4.4 If's within if's\n",
    "\n",
    "In its natural inception fashion, Python allows for if statements within if statements within if statements... .\n",
    "\n",
    "Let's see a simple example"
   ]
  },
  {
   "cell_type": "code",
   "execution_count": 87,
   "metadata": {
    "id": "hDc67WL8TU2N"
   },
   "outputs": [
    {
     "name": "stdout",
     "output_type": "stream",
     "text": [
      "x is negative and less than -10\n"
     ]
    }
   ],
   "source": [
    "x = -30\n",
    "if x>0:\n",
    "    if x>10:\n",
    "        print('x is positive and  bigger than 10')\n",
    "    else:\n",
    "        print('x is positive and less than or equal to 10')\n",
    "elif x<0:\n",
    "    if x<-10:\n",
    "        print('x is negative and less than -10')\n",
    "    else:\n",
    "        print('x is negative and bigger than or equal to -10')\n",
    "else:\n",
    "    print('x equals 0')\n",
    "    "
   ]
  },
  {
   "cell_type": "markdown",
   "metadata": {},
   "source": [
    "## 4.5 IFs and dictionaries\n",
    "\n",
    "We can use if statements to check whether a key is in a dictionary or not."
   ]
  },
  {
   "cell_type": "code",
   "execution_count": 88,
   "metadata": {},
   "outputs": [
    {
     "name": "stdout",
     "output_type": "stream",
     "text": [
      "The key cat is in the dictionary, and the associated value is die Katze\n"
     ]
    }
   ],
   "source": [
    "my_dict = {'cat':'die Katze', 'dog':'der Hund', 'mice':'die Mäuse'}\n",
    "\n",
    "candidate_key = 'cat'\n",
    "\n",
    "if candidate_key in my_dict:\n",
    "    print(f'The key {candidate_key} is in the dictionary, and the associated value is {my_dict[candidate_key]}')\n",
    "else:\n",
    "    print(f'The key {candidate_key} is not in the dictionary')"
   ]
  },
  {
   "cell_type": "code",
   "execution_count": null,
   "metadata": {},
   "outputs": [],
   "source": []
  },
  {
   "cell_type": "code",
   "execution_count": null,
   "metadata": {},
   "outputs": [],
   "source": []
  },
  {
   "cell_type": "code",
   "execution_count": null,
   "metadata": {},
   "outputs": [],
   "source": []
  }
 ],
 "metadata": {
  "colab": {
   "collapsed_sections": [
    "SWRkxDVfTU14",
    "3J70scWUTU16",
    "Sty3aiexTU2B",
    "ffXJYHZYTU2D",
    "9-_UwiagTU2E",
    "eZpgGHX-TU2G",
    "KEZWTSswTU2G",
    "oTvn7seeTU2H",
    "AENRVYZITU2M",
    "909KYizwTU2N",
    "SQBjwmYwTU2N"
   ],
   "name": "02.1 Lists, Dictionaries, Comparison, Conditionals.ipynb",
   "provenance": []
  },
  "kernelspec": {
   "display_name": "Python 3 (ipykernel)",
   "language": "python",
   "name": "python3"
  },
  "language_info": {
   "codemirror_mode": {
    "name": "ipython",
    "version": 3
   },
   "file_extension": ".py",
   "mimetype": "text/x-python",
   "name": "python",
   "nbconvert_exporter": "python",
   "pygments_lexer": "ipython3",
   "version": "3.11.7"
  }
 },
 "nbformat": 4,
 "nbformat_minor": 1
}
