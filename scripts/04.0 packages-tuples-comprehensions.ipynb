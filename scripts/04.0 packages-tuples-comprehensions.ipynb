{
 "cells": [
  {
   "cell_type": "markdown",
   "metadata": {},
   "source": [
    "---\n",
    "\n",
    "### 🎓 **Professor**: Apostolos Filippas\n",
    "\n",
    "### 📘 **Class**: Web Analytics\n",
    "\n",
    "### 📋 **Topic**: Packages, tuples, comprehensions\n",
    "\n",
    "🚫 **Note**: You are not allowed to share the contents of this notebook with anyone outside this class without written permission by the professor.\n",
    "\n",
    "---"
   ]
  },
  {
   "cell_type": "markdown",
   "metadata": {},
   "source": [
    "# 📦 1. Packages\n",
    "Packages (or Modules) or packages in python are .py files, which implement a lot of useful methods.\n",
    "Packages allow us to not reinvent the wheel every time we want to do something in Python, and therefore can save us a lot of time.\n",
    "\n",
    "## Importing pre-installed packages\n",
    "You can import a package using the import command. The first time you import the package in a python script it is initialized by executing the code in the package once. \n",
    "\n",
    "Let's see a common example."
   ]
  },
  {
   "cell_type": "code",
   "execution_count": null,
   "metadata": {},
   "outputs": [],
   "source": [
    "import math\n",
    "\n",
    "# Calculate the square root\n",
    "sqrt_25 = math.sqrt(25)\n",
    "print(f\"Square root of 25 is: {sqrt_25}\")\n",
    "\n",
    "# Calculate the factorial\n",
    "factorial_5 = math.factorial(5)\n",
    "print(f\"Factorial of 5 is: {factorial_5}\")\n",
    "\n",
    "# Calculate the cosine of an angle\n",
    "cos_45 = math.cos(math.radians(45))  # Convert degrees to radians first\n",
    "print(f\"Cosine of 45 degrees is: {cos_45}\")"
   ]
  },
  {
   "cell_type": "markdown",
   "metadata": {},
   "source": [
    "Pretty cool right? Now all of the code that so many people have written in the past is available for you to use!\n",
    "\n",
    "That is in large part the power of programming and of open source!\n",
    "\n",
    "## Importing new packages\n",
    "Installing Python packages is usually done with the package manager called pip. Here's how you can do it:\n",
    "` pip install package_name `\n",
    "\n",
    "You only need to know the package's name.\n",
    "\n",
    "Here's a package that we will have to use in Lecture 4!"
   ]
  },
  {
   "cell_type": "code",
   "execution_count": null,
   "metadata": {},
   "outputs": [],
   "source": [
    "pip install requests"
   ]
  },
  {
   "cell_type": "code",
   "execution_count": null,
   "metadata": {},
   "outputs": [],
   "source": [
    "import requests"
   ]
  },
  {
   "cell_type": "markdown",
   "metadata": {},
   "source": [
    "# 🧬 2. Tuples\n"
   ]
  },
  {
   "cell_type": "markdown",
   "metadata": {},
   "source": [
    "\n",
    "Tuples are one of the foundational data structures in Python, used to group together multiple objects. \n",
    "- At a high level, they can be thought of as immutable lists. \n",
    "- Once elements are stored in a tuple, they cannot be modified (i.e., you cannot change, add, or remove items after the tuple is defined). \n",
    "- This immutability lends itself to ensuring data integrity and creating \"write-protected\" sequences in your programs.\n",
    "\n",
    "Key Characteristics of Tuples:\n",
    "- Immutable: Once created, the elements within them cannot be changed.\n",
    "- Ordered: The elements have a defined order, and they can be indexed.\n",
    "- Heterogeneous: They can store multiple types of data.\n",
    "\n",
    "\n",
    "Tuples are defined by enclosing the elements in parentheses () separated by commas."
   ]
  },
  {
   "cell_type": "code",
   "execution_count": null,
   "metadata": {},
   "outputs": [],
   "source": [
    "# A tuple containing integers\n",
    "numbers = (1, 2, 3, 4)\n",
    "\n",
    "# A tuple containing different types of elements\n",
    "mixed_data = (1, \"Alice\", 3.4, True)\n"
   ]
  },
  {
   "cell_type": "code",
   "execution_count": null,
   "metadata": {},
   "outputs": [],
   "source": [
    "# you can access elements of a tuple using the index operator [].\n",
    "names = (\"Alice\", \"Bob\", \"Charlie\")\n",
    "print(names[0])  # Outputs: Alice\n"
   ]
  },
  {
   "cell_type": "code",
   "execution_count": null,
   "metadata": {},
   "outputs": [],
   "source": [
    "colors = (\"red\", \"green\")\n",
    "# This will raise a TypeError:\n",
    "# colors[0] = \"blue\"\n",
    "\n",
    "# But this is okay:\n",
    "colors = (\"blue\", \"green\")\n"
   ]
  },
  {
   "cell_type": "code",
   "execution_count": null,
   "metadata": {},
   "outputs": [],
   "source": [
    "# you can use the + operator to concatenate two tuples.\n",
    "t1 = (1, 2)\n",
    "t2 = (3, 4)\n",
    "t3 = t1 + t2\n",
    "print(t3) \n"
   ]
  },
  {
   "cell_type": "code",
   "execution_count": null,
   "metadata": {},
   "outputs": [],
   "source": [
    "# you can check for membership using the in operator\n",
    "t = (1, 2, 3, 4)\n",
    "print(2 in t) \n"
   ]
  },
  {
   "cell_type": "markdown",
   "metadata": {},
   "source": [
    "# 💡 3. Comprehensions\n",
    "\n",
    "Comprehensions are a cool little tool added relatively late into Python's lifecycle. You may spend your whole programming life without ever using them once, but if you embrace them they might save you a lot of time!\n",
    "\n",
    "Let's first try to make a list of the numbers 1 through 10 using the for loop.\n"
   ]
  },
  {
   "cell_type": "code",
   "execution_count": null,
   "metadata": {},
   "outputs": [],
   "source": [
    "#create an empty list\n",
    "my_list = []\n",
    "#and start appending numbers\n",
    "for k in range(1,11):\n",
    "    my_list.append(k)\n",
    "#show\n",
    "my_list"
   ]
  },
  {
   "cell_type": "markdown",
   "metadata": {},
   "source": [
    "We can use python comprehensions to do that in a single line of code!"
   ]
  },
  {
   "cell_type": "code",
   "execution_count": null,
   "metadata": {},
   "outputs": [],
   "source": [
    "my_list = [k for k in range(1,11)]\n",
    "my_list"
   ]
  },
  {
   "cell_type": "code",
   "execution_count": null,
   "metadata": {},
   "outputs": [],
   "source": [
    "#another example, makes a list with every number in 1,..,10 divided by 2\n",
    "my_list = [k/2 for k in range(1,11)]\n",
    "my_list"
   ]
  },
  {
   "cell_type": "code",
   "execution_count": null,
   "metadata": {},
   "outputs": [],
   "source": [
    "#or their square!\n",
    "my_list = [k**2 for k in range(1,11)]\n",
    "my_list"
   ]
  },
  {
   "cell_type": "markdown",
   "metadata": {},
   "source": [
    "Back to the list comprehension\n",
    "- grab every element of an object (in our examples, the object is range(1,11)\n",
    "- operate on every element (in our case either /2 or **2)\n",
    "\n",
    "Another cool thing we can do is add conditions in the comprehension.\n",
    "\n",
    "The way that this works is that the comprehension will grab all of the elements of the object such that the condition holds.\n",
    "\n",
    "For example, let's create a list with all even number between 0 and 10."
   ]
  },
  {
   "cell_type": "code",
   "execution_count": null,
   "metadata": {},
   "outputs": [],
   "source": [
    "my_list = [k for k in range(0,11) if k%2==0]\n",
    "my_list"
   ]
  },
  {
   "cell_type": "markdown",
   "metadata": {},
   "source": [
    "We can also have dictionary comprehensions. The syntax is a little bit different.\n",
    "- the comprehension is enclosed in {} and not in []\n",
    "- since every item of the dictionary consists of a key and a value, we need to define the key:value pair"
   ]
  },
  {
   "cell_type": "code",
   "execution_count": null,
   "metadata": {},
   "outputs": [],
   "source": [
    "{k:k**2 for k in range(0,11)}"
   ]
  },
  {
   "cell_type": "code",
   "execution_count": null,
   "metadata": {},
   "outputs": [],
   "source": [
    "{k:k**2 for k in range(0,11) if k%2==0}"
   ]
  },
  {
   "cell_type": "code",
   "execution_count": null,
   "metadata": {},
   "outputs": [],
   "source": [
    "[k/2 for k in [k**2 for k in range(0,11)]]"
   ]
  },
  {
   "cell_type": "markdown",
   "metadata": {},
   "source": [
    "### Note\n",
    "\n",
    "We can also have any iterable item on the RHS of a comprehension. For example, a string."
   ]
  },
  {
   "cell_type": "code",
   "execution_count": null,
   "metadata": {},
   "outputs": [],
   "source": [
    "[k for k in 'Apostolos']"
   ]
  },
  {
   "cell_type": "markdown",
   "metadata": {},
   "source": [
    "## Set comprehension with conditions\n",
    "\n",
    "You can have set comprehensions as well"
   ]
  },
  {
   "cell_type": "code",
   "execution_count": null,
   "metadata": {},
   "outputs": [],
   "source": [
    "# set of unique letters in the word 'Apostolos'\n",
    "{k for k in 'Apostolos'}"
   ]
  },
  {
   "cell_type": "markdown",
   "metadata": {},
   "source": [
    "You can also have conditions within a comprehension"
   ]
  },
  {
   "cell_type": "code",
   "execution_count": null,
   "metadata": {},
   "outputs": [],
   "source": [
    "# set of unique vowels in the word 'Apostolos'\n",
    "word = 'Apostolos'\n",
    "vowels = {char for char in word if char.lower() in 'aeiou'}\n",
    "print(vowels)"
   ]
  },
  {
   "cell_type": "code",
   "execution_count": null,
   "metadata": {},
   "outputs": [],
   "source": [
    "# List of 'even' or 'odd' for numbers 1-10\n",
    "result = ['even' if k%2==0 else 'odd' for k in range(1,11)]\n",
    "print(result)"
   ]
  },
  {
   "cell_type": "markdown",
   "metadata": {},
   "source": [
    "# 4. Dictionaries' .keys(), .values(), and .items()\n",
    "\n",
    "\n",
    "You can iterate over a dictionaries keys and values. \n",
    "You can even iterate over both at the same time..."
   ]
  },
  {
   "cell_type": "code",
   "execution_count": null,
   "metadata": {},
   "outputs": [],
   "source": [
    "products = {\n",
    "    \"Laptop\": 1000,\n",
    "    \"Smartphone\": 500,\n",
    "    \"Headphones\": 150,\n",
    "    \"Charger\": 20\n",
    "}\n",
    "\n",
    "for product in products.keys():\n",
    "    print(product)"
   ]
  },
  {
   "cell_type": "code",
   "execution_count": null,
   "metadata": {},
   "outputs": [],
   "source": [
    "for price in products.values():\n",
    "    print(price)\n"
   ]
  },
  {
   "cell_type": "code",
   "execution_count": null,
   "metadata": {},
   "outputs": [],
   "source": [
    "for product, price in products.items():\n",
    "    print(f\"The price of {product} is ${price}.\")\n"
   ]
  },
  {
   "cell_type": "markdown",
   "metadata": {},
   "source": [
    "# 🔄 5. Advanced iterators (OPTIONAL)\n"
   ]
  },
  {
   "cell_type": "markdown",
   "metadata": {},
   "source": [
    "The `zip` function is used to combine multiple iterables into one. It \"zips\" them together based on their corresponding elements. The resulting object is an iterable of tuples.\n",
    "\n"
   ]
  },
  {
   "cell_type": "code",
   "execution_count": null,
   "metadata": {},
   "outputs": [],
   "source": [
    "names = [\"Alice\", \"Bob\", \"Charlie\"]\n",
    "scores = [85, 92, 78]\n",
    "\n",
    "zipped = zip(names, scores)\n",
    "for name, score in zipped:\n",
    "    print(f\"{name}: {score}\")\n"
   ]
  },
  {
   "cell_type": "markdown",
   "metadata": {},
   "source": [
    "You can also use zip to \"unzip\" a zipped iterable:\n",
    "\n",
    "The * operator is used for unpacking.\n",
    "\n"
   ]
  },
  {
   "cell_type": "code",
   "execution_count": null,
   "metadata": {},
   "outputs": [],
   "source": [
    "zipped_data = [(\"Alice\", 85), (\"Bob\", 92), (\"Charlie\", 78)]\n",
    "names, scores = zip(*zipped_data)\n",
    "\n",
    "print(names)  # Outputs: ('Alice', 'Bob', 'Charlie')\n",
    "print(scores)  # Outputs: (85, 92, 78)\n"
   ]
  },
  {
   "cell_type": "markdown",
   "metadata": {},
   "source": [
    "`enumerate` is another useful function for iterations. It returns both the index and the value in a tuple while iterating."
   ]
  },
  {
   "cell_type": "code",
   "execution_count": null,
   "metadata": {},
   "outputs": [],
   "source": [
    "names = [\"Alice\", \"Bob\", \"Charlie\"]\n",
    "\n",
    "for index, name in enumerate(names):\n",
    "    print(f\"{index}: {name}\")\n"
   ]
  },
  {
   "cell_type": "markdown",
   "metadata": {},
   "source": [
    "### Note\n",
    "\n",
    "It actually gets even more advanced than this. If you want to find out more, look up `generators` and the `itertools` library"
   ]
  }
 ],
 "metadata": {
  "kernelspec": {
   "display_name": "Python 3",
   "language": "python",
   "name": "python3"
  },
  "language_info": {
   "codemirror_mode": {
    "name": "ipython",
    "version": 3
   },
   "file_extension": ".py",
   "mimetype": "text/x-python",
   "name": "python",
   "nbconvert_exporter": "python",
   "pygments_lexer": "ipython3",
   "version": "3.10.4"
  }
 },
 "nbformat": 4,
 "nbformat_minor": 2
}
