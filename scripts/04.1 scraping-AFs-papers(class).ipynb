{
 "cells": [
  {
   "cell_type": "markdown",
   "metadata": {},
   "source": [
    "---\n",
    "\n",
    "### 🎓 **Professor**: Apostolos Filippas\n",
    "\n",
    "### 📘 **Class**: Web Analytics\n",
    "\n",
    "### 📋 **Topic**: Getting and parsing web content \n",
    "\n",
    "\n",
    "🚫 **Note**: You are not allowed to share the contents of this notebook with anyone outside this class without written permission by the professor.\n",
    "\n",
    "---\n",
    "\n",
    "# 🌐 1. Getting Content from the Web\n",
    "\n",
    "Our goal today is to extract all available research papers from the professor's website!\n",
    "\n",
    "## The `HTTP` Protocol\n",
    "\n",
    "When we want to grab data from a website, we need to ask the website's server for that data. The HTTP, or HyperText Transfer Protocol, is like a set of rules that determines how we talk to these servers and how they talk back to us. Here's a breakdown of some of the main ways (methods) we can communicate using HTTP:\n",
    "\n",
    "- **`GET`**: This is like saying, \"Hey server, can you show me this?\" It's used to ask the server to show us specific data. For instance, when you type a website address into your browser, you're actually sending a GET request to view that website.\n",
    "  \n",
    "- **`POST`**: Think of this as telling the server, \"Hey, I have some info for you.\" This is used when you fill out a form on a website, like when you sign up for a new social media account. You're sending your details (username, password, etc.) to the server.\n",
    "  \n",
    "- **`PUT`**: This method is like updating or editing something that's already on the server. For example, imagine you're changing your profile picture on a website. You'd use a PUT request to replace the old picture with the new one.\n",
    "  \n",
    "- **`DELETE`**: Simply put, this is asking the server to get rid of something. If you were to delete a post or a photo from a website, you'd be sending a DELETE request.\n"
   ]
  },
  {
   "cell_type": "markdown",
   "metadata": {},
   "source": [
    "## The `requests` Module\n",
    "While HTTP is great, writing raw HTTP can be tedious. The `requests` module streamlines this process: \n",
    "- it offers a much simpler interface that abstracts away from the complexities of creating HTTP requests\n",
    "- it offers a much simpler way to send data, or interpret data returned by a server\n",
    "\n",
    "### Note: APIs\n",
    "Interfaces, such as the `requests`, are commonly called `APIs` (Application Programming Interfaces). \n",
    "- An API is a protocol enabling distinct software entities to converse. \n",
    "- In the requests example, the module offers an API that abstracts from the details of you getting what you want\n",
    "- Analogy: Consider a restaurant menu. It lists and describes dishes. When you place an order, the kitchen (akin to a web server) prepares and serves the dish. Here, the menu symbolizes the API; your order is the request, and the dish is the response. You could describe in detail how to prepare the dish, but the menu abstracts from this complexity, enabling you to order with ease.\n",
    "\n",
    "### **Key Features & Functionalities**:\n",
    "\n",
    "- **HTTP Methods**: `requests` allows you to perform many actions usng HTTP: GET, POST, PUT, DELETE, and more.\n",
    "\n",
    "- **Parameters**: You can add parameters to your url via the `params` keyword.\n",
    "\n",
    "- **Response Handling**: After the request, you can extract the server's response in whatever format works for you (text, JSON, or bytes).\n",
    "\n",
    "- **Cookies**:\n",
    "  - You can seamlessly send/receive cookies during requests.\n",
    "  - Note: A cookie is a small data file that the website writes into your system. On subsequent website visits, this data is retrieved, assisting the site in recollecting prior user activity.\n",
    "\n",
    "- **Sessions**:\n",
    "  - When communicating with a consistent host, you can create a Session.\n",
    "  - Note: A session is an ephemeral, bidirectional data exchange. A session starts when accessing a website and ends upon exit or browser closure. Sessions retain user data across pages, exemplified when logged into a site.\n",
    "\n",
    "- **Headers**:\n",
    "  - Adding headers to your request is crucial for emulating browsers, managing authentication, or working with metadata.\n",
    "  - Note: data transit on the internet fragments it into packets. Each packet has data and accompanying metadata, as well as headers. In the HTTP protocol, headers create information about the request/response, and the payload.\n",
    "\n",
    "- **Redirections, Timeouts, and Exceptions**:\n",
    "  - `requests` has tools to maneuver redirections and flag exceptions for scenarios like timeouts or excessive redirects.\n",
    "  - Note: internet communication can be fickle – coding should account for this!"
   ]
  },
  {
   "cell_type": "markdown",
   "metadata": {},
   "source": [
    "## Handling Errors with `try-except`\n",
    "\n",
    " `try-except` allows you to handle errors.\n",
    "\n",
    "**Workflow**:\n",
    "- Start with a `try` block that contains the code that may raise an error.\n",
    "- If the code throws no error, nothing happens\n",
    "- If the code throws an error, subsequent commands within the same block are not executed. Instead, Python moves to the `except` block, and runs the code it contains."
   ]
  },
  {
   "cell_type": "code",
   "execution_count": null,
   "metadata": {},
   "outputs": [],
   "source": [
    "import requests\n",
    "import time\n",
    "\n",
    "url        = \"https://www.apostolos-filippas.com\"\n",
    "my_headers = { 'User-Agent':'Mozilla/5.0 (Windows NT 6.1) AppleWebKit/537.36 (KHTML, like Gecko) Chrome/41.0.2228.0 Safari/537.36'}\n",
    "\n",
    "success=False\n",
    "    \n",
    "# try 5 times\n",
    "for i in range(1,6):\n",
    "    try:           \n",
    "        #use the browser to access the url  \n",
    "        response=requests.get(url,headers = my_headers)              \n",
    "        # if an error does not occur, set success \n",
    "        success=True \n",
    "        # we got the file, break the loop\n",
    "        break        \n",
    "    except:\n",
    "        # if we got an exception, the attempt to get the response failed\n",
    "        print (f'failed attempt {i}')\n",
    "        # wait for 2 seconds before you go to the next iteration of the loop\n",
    "        time.sleep(2)\n",
    "        \n",
    "if success==True:\n",
    "    print( 'Successfully retrieved the webpage!')\n",
    "else:\n",
    "    print( 'Did not manage to retrieve the webpage')"
   ]
  },
  {
   "cell_type": "markdown",
   "metadata": {},
   "source": [
    "Try fetching a URL that's likely non-existent, such as \"http://www.apostolos-filippas-sucks.com/\". "
   ]
  },
  {
   "cell_type": "markdown",
   "metadata": {},
   "source": [
    "## More on `requests`:\n",
    "\n",
    "### Status Validation:\n",
    "- To ensure that you grabbed the website content, validate the response. \n",
    "- A `200 OK` indicates a successful fetch."
   ]
  },
  {
   "cell_type": "code",
   "execution_count": null,
   "metadata": {},
   "outputs": [],
   "source": [
    "print(response.status_code)"
   ]
  },
  {
   "cell_type": "markdown",
   "metadata": {},
   "source": [
    "### Look into the HTTP Headers:\n",
    "- They contain interesting details about who you're communicating with"
   ]
  },
  {
   "cell_type": "code",
   "execution_count": null,
   "metadata": {},
   "outputs": [],
   "source": [
    "max_key_len = max(len(key) for key in response.headers)\n",
    "\n",
    "# Then, format with alignment\n",
    "for key, value in response.headers.items():\n",
    "    print(f\"{key:<{max_key_len}} : {value}\")"
   ]
  },
  {
   "cell_type": "markdown",
   "metadata": {},
   "source": [
    "To do what the server returned, simply use the text attribute of the response object."
   ]
  },
  {
   "cell_type": "code",
   "execution_count": null,
   "metadata": {},
   "outputs": [],
   "source": [
    "html_content = response.text\n",
    "print(html_content)"
   ]
  },
  {
   "cell_type": "markdown",
   "metadata": {},
   "source": [
    "The data we grabbed is the same content that is accessible when you visit the website. To see,\n",
    "1. Navigate to a website.\n",
    "2. Right-click on the page.\n",
    "3. Opt for the \"View page source\" option from the context menu.\n"
   ]
  },
  {
   "cell_type": "markdown",
   "metadata": {},
   "source": [
    "## Question\n",
    "The returned content is a string. How can we parse it to extract the information we want? Specifically, how can we extract the paper titles?"
   ]
  },
  {
   "cell_type": "markdown",
   "metadata": {},
   "source": [
    "---\n",
    "# 🔍 2 Parsing Content\n",
    "\n",
    "After you retrieve the URL, the next step is to extract the content you want.\n",
    "\n",
    "## Regular Expressions\n",
    "\n",
    "**Regular Expressions** (REs, regexes, or regex patterns), are a compact, specialized programming language integrated into Python, accessible via the `re` module.\n",
    "-  REs are used to identify and extract specific patterns from strings. \n",
    "-  You need to define the matching criteria — for example, all strings that have the email address format\n",
    "\n",
    "**Example**:\n",
    "To find all patterns like:\n",
    "- `papers/bigcounter.pdf\">Strength in numbers: Using big data to simplify sentiment classification<`\n",
    "- `papers/sharing.pdf\">Owning, using and renting: Some simple economics of the \"sharing economy\"<`\n",
    "...and similar, you can use regular expressions.\n",
    "\n",
    "\n",
    "**Key Regex Symbols**:\n",
    "- `.`: Matches any character.\n",
    "- `.*`: Matches any string (of zero or greater length).\n",
    "- `.+`: Matches any string (of one or greater length).\n",
    "- `()`: Specifies which segment of the pattern to return."
   ]
  },
  {
   "cell_type": "markdown",
   "metadata": {},
   "source": [
    "## Grabbing the titles of the papers\n",
    "\n",
    "Try to find what is common in the html where the titles of the papers lie. \n",
    "Then, use regular expressions to extract the titles."
   ]
  },
  {
   "cell_type": "code",
   "execution_count": null,
   "metadata": {},
   "outputs": [],
   "source": [
    "import re\n",
    "papers = re.findall('papers/.+>(.+)<' ,html_content)\n",
    "print(papers)\n"
   ]
  },
  {
   "cell_type": "markdown",
   "metadata": {},
   "source": [
    "# <font color='red'>3. Challenge </font>\n",
    "\n",
    "Parse the courses that I have taught, and return a set containg their titles\n"
   ]
  },
  {
   "cell_type": "code",
   "execution_count": null,
   "metadata": {},
   "outputs": [],
   "source": []
  },
  {
   "cell_type": "code",
   "execution_count": null,
   "metadata": {},
   "outputs": [],
   "source": []
  },
  {
   "cell_type": "markdown",
   "metadata": {},
   "source": [
    "<div align=\"center\">\n",
    "    <img src=\"https://github.com/apostolosfilippas/wa/blob/main/assets/normal_regex.jpg?raw=true\" width=\"600\">\n",
    "    <br><br>\n",
    "</div>"
   ]
  }
 ],
 "metadata": {
  "colab": {
   "collapsed_sections": [],
   "name": "04.1 Scraping AFs papers (mid-class).ipynb",
   "provenance": []
  },
  "kernelspec": {
   "display_name": ".venv",
   "language": "python",
   "name": "python3"
  },
  "language_info": {
   "codemirror_mode": {
    "name": "ipython",
    "version": 3
   },
   "file_extension": ".py",
   "mimetype": "text/x-python",
   "name": "python",
   "nbconvert_exporter": "python",
   "pygments_lexer": "ipython3",
   "version": "3.12.3"
  }
 },
 "nbformat": 4,
 "nbformat_minor": 1
}
