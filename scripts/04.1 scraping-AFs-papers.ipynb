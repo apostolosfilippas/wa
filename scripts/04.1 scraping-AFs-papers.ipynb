{
 "cells": [
  {
   "cell_type": "markdown",
   "metadata": {
    "id": "pSZ90VdEByN4"
   },
   "source": [
    "---\n",
    "\n",
    "### 🎓 **Professor**: Apostolos Filippas\n",
    "\n",
    "### 📘 **Class**: Web Analytics\n",
    "\n",
    "### 📋 **Topic**: Getting and parsing web content \n",
    "\n",
    "🚫 **Note**: You are not allowed to share the contents of this notebook with anyone outside this class without written permission by the professor.\n",
    "\n",
    "---\n",
    "\n",
    "# 🌐 1. Getting Content from the Web\n",
    "\n",
    "Our goal today is to extract all available research papers from the professor's website!\n",
    "\n",
    "## The `HTTP` Protocol\n",
    "\n",
    "When we want to grab data from a website, we need to ask the website's server for that data. The HTTP, or HyperText Transfer Protocol, is like a set of rules that determines how we talk to these servers and how they talk back to us. Here's a breakdown of some of the main ways (methods) we can communicate using HTTP:\n",
    "\n",
    "- **`GET`**: This is like saying, \"Hey server, can you show me this?\" It's used to ask the server to show us specific data. For instance, when you type a website address into your browser, you're actually sending a GET request to view that website.\n",
    "  \n",
    "- **`POST`**: Think of this as telling the server, \"Hey, I have some info for you.\" This is used when you fill out a form on a website, like when you sign up for a new social media account. You're sending your details (username, password, etc.) to the server.\n",
    "  \n",
    "- **`PUT`**: This method is like updating or editing something that's already on the server. For example, imagine you're changing your profile picture on a website. You'd use a PUT request to replace the old picture with the new one.\n",
    "  \n",
    "- **`DELETE`**: Simply put, this is asking the server to get rid of something. If you were to delete a post or a photo from a website, you'd be sending a DELETE request.\n"
   ]
  },
  {
   "cell_type": "markdown",
   "metadata": {},
   "source": [
    "## The `requests` Module\n",
    "While HTTP is great, writing raw HTTP can be tedious. The `requests` module streamlines this process: \n",
    "- it offers a much simpler interface that abstracts away from the complexities of creating HTTP requests\n",
    "- it offers a much simpler way to send data, or interpret data returned by a server\n",
    "\n",
    "### Note: APIs\n",
    "Interfaces, such as the `requests`, are commonly called `APIs` (Application Programming Interfaces). \n",
    "- An API is a protocol enabling distinct software entities to converse. \n",
    "- In the requests example, the module offers an API that abstracts from the details of you getting what you want\n",
    "- Analogy: Consider a restaurant menu. It lists and describes dishes. When you place an order, the kitchen (akin to a web server) prepares and serves the dish. Here, the menu symbolizes the API; your order is the request, and the dish is the response. You could describe in detail how to prepare the dish, but the menu abstracts from this complexity, enabling you to order with ease.\n",
    "\n",
    "### **Key Features & Functionalities**:\n",
    "\n",
    "- **HTTP Methods**: `requests` allows you to perform many actions usng HTTP: GET, POST, PUT, DELETE, and more.\n",
    "\n",
    "- **Parameters**: You can add parameters to your url via the `params` keyword.\n",
    "\n",
    "- **Response Handling**: After the request, you can extract the server's response in whatever format works for you (text, JSON, or bytes).\n",
    "\n",
    "- **Cookies**:\n",
    "  - You can seamlessly send/receive cookies during requests.\n",
    "  - Note: A cookie is a small data file that the website writes into your system. On subsequent website visits, this data is retrieved, assisting the site in recollecting prior user activity.\n",
    "\n",
    "- **Sessions**:\n",
    "  - When communicating with a consistent host, you can create a Session.\n",
    "  - Note: A session is an ephemeral, bidirectional data exchange. A session starts when accessing a website and ends upon exit or browser closure. Sessions retain user data across pages, exemplified when logged into a site.\n",
    "\n",
    "- **Headers**:\n",
    "  - Adding headers to your request is crucial for emulating browsers, managing authentication, or working with metadata.\n",
    "  - Note: data transit on the internet fragments it into packets. Each packet has data and accompanying metadata, as well as headers. In the HTTP protocol, headers create information about the request/response, and the payload.\n",
    "\n",
    "- **Redirections, Timeouts, and Exceptions**:\n",
    "  - `requests` has tools to maneuver redirections and flag exceptions for scenarios like timeouts or excessive redirects.\n",
    "  - Note: internet communication can be fickle – coding should account for this!"
   ]
  },
  {
   "cell_type": "markdown",
   "metadata": {},
   "source": [
    "## Handling Errors with `try-except`\n",
    "\n",
    " `try-except` allows you to handle errors.\n",
    "\n",
    "**Workflow**:\n",
    "- Start with a `try` block that contains the code that may raise an error.\n",
    "- If the code throws no error, nothing happens\n",
    "- If the code throws an error, subsequent commands within the same block are not executed. Instead, Python moves to the `except` block, and runs the code it contains."
   ]
  },
  {
   "cell_type": "code",
   "execution_count": null,
   "metadata": {
    "id": "5zwwKxvzByN8",
    "outputId": "ed7e0358-c4ed-4b86-b2e1-902ff5ade4cc"
   },
   "outputs": [],
   "source": [
    "import requests\n",
    "import time\n",
    "\n",
    "url        = \"https://www.apostolos-filippas.com\"\n",
    "my_headers = { 'User-Agent':'Mozilla/5.0 (Windows NT 6.1) AppleWebKit/537.36 (KHTML, like Gecko) Chrome/41.0.2228.0 Safari/537.36'}\n",
    "\n",
    "success=False\n",
    "    \n",
    "# try 5 times\n",
    "for i in range(1,6):\n",
    "    try:           \n",
    "        #use the browser to access the url  \n",
    "        response=requests.get(url,headers = my_headers)              \n",
    "        # if an error does not occur, set success \n",
    "        success=True \n",
    "        # we got the file, break the loop\n",
    "        break        \n",
    "    except:\n",
    "        # if we got an exception, the attempt to get the response failed\n",
    "        print (f'failed attempt {i}')\n",
    "        # wait for 2 seconds before you go to the next iteration of the loop\n",
    "        time.sleep(2)\n",
    "        \n",
    "if success==True:\n",
    "    print( 'Successfully retrieved the webpage!')\n",
    "else:\n",
    "    print( 'Did not manage to retrieve the webpage')"
   ]
  },
  {
   "cell_type": "markdown",
   "metadata": {
    "id": "uN9bl5wvByN9"
   },
   "source": [
    "Try fetching a URL that's likely non-existent, such as \"http://www.apostolos-filippas-sucks.com/\". "
   ]
  },
  {
   "cell_type": "markdown",
   "metadata": {},
   "source": [
    "## More on `requests`:\n",
    "\n",
    "### Status Validation:\n",
    "- To ensure that you grabbed the website content, validate the response. \n",
    "- A `200 OK` indicates a successful fetch."
   ]
  },
  {
   "cell_type": "code",
   "execution_count": null,
   "metadata": {},
   "outputs": [],
   "source": [
    "print(response.status_code)"
   ]
  },
  {
   "cell_type": "markdown",
   "metadata": {},
   "source": [
    "### Look into the HTTP Headers:\n",
    "- They contain interesting details about who you're communicating with"
   ]
  },
  {
   "cell_type": "code",
   "execution_count": null,
   "metadata": {
    "id": "LumpDYQwByN-",
    "outputId": "2ef55e3f-ff67-4382-8257-55f4194f202b"
   },
   "outputs": [],
   "source": [
    "for key, value in response.headers.items():\n",
    "    print(f\"{key}, : , {value}\")"
   ]
  },
  {
   "cell_type": "markdown",
   "metadata": {
    "id": "OGwB16AsByN_"
   },
   "source": [
    "To do what the server returned, simply use the text attribute of the response object."
   ]
  },
  {
   "cell_type": "code",
   "execution_count": null,
   "metadata": {
    "id": "joukr5VaByN_",
    "outputId": "ef187351-8312-4370-cfaa-7ebe507168da"
   },
   "outputs": [],
   "source": [
    "html_content = response.text\n",
    "print(html_content)"
   ]
  },
  {
   "cell_type": "markdown",
   "metadata": {},
   "source": [
    "The data we grabbed is the same content that is accessible when you visit the website. To see,\n",
    "1. Navigate to a website.\n",
    "2. Right-click on the page.\n",
    "3. Opt for the \"View page source\" option from the context menu.\n"
   ]
  },
  {
   "cell_type": "markdown",
   "metadata": {},
   "source": [
    "## Question\n",
    "The returned content is a string. How can we parse it to extract the information we want? Specifically, how can we extract the paper titles?"
   ]
  },
  {
   "cell_type": "markdown",
   "metadata": {
    "id": "ILKE2eLsByOA"
   },
   "source": [
    "---\n",
    "# 🔍 2 Parsing Content\n",
    "\n",
    "After you retrieve the URL, the next step is to extract the content you want.\n",
    "\n",
    "## Regular Expressions\n",
    "\n",
    "**Regular Expressions** (REs, regexes, or regex patterns), are a compact, specialized programming language integrated into Python, accessible via the `re` module.\n",
    "-  REs are used to identify and extract specific patterns from strings. \n",
    "-  You need to define the matching criteria — for example, all strings that have the email address format\n",
    "\n",
    "**Example**:\n",
    "To find all patterns like:\n",
    "- `papers/bigcounter.pdf\">Strength in numbers: Using big data to simplify sentiment classification<`\n",
    "- `papers/sharing.pdf\">Owning, using and renting: Some simple economics of the \"sharing economy\"<`\n",
    "...and similar, you can use regular expressions.\n",
    "\n",
    "\n",
    "**Key Regex Symbols**:\n",
    "- `.`: Matches any character.\n",
    "- `.*`: Matches any string (of zero or greater length).\n",
    "- `.+`: Matches any string (of one or greater length).\n",
    "- `()`: Specifies which segment of the pattern to return."
   ]
  },
  {
   "cell_type": "markdown",
   "metadata": {},
   "source": [
    "## Grabbing the titles of the papers\n",
    "\n",
    "Try to find what is common in the html where the titles of the papers lie. \n",
    "Then, use regular expressions to extract the titles."
   ]
  },
  {
   "cell_type": "code",
   "execution_count": null,
   "metadata": {
    "id": "FVu4gkkMByOB",
    "outputId": "29147a22-005a-40b2-d7e7-133677cae451"
   },
   "outputs": [],
   "source": [
    "import re\n",
    "papers = re.findall('papers/.+>(.+)<' ,html_content)\n",
    "print(papers)\n"
   ]
  },
  {
   "cell_type": "markdown",
   "metadata": {
    "id": "W_9ndTN2ByOB"
   },
   "source": [
    "# <font color='red'>3. Challenge </font>\n",
    "\n",
    "Parse the courses that I have taught, and return a set containg their titles\n"
   ]
  },
  {
   "cell_type": "code",
   "execution_count": null,
   "metadata": {
    "id": "RGqcBHHsByOC",
    "outputId": "987f8e8c-c0ef-4d96-a9c0-01cc46047610"
   },
   "outputs": [],
   "source": [
    "set(re.findall('--- (.+),', html_content))"
   ]
  },
  {
   "cell_type": "markdown",
   "metadata": {},
   "source": [
    "<div align=\"center\">\n",
    "    <img src=\"http://drive.google.com/uc?export=view&id=1uZFpCNA8LVeB3zdcPNqAmUTvBENGvhjz\" width=\"600\">\n",
    "    <br><br>\n",
    "</div>"
   ]
  },
  {
   "cell_type": "markdown",
   "metadata": {},
   "source": [
    "# 🌍 4. How the Internet Works\n",
    "\n",
    "The internet is a global network of interconnected computers. When you visit a website or send an email, your computer communicates with another computer somewhere in the world. This communication is facilitated by a set of rules and conventions called protocols.\n",
    "\n",
    "## HTTP (HyperText Transfer Protocol) \n",
    "\n",
    "HTTP is the most widely used protocol for transferring data on the web. It was designed for communication between web browsers and web servers, but it can also be used for other purposes.\n",
    "\n",
    "### Basics of HTTP:\n",
    "\n",
    "- **Client-Server Model**: HTTP operates on a client-server model. The client (usually a web browser) sends a request to a server, which then processes the request and sends back a response.\n",
    "  \n",
    "- **Statelessness**: Each HTTP request from a client to a server is treated as a new request. The server does not retain any information about the client between requests. This is where cookies come into play, allowing servers to recognize clients and maintain user sessions.\n",
    "  \n",
    "- **HTTP Messages**: Communication over HTTP involves exchanging messages. There are two types of HTTP messages: requests (sent by the client) and responses (sent by the server).\n",
    "\n",
    "  - **Request**: Contains a method (like GET or POST), a URL, headers (metadata about the request), and sometimes a body (data to be processed by the server).\n",
    "  \n",
    "  - **Response**: Contains a status code (indicating the result of the request), headers (metadata about the response), and a body (the data being returned).\n",
    "  \n",
    "- **Status Codes**: When a server sends a response, it includes a status code to indicate the outcome of the request. Examples include:\n",
    "  \n",
    "  - `200 OK`: The request was successful.\n",
    "  \n",
    "  - `404 Not Found`: The requested resource could not be found on the server.\n",
    "  \n",
    "  - `500 Internal Server Error`: The server encountered an unexpected condition.\n",
    "\n",
    "### 🔒 Secure HTTP (HTTPS)\n",
    "\n",
    "This is an extension of HTTP, where data is encrypted using protocols like SSL or TLS. It adds a layer of security, ensuring data integrity and confidentiality.\n",
    "\n",
    "### How a Typical HTTP Transaction Works:\n",
    "\n",
    "1. **Open a Connection**: The client opens a connection to the server. This involves resolving the domain name to an IP address and establishing a connection to that IP on a specific port (typically port 80 for HTTP and 443 for HTTPS).\n",
    "  \n",
    "2. **Send a Request**: The client sends an HTTP request to the server. This request contains the desired action (like GET to fetch a page or POST to submit data).\n",
    "  \n",
    "3. **Wait**: The client waits for the server to process the request.\n",
    "  \n",
    "4. **Receive a Response**: The server processes the request and sends back an HTTP response. This response contains a status code, headers, and the requested data or an error message.\n",
    "  \n",
    "5. **Close the Connection**: After the response is received, the connection is closed.\n"
   ]
  },
  {
   "cell_type": "markdown",
   "metadata": {},
   "source": [
    "## 📩 HTTP Request:\n",
    "\n",
    "- **🔖 Method**: The action the client wants the server to perform (e.g., GET, POST).\n",
    "\n",
    "- **🔗 URL**: Specifies the resource's location.\n",
    "\n",
    "- **📋 Headers**: \n",
    "  - **User-Agent**: Information about the client software.\n",
    "  - **Accept**: Types of data the client can process.\n",
    "  - **Cookie**: Previously stored key-value pairs.\n",
    "\n",
    "- **📄 Body**: Contains data sent to the server (common with POST requests).\n",
    "\n",
    "## 📤 HTTP Response:\n",
    "\n",
    "- **🔖 Status Line**: Contains the HTTP version, a status code, and a status message.\n",
    "\n",
    "- **📋 Headers**: \n",
    "  - **Server**: Software used by the origin server.\n",
    "  - **Last-Modified**: Date and time the resource was last modified.\n",
    "  - **Content-Type**: The type of data in the body.\n",
    "\n",
    "- **📄 Body**: The data payload returned from the server.\n"
   ]
  },
  {
   "cell_type": "markdown",
   "metadata": {},
   "source": [
    "## 🕸️ Why Understanding HTTP Matters for Web Scraping:\n",
    "\n",
    "  When web scraping, you're effectively automating the act of sending requests to a server and interpreting the responses. Grasping HTTP's subtleties aids in refining your requests, managing varying response types, and diagnosing any challenges that emerge during the scraping process.\n",
    "\n",
    "**Key Concepts**:\n",
    "- **HTTP Methods**: Knowing whether you ought to \"get\" data from a site or \"post\" data to it.\n",
    "  \n",
    "- **Headers**: Useful for circumventing access barriers or obtaining data in a preferred format.\n",
    "\n",
    "- **Status Codes**: Indicate your request's outcome. For example:\n",
    "  - `404`: The page wasn't located.\n",
    "  - `200`: The request was fulfilled successfully.\n"
   ]
  }
 ],
 "metadata": {
  "colab": {
   "name": "04.1 Scraping AFs papers.ipynb",
   "provenance": []
  },
  "kernelspec": {
   "display_name": "Python 3 (ipykernel)",
   "language": "python",
   "name": "python3"
  },
  "language_info": {
   "codemirror_mode": {
    "name": "ipython",
    "version": 3
   },
   "file_extension": ".py",
   "mimetype": "text/x-python",
   "name": "python",
   "nbconvert_exporter": "python",
   "pygments_lexer": "ipython3",
   "version": "3.10.4"
  }
 },
 "nbformat": 4,
 "nbformat_minor": 1
}
