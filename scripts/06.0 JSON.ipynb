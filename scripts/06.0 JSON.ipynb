{
 "cells": [
  {
   "cell_type": "markdown",
   "metadata": {},
   "source": [
    "---\n",
    "\n",
    "### 🎓 **Professor**: Apostolos Filippas\n",
    "\n",
    "### 📘 **Class**: Web Analytics\n",
    "\n",
    "### 📋 **Topic**: JSON\n",
    "\n",
    "🚫 **Note**: You are not allowed to share the contents of this notebook with anyone outside this class without written permission by the professor.\n",
    "\n",
    "---\n"
   ]
  },
  {
   "cell_type": "markdown",
   "metadata": {},
   "source": [
    "# 🚪 1. Introduction\n",
    "\n",
    "JSON (JavaScript Object Notation), is a lightweight data-interchange format. While it originates from JavaScript, JSON is a format and not a language.\n",
    "- **Interpretabe**: It is kind of easy for humans to read and write, and it's also easy for machines to parse and generate.\n",
    "- **Standardized**: JSON is widely adopted across many platforms.\n",
    "- **Lightweight**: This makes JSON good for sending and receiving data.\n",
    "- **Structured**: JSON uses key-value pairs, similar to Python dictionaries.\n"
   ]
  },
  {
   "cell_type": "markdown",
   "metadata": {},
   "source": [
    "## JSON Syntax Rules\n",
    "- Data is in name/value pairs (like Python dictionaries).\n",
    "- Data is separated by commas.\n",
    "- Curly braces {} hold objects (key-value pairs).\n",
    "- Square brackets [] hold arrays (lists).\n",
    "\n",
    "## JSON Data Types\n",
    "JSON can represent the following data types:\n",
    "- String\n",
    "- Number\n",
    "- Object (JSON object)\n",
    "- Array\n",
    "- Boolean (true or false)\n",
    "- null"
   ]
  },
  {
   "cell_type": "markdown",
   "metadata": {},
   "source": [
    "# 2. JSON in Python\n",
    "Python has a built-in module called json which can be used to work with JSON data.\n",
    "\n",
    "Let's start by parsing some JSON data.\n",
    "\n",
    "## From JSON-encoded string to a python object: `loads()` \n",
    "\n",
    "- `json.loads()` method can be used to parse a JSON string into a Python object.\n",
    "- What Python object your string will get interpreted to on the root structure of the JSON content. It can result in a dictionary, list, string, integer, float, boolean, or None based on the top-level structure of the JSON string.\n",
    "\n",
    "Here are two examples:"
   ]
  },
  {
   "cell_type": "code",
   "execution_count": null,
   "metadata": {},
   "outputs": [],
   "source": [
    "import json\n",
    "\n",
    "# some JSON data:\n",
    "json_data = '{\"name\": \"John\", \"age\": 30, \"city\": \"New York\"}'\n",
    "\n",
    "# parse JSON:\n",
    "python_data = json.loads(json_data)\n",
    "\n",
    "# the result is a Python dictionary:\n",
    "print(f\"The type of the `python_data` object is {type(python_data)}\")  \n",
    "print(python_data)  # Outputs: John\n",
    "\n",
    "# access the data:\n",
    "print(f\"The name is {python_data['name']}\")\n"
   ]
  },
  {
   "cell_type": "code",
   "execution_count": null,
   "metadata": {},
   "outputs": [],
   "source": [
    "import json\n",
    "\n",
    "# some JSON data:\n",
    "json_data = '[\"Chicago\",\"New York\",\"Los Angeles\"]'\n",
    "\n",
    "# parse JSON:\n",
    "python_data = json.loads(json_data)\n",
    "\n",
    "# the result is a Python dictionary:\n",
    "print(f\"The type of the `python_data` object is {python_data.__class__.__name__}.\")  \n",
    "print(python_data)  # Outputs: John\n",
    "\n",
    "# access the data:\n",
    "print(f\"The first city in the list is {python_data[0]}\")\n"
   ]
  },
  {
   "cell_type": "markdown",
   "metadata": {},
   "source": [
    "## From python object to JSON string: `dumps()`\n",
    "\n",
    "The reverse of `loads()` is `dumps()`. It takes a Python object and returns a string representation of it.\n",
    "\n",
    "Here are two examples:"
   ]
  },
  {
   "cell_type": "code",
   "execution_count": null,
   "metadata": {},
   "outputs": [],
   "source": [
    "# EXAMPLE 1\n",
    "\n",
    "# a Python dictionary:\n",
    "python_data = {\n",
    "  \"name\": \"John\",\n",
    "  \"age\": 30,\n",
    "  \"city\": \"New York\",\n",
    "  \"married\": True,\n",
    "  \"children\": None\n",
    "}\n",
    "\n",
    "# convert into JSON:\n",
    "json_data = json.dumps(python_data)\n",
    "\n",
    "# \n",
    "print(f\"The type of the `json_data` object is {type(json_data)}\")\n",
    "print(f\"The value of the `json_data` object is {json_data}\")"
   ]
  },
  {
   "cell_type": "code",
   "execution_count": null,
   "metadata": {},
   "outputs": [],
   "source": [
    "#EXAMPLE 2\n",
    "\n",
    "# a Python list:\n",
    "python_data = [\n",
    "    {\"name\": \"John\", \"age\": 30, \"city\": \"New York\", \"married\": True, \"children\": None},\n",
    "    {\"name\": \"Peter\", \"age\": 45, \"city\": \"Chicago\", \"married\": False, \"children\": (\"Ann\",\"Betty\")},\n",
    "]\n",
    "\n",
    "# convert into JSON:\n",
    "json_data = json.dumps(python_data)\n",
    "\n",
    "# \n",
    "print(f\"The type of the `json_data` object is {type(json_data)}\")\n",
    "print(f\"The value of the `json_data` object is {json_data}\")"
   ]
  },
  {
   "cell_type": "markdown",
   "metadata": {},
   "source": [
    "## Python - Jason data type mapping\n",
    "\n",
    "Note that \n",
    "- \"married\", which is \"True\" or \"False\" in Python, gets translated to a lowercase true or false in the JSON string. \n",
    "- \"children\" is None in the dictionary of the first example, but in the JSON data, it is represented by \"null\".\n",
    "- \"children\" is a tuple in the dictionary of the second example, but in the JSON data, it is represented by an array. JSON does not have a tuple data type.\n",
    "\n",
    "|  Python  |  JSON   |\n",
    "|:--------:|:-------:|\n",
    "|  `dict`  | Object  |\n",
    "|  `list`  | Array   |\n",
    "|  `tuple` | Array   |\n",
    "|  `str`   | String  |\n",
    "|  `int`   | Number  |\n",
    "|  `float` | Number  |\n",
    "|  `True`  | `true`  |\n",
    "|  `False` | `false` |\n",
    "|  `None`  | `null`  |\n"
   ]
  },
  {
   "cell_type": "markdown",
   "metadata": {},
   "source": [
    "## Writing and reading to files\n",
    "\n",
    "We can also write and read JSON data to/from files.\n",
    "To do so, you can first use `dumps()` to convert a Python object to a JSON string, and then use `write()` to write to a file as a string. Similarly, you can use `read()` to read a JSON string from a file, and then use `loads()` to convert it to a Python object.\n",
    "\n",
    "However, you can also use `dump()` and `load()` to write and read JSON data to/from files directly.\n",
    "Here's an exmaple:"
   ]
  },
  {
   "cell_type": "code",
   "execution_count": null,
   "metadata": {},
   "outputs": [],
   "source": [
    "person = {\n",
    "  \"name\": \"Bob\",\n",
    "  \"age\": 25,\n",
    "  \"city\": \"Funtown\"\n",
    "}\n",
    "\n",
    "with open('files/example.json', 'w') as file:\n",
    "    json.dump(person, file)\n",
    "    "
   ]
  },
  {
   "cell_type": "code",
   "execution_count": null,
   "metadata": {},
   "outputs": [],
   "source": [
    "# you can make the output more readable by using the indent argument\n",
    "# the following will format the JSON output with an indentation of 4 spaces for each level\n",
    "with open('files/example.json', 'w') as file:\n",
    "    json.dump(person, file, indent=4)"
   ]
  },
  {
   "cell_type": "markdown",
   "metadata": {},
   "source": [
    "# 3. More on JSON with Python\n",
    "\n",
    "## Handling errors\n",
    "JSON, being a text-based format, can sometimes contain errors, either due to human editing or other factors. Python’s json module will raise exceptions when encountering improperly formatted JSON.\n",
    "\n",
    "A common exception is  `json.JSONDecodeError` \n",
    "- This exception is raised when there's an error decoding a JSON document. \n",
    "- It's the most common error you'll encounter when parsing JSON in Python.\n",
    "\n",
    "To gracefully handle errors, use the `try` and `except` blocks."
   ]
  },
  {
   "cell_type": "code",
   "execution_count": null,
   "metadata": {},
   "outputs": [],
   "source": [
    "malformed_json = \"{ 'name': 'Alice' }\"  # Single quotes are not valid in JSON\n",
    "\n",
    "try:\n",
    "    data = json.loads(malformed_json)\n",
    "except json.JSONDecodeError:\n",
    "    print(\"Failed to decode JSON\")\n",
    "    data = {}\n"
   ]
  },
  {
   "cell_type": "markdown",
   "metadata": {},
   "source": [
    "Tips for Debugging:\n",
    "- Ensure that the JSON strings use double quotes for keys and string values.\n",
    "- Validate the JSON using online tools to pinpoint errors."
   ]
  },
  {
   "cell_type": "markdown",
   "metadata": {},
   "source": [
    "## Complex JSON structures\n",
    "\n",
    "JSON objects and arrays can be nested, leading to more complex structures. These structures often mirror real-world data more closely.\n",
    "\n",
    "### Accessing nested data\n",
    "To access data within nested JSON, you'll chain keys (for dictionaries) or indices (for lists)."
   ]
  },
  {
   "cell_type": "code",
   "execution_count": null,
   "metadata": {},
   "outputs": [],
   "source": [
    "json_string = \"\"\"{\n",
    "    \"name\": \"Alice\",\n",
    "    \"address\": {\n",
    "        \"street\": \"123 Wonderland St\",\n",
    "        \"city\": \"Wonderland\",\n",
    "        \"contacts\": [\"1234567890\", \"9876543210\"]\n",
    "    }\n",
    "}\n",
    "\"\"\"\n",
    "\n",
    "data = json.loads(json_string)\n",
    "\n",
    "# Accessing nested dictionary\n",
    "street = data[\"address\"][\"street\"]  # Outputs: \"123 Wonderland St\"\n",
    "print(f\"The street is {street}\")\n",
    "\n",
    "# Accessing item in a nested list\n",
    "first_contact = data[\"address\"][\"contacts\"][0]  # Outputs: \"1234567890\"\n",
    "print(f\"The first contact is {first_contact}\")"
   ]
  },
  {
   "cell_type": "markdown",
   "metadata": {},
   "source": [
    "### Iterating Through Nested Data:\n",
    "\n",
    "For nested arrays or lists, you can use loops to iterate through the data."
   ]
  },
  {
   "cell_type": "code",
   "execution_count": null,
   "metadata": {},
   "outputs": [],
   "source": [
    "for contact in data[\"address\"][\"contacts\"]:\n",
    "    print(contact)\n"
   ]
  },
  {
   "cell_type": "markdown",
   "metadata": {},
   "source": [
    "### Handling Unexpected Structures\n",
    "Sometimes, the structure of the JSON data might not be what you expect. It's a good practice to check the type of a structure before accessing it."
   ]
  },
  {
   "cell_type": "code",
   "execution_count": null,
   "metadata": {},
   "outputs": [],
   "source": [
    "if isinstance(data[\"address\"], dict):\n",
    "    city = data[\"address\"].get(\"city\", \"Unknown City\")\n",
    "else:\n",
    "    city = \"Unknown City\"\n",
    "\n",
    "print(f\"The city is {city}\")\n"
   ]
  }
 ],
 "metadata": {
  "kernelspec": {
   "display_name": "Python 3",
   "language": "python",
   "name": "python3"
  },
  "language_info": {
   "codemirror_mode": {
    "name": "ipython",
    "version": 3
   },
   "file_extension": ".py",
   "mimetype": "text/x-python",
   "name": "python",
   "nbconvert_exporter": "python",
   "pygments_lexer": "ipython3",
   "version": "3.10.4"
  }
 },
 "nbformat": 4,
 "nbformat_minor": 2
}
