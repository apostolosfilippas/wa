{
 "cells": [
  {
   "cell_type": "markdown",
   "id": "0",
   "metadata": {
    "id": "01ec88ef"
   },
   "source": [
    "---\n",
    "\n",
    "### 🎓 **Professor**: Apostolos Filippas\n",
    "\n",
    "### 📘 **Class**: Web Analytics\n",
    "\n",
    "### 📋 **Topic**: \n",
    "\n",
    "🚫 **Note**: You are not allowed to share the contents of this notebook with anyone outside this class without written permission by the professor.\n",
    "\n",
    "---\n",
    "\n",
    "\n",
    "# <font color='red'>1. Logging in a website</font>\n",
    "\n",
    "The following code will allow you to log in a website with selenium, and then log out!"
   ]
  },
  {
   "cell_type": "code",
   "execution_count": null,
   "id": "1",
   "metadata": {
    "id": "8332bfe9"
   },
   "outputs": [],
   "source": [
    "# 1. import useful libraries\n",
    "import time\n",
    "from selenium import webdriver\n",
    "from selenium.webdriver.common.by import By"
   ]
  },
  {
   "cell_type": "code",
   "execution_count": null,
   "id": "2",
   "metadata": {
    "id": "46a858fa"
   },
   "outputs": [],
   "source": [
    "# 2.1 Open an instance of the Chrome browser\n",
    "browser = webdriver.Chrome()\n",
    "\n",
    "# 2.3 visit the website\n",
    "browser.get(\"https://opensource-demo.orangehrmlive.com/\")\n",
    "time.sleep(5)\n",
    "\n",
    "# 3.1 Enter the username in the appropriate input box\n",
    "browser.find_element(By.NAME,\"username\").send_keys(\"Admin\")\n",
    "time.sleep(5)\n",
    "# 3.2 Enter the password in the appropriate input box\n",
    "browser.find_element(By.NAME,\"password\").send_keys(\"admin123\")\n",
    "time.sleep(5)\n",
    "# 3.3 Press the log in button\n",
    "browser.find_element(By.XPATH,'//button[@class=\"oxd-button oxd-button--medium oxd-button--main orangehrm-login-button\"]').click()\n",
    "time.sleep(5)\n",
    "# 3.4 Click on the user-drop-down button\n",
    "browser.find_element(By.XPATH,'//i[@class=\"oxd-icon bi-caret-down-fill oxd-userdropdown-icon\"]').click()\n",
    "time.sleep(5)\n",
    "# 3.5 Logout\n",
    "browser.find_element(By.CSS_SELECTOR,'[href$=logout]').click()\n",
    "time.sleep(5)\n",
    "\n",
    "# close the browser\n",
    "browser.close()\n",
    "browser.quit()"
   ]
  },
  {
   "cell_type": "markdown",
   "id": "3",
   "metadata": {
    "id": "9e9a01c5"
   },
   "source": [
    "# <font color='red'>2. Navigating around a website</font>\n",
    "\n",
    "The following code will allow you to navigate around a website with selenium, and even make a little search"
   ]
  },
  {
   "cell_type": "code",
   "execution_count": null,
   "id": "4",
   "metadata": {
    "id": "3c7f733e"
   },
   "outputs": [],
   "source": [
    "# 2.1 Open an instance of the Chrome browser\n",
    "browser = webdriver.Chrome()\n",
    "\n",
    "# 2.2 set implicit wait to 10 seconds\n",
    "#     this tells the browser to wait for that time before throwing an exception\n",
    "#     allowing us to not get an error when websites take \"too long\" too load\n",
    "browser.implicitly_wait(10)\n",
    "\n",
    "# 2.3 visit the website\n",
    "browser.get(\"https://www.selenium.dev/documentation/\")\n",
    "time.sleep(5)\n",
    "\n",
    "# 3.1 Go to Download\n",
    "element = browser.find_element(By.LINK_TEXT,\"Downloads\")\n",
    "\n",
    "# element contains some useful information\n",
    "element.tag_name\n",
    "element.text\n",
    "element.location\n",
    "element.get_attribute('href')\n",
    "\n",
    "# click on \"Download\" button\n",
    "element.click()\n",
    "time.sleep(5)\n",
    "\n",
    "\n",
    "# 3.2 Go to Projects (a little fast)\n",
    "browser.find_element(By.LINK_TEXT,\"Projects\").click()\n",
    "time.sleep(5)\n",
    "\n",
    "\n",
    "# 4. Close the browser\n",
    "browser.close()\n",
    "browser.quit()"
   ]
  }
 ],
 "metadata": {
  "colab": {
   "collapsed_sections": [],
   "provenance": []
  },
  "kernelspec": {
   "display_name": ".venv",
   "language": "python",
   "name": "python3"
  },
  "language_info": {
   "codemirror_mode": {
    "name": "ipython",
    "version": 3
   },
   "file_extension": ".py",
   "mimetype": "text/x-python",
   "name": "python",
   "nbconvert_exporter": "python",
   "pygments_lexer": "ipython3",
   "version": "3.12.3"
  }
 },
 "nbformat": 4,
 "nbformat_minor": 5
}
