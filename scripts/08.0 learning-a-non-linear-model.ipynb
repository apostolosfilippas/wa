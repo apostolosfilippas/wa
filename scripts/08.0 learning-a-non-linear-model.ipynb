{
 "cells": [
  {
   "cell_type": "markdown",
   "metadata": {
    "id": "g2ZRw_kFyZrm"
   },
   "source": [
    "---\n",
    "\n",
    "### 🎓 **Professor**: Apostolos Filippas\n",
    "\n",
    "### 📘 **Class**: Web Analytics\n",
    "\n",
    "### 📋 **Topic**: Pandas (self-study)\n",
    "\n",
    "### 🔗 **Link**: https://bit.ly/WA_LEC7_NONLINEAR\n",
    "\n",
    "🚫 **Note**: You are not allowed to share the contents of this notebook with anyone outside this class without written permission by the professor.\n",
    "\n",
    "---"
   ]
  },
  {
   "cell_type": "markdown",
   "metadata": {
    "id": "TD282fqVcvl2"
   },
   "source": [
    "# 1. 🌳  Learning A Decision Tree\n",
    "\n",
    "In this notebook, we'll learn about decision trees and how to use them to perform classification and regression. Before we get started, let's start by importing libraries and loading the dataset.\n",
    "\n",
    "## 1.1. Getting the data"
   ]
  },
  {
   "cell_type": "code",
   "execution_count": null,
   "metadata": {
    "executionInfo": {
     "elapsed": 1053,
     "status": "ok",
     "timestamp": 1630271625858,
     "user": {
      "displayName": "Leonardo Luchetti",
      "photoUrl": "https://lh3.googleusercontent.com/a-/AOh14GiQWM_XoLmHFbdkrZRGl2hNKsKyxqf0COjeIlFjTg=s64",
      "userId": "05854504905374019893"
     },
     "user_tz": 240
    },
    "id": "Z01z2NRMyZro"
   },
   "outputs": [],
   "source": [
    "import os\n",
    "import numpy as np\n",
    "import pandas as pd\n",
    "import math\n",
    "import matplotlib.pylab as plt\n",
    "import seaborn as sns\n",
    "\n",
    "%matplotlib inline\n",
    "sns.set(style='ticks', palette='Set2')\n",
    "\n",
    "\n",
    "url = \"http://archive.ics.uci.edu/ml/machine-learning-databases/auto-mpg/auto-mpg.data-original\"\n",
    "column_names = ['mpg', 'cylinders', 'displacement', 'horsepower', 'weight', 'acceleration',\n",
    "                'model', 'origin', 'car_name']\n",
    "\n",
    "mpg_df = pd.read_csv(url,\n",
    "                     delim_whitespace=True,\n",
    "                     header=None,\n",
    "                     names=column_names).dropna()\n",
    "\n",
    "mpg_df.head()"
   ]
  },
  {
   "cell_type": "markdown",
   "metadata": {
    "id": "Q-ADlKwmyZrz"
   },
   "source": [
    "## 1.2 Turning the regression problem into a classification problem\n",
    "We'll turn our problem into a classification problem.\n",
    "Instead of predicting the exact milage, we'll predict whether a car gets high or low milage."
   ]
  },
  {
   "cell_type": "code",
   "execution_count": null,
   "metadata": {
    "id": "maoVL3LqyZr0",
    "outputId": "b3a6be99-6367-4325-cb25-7e9f0c107c99"
   },
   "outputs": [],
   "source": [
    "mpg_df[\"mpg\"].hist()"
   ]
  },
  {
   "cell_type": "markdown",
   "metadata": {
    "id": "2ulX_RUxyZr3"
   },
   "source": [
    "Arbitrarily, let's say that those cars with a MPG greater than the median get good miles per gallon. "
   ]
  },
  {
   "cell_type": "code",
   "execution_count": null,
   "metadata": {
    "id": "MPVWFQgYyZr4",
    "outputId": "0d4ee97b-81ce-4307-ce2e-a91390033915"
   },
   "outputs": [],
   "source": [
    "# find the median\n",
    "median_mpg = mpg_df[\"mpg\"].median()\n",
    "\n",
    "# print the median\n",
    "print(\"the median MPG is: %s\" % median_mpg)\n",
    "\n",
    "# To do operations on an entire column in pandas, the following is a best practice:\n",
    "\n",
    "# 1. we define a function of the operations we want to do\n",
    "def is_high_mpg(mpg):\n",
    "    return 1 if mpg > median_mpg else 0\n",
    "\n",
    "# 2. we then apply this function over the every single row of a column (\"mpg\")\n",
    "#    and we save the output as a new column (\"is_high_mpg\")\n",
    "mpg_df[\"is_high_mpg\"] = mpg_df[\"mpg\"].apply(is_high_mpg)\n",
    "\n",
    "# let's see the result\n",
    "mpg_df.iloc[:20]"
   ]
  },
  {
   "cell_type": "markdown",
   "metadata": {},
   "source": [
    "Our algorithms task is to now predict whether a car gets high or low MPG, or in other words, which class a car belongs to. \n",
    "\n",
    "We have used `1` to designate the  high-MPG class and `0` for the low-MPG class."
   ]
  },
  {
   "cell_type": "markdown",
   "metadata": {},
   "source": [
    "## 1.2 What's a decision tree?\n",
    "The best way to learn is to read Chapter 3 from \"Data Science for Business\" by Provost and Fawcett. Nevertheless, we'll try to give you a brief overview of decision trees here.\n",
    "\n",
    "A **decision tree**, as the name suggests, can be visualized as a tree structure. It is one of the most commonly used machine learning algorithms and is useful for both classification (categorizing items) and regression (predicting numerical values).\n",
    "- For our purposes, we'll only look at the classification case.\n",
    "\n",
    "### Components of a Decision Tree:\n",
    "\n",
    "- **Root Node**: This represents the entire dataset. The root node splits into child nodes based on a decision rule.\n",
    "- **Decision Nodes**: Each node represents a question about one feature. For each possible answer to that question, the tree directs us to a child node.\n",
    "- **Leaf Nodes**: These nodes have no children, but instead contain the outcome or the final decision (classification or value). They do not split any further.\n",
    "\n",
    "### How does a Decision Tree work?\n",
    "When we're fitting our data to produce a decision tree, the algorithm goes through the following steps:\n",
    "- **Selection of attribute**: The algorithm attempts to find the most informative feature based on a certain criterion (like entropy, gini impurity, etc.) to make a decision. By informative, we mean that asking a question about this feature should be able to split the dataset well into different classes.\n",
    "- **Decision Making**: Once an attribute is selected, the dataset is split based on the values of this attribute. This process is performed recursively, producing a tree-like model of decisions.\n",
    "\n",
    "### A simple example\n",
    "Let's consider a simple decision-making scenario - deciding if we should play tennis based on weather conditions.\n",
    "- The root node may ask: \"Is it raining?\"\n",
    "    - If 'Yes', the tree might conclude, 'Do not play tennis.' (This becomes a leaf node).\n",
    "    - If 'No', it may lead to a decision node: \"Is the humidity high?\"\n",
    "        - If 'Yes', the tree might conclude, 'Do not play tennis.'\n",
    "        - If 'No', the tree would then conclude, 'Play tennis.'\n",
    "\n",
    "\n"
   ]
  },
  {
   "cell_type": "markdown",
   "metadata": {
    "id": "zSrzyC2dyZsO"
   },
   "source": [
    "## 1.3 Building a decision tree\n",
    "\n",
    "We'll use scikit-learn"
   ]
  },
  {
   "cell_type": "code",
   "execution_count": null,
   "metadata": {
    "id": "KGhPH2iOyZsT",
    "outputId": "76069fba-fbbf-4918-9754-c5b0a6c362d8"
   },
   "outputs": [],
   "source": [
    "from sklearn.tree import DecisionTreeClassifier\n",
    "\n",
    "predictor_cols = [\"weight\", \"acceleration\", \"acceleration\", \"cylinders\", \"displacement\"]\n",
    "\n",
    "# Let's define the model (tree)\n",
    "decision_tree = DecisionTreeClassifier(max_depth=3, criterion=\"entropy\")   # Look at those 2 arguments !!! \n",
    "\n",
    "# Let's tell the model what is the data\n",
    "decision_tree.fit(mpg_df[predictor_cols], mpg_df[\"is_high_mpg\"])"
   ]
  },
  {
   "cell_type": "markdown",
   "metadata": {
    "id": "rc_o2ou3yZsV"
   },
   "source": [
    "We now have a classifier tree, let's visualize the results! (to get this to work, create a directory called \"images\" in the same directory you are running this script from)\n",
    "\n",
    "You should also have the \"dot\" command line tool installed. If you don't, you can install it with \n",
    "- \"brew install graphviz\" on a mac.\n",
    "- \"sudo apt-get install graphviz\" on linux.\n",
    "- \"conda install graphviz\" or by [downloading it](https://graphviz.gitlab.io/_pages/Download/Download_windows.html) on windows"
   ]
  },
  {
   "cell_type": "code",
   "execution_count": null,
   "metadata": {},
   "outputs": [],
   "source": [
    "import os\n",
    "from IPython.display import Image\n",
    "from sklearn.tree import export_graphviz\n",
    "import subprocess\n",
    "\n",
    "def visualize_tree(decision_tree, feature_names, class_names, directory=\"./images\", name=\"tree\", proportion=True, cleanup=True):\n",
    "    \n",
    "    # Check or create the directory\n",
    "    if not os.path.exists(directory):\n",
    "        os.makedirs(directory)\n",
    "    \n",
    "    # Export our decision tree to graphviz format\n",
    "    dot_name = os.path.join(directory, f\"{name}.dot\")\n",
    "    dot_file = export_graphviz(decision_tree, \n",
    "                               out_file=dot_name,\n",
    "                               feature_names=feature_names, \n",
    "                               class_names=class_names,\n",
    "                               proportion=proportion)\n",
    "        \n",
    "    # Call graphviz to make an image file from our decision tree\n",
    "    image_name = os.path.join(directory, f\"{name}.png\")\n",
    "    \n",
    "    try:\n",
    "        subprocess.check_call(['dot', '-Tpng', dot_name, '-o', image_name])\n",
    "    except subprocess.CalledProcessError as e:\n",
    "        print(\"Could not run dot, ie graphviz, to produce visualization\")\n",
    "    \n",
    "    # Cleanup .dot file\n",
    "    if cleanup:\n",
    "        os.remove(dot_name)\n",
    "    \n",
    "    # Return the .png image so we can see it\n",
    "    return Image(filename=image_name)\n",
    "\n",
    "visualize_tree(decision_tree, predictor_cols, [\"n\", \"y\"])\n"
   ]
  },
  {
   "cell_type": "markdown",
   "metadata": {},
   "source": [
    "Check out the decision tree.\n",
    "- The first question it \"asks\" of any data point is if the displacement is <= 190.5.\n",
    "  - If the answer is Yes, then it goes to the left child, and asks if the weight is <= 2278.5\n",
    "  - If the answer is No, then it goes to the right child, and asks if the acceleration is <= 15.9\n",
    "\n",
    "... and so on.\n",
    "\n",
    "In other words, the tree is a series of nested \"if\" statements. Much like the \"Guess who?\" game or [Akinator](https://en.akinator.com/theme-selection)"
   ]
  },
  {
   "cell_type": "markdown",
   "metadata": {
    "id": "tob2AFSzcvl9"
   },
   "source": [
    "---\n",
    "# ❓ 2. Are our predictions good?\n"
   ]
  },
  {
   "cell_type": "markdown",
   "metadata": {
    "id": "wADF6DuoyZsa"
   },
   "source": [
    "How good is our model? Let's compute accuracy, the percent of times where we correctly identified that a car was high MPG."
   ]
  },
  {
   "cell_type": "code",
   "execution_count": null,
   "metadata": {
    "id": "lXMHgKNocvl9",
    "outputId": "296c1ac8-3de2-43f0-8f2a-09347fc132aa"
   },
   "outputs": [],
   "source": [
    "# get some predictions from the model\n",
    "preds = decision_tree.predict(mpg_df[predictor_cols])\n",
    "\n",
    "predictions_mpg_df = mpg_df.assign(predictions=preds)\n",
    "\n",
    "predictions_mpg_df.head(50)"
   ]
  },
  {
   "cell_type": "markdown",
   "metadata": {},
   "source": [
    "To get a measure of how good the predictions are, we'll use a measure called \"accuracy\", which is the percent of times where we correctly identified whether a car was high MPG or not.\n",
    "\n",
    "It's easy to compute the accuracy yourselves, or you can do so via the sklearn's `accuracy_score` function."
   ]
  },
  {
   "cell_type": "code",
   "execution_count": null,
   "metadata": {
    "id": "GYgx6c-zyZsa",
    "outputId": "1080062f-6888-45aa-bff1-6ca369bfeb76"
   },
   "outputs": [],
   "source": [
    "from sklearn import metrics\n",
    "print ( \"Accuracy = %.3f\" % (metrics.accuracy_score(predictions_mpg_df[\"predictions\"], predictions_mpg_df[\"is_high_mpg\"])) )"
   ]
  },
  {
   "cell_type": "markdown",
   "metadata": {
    "id": "O31a55xecvl-"
   },
   "source": [
    "Is this good? Should we be satisified with this level of accuracy?\n",
    "\n",
    "We'll find out how to answer this question in our next class :)"
   ]
  }
 ],
 "metadata": {
  "colab": {
   "collapsed_sections": [],
   "name": "06.3 Learning a non-linear model from data (decision trees).ipynb",
   "provenance": []
  },
  "kernelspec": {
   "display_name": "Python 3 (ipykernel)",
   "language": "python",
   "name": "python3"
  },
  "language_info": {
   "codemirror_mode": {
    "name": "ipython",
    "version": 3
   },
   "file_extension": ".py",
   "mimetype": "text/x-python",
   "name": "python",
   "nbconvert_exporter": "python",
   "pygments_lexer": "ipython3",
   "version": "3.10.4"
  }
 },
 "nbformat": 4,
 "nbformat_minor": 1
}
