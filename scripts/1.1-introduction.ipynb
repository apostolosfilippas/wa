{
 "cells": [
  {
   "cell_type": "markdown",
   "metadata": {},
   "source": [
    "---\n",
    "\n",
    "### 🎓 **Professor**: Apostolos Filippas\n",
    "\n",
    "### 📘 **Class**: E-Commerce\n",
    "\n",
    "### 📋 **Topic**: Introduction to Python development\n",
    "\n",
    "🚫 **Note**: You are not allowed to share the contents of this notebook with anyone outside this class without written permission by the professor.\n",
    "\n",
    "---\n"
   ]
  },
  {
   "cell_type": "markdown",
   "metadata": {},
   "source": [
    "## Overview\n",
    "\n",
    "Today we will learn how our basic Python \"tools\" work:\n",
    "- how to use VS Code/Python IDE,\n",
    "- how to install and import packages/libraries,\n",
    "- how to work with virtual environments\n",
    "\n",
    "**Remember:**\n",
    "- Anything that follows a hash tag is a comment.\n",
    "- Comments are being ignored by Python.\n"
   ]
  },
  {
   "cell_type": "markdown",
   "metadata": {},
   "source": [
    "# 1. The Terminal\n",
    "\n",
    "The terminal is a text-based interface to the computer's operating system.\n",
    "\n",
    "It is a powerful tool that allows you to interact with your computer using text commands.\n",
    "\n",
    "Many of the things you do on your computer (like opening files, running programs, etc.) can be done through the terminal.\n",
    "\n",
    "### 1.1 Accessing your terminal\n",
    "\n",
    "To access your terminal:\n",
    "\n",
    "| Operating System | Shortcut |\n",
    "|------------------|----------|\n",
    "| Mac/Linux        | `command+space` and type `terminal` |\n",
    "| Windows          | `windows+r` and type `cmd` |\n",
    "| VS Code / Cursor | press `ctrl+j` and select the `Terminal` tab (alt: go to Terminal > New Terminal) |\n",
    "\n",
    "### 1.2 Need-to-know commands\n",
    "\n",
    "The three most common commands in the terminal are `ls`, `cd`, and `pwd`.\n",
    "\n",
    "- `pwd`: print the current working directory\n",
    "- `ls`: list the files and directories in the current directory\n",
    "- `cd`: change the current directory\n",
    "  - `cd ..`: go up one level in the directory tree\n",
    "  - `cd /`: go to the root directory\n",
    "  - `cd ~`: go to the home directory\n",
    "  - `cd <directory_name>`: go to a specific directory\n",
    "\n",
    "\n",
    "## 2. Running Python through your Terminal\n",
    "\n",
    "### 2.1 The Python Console/REPL\n",
    "Python has an interactive shell (REPL - Read-Eval-Print Loop). \n",
    "\n",
    "You can access it by typing `python` (or `python3` for Python 3) in your terminal\n",
    "\n",
    "This will open the Python shell, and you'll see a `>>>` prompt.\n",
    "\n",
    "You can then start typing Python commands, and they will be executed immediately after you press `enter`.\n",
    "\n",
    "For example, you can use it as a calculator:\n",
    "\n",
    "```python\n",
    ">>> 5 + 5\n",
    "10\n",
    "```\n",
    "\n",
    "or you can use it to define variables:\n",
    "\n",
    "```python\n",
    ">>> x = 5\n",
    ">>> y = 10\n",
    ">>> print(x + y)\n",
    "15\n",
    "```\n",
    "\n",
    "To exit the Python shell, you can type `exit()` or press `ctrl+d`.\n",
    "\n",
    "\n",
    "\n",
    "\n",
    "\n",
    "\n"
   ]
  },
  {
   "cell_type": "code",
   "execution_count": null,
   "metadata": {
    "execution": {
     "iopub.execute_input": "2025-08-27T19:51:02.349741Z",
     "iopub.status.busy": "2025-08-27T19:51:02.349509Z",
     "iopub.status.idle": "2025-08-27T19:51:02.354602Z",
     "shell.execute_reply": "2025-08-27T19:51:02.354211Z"
    }
   },
   "outputs": [],
   "source": [
    "# Example: using Python as a calculator\n",
    "\n",
    "# addition\n",
    "print(5 + 5)\n",
    "\n",
    "# subtraction\n",
    "print(5 - 5)\n",
    "\n",
    "# multiplication\n",
    "print(5 * 5)\n",
    "\n",
    "# exponentiation\n",
    "print(5**5)\n",
    "\n",
    "# division\n",
    "print(5 / 5)"
   ]
  },
  {
   "cell_type": "markdown",
   "metadata": {},
   "source": [
    "### 2.2 Running an entire script file\n",
    "\n",
    "If you save your code in a script files (.py), you can reuse it and run it in its entirety.\n",
    "\n",
    "To run a script file:\n",
    "\n",
    "```bash\n",
    "python scripts/1.introduction.py\n",
    "```\n",
    "\n",
    "or \n",
    "\n",
    "```bash\n",
    "python3 scripts/1.introduction.py\n",
    "```\n"
   ]
  },
  {
   "cell_type": "markdown",
   "metadata": {},
   "source": [
    "# 3. Using Jupyter Notebooks\n",
    "\n",
    "Jupyter Notebooks are a great way to interact with data and code. \n",
    "- I recommend using the [Jupyter Extension](https://marketplace.visualstudio.com/items?itemName=ms-toolsai.jupyter) that ships with VS Code to run these notebooks. \n",
    "- You can run a cell in Jupyter Notebook in VS Code by using the `ctrl+enter` key combination. If this doesn't work, there should be a play button on the top right of the cell you're focused on. Give it a try by running the cell below!\n",
    "- This should trigger a pop-up in VSCode/Cursor that asks you to select the kernel you want to use. \n",
    "\n",
    "![](../assets/kernel.png)\n",
    "\n",
    "Make sure that the path to the kernel is correct and maps to the virtual environment that you previously used."
   ]
  },
  {
   "cell_type": "code",
   "execution_count": null,
   "metadata": {
    "execution": {
     "iopub.execute_input": "2025-08-27T19:51:02.375030Z",
     "iopub.status.busy": "2025-08-27T19:51:02.374928Z",
     "iopub.status.idle": "2025-08-27T19:51:02.376657Z",
     "shell.execute_reply": "2025-08-27T19:51:02.376386Z"
    }
   },
   "outputs": [],
   "source": [
    "print(\"Success!\")"
   ]
  },
  {
   "cell_type": "markdown",
   "metadata": {},
   "source": [
    "You should see a tick once you've executed the cell and a message that says \"Success!\" This indicates that you've successfully executed the cell and selected a valid kernel."
   ]
  },
  {
   "cell_type": "markdown",
   "metadata": {},
   "source": [
    "## 3.1 Kernel\n",
    "\n",
    "> **Important** : Since we can execute code cell by cell, it's often useful to break up our code into multiple cells so that we can iterate and test different aspects of our code without having to run the entire snippet. This makes it easy to work with more complex logic and data.\n",
    "\n",
    "A Jupyter Notebook works by connecting to a \"kernel\" - which is essentially a Python interpreter running in the background. When you run a cell, the code is sent to this kernel for execution, and the results are sent back to display in your notebook. \n",
    "\n",
    "Think of the kernel as the \"engine\" that powers your notebook - it maintains the state of your variables and executes your code, while the notebook itself is just the interface you use to write code and see results. \n",
    "\n",
    "This is why you need to select a kernel when you first open a notebook - you're choosing which Python environment will run your code. If you're confused about which kernel you're using, just run the cell below and it will tell you.\n"
   ]
  },
  {
   "cell_type": "code",
   "execution_count": null,
   "metadata": {
    "execution": {
     "iopub.execute_input": "2025-08-27T19:51:02.378059Z",
     "iopub.status.busy": "2025-08-27T19:51:02.377955Z",
     "iopub.status.idle": "2025-08-27T19:51:02.617414Z",
     "shell.execute_reply": "2025-08-27T19:51:02.616916Z"
    }
   },
   "outputs": [],
   "source": [
    "!python -c \"import sys; print(sys.executable)\""
   ]
  },
  {
   "cell_type": "markdown",
   "metadata": {},
   "source": [
    "By being able to execute code in a notebook, we can do some pretty cool things. For example, we can use the `%` command to execute shell commands."
   ]
  },
  {
   "cell_type": "code",
   "execution_count": null,
   "metadata": {
    "execution": {
     "iopub.execute_input": "2025-08-27T19:51:02.619781Z",
     "iopub.status.busy": "2025-08-27T19:51:02.619628Z",
     "iopub.status.idle": "2025-08-27T19:51:02.859085Z",
     "shell.execute_reply": "2025-08-27T19:51:02.858607Z"
    }
   },
   "outputs": [],
   "source": [
    "%ls"
   ]
  },
  {
   "cell_type": "markdown",
   "metadata": {},
   "source": [
    "Being able to execute code line by line and visualize data directly in notebooks is incredibly powerful for data science and analysis. It allows you to:\n",
    "- Experiment and debug code interactively\n",
    "- See results immediately after each operation\n",
    "- Create rich visualizations alongside your code\n",
    "\n",
    "\n",
    "\n",
    "This interactive workflow makes it much easier to explore data, test hypotheses, and refine your analysis compared to traditional scripts which will execute it in a single pass. \n",
    "\n",
    "It also makes it easy to share your work with others, as the notebook can contain both the code, results and markdown formatted descriptions that walkthrough and explain your analysis.\n"
   ]
  },
  {
   "cell_type": "markdown",
   "metadata": {},
   "source": [
    "### Troubleshooting\n",
    "\n",
    "Here is a short section about common issues and how to fix them.\n",
    "\n",
    "#### Kernel Timing Out\n",
    "\n",
    "If you see a specific cell that takes too long to execute, you can try to kill the kernel by clicking on the kernel menu and selecting \"Interrupt\" or \"Restart & Clear Output\". \n",
    "\n",
    "I often have duplicate imports so that I can quickly iterate on different aspects of my code. If you find yourself in this situation, you can try to restart the kernel by clicking on the kernel menu and selecting \"Restart Kernel\".\n",
    "\n",
    "#### How do I tell if my Cell is running?\n",
    "\n",
    "Look for the [ ] symbol next to the cell\n",
    "\n",
    "[ ] means waiting to execute\n",
    "[*] means currently running\n",
    "[1] (or any number) means completed execution\n",
    "\n",
    "\n",
    "Check if any cells are stuck running (shown by [*]), you can kill the kernel by either then interrupting the kernel or restarting the kernel itself.\n",
    "\n",
    "The autoreload extension is super helpful when developing Python modules. Here's what it does:\n",
    "pythonCopy# Load the extension\n",
    "%load_ext autoreload\n",
    "\n",
    "#### Set autoreload mode\n",
    "\n",
    "When working with a Jupyter Notebook, it's often useful to be able to reload modules whenever we want to execute code. This is especially helpful if we're referencing and working with code that's stored in a separate file to ensure our latest changes are reflected.\n",
    "\n",
    "This code below is a snippet that you can run to enable this behaviour."
   ]
  },
  {
   "cell_type": "code",
   "execution_count": null,
   "metadata": {
    "execution": {
     "iopub.execute_input": "2025-08-27T19:51:02.860845Z",
     "iopub.status.busy": "2025-08-27T19:51:02.860708Z",
     "iopub.status.idle": "2025-08-27T19:51:02.908330Z",
     "shell.execute_reply": "2025-08-27T19:51:02.908112Z"
    }
   },
   "outputs": [],
   "source": [
    "%load_ext autoreload\n",
    "%autoreload 2"
   ]
  },
  {
   "cell_type": "markdown",
   "metadata": {},
   "source": [
    "Different autoreload modes:\n",
    "\n",
    "- `%autoreload 0` - Disable automatic reloading\n",
    "- `%autoreload 1` - Reload modules imported using `%aimport`\n",
    "- `%autoreload 2` - Reload all modules every time before executing code"
   ]
  },
  {
   "cell_type": "markdown",
   "metadata": {},
   "source": [
    "### Jupyter Magic Commands\n",
    "\n",
    "Jupyter also ships with a few useful commands that can be used to help you troubleshoot your code. An example is the `%%time` command which will time the execution of the cell.\n",
    "\n",
    "You can find more examples of useful magic commands [here](https://ipython.readthedocs.io/en/stable/interactive/magics.html)."
   ]
  },
  {
   "cell_type": "code",
   "execution_count": null,
   "metadata": {
    "execution": {
     "iopub.execute_input": "2025-08-27T19:51:02.909549Z",
     "iopub.status.busy": "2025-08-27T19:51:02.909462Z",
     "iopub.status.idle": "2025-08-27T19:51:02.913995Z",
     "shell.execute_reply": "2025-08-27T19:51:02.913807Z"
    }
   },
   "outputs": [],
   "source": [
    "%%time\n",
    "print(\"Hello, world!\")"
   ]
  },
  {
   "cell_type": "markdown",
   "metadata": {},
   "source": [
    "## 2. Using packages\n",
    "\n",
    "Python packages contain functions and tools. Python comes with a \"standard library\". There are thousands of third-party packages available via pip (Python's package installer).\n",
    "\n",
    "### Installing packages\n",
    "\n",
    "In Python, we use `pip` (or `pip3` for Python 3) to install packages. \n",
    "\n",
    "Run this in your terminal\n",
    "\n",
    "```bash\n",
    "pip install numpy\n",
    "```\n",
    "\n",
    "This will install the packages `numpy`, which is a package for scientific computing with Python.\n",
    "\n",
    "Alternatively, you can install the package through your jupyter notebook as follows\n"
   ]
  },
  {
   "cell_type": "code",
   "execution_count": null,
   "metadata": {
    "execution": {
     "iopub.execute_input": "2025-08-27T19:51:02.914984Z",
     "iopub.status.busy": "2025-08-27T19:51:02.914909Z",
     "iopub.status.idle": "2025-08-27T19:51:03.643008Z",
     "shell.execute_reply": "2025-08-27T19:51:03.642448Z"
    }
   },
   "outputs": [],
   "source": [
    "%pip install numpy"
   ]
  },
  {
   "cell_type": "markdown",
   "metadata": {},
   "source": [
    "Now that your package is installed, you can import it in your notebook as follows"
   ]
  },
  {
   "cell_type": "code",
   "execution_count": null,
   "metadata": {
    "execution": {
     "iopub.execute_input": "2025-08-27T19:51:03.644679Z",
     "iopub.status.busy": "2025-08-27T19:51:03.644581Z",
     "iopub.status.idle": "2025-08-27T19:51:03.687844Z",
     "shell.execute_reply": "2025-08-27T19:51:03.687614Z"
    }
   },
   "outputs": [],
   "source": [
    "# 2.3 Importing packages\n",
    "import numpy as np \n",
    "\n",
    "print(\"Successfully imported all packages!\")\n"
   ]
  },
  {
   "cell_type": "markdown",
   "metadata": {},
   "source": [
    "The package will be available as long as your notebook is running.\n",
    "\n",
    "If you close and reopen your notebook, you will need to re-import the package."
   ]
  },
  {
   "cell_type": "markdown",
   "metadata": {},
   "source": [
    "## 3. Working directory and file paths\n"
   ]
  },
  {
   "cell_type": "code",
   "execution_count": null,
   "metadata": {
    "execution": {
     "iopub.execute_input": "2025-08-27T19:51:03.688978Z",
     "iopub.status.busy": "2025-08-27T19:51:03.688884Z",
     "iopub.status.idle": "2025-08-27T19:51:03.693699Z",
     "shell.execute_reply": "2025-08-27T19:51:03.693503Z"
    }
   },
   "outputs": [],
   "source": [
    "# 3.1 View your current working directory\n",
    "import os\n",
    "\n",
    "print(\"Current working directory:\", os.getcwd())\n",
    "print(f\"Current working directory: {os.getcwd()}\")\n"
   ]
  },
  {
   "cell_type": "code",
   "execution_count": null,
   "metadata": {
    "execution": {
     "iopub.execute_input": "2025-08-27T19:51:03.694691Z",
     "iopub.status.busy": "2025-08-27T19:51:03.694619Z",
     "iopub.status.idle": "2025-08-27T19:51:03.699478Z",
     "shell.execute_reply": "2025-08-27T19:51:03.699272Z"
    }
   },
   "outputs": [],
   "source": [
    "# 3.2 Changing your working directory\n",
    "# You can change directories programmatically:\n",
    "os.chdir(\"..\")\n",
    "print(\"Current working directory:\", os.getcwd())\n",
    "\n",
    "os.chdir(\"scripts\")\n",
    "print(\"Current working directory:\", os.getcwd())\n",
    "\n",
    "# Example (commented out - uncomment and modify for your path):\n",
    "\n",
    "# Mac/Linux\n",
    "os.chdir(os.path.expanduser(\"~/Desktop/\"))  # Mac/Linux\n",
    "print(\"Current working directory:\", os.getcwd())\n",
    "os.chdir(os.path.expanduser(\"~/ec/\"))\n",
    "print(\"Current working directory:\", os.getcwd())\n",
    "\n",
    "# Windows\n",
    "# os.chdir(\"C:/Users/username/Desktop\")  # Windows\n",
    "# print(\"Current working directory:\", os.getcwd())\n",
    "# os.chdir(os.path.expanduser(\"~/ec/\"))\n",
    "# print(\"Current working directory:\", os.getcwd())\n"
   ]
  },
  {
   "cell_type": "code",
   "execution_count": null,
   "metadata": {
    "execution": {
     "iopub.execute_input": "2025-08-27T19:51:03.700455Z",
     "iopub.status.busy": "2025-08-27T19:51:03.700382Z",
     "iopub.status.idle": "2025-08-27T19:51:03.705036Z",
     "shell.execute_reply": "2025-08-27T19:51:03.704812Z"
    }
   },
   "outputs": [],
   "source": [
    "# 3.3 Better practice: Use relative paths\n",
    "# Instead of changing directories, it's better to use relative paths\n",
    "\n",
    "# Mac/Linux\n",
    "os.chdir(os.path.expanduser(\"~/ec/scripts\"))\n",
    "print(\"Current working directory:\", os.getcwd())\n",
    "os.chdir(\"../\")\n",
    "print(\"Current working directory:\", os.getcwd())\n",
    "os.chdir(\"scripts\")\n",
    "print(\"Current working directory:\", os.getcwd())\n",
    "\n",
    "# Windows\n",
    "# os.chdir(os.path.expanduser(\"C:/Users/username/ec/scripts\"))\n",
    "# print(\"Current working directory:\", os.getcwd())\n",
    "# os.chdir(os.path.expanduser(\"C:/Users/username/ec\"))\n",
    "# print(\"Current working directory:\", os.getcwd())\n",
    "# os.chdir(\"scripts\")\n",
    "# print(\"Current working directory:\", os.getcwd())\n"
   ]
  },
  {
   "cell_type": "markdown",
   "metadata": {},
   "source": [
    "## 4. Variable definition\n"
   ]
  },
  {
   "cell_type": "code",
   "execution_count": null,
   "metadata": {
    "execution": {
     "iopub.execute_input": "2025-08-27T19:51:03.706131Z",
     "iopub.status.busy": "2025-08-27T19:51:03.706060Z",
     "iopub.status.idle": "2025-08-27T19:51:03.710690Z",
     "shell.execute_reply": "2025-08-27T19:51:03.710462Z"
    }
   },
   "outputs": [],
   "source": [
    "# 4.1 Defining and assigning numerical values\n",
    "# Python uses = for assignment\n",
    "x = 5\n",
    "y = 10\n",
    "\n",
    "print(x + y)\n",
    "\n",
    "x = x + y\n",
    "print(\"x after addition:\", x)\n",
    "\n",
    "z = x / y\n",
    "print(\"z =\", z)\n",
    "\n",
    "# Python is case-sensitive!\n",
    "# z = Z  # This would cause an error if Z is not defined\n",
    "Z = z\n",
    "print(\"Z =\", Z)\n",
    "print(\"Type of Z:\", type(Z))  # type() shows what kind of data this is\n"
   ]
  },
  {
   "cell_type": "markdown",
   "metadata": {},
   "source": [
    "## 5. Lists\n",
    "\n",
    "Variables don't have to be just numbers! We can store multiple values in lists.\n"
   ]
  },
  {
   "cell_type": "code",
   "execution_count": null,
   "metadata": {
    "execution": {
     "iopub.execute_input": "2025-08-27T19:51:03.711735Z",
     "iopub.status.busy": "2025-08-27T19:51:03.711667Z",
     "iopub.status.idle": "2025-08-27T19:51:03.715861Z",
     "shell.execute_reply": "2025-08-27T19:51:03.715665Z"
    }
   },
   "outputs": [],
   "source": [
    "# 5.1 Defining lists\n",
    "# Python uses [] to create lists\n",
    "test_results_01 = [20, 18, 17, 19, 20, 15]\n",
    "test_results_02 = [18, 17, 16, 19, 19, 14]\n",
    "\n",
    "# 5.2 Concatenating (combining) lists\n",
    "all_results = test_results_01 + test_results_02\n",
    "print(\"Combined results:\", all_results)\n",
    "\n",
    "# 5.3 Checking the type of a list\n",
    "print(\"Type of all_results:\", type(all_results))\n"
   ]
  },
  {
   "cell_type": "code",
   "execution_count": null,
   "metadata": {
    "execution": {
     "iopub.execute_input": "2025-08-27T19:51:03.716804Z",
     "iopub.status.busy": "2025-08-27T19:51:03.716737Z",
     "iopub.status.idle": "2025-08-27T19:51:03.720857Z",
     "shell.execute_reply": "2025-08-27T19:51:03.720668Z"
    }
   },
   "outputs": [],
   "source": [
    "# 5.4 Calculate the mean (average)\n",
    "import numpy as np\n",
    "\n",
    "mean_result = np.mean(all_results)\n",
    "print(\"Mean:\", mean_result)\n",
    "\n",
    "# 5.5 Calculate the standard deviation\n",
    "std_result = np.std(all_results, ddof=1)  # ddof=1 for sample std dev\n",
    "print(\"Standard deviation:\", std_result)\n"
   ]
  },
  {
   "cell_type": "code",
   "execution_count": null,
   "metadata": {
    "execution": {
     "iopub.execute_input": "2025-08-27T19:51:03.721794Z",
     "iopub.status.busy": "2025-08-27T19:51:03.721726Z",
     "iopub.status.idle": "2025-08-27T19:51:03.725630Z",
     "shell.execute_reply": "2025-08-27T19:51:03.725432Z"
    }
   },
   "outputs": [],
   "source": [
    "# 5.6 Python slicing: [start:end] where end is exclusive\n",
    "print(\"Elements at positions 1-2:\", all_results[1:3])  # Gets elements at index 1 and 2\n",
    "print(\"Elements at positions 1-4:\", all_results[1:5])  # Gets elements at index 1,2,3,4\n"
   ]
  },
  {
   "cell_type": "markdown",
   "metadata": {},
   "source": [
    "## 6. Boolean values\n"
   ]
  },
  {
   "cell_type": "code",
   "execution_count": null,
   "metadata": {
    "execution": {
     "iopub.execute_input": "2025-08-27T19:51:03.726636Z",
     "iopub.status.busy": "2025-08-27T19:51:03.726566Z",
     "iopub.status.idle": "2025-08-27T19:51:03.730565Z",
     "shell.execute_reply": "2025-08-27T19:51:03.730369Z"
    }
   },
   "outputs": [],
   "source": [
    "# 6.1 Checking if values are in lists\n",
    "# Python uses 'in' to check membership\n",
    "print(\"Is 5 in test_results_01?\", 5 in test_results_01)\n",
    "print(\"Is 20 in test_results_01?\", 20 in test_results_01)\n"
   ]
  },
  {
   "cell_type": "code",
   "execution_count": null,
   "metadata": {
    "execution": {
     "iopub.execute_input": "2025-08-27T19:51:03.731547Z",
     "iopub.status.busy": "2025-08-27T19:51:03.731480Z",
     "iopub.status.idle": "2025-08-27T19:51:03.735713Z",
     "shell.execute_reply": "2025-08-27T19:51:03.735500Z"
    }
   },
   "outputs": [],
   "source": [
    "# 6.2 Defining and assigning boolean values\n",
    "# Python uses True/False (must be capitalized)\n",
    "x = False\n",
    "print(\"x =\", x)\n",
    "print(\"Type of x:\", type(x))\n",
    "y = True\n",
    "print(\"Type of y:\", type(y))\n",
    "\n",
    "# 6.3 Negation\n",
    "# Python uses 'not' to reverse a boolean value\n",
    "print(\"not x:\", not x)\n",
    "print(\"not y:\", not y)\n"
   ]
  },
  {
   "cell_type": "code",
   "execution_count": null,
   "metadata": {
    "execution": {
     "iopub.execute_input": "2025-08-27T19:51:03.736619Z",
     "iopub.status.busy": "2025-08-27T19:51:03.736555Z",
     "iopub.status.idle": "2025-08-27T19:51:03.740362Z",
     "shell.execute_reply": "2025-08-27T19:51:03.740177Z"
    }
   },
   "outputs": [],
   "source": [
    "# 6.4 Boolean operators\n",
    "# Python uses 'and' for logical AND\n",
    "print(\"x and y:\", x and y)\n",
    "\n",
    "# Python uses 'or' for logical OR\n",
    "print(\"x or y:\", x or y)\n"
   ]
  },
  {
   "cell_type": "code",
   "execution_count": null,
   "metadata": {
    "execution": {
     "iopub.execute_input": "2025-08-27T19:51:03.741287Z",
     "iopub.status.busy": "2025-08-27T19:51:03.741226Z",
     "iopub.status.idle": "2025-08-27T19:51:03.745151Z",
     "shell.execute_reply": "2025-08-27T19:51:03.744953Z"
    }
   },
   "outputs": [],
   "source": [
    "# 6.5 Equality testing\n",
    "print(\"x == y:\", x == y)\n",
    "print(\"9 == x:\", 9 == x)\n",
    "print(\"9 == 9:\", 9 == 9)\n",
    "\n",
    "# 6.6 Inequality testing\n",
    "print(\"x != y:\", x != y)\n",
    "print(\"9 != x:\", 9 != x)\n",
    "print(\"9 != 9:\", 9 != 9)\n"
   ]
  },
  {
   "cell_type": "code",
   "execution_count": null,
   "metadata": {
    "execution": {
     "iopub.execute_input": "2025-08-27T19:51:03.746078Z",
     "iopub.status.busy": "2025-08-27T19:51:03.746022Z",
     "iopub.status.idle": "2025-08-27T19:51:03.749818Z",
     "shell.execute_reply": "2025-08-27T19:51:03.749643Z"
    }
   },
   "outputs": [],
   "source": [
    "# 6.7 Comparison operators\n",
    "print(\"9 <= 9:\", 9 <= 9)\n",
    "print(\"10 <= 9:\", 10 <= 9)\n",
    "print(\"x <= y:\", x <= y)\n",
    "\n",
    "# 6.8 Combining logical expressions\n",
    "print(\"(9 == 9) and (x != y):\", (9 == 9) and (x != y))\n"
   ]
  }
 ],
 "metadata": {
  "kernelspec": {
   "display_name": ".venv",
   "language": "python",
   "name": "python3"
  },
  "language_info": {
   "codemirror_mode": {
    "name": "ipython",
    "version": 3
   },
   "file_extension": ".py",
   "mimetype": "text/x-python",
   "name": "python",
   "nbconvert_exporter": "python",
   "pygments_lexer": "ipython3",
   "version": "3.12.3"
  }
 },
 "nbformat": 4,
 "nbformat_minor": 2
}
