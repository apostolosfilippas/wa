{
 "cells": [
  {
   "cell_type": "markdown",
   "metadata": {
    "id": "u2MkYAjAQkEv"
   },
   "source": [
    "---\n",
    "\n",
    "### 🎓 **Professor**: Apostolos Filippas\n",
    "\n",
    "### 📘 **Class**: Web Analytics\n",
    "\n",
    "### 📋 **Topic**: Numbers, Object assignment, Strings \n",
    "\n",
    "🚫 **Note**: You are not allowed to share the contents of this notebook with anyone outside this class without written permission by the professor.\n",
    "\n",
    "---\n",
    "\n",
    "\n",
    "# 🔢 1. Numeric Expressions\n",
    "\n",
    "Python has many types of numbers, most of them rarely used.\n",
    "\n",
    "We will focus here on the most important, **integers** and **floating point** numbers\n",
    "\n",
    "- **Integers** Numbers such as 1,0,-5,1337\n",
    "\n",
    "- **Floating point numbers*** Numbers such as 2.0, 1.337, -2.17, 2e3 (2 times 10 to the power of three)\n"
   ]
  },
  {
   "cell_type": "markdown",
   "metadata": {
    "id": "SoA0hhy6QkE0"
   },
   "source": [
    "## 1.1 Basic Arithmetic\n",
    "\n",
    "Doing basic calculations in Python works exactly how you'd expect it to work.\n",
    "\n",
    "Let's see some examples"
   ]
  },
  {
   "cell_type": "code",
   "execution_count": null,
   "metadata": {
    "id": "fRwAClPpQkE0",
    "outputId": "9d7334ed-446e-451e-ada8-4d2ecde8ef11",
    "scrolled": true
   },
   "outputs": [],
   "source": [
    "## Addition\n",
    "print(4+5)"
   ]
  },
  {
   "cell_type": "code",
   "execution_count": null,
   "metadata": {
    "id": "AcRX-3soQkE1",
    "outputId": "b1383c0f-c2c2-4325-8fce-13781cf9f45c"
   },
   "outputs": [],
   "source": [
    "## Subtraction\n",
    "print(3-1)"
   ]
  },
  {
   "cell_type": "code",
   "execution_count": null,
   "metadata": {
    "id": "HOZ8oY-4QkE2",
    "outputId": "c803b505-da40-424d-f8c4-cb8e26e97b07"
   },
   "outputs": [],
   "source": [
    "print(17-23)"
   ]
  },
  {
   "cell_type": "code",
   "execution_count": null,
   "metadata": {
    "id": "dP1c7JIPQkE2",
    "outputId": "6e863681-22ff-4284-d250-e2e7a5963da4"
   },
   "outputs": [],
   "source": [
    "## Multiplication\n",
    "print(2*5)"
   ]
  },
  {
   "cell_type": "code",
   "execution_count": null,
   "metadata": {
    "id": "riF5f-AMQkE2",
    "outputId": "0d804565-dbeb-4498-df8c-22bcaf93b8a2"
   },
   "outputs": [],
   "source": [
    "print(3*-6)"
   ]
  },
  {
   "cell_type": "code",
   "execution_count": null,
   "metadata": {
    "id": "t-lw9etKQkE3",
    "outputId": "c17a6431-84d7-4fcb-a0a6-f2c532fc3fc4"
   },
   "outputs": [],
   "source": [
    "## Division\n",
    "print(3/2)"
   ]
  },
  {
   "cell_type": "code",
   "execution_count": null,
   "metadata": {
    "id": "zBGCbuuUQkE3",
    "outputId": "72823336-cccd-4838-e49b-052f0acc5ce2"
   },
   "outputs": [],
   "source": [
    "print(5/5)"
   ]
  },
  {
   "cell_type": "code",
   "execution_count": null,
   "metadata": {
    "id": "Z2_q_5yrQkE3",
    "outputId": "944ed9ec-c04f-4d45-a13d-074f193778ca",
    "scrolled": true
   },
   "outputs": [],
   "source": [
    "## Exponents\n",
    "print(2**10)"
   ]
  },
  {
   "cell_type": "code",
   "execution_count": null,
   "metadata": {
    "id": "83Q7X9d1QkE4",
    "outputId": "d060eec8-c1cb-4925-9525-59dea578ab76"
   },
   "outputs": [],
   "source": [
    "print(5**3)"
   ]
  },
  {
   "cell_type": "code",
   "execution_count": null,
   "metadata": {
    "id": "sTw6DPWbQkE4",
    "outputId": "6e444c2a-cb2a-41f2-cc7a-4f59c354d04f",
    "scrolled": true
   },
   "outputs": [],
   "source": [
    "## Square root\n",
    "print(9**0.5)"
   ]
  },
  {
   "cell_type": "code",
   "execution_count": null,
   "metadata": {
    "id": "pllvXMrWQkE4",
    "outputId": "82d37abe-9af7-4e63-bb80-e320f2218ddd"
   },
   "outputs": [],
   "source": [
    "## Integer division\n",
    "print(5//2)\n",
    "print(4//2)"
   ]
  },
  {
   "cell_type": "code",
   "execution_count": null,
   "metadata": {
    "id": "AFZ-rbnSQkE4",
    "outputId": "c5fcf7b0-1462-487a-8cd5-fd882e46f9e5"
   },
   "outputs": [],
   "source": [
    "## Modulo\n",
    "print(6 % 2)\n",
    "print(5 % 2)\n",
    "print(4 % 2)\n",
    "print(3 % 2)"
   ]
  },
  {
   "cell_type": "markdown",
   "metadata": {
    "id": "nmFJ7iUVQkE4"
   },
   "source": [
    "## 1.2 Order of Arithmetic Operations\n",
    "\n",
    "The order of operations in python is **not** left to right.\n",
    "\n",
    "Python will perform operations with the following priority: \n",
    "1. all exponenentiations, \n",
    "2. all multiplications/divisions, and \n",
    "3. all additions/sutractions.\n",
    "\n",
    "For operations within the same priority group, Python then uses left -> right\n",
    "\n",
    "If we want to specify our own order, we just use parentheses."
   ]
  },
  {
   "cell_type": "code",
   "execution_count": null,
   "metadata": {
    "id": "gXamRLJgQkE5",
    "outputId": "640751df-8ac0-4146-9e94-4b6535b3964d"
   },
   "outputs": [],
   "source": [
    "print(2 + 3 * 5 + 1)"
   ]
  },
  {
   "cell_type": "code",
   "execution_count": null,
   "metadata": {
    "id": "D18hQIM-QkE5",
    "outputId": "a227e003-f3d1-4a02-cfe4-655d537b8663"
   },
   "outputs": [],
   "source": [
    "print( (2+3) * 5 + 1 )"
   ]
  },
  {
   "cell_type": "code",
   "execution_count": null,
   "metadata": {
    "id": "iNy1M8SdQkE5",
    "outputId": "c9dddc80-cd54-411f-ab34-59e2dde15fbe"
   },
   "outputs": [],
   "source": [
    "print( (2+3) * (5 + 1) )"
   ]
  },
  {
   "cell_type": "markdown",
   "metadata": {
    "id": "LH76Eu2TQkE5"
   },
   "source": [
    "## Bonus - More functions\n",
    "\n",
    "Some other number functions that might be useful are given here\n",
    "- **abs()** gives the absolute value of the number\n",
    "- **round()** rounds to the closest integer\n",
    "\n",
    "Note that functions can take more than one of arguments as inputs."
   ]
  },
  {
   "cell_type": "code",
   "execution_count": null,
   "metadata": {
    "id": "3QowAi_9QkE5",
    "outputId": "cae4cde2-3220-49f1-a240-2f6b59ff17c3"
   },
   "outputs": [],
   "source": [
    "print( abs(2) )"
   ]
  },
  {
   "cell_type": "code",
   "execution_count": null,
   "metadata": {
    "id": "STcB0QKmQkE6",
    "outputId": "de905cb6-9d02-4cb9-d7ca-5841f6ac2dee"
   },
   "outputs": [],
   "source": [
    "print( abs(-2.3) )"
   ]
  },
  {
   "cell_type": "code",
   "execution_count": null,
   "metadata": {
    "id": "60e-JKH5QkE6",
    "outputId": "235439f0-bf15-4ce8-fd15-a62cf829a822"
   },
   "outputs": [],
   "source": [
    "print( round(5.3) )"
   ]
  },
  {
   "cell_type": "code",
   "execution_count": null,
   "metadata": {
    "id": "sKa5TEpnQkE6",
    "outputId": "0b03747f-1b46-4e9d-c970-2f07bd9a3861"
   },
   "outputs": [],
   "source": [
    "print( round(5.6) )"
   ]
  },
  {
   "cell_type": "code",
   "execution_count": null,
   "metadata": {
    "id": "TuHmxATEQkE6",
    "outputId": "7b5159c0-8300-4473-c2e6-fb41dc57e718"
   },
   "outputs": [],
   "source": [
    "print( round(2.71828, 3) )"
   ]
  },
  {
   "cell_type": "markdown",
   "metadata": {
    "id": "r-JsAOKHQkE6"
   },
   "source": [
    "In this last line of code, the round function takes two arguments: \n",
    "- the first argument ( 2.71828 ) tells the function which number to round\n",
    "- the second argument ( 3 ) tells the function which decimal to round to "
   ]
  },
  {
   "cell_type": "markdown",
   "metadata": {
    "id": "c_Xp1MgCQkE7"
   },
   "source": [
    "---\n",
    "#  ⬅️ 2. Object Assignment\n",
    "\n",
    "We  use the **=** sign to assign labels to any item in python. Let's see how this works.\n",
    "\n",
    "You begin by your label, followed by the equals sign = , followed by the object you want your label to refer to.\n",
    "\n",
    "For example, let's set x to be the label of the number 5."
   ]
  },
  {
   "cell_type": "code",
   "execution_count": null,
   "metadata": {
    "id": "JzdFf_bQQkE7"
   },
   "outputs": [],
   "source": [
    "x = 5"
   ]
  },
  {
   "cell_type": "markdown",
   "metadata": {
    "id": "PZNX7YKjQkE7"
   },
   "source": [
    "Notice that there is no output here, as we just did an assignment.\n",
    "\n",
    "However, if we just write the label now, we should get the value of the label"
   ]
  },
  {
   "cell_type": "code",
   "execution_count": null,
   "metadata": {
    "id": "ylZa0y8ZQkE7"
   },
   "outputs": [],
   "source": [
    "x"
   ]
  },
  {
   "cell_type": "markdown",
   "metadata": {
    "id": "qIm7PL58QkE7"
   },
   "source": [
    "## 2.1 Using the label\n",
    "\n",
    "We essentially told Python to associate the value 5 with the label x.\n",
    "\n",
    "Whenever we call the label x anywhere in our script, Python treats this label as if it was the number 5.\n",
    "\n",
    "For example"
   ]
  },
  {
   "cell_type": "code",
   "execution_count": null,
   "metadata": {
    "id": "R6RGjriJQkE7"
   },
   "outputs": [],
   "source": [
    "x + 3"
   ]
  },
  {
   "cell_type": "code",
   "execution_count": null,
   "metadata": {
    "id": "BD55a8c3QkE8"
   },
   "outputs": [],
   "source": [
    "x ** 2"
   ]
  },
  {
   "cell_type": "code",
   "execution_count": null,
   "metadata": {
    "id": "L9Ph0x67QkE8"
   },
   "outputs": [],
   "source": [
    "x + x"
   ]
  },
  {
   "cell_type": "code",
   "execution_count": null,
   "metadata": {
    "id": "2Wiw2XuXQkE8"
   },
   "outputs": [],
   "source": [
    "2*x"
   ]
  },
  {
   "cell_type": "markdown",
   "metadata": {
    "id": "-EN2_J2oQkE8"
   },
   "source": [
    "## 2.2 Reassigning labels\n",
    "\n",
    "If we re-assign another object to the same label, the old label gets overwritten"
   ]
  },
  {
   "cell_type": "code",
   "execution_count": null,
   "metadata": {
    "id": "UIh0_2UBQkE8"
   },
   "outputs": [],
   "source": [
    "x = 10"
   ]
  },
  {
   "cell_type": "code",
   "execution_count": null,
   "metadata": {
    "id": "KNRCrXkhQkE8"
   },
   "outputs": [],
   "source": [
    "x "
   ]
  },
  {
   "cell_type": "code",
   "execution_count": null,
   "metadata": {
    "id": "3bt3l8x5QkE8"
   },
   "outputs": [],
   "source": [
    "x+3"
   ]
  },
  {
   "cell_type": "markdown",
   "metadata": {
    "id": "WMX8UafpQkE9"
   },
   "source": [
    "We can even use the same label to reassign. Python first evaluates whatever is on the right of the = sign, and then assigns it to the label that is on the left. Let's see an example"
   ]
  },
  {
   "cell_type": "code",
   "execution_count": null,
   "metadata": {
    "id": "JEL44dbcQkE9"
   },
   "outputs": [],
   "source": [
    "x = 20"
   ]
  },
  {
   "cell_type": "code",
   "execution_count": null,
   "metadata": {
    "id": "nuEcwt2PQkE9"
   },
   "outputs": [],
   "source": [
    "x = x + 10"
   ]
  },
  {
   "cell_type": "code",
   "execution_count": null,
   "metadata": {
    "id": "LYAX0kkZQkE9"
   },
   "outputs": [],
   "source": [
    "x"
   ]
  },
  {
   "cell_type": "code",
   "execution_count": null,
   "metadata": {
    "id": "lOtautinQkE9"
   },
   "outputs": [],
   "source": [
    "x  = 2 * x"
   ]
  },
  {
   "cell_type": "code",
   "execution_count": null,
   "metadata": {
    "id": "ux9C_m_mQkE9"
   },
   "outputs": [],
   "source": [
    "x"
   ]
  },
  {
   "cell_type": "code",
   "execution_count": null,
   "metadata": {
    "id": "0vZu_UVaQkE9"
   },
   "outputs": [],
   "source": [
    "x = x + (2*x)"
   ]
  },
  {
   "cell_type": "code",
   "execution_count": null,
   "metadata": {
    "id": "H_sZrFDnQkE9"
   },
   "outputs": [],
   "source": [
    "x"
   ]
  },
  {
   "cell_type": "markdown",
   "metadata": {},
   "source": [
    "## Note\n",
    "Python is a dynamically typed language. This means that we do not need to specify the type of a variable when we declare it. Python will automatically infer the type of the variable based on the value it is assigned to. We can also reassign the same variable many times without \"destroying it\" or changing its type explicitly.\n",
    "\n",
    "This is not true of many other languages, such as C, C++, Java, etc. In these languages, you need to specify the type of the variable when you declare it, and you cannot change the type of the variable later on."
   ]
  },
  {
   "cell_type": "markdown",
   "metadata": {
    "id": "n6_MY4nmQkE-"
   },
   "source": [
    "## 2.3 Variable rules\n",
    "\n",
    "\n",
    "There are but a few rules on how we can name our labels/variables. Those are listed here:\n",
    "- Names cannot start with a number\n",
    "- There can bee no spaces in a name, use _ instead\n",
    "- Can't use most fancy symbols, so it's better not to risk it. Symbols not allowed are :'\"<>,/?\\|\\\\ ()!@ # \\$ % ^  etc.\n",
    "- Its considered a good coding practice to have lower case names for your variables so NO CAPS.\n",
    "\n",
    "Labels, also called **variables**, are absolutely essential to programming, and will make your life much easier!\n",
    "\n",
    "Here is another example!"
   ]
  },
  {
   "cell_type": "code",
   "execution_count": null,
   "metadata": {
    "id": "HQh2bCMWQkE-"
   },
   "outputs": [],
   "source": [
    "grade_midterm = 80"
   ]
  },
  {
   "cell_type": "code",
   "execution_count": null,
   "metadata": {
    "id": "RKUvLUFbQkE-"
   },
   "outputs": [],
   "source": [
    "grade_final = 97"
   ]
  },
  {
   "cell_type": "code",
   "execution_count": null,
   "metadata": {
    "id": "DD5FrgH0QkE-"
   },
   "outputs": [],
   "source": [
    "grade = (grade_midterm + grade_final)/2"
   ]
  },
  {
   "cell_type": "code",
   "execution_count": null,
   "metadata": {
    "id": "U768eKoHQkE-"
   },
   "outputs": [],
   "source": [
    "grade"
   ]
  },
  {
   "cell_type": "markdown",
   "metadata": {
    "id": "ukWuzTeqQkE-"
   },
   "source": [
    "## 2.4 Errors\n",
    "\n",
    "Programming---even for the most experienced programmer---is not error-free.\n",
    "\n",
    "Get comfortable with things not running, experimenting & tweaking them until you can get them to work."
   ]
  },
  {
   "cell_type": "code",
   "execution_count": null,
   "metadata": {
    "id": "4gmJIgttQkE-"
   },
   "outputs": [],
   "source": [
    "## we never defined the varible gradesss but we tried to used it, and we got an error\n",
    "gradesss+20"
   ]
  },
  {
   "cell_type": "code",
   "execution_count": null,
   "metadata": {
    "id": "7j1xe1kwQkE_"
   },
   "outputs": [],
   "source": [
    "## we now did, and we will get no error\n",
    "gradesss = 50 \n",
    "gradesss+20"
   ]
  },
  {
   "cell_type": "markdown",
   "metadata": {
    "id": "NFoAMQu3QkE_"
   },
   "source": [
    "While we only assigned numbers to variables, things can get much more interesting...!\n",
    "\n",
    "Coming up next: **Strings**"
   ]
  },
  {
   "cell_type": "markdown",
   "metadata": {
    "id": "o221KFFpQkE_"
   },
   "source": [
    "--- \n",
    "# 🔤 3. Strings\n",
    "\n",
    "Strings are one of the most commonly used object types in Python.\n",
    "\n",
    "Strings are the primary object type which we use to record and manipulate **textual information**.\n",
    "\n",
    "Strings are treated by Python as **sequences**, meaning that Python understands a string as an ordered set of letters. \n",
    "- For example, the string **'MIS201'** is understood as the sequence of letters that has in its first place the letter 'M', in its second place the letter 'I', and so on ... .\n",
    "- The idea of the sequence is very important in Python and is used in many of its data types. Strings will be our first encounter with sequences!\n",
    "\n",
    "## 3.1 Creating, Printing and Assigning Strings\n",
    "\n",
    "Strings can be created by using two single quotes (or two double quotes). For example:"
   ]
  },
  {
   "cell_type": "code",
   "execution_count": null,
   "metadata": {
    "id": "TxUDT8K4QkE_"
   },
   "outputs": [],
   "source": [
    "#a single word\n",
    "'hello'"
   ]
  },
  {
   "cell_type": "code",
   "execution_count": null,
   "metadata": {
    "id": "CEorYKCRQkE_"
   },
   "outputs": [],
   "source": [
    "#or a whole phrase!\n",
    "'Yet another course :)'"
   ]
  },
  {
   "cell_type": "code",
   "execution_count": null,
   "metadata": {
    "id": "RlwiiSVCQkE_"
   },
   "outputs": [],
   "source": [
    "x = 'hello world'"
   ]
  },
  {
   "cell_type": "code",
   "execution_count": null,
   "metadata": {
    "id": "PzFwlgazQkFA"
   },
   "outputs": [],
   "source": [
    "x"
   ]
  },
  {
   "cell_type": "code",
   "execution_count": null,
   "metadata": {
    "id": "OV01nwVZQkFA"
   },
   "outputs": [],
   "source": [
    "print('hello world')"
   ]
  },
  {
   "cell_type": "code",
   "execution_count": null,
   "metadata": {
    "id": "P0-sRygjQkFA"
   },
   "outputs": [],
   "source": [
    "print(x)"
   ]
  },
  {
   "cell_type": "markdown",
   "metadata": {
    "id": "TYtTULpkQkFA"
   },
   "source": [
    "## 3.2 Special Characters\n",
    "\n",
    "Be careful when you use the single quote inside the string.\n",
    "\n",
    "Use \\ to introduce special characters!"
   ]
  },
  {
   "cell_type": "code",
   "execution_count": null,
   "metadata": {
    "id": "EqbIF9z3QkFA"
   },
   "outputs": [],
   "source": [
    "'I'm learning how to code'"
   ]
  },
  {
   "cell_type": "code",
   "execution_count": null,
   "metadata": {
    "id": "bA1Q4fBAQkFA"
   },
   "outputs": [],
   "source": [
    "#Remember: there is almost always more than one way to fix an error!\n",
    "\n",
    "'I\\'m learning how to code'\n",
    "\n",
    "#or\n",
    "\n",
    "\"I'm learning how to code\""
   ]
  },
  {
   "cell_type": "code",
   "execution_count": null,
   "metadata": {
    "id": "nAQsKRZrQkFA"
   },
   "outputs": [],
   "source": [
    "print('We are learning how to use the new line \\n and the tab \\t characters')\n",
    "\n",
    "#or\n",
    "\n",
    "print('''we are learning how to use a new line\n",
    " and the tab     characters''')"
   ]
  },
  {
   "cell_type": "code",
   "execution_count": null,
   "metadata": {
    "id": "JdsngtxNQkFA"
   },
   "outputs": [],
   "source": [
    "len('hello world')"
   ]
  },
  {
   "cell_type": "code",
   "execution_count": null,
   "metadata": {
    "id": "SEeX_JLVQkFB"
   },
   "outputs": [],
   "source": [
    "x"
   ]
  },
  {
   "cell_type": "code",
   "execution_count": null,
   "metadata": {
    "id": "tIF_dfPYQkFB"
   },
   "outputs": [],
   "source": [
    "len(x)"
   ]
  },
  {
   "cell_type": "markdown",
   "metadata": {
    "id": "NQay3EG4QkFB"
   },
   "source": [
    "## 3.3 Indexing\n",
    "\n",
    "Strings are a sequence, and with indexing we will be able to call any part of that sequence we want to.\n",
    "- We use brackets ** [ ] ** after the object to call its index\n",
    "- Indexing starts at 0 (and not one). This is a common mistake in the beginning but you'll quickly get used to it.\n",
    "\n",
    "Let's see examples."
   ]
  },
  {
   "cell_type": "code",
   "execution_count": null,
   "metadata": {
    "id": "5dPY3ETQQkFB"
   },
   "outputs": [],
   "source": [
    "x"
   ]
  },
  {
   "cell_type": "code",
   "execution_count": null,
   "metadata": {
    "id": "Y5ngqs5aQkFB"
   },
   "outputs": [],
   "source": [
    "#show the first letter\n",
    "x[0]"
   ]
  },
  {
   "cell_type": "code",
   "execution_count": null,
   "metadata": {
    "id": "g6KidQzbQkFB"
   },
   "outputs": [],
   "source": [
    "#show the fifth letter\n",
    "x[4]"
   ]
  },
  {
   "cell_type": "code",
   "execution_count": null,
   "metadata": {
    "id": "dVaotbYlQkFC"
   },
   "outputs": [],
   "source": [
    "#show the sixth letter - it's a whitespace!\n",
    "x[5]"
   ]
  },
  {
   "cell_type": "code",
   "execution_count": null,
   "metadata": {
    "id": "xQT4xHgEQkFC"
   },
   "outputs": [],
   "source": [
    "#grab everything from and including what's in index 1 up to the end\n",
    "x[1:]"
   ]
  },
  {
   "cell_type": "code",
   "execution_count": null,
   "metadata": {
    "id": "zjNX16mEQkFC"
   },
   "outputs": [],
   "source": [
    "#grab everything from and including index 1 up to (but not including) index 4\n",
    "x[1:4]"
   ]
  },
  {
   "cell_type": "code",
   "execution_count": null,
   "metadata": {
    "id": "8zobbvFmQkFD"
   },
   "outputs": [],
   "source": [
    "#grab everything up to (but not including) index 7\n",
    "x[:7]"
   ]
  },
  {
   "cell_type": "code",
   "execution_count": null,
   "metadata": {
    "id": "Yx9SgdIXQkFD"
   },
   "outputs": [],
   "source": [
    "#grab anything but the last two letters\n",
    "x[:-2]"
   ]
  },
  {
   "cell_type": "markdown",
   "metadata": {
    "id": "irlyOpnrQkFD"
   },
   "source": [
    "## 3.4 Important String Properties\n",
    "\n",
    "\n",
    "### Immutability\n",
    "The very first thing that we should know about strings is that they have a property called **immutability**.\n",
    "\n",
    "Let's try to change what an index of a string contains. \n",
    "For example try to change the first letter to a capital H."
   ]
  },
  {
   "cell_type": "code",
   "execution_count": null,
   "metadata": {
    "id": "P75gCeqcQkFE"
   },
   "outputs": [],
   "source": [
    "x = 'hello world'\n",
    "x[0] = 'H'"
   ]
  },
  {
   "cell_type": "markdown",
   "metadata": {
    "id": "FV0H6ekVQkFE"
   },
   "source": [
    "Immutability means that when the string is created, we cannot change or replace the elements of the sequence it represents. This is true for other data types (tuples) but not for every one of them (lists). We'll resume our discussion in the future.\n",
    "\n",
    "\n",
    "### Concatenation\n",
    "However, something we can do is **concatenate** strings---add a string to another string."
   ]
  },
  {
   "cell_type": "code",
   "execution_count": null,
   "metadata": {
    "id": "t-s1Qet9QkFE"
   },
   "outputs": [],
   "source": [
    "x = \"hello MIS201, \""
   ]
  },
  {
   "cell_type": "code",
   "execution_count": null,
   "metadata": {
    "id": "d7-zgwIhQkFE"
   },
   "outputs": [],
   "source": [
    "#concatenating strings\n",
    "x + ' we are now coding!'"
   ]
  },
  {
   "cell_type": "code",
   "execution_count": null,
   "metadata": {
    "id": "7h7pq0tVQkFE"
   },
   "outputs": [],
   "source": [
    "#concatenate and reassign\n",
    "x = x + ' we are now coding!'\n",
    "print(x)"
   ]
  },
  {
   "cell_type": "code",
   "execution_count": null,
   "metadata": {
    "id": "uXywKQg_QkFE"
   },
   "outputs": [],
   "source": [
    "#another way to change the first letter\n",
    "x = 'H' + x[1:]\n",
    "print(x)"
   ]
  },
  {
   "cell_type": "code",
   "execution_count": null,
   "metadata": {
    "id": "WJcvf6X8QkFE"
   },
   "outputs": [],
   "source": [
    "#multiplication symbol repeats the same string\n",
    "x*3"
   ]
  },
  {
   "cell_type": "markdown",
   "metadata": {},
   "source": [
    "## 3.5 A cool new way to do this: f-strings\n",
    "One feature added in Python 3.6 is the f-string, which allows us to directly insert variables into a string.\n",
    "How? Well, it's incredibly easy"
   ]
  },
  {
   "cell_type": "code",
   "execution_count": null,
   "metadata": {},
   "outputs": [],
   "source": [
    "name = \"Alice\"\n",
    "age = 30\n",
    "print(f\"My name is {name} and I am {age} years old.\")"
   ]
  },
  {
   "cell_type": "markdown",
   "metadata": {
    "id": "W1tHnoKvQkFF"
   },
   "source": [
    "## 3.6 Important string functions\n",
    "\n",
    "Python comes with functions, which are pre-coded functionalities. \n",
    "- for example, abs(-0.3) \n",
    "- There are tons of other functions not mentioned here! \n",
    "- Using them saves us a lot of time! When we need to manipulate a string, it's always a good idea to start by looking it up on the internet, since reinventing the wheel takes a lot of time! \n",
    "\n",
    "Some examples of useful string functions are given below. \n",
    "\n"
   ]
  },
  {
   "cell_type": "code",
   "execution_count": null,
   "metadata": {
    "id": "8nrff2uQQkFF"
   },
   "outputs": [],
   "source": [
    "x"
   ]
  },
  {
   "cell_type": "code",
   "execution_count": null,
   "metadata": {
    "id": "nc3m-96lQkFF"
   },
   "outputs": [],
   "source": [
    "x.upper()"
   ]
  },
  {
   "cell_type": "code",
   "execution_count": null,
   "metadata": {
    "id": "_Lu-f3RoQkFF"
   },
   "outputs": [],
   "source": [
    "x.lower()"
   ]
  },
  {
   "cell_type": "code",
   "execution_count": null,
   "metadata": {
    "id": "3XMKjvFlQkFG"
   },
   "outputs": [],
   "source": [
    "x.split()"
   ]
  },
  {
   "cell_type": "code",
   "execution_count": null,
   "metadata": {
    "id": "dShD0jwCQkFG"
   },
   "outputs": [],
   "source": [
    "x.split('o')"
   ]
  },
  {
   "cell_type": "code",
   "execution_count": null,
   "metadata": {
    "id": "i86DOHG9QkFG"
   },
   "outputs": [],
   "source": [
    "x.count('o')"
   ]
  },
  {
   "cell_type": "code",
   "execution_count": null,
   "metadata": {
    "id": "Lha_DAOoQkFG"
   },
   "outputs": [],
   "source": [
    "x.find('d')"
   ]
  },
  {
   "cell_type": "code",
   "execution_count": null,
   "metadata": {
    "id": "DD8nmv8JQkFG"
   },
   "outputs": [],
   "source": [
    "x.find('ding')"
   ]
  },
  {
   "cell_type": "code",
   "execution_count": null,
   "metadata": {},
   "outputs": [],
   "source": [
    "# strip() removes any leading (spaces at the beginning) and trailing (spaces at the end) characters\n",
    "# By default, it removes whitespace but you can also specify other characters.\n",
    "text = \"   Hello, World!   \"\n",
    "print(text.strip())  # Removes spaces"
   ]
  },
  {
   "cell_type": "code",
   "execution_count": null,
   "metadata": {},
   "outputs": [],
   "source": [
    "text = \"Python is fun.\"\n",
    "print(text.startswith(\"Python\"))"
   ]
  },
  {
   "cell_type": "code",
   "execution_count": null,
   "metadata": {},
   "outputs": [],
   "source": [
    "text = \"Python is fun.\"\n",
    "print(text.endswith(\"fun.\"))  # True"
   ]
  },
  {
   "cell_type": "code",
   "execution_count": null,
   "metadata": {},
   "outputs": [],
   "source": [
    "text = \"I like apples.\"\n",
    "print(text.replace(\"apples\", \"bananas\"))"
   ]
  },
  {
   "cell_type": "markdown",
   "metadata": {
    "id": "nlIzLv_DQkFH"
   },
   "source": [
    "## 3.6 More errors\n",
    "\n",
    "We can add two similar items using + but not two disssimilar items.\n",
    "That is, we can perform certain functions only on items of the same **type**"
   ]
  },
  {
   "cell_type": "code",
   "execution_count": null,
   "metadata": {
    "id": "Ajy7q_aUQkFH"
   },
   "outputs": [],
   "source": [
    "5 + 10"
   ]
  },
  {
   "cell_type": "code",
   "execution_count": null,
   "metadata": {
    "id": "_Q3aMIETQkFH"
   },
   "outputs": [],
   "source": [
    "\"55\" + \"MIS210\""
   ]
  },
  {
   "cell_type": "code",
   "execution_count": null,
   "metadata": {
    "id": "8A66gH1oQkFH"
   },
   "outputs": [],
   "source": [
    "55 + \"MIS210\""
   ]
  }
 ],
 "metadata": {
  "colab": {
   "collapsed_sections": [
    "LH76Eu2TQkE5",
    "qIm7PL58QkE7",
    "-EN2_J2oQkE8",
    "n6_MY4nmQkE-",
    "ukWuzTeqQkE-",
    "NQay3EG4QkFB",
    "irlyOpnrQkFD",
    "FV0H6ekVQkFE",
    "W1tHnoKvQkFF",
    "nlIzLv_DQkFH"
   ],
   "name": "01.1 Numbers, Object Assignment, Strings, Simple unix.ipynb",
   "provenance": []
  },
  "kernelspec": {
   "display_name": "Python 3 (ipykernel)",
   "language": "python",
   "name": "python3"
  },
  "language_info": {
   "codemirror_mode": {
    "name": "ipython",
    "version": 3
   },
   "file_extension": ".py",
   "mimetype": "text/x-python",
   "name": "python",
   "nbconvert_exporter": "python",
   "pygments_lexer": "ipython3",
   "version": "3.11.7"
  }
 },
 "nbformat": 4,
 "nbformat_minor": 1
}
