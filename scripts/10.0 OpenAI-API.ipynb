{
 "cells": [
  {
   "cell_type": "markdown",
   "metadata": {},
   "source": [
    "---\n",
    "\n",
    "### 🎓 **Professor**: Apostolos Filippas (with Reanna Ishmael's help)\n",
    "\n",
    "### 📘 **Class**: Web Analytics\n",
    "\n",
    "### 📋 **Topic**: Getting started with APIs\n",
    "\n",
    "### 🔗 **Link**: https://bit.ly/WA_LEC10_API_INTRO\n",
    "\n",
    "🚫 **Note**: You are not allowed to share the contents of this notebook with anyone outside this class without written permission by the professor.\n",
    "\n",
    "---"
   ]
  },
  {
   "cell_type": "markdown",
   "metadata": {},
   "source": [
    "# Installing the OpenAI library"
   ]
  },
  {
   "cell_type": "markdown",
   "metadata": {},
   "source": [
    "Before you get started with the API, you'll need to install\n",
    "- the OpenAI library.\n",
    "- the dotenv package that will allow us to store \"secrets\" in a better way\n",
    "\n",
    "Run the following install commands on your terminal/command line:\n",
    "- `pip install python-dotenv`\n",
    "- `pip install openai`\n",
    "\n",
    "Then run the import commands below to make sure that everything's running smoothly."
   ]
  },
  {
   "cell_type": "code",
   "execution_count": null,
   "metadata": {},
   "outputs": [],
   "source": [
    "import os\n",
    "import openai\n",
    "from dotenv import load_dotenv\n"
   ]
  },
  {
   "cell_type": "markdown",
   "metadata": {},
   "source": [
    "# 1. Getting ready to use the API"
   ]
  },
  {
   "cell_type": "markdown",
   "metadata": {},
   "source": [
    "## 1.1 Sign up for an OpenAI account\n",
    "\n",
    "You may already have an OpenAI account if you use ChatGPT. If you already have an OpenAI account, you can log in at https://platform.openai.com/login.\n",
    "\n",
    "If you don't have an account, go to https://platform.openai.com/signup.\n",
    "\n",
    "You should see the page below. Follow the sign-up process to create an account.\n",
    "\n",
    "<p align = 'center'>\n",
    "    <img src=\"https://raw.githubusercontent.com/MLGBJDLW/API-Images/main/Sign%20Up.png\" \n",
    "        alt=\"OpenAI Sign Up\" \n",
    "        width=\"400\">\n",
    "</p>"
   ]
  },
  {
   "cell_type": "markdown",
   "metadata": {},
   "source": [
    "## 1.2 Add a payment method"
   ]
  },
  {
   "cell_type": "markdown",
   "metadata": {},
   "source": [
    "You'll need to add a payment method to your account to make API calls.\n",
    "\n",
    "In the upper-right hand corner, click on **Settings** icon.\n",
    "\n",
    "<p align = 'center'>\n",
    "  <img src=\"https://raw.githubusercontent.com/MLGBJDLW/API-Images/main/Setting.PNG\" \n",
    "    alt=\"Setting Image\" width=\"500\">\n",
    "</p>"
   ]
  },
  {
   "cell_type": "markdown",
   "metadata": {},
   "source": [
    "In the sidebar, under **ORGANIZATION**, go to **Billing**, which will take you to the Billing overview page. Now, click on **Payment methods**.\n",
    "\n",
    "<p align=\"center\">\n",
    "  <img src=\"https://raw.githubusercontent.com/MLGBJDLW/API-Images/main/Payment%20Method.PNG\" \n",
    "    alt=\"Payment Method Image\" width=\"400\">\n",
    "</p>"
   ]
  },
  {
   "cell_type": "markdown",
   "metadata": {},
   "source": [
    "Click on **Add payment method**, you'll be asked to enter your credit card information.\n",
    "\n",
    "Once you've done that, you'll be asked to set up an initial credit balance. You can add $10.00 as a starting amount. If you need more, you can go back later and add to your balance.\n",
    "\n",
    "<p align=\"center\">\n",
    "  <img src=\"https://raw.githubusercontent.com/MLGBJDLW/API-Images/main/Add%20Payment.PNG\" \n",
    "    alt=\"Add Payment Image\" width=\"800\">\n",
    "</p>\n"
   ]
  },
  {
   "cell_type": "markdown",
   "metadata": {},
   "source": [
    "When you're done, return to the **Overview** page, you should see a screen like this displaying your credit balance. If so, you're good to go!\n",
    "\n",
    "<p align=\"center\">\n",
    "  <img src=\"https://raw.githubusercontent.com/MLGBJDLW/API-Images/main/Billing%20Overview.PNG\" \n",
    "    alt=\"Billing Overview Image\" width=\"800\">\n",
    "</p>"
   ]
  },
  {
   "cell_type": "markdown",
   "metadata": {},
   "source": [
    "# 2. Get an API key"
   ]
  },
  {
   "cell_type": "markdown",
   "metadata": {},
   "source": [
    "Now in the sidebar, click **API keys**.\n",
    "\n",
    "<p align=\"center\">\n",
    "  <img src=\"https://raw.githubusercontent.com/MLGBJDLW/API-Images/main/API%20keys.PNG\" \n",
    "    alt=\"API Keys Image\" width=\"200\">\n",
    "</p>\n"
   ]
  },
  {
   "cell_type": "markdown",
   "metadata": {},
   "source": [
    "Click on **Create new secret key**.\n",
    "\n",
    "<p align=\"center\">\n",
    "  <img src=\"https://raw.githubusercontent.com/MLGBJDLW/API-Images/main/Create%20new%20key.PNG\" \n",
    "    alt=\"Create New Key Image\" width=\"800\">\n",
    "</p>\n"
   ]
  },
  {
   "cell_type": "markdown",
   "metadata": {},
   "source": [
    "A box will pop up asking you to give your key a name. After you name your key, leave the other options as default, and click **Create secret key**.\n",
    "\n",
    "<p align=\"center\">\n",
    "  <img src=\"https://raw.githubusercontent.com/MLGBJDLW/API-Images/main/Key%20Name.PNG\" \n",
    "    alt=\"Key Name Image\" width=\"500\">\n",
    "</p>\n"
   ]
  },
  {
   "cell_type": "markdown",
   "metadata": {},
   "source": [
    "You should see the following:\n",
    "\n",
    "<p align=\"center\">\n",
    "  <img src=\"https://raw.githubusercontent.com/MLGBJDLW/API-Images/main/Save%20Key.PNG\" \n",
    "    alt=\"Save Key Image\" width=\"500\">\n",
    "</p>\n"
   ]
  },
  {
   "cell_type": "markdown",
   "metadata": {},
   "source": [
    "Copy your key and store it somewhere safe for now! If you don't remember it later, you can't access it again from your account -- you will have to create another one.\n",
    "\n",
    "In the next section, we'll go over storing your key in a .env file."
   ]
  },
  {
   "cell_type": "markdown",
   "metadata": {},
   "source": [
    "# 3. Store the API key in dotenv"
   ]
  },
  {
   "cell_type": "markdown",
   "metadata": {},
   "source": [
    "In your current project directory, create a file called .env.\n",
    "\n",
    "If you're in VS Code, you can click the **New File...** button at the top of the sidebar, type **.env** as the filename, and then hit Enter on your keyboard. The file should automatically have a tiny gear icon ⚙️ on the left.\n",
    "\n",
    "<p align=\"center\">\n",
    "  <img src=\"https://raw.githubusercontent.com/MLGBJDLW/API-Images/main/env.png\" \n",
    "    alt=\"Environment Setup Image\" width=\"400\">\n",
    "</p>\n"
   ]
  },
  {
   "cell_type": "markdown",
   "metadata": {},
   "source": [
    "Open the .env file and type the following, replacing `your_api_key` with your actual API key:\n",
    "\n",
    "<p align=\"center\">\n",
    "  <img src=\"https://raw.githubusercontent.com/MLGBJDLW/API-Images/main/openai_api_key.png\" \n",
    "    alt=\"OpenAI API Key Image\" width=\"500\">\n",
    "</p>\n"
   ]
  },
  {
   "cell_type": "markdown",
   "metadata": {},
   "source": [
    "That's it! Just save the file and you're good to go.\n",
    "\n",
    "But why are we storing our API key in this file?\n",
    "\n",
    "> It's a bad idea to hardcode your API key into a notebook or script, especially if you plan to share it with someone else. That person can then make API calls on your account, charging your credit card, exceeding the rate limits, and so on."
   ]
  },
  {
   "cell_type": "markdown",
   "metadata": {},
   "source": [
    "# 4. Using OpenAI's API"
   ]
  },
  {
   "cell_type": "markdown",
   "metadata": {},
   "source": [
    "Now we'll make a request to Open AI's API! But first, we need to retrieve our API key."
   ]
  },
  {
   "cell_type": "markdown",
   "metadata": {},
   "source": [
    "## 4.1 Retrieve API key"
   ]
  },
  {
   "cell_type": "code",
   "execution_count": null,
   "metadata": {},
   "outputs": [],
   "source": [
    "# Load all of the environment variables in the .env file\n",
    "load_dotenv()\n",
    "\n",
    "# Retrieve the environment variable with the name OPENAI_API_KEY\n",
    "my_api_key = os.getenv(\"OPENAI_API_KEY\")\n",
    "\n",
    "if my_api_key is not None:\n",
    "  print(\"Successfully retrieved OpenAI API key!\")"
   ]
  },
  {
   "cell_type": "markdown",
   "metadata": {},
   "source": [
    "We'll set `openai.api_key` equal to the key you just retrieved.\n",
    "\n",
    "Now, your key will be used for all future calls to the OpenAI API in this notebook."
   ]
  },
  {
   "cell_type": "code",
   "execution_count": null,
   "metadata": {},
   "outputs": [],
   "source": [
    "openai.api_key = my_api_key"
   ]
  },
  {
   "cell_type": "markdown",
   "metadata": {},
   "source": [
    "## 4.2 Make an API call"
   ]
  },
  {
   "cell_type": "markdown",
   "metadata": {},
   "source": [
    "Now for the fun part! Let's ask the gpt-3.5-turbo model for a joke."
   ]
  },
  {
   "cell_type": "code",
   "execution_count": null,
   "metadata": {},
   "outputs": [],
   "source": [
    "def make_api_call(model, prompt):\n",
    "  response = openai.chat.completions.create(\n",
    "    model=model,\n",
    "    messages=[\n",
    "      {\"role\": \"user\",\n",
    "      \"content\": prompt}\n",
    "    ]\n",
    "  )\n",
    "  return response.choices[0].message.content"
   ]
  },
  {
   "cell_type": "code",
   "execution_count": null,
   "metadata": {},
   "outputs": [],
   "source": [
    "make_api_call(\"gpt-4o\", \"Tell me a joke!\")"
   ]
  },
  {
   "cell_type": "markdown",
   "metadata": {},
   "source": [
    "That's all for now!\n",
    "Come to next class to find out more about APIs and how to use them."
   ]
  }
 ],
 "metadata": {
  "kernelspec": {
   "display_name": "venv",
   "language": "python",
   "name": "python3"
  },
  "language_info": {
   "codemirror_mode": {
    "name": "ipython",
    "version": 3
   },
   "file_extension": ".py",
   "mimetype": "text/x-python",
   "name": "python",
   "nbconvert_exporter": "python",
   "pygments_lexer": "ipython3",
   "version": "3.12.3"
  }
 },
 "nbformat": 4,
 "nbformat_minor": 2
}
