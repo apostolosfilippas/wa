{
 "cells": [
  {
   "cell_type": "markdown",
   "metadata": {},
   "source": [
    "---\n",
    "\n",
    "### 🎓 **Professor**: Apostolos Filippas\n",
    "\n",
    "### 📘 **Class**: Web Analytics\n",
    "\n",
    "### 📋 **Topic**: Sets, Assignment by value & reference (self-study)\n",
    "\n",
    "🚫 **Note**: You are not allowed to share the contents of this notebook with anyone outside this class without written permission by the professor.\n",
    "\n",
    "---\n",
    "\n",
    "# ⚪⚫ 1. Sets </font></center>\n",
    "\n",
    "\n",
    "Another useful datatype that is the \"set\" data type.\n",
    "\n",
    "\n",
    "Sets are an **unordered** collection of **unique** items. Let's see how they work through examples."
   ]
  },
  {
   "cell_type": "code",
   "execution_count": null,
   "metadata": {},
   "outputs": [],
   "source": [
    "#first let's construct an empty set\n",
    "my_set = set()\n",
    "my_set"
   ]
  },
  {
   "cell_type": "markdown",
   "metadata": {},
   "source": [
    "Our set is empty, so let's start adding items to it"
   ]
  },
  {
   "cell_type": "code",
   "execution_count": null,
   "metadata": {},
   "outputs": [],
   "source": [
    "my_set.add(0)\n",
    "my_set"
   ]
  },
  {
   "cell_type": "code",
   "execution_count": null,
   "metadata": {},
   "outputs": [],
   "source": [
    "my_set.add(1)\n",
    "my_set.add(2)\n",
    "my_set"
   ]
  },
  {
   "cell_type": "code",
   "execution_count": null,
   "metadata": {},
   "outputs": [],
   "source": [
    "# now let's add a duplicate\n",
    "my_set.add(2)\n",
    "\n",
    "# notice that the duplicate is not added - sets contain unique values\n",
    "my_set"
   ]
  },
  {
   "cell_type": "code",
   "execution_count": null,
   "metadata": {},
   "outputs": [],
   "source": [
    "# `update` lets you add multiple elements at once\n",
    "my_set.update([11,12,13])\n"
   ]
  },
  {
   "cell_type": "code",
   "execution_count": null,
   "metadata": {},
   "outputs": [],
   "source": [
    "# `remove` lets you remove an element\n",
    "my_set.remove(11)"
   ]
  },
  {
   "cell_type": "code",
   "execution_count": null,
   "metadata": {},
   "outputs": [],
   "source": [
    "#  but will throw an error if the element is not in the set\n",
    "my_set.remove(11)"
   ]
  },
  {
   "cell_type": "code",
   "execution_count": null,
   "metadata": {},
   "outputs": [],
   "source": [
    "# `discard` lets you remove an element without throwing an error if it's not in the set\n",
    "my_set.discard(9)"
   ]
  },
  {
   "cell_type": "markdown",
   "metadata": {},
   "source": [
    "### Casting\n",
    "\n",
    "We can also change lists to sets and back by a process that is called casting. (We saw casting before in the context of dictionaries keys and values). Let's see how this works."
   ]
  },
  {
   "cell_type": "code",
   "execution_count": null,
   "metadata": {},
   "outputs": [],
   "source": [
    "my_list = [1,2,3,4,0,2,3,4,5,6,1,2,3]\n",
    "my_list"
   ]
  },
  {
   "cell_type": "code",
   "execution_count": null,
   "metadata": {},
   "outputs": [],
   "source": [
    "#casting the list to a set - notice how that will eliminate additional occurences of any value\n",
    "set(my_list)"
   ]
  },
  {
   "cell_type": "markdown",
   "metadata": {},
   "source": [
    "### Other set operations\n",
    "\n",
    "Going back to our math education, we can define two common operations between two sets A and B\n",
    "- **union** the union of A and B is a set that contains any element contained in either A or B\n",
    "- **intersection** the interection of A and B is a set that contains elements both in A and B\n",
    "\n",
    "Python sets have the union and interection methods. Let's see an example"
   ]
  },
  {
   "cell_type": "code",
   "execution_count": null,
   "metadata": {},
   "outputs": [],
   "source": [
    "A = {0,1,3,5,9,10}\n",
    "B = {0,2,4,6,8,10}"
   ]
  },
  {
   "cell_type": "code",
   "execution_count": null,
   "metadata": {},
   "outputs": [],
   "source": [
    "# `union` returns all elements in either set\n",
    "A.union(B)"
   ]
  },
  {
   "cell_type": "code",
   "execution_count": null,
   "metadata": {},
   "outputs": [],
   "source": [
    "# therefore it does not matter which set we call the method on\n",
    "B.union(A)"
   ]
  },
  {
   "cell_type": "code",
   "execution_count": null,
   "metadata": {},
   "outputs": [],
   "source": [
    "# `intersection` returns only elements in both sets\n",
    "A.intersection(B)"
   ]
  },
  {
   "cell_type": "code",
   "execution_count": null,
   "metadata": {},
   "outputs": [],
   "source": [
    "# again, it does not matter which set we call the method on\n",
    "B.intersection(A)"
   ]
  },
  {
   "cell_type": "code",
   "execution_count": null,
   "metadata": {},
   "outputs": [],
   "source": [
    "# `difference` returns a set containing all the elements of the first set that are not in the second set.\n",
    "A.difference(B)"
   ]
  },
  {
   "cell_type": "code",
   "execution_count": null,
   "metadata": {},
   "outputs": [],
   "source": [
    "# here, the order of the sets matters\n",
    "B.difference(A)"
   ]
  },
  {
   "cell_type": "markdown",
   "metadata": {},
   "source": [
    "### Sets VS Lists\n",
    "\n",
    "While both sets and lists are used to store collections of items, there are key differences:\n",
    "\n",
    "1. Uniqueness: As already discussed, sets can't have duplicate items, while lists can.\n",
    "2. Order: Lists are ordered collections, meaning items have a specific order in which they appear. Sets are unordered.\n",
    "3. Mutability: Lists are mutable (i.e., you can change their content after creation). Sets are mutable too, but the items contained in sets must be of an immutable type (like strings, numbers, and tuples)."
   ]
  },
  {
   "cell_type": "markdown",
   "metadata": {},
   "source": [
    "### Example\n",
    "\n",
    "Imagine you're a web analyst for an e-commerce company. You want to understand the behavior of users visiting your website. Here's how sets can be beneficial:\n",
    "\n",
    "Scenario: You've just had a big sale on your website. You've collected data on visitors for two days - the day of the sale and the day after. You want to know:\n",
    "\n",
    "How many unique visitors came to your website each day?\n",
    "How many visitors came on both days?\n",
    "How many visitors only came on the sale day and not the day after?\n",
    "Assuming you have a list of user IDs (or some identifier) for visitors each day:"
   ]
  },
  {
   "cell_type": "code",
   "execution_count": null,
   "metadata": {},
   "outputs": [],
   "source": [
    "# Day of the sale\n",
    "sale_day_visitors = [\"user1\", \"user2\", \"user3\", \"user4\", \"user2\", \"user5\"]\n",
    "\n",
    "# Day after the sale\n",
    "post_sale_day_visitors = [\"user4\", \"user6\", \"user7\", \"user8\", \"user1\"]\n",
    "\n",
    "# Converting lists to sets to get unique visitors\n",
    "sale_day_set = set(sale_day_visitors)\n",
    "post_sale_day_set = set(post_sale_day_visitors)\n"
   ]
  },
  {
   "cell_type": "code",
   "execution_count": null,
   "metadata": {},
   "outputs": [],
   "source": [
    "# 1. Number of unique visitors each day\n",
    "print(f\"Unique visitors on sale day: {len(sale_day_set)}\")\n",
    "print(f\"Unique visitors on the day after the sale: {len(post_sale_day_set)}\")\n"
   ]
  },
  {
   "cell_type": "code",
   "execution_count": null,
   "metadata": {},
   "outputs": [],
   "source": [
    "# 2. Visitors on Both Days (Intersection):\n",
    "both_days = sale_day_set.intersection(post_sale_day_set)\n",
    "print(f\"Visitors on both days: {both_days}\")\n"
   ]
  },
  {
   "cell_type": "code",
   "execution_count": null,
   "metadata": {},
   "outputs": [],
   "source": [
    "# 3. Visitors only on the sale day (Difference):\n",
    "only_sale_day = sale_day_set.difference(post_sale_day_set)\n",
    "print(f\"Visitors only on the sale day: {only_sale_day}\")\n"
   ]
  },
  {
   "cell_type": "markdown",
   "metadata": {},
   "source": [
    "--- \n",
    "# 🔗 ✂️ 2. Assignment by reference and value\n",
    "\n",
    "\"In Python, understanding how variables reference data can be crucial to prevent unintended side effects. The behavior of variables, especially when assigned or copied, can be surprising if you don't understand how Python's memory management works.\n",
    "\n",
    "- When using the = operator, Python performs an **assignment by reference**:\n",
    "- Assignment by reference means that the contents to which a variable refers to **are not copied**.\n",
    "- Instead, the variable remembers only the address of those contents in the memory of your computer.\n",
    "\n",
    "Let's see an example"
   ]
  },
  {
   "cell_type": "code",
   "execution_count": null,
   "metadata": {},
   "outputs": [],
   "source": [
    "my_dict = {'cat':'die Katze', 'dog':'der Hund'}\n",
    "\n",
    "# assign my_dict to the variable second_dict by reference\n",
    "second_dict = my_dict"
   ]
  },
  {
   "cell_type": "code",
   "execution_count": null,
   "metadata": {},
   "outputs": [],
   "source": [
    "#both refer to the same content\n",
    "print( my_dict == second_dict )\n",
    "print(my_dict)\n",
    "print(second_dict)"
   ]
  },
  {
   "cell_type": "markdown",
   "metadata": {},
   "source": [
    "The `is` operator checks if two variables refer to the exact same object in memory, not just if they are equal."
   ]
  },
  {
   "cell_type": "code",
   "execution_count": null,
   "metadata": {},
   "outputs": [],
   "source": [
    "#but each variable refers to the same place in memory!\n",
    "my_dict is second_dict"
   ]
  },
  {
   "cell_type": "code",
   "execution_count": null,
   "metadata": {},
   "outputs": [],
   "source": [
    "# when you change the contents, then they change for every referece (variable) to this place in memory\n",
    "my_dict['mice'] = 'die Mäuse'\n",
    "print(my_dict)\n",
    "print(second_dict)"
   ]
  },
  {
   "cell_type": "code",
   "execution_count": null,
   "metadata": {},
   "outputs": [],
   "source": [
    "del my_dict['mice']\n",
    "print(my_dict)\n",
    "print(second_dict)"
   ]
  },
  {
   "cell_type": "markdown",
   "metadata": {},
   "source": [
    "The variables my_dict and second_dict refer to the same place in memory!\n",
    "- when you change the dictionary by using any one of them, then the changes are reflected in both variables\n",
    "- this can be good, but also incovnenient: you might want to story a copy of the dictionary at second_dict, and make changes that are not reflected in the original copy!\n",
    "\n",
    "If you don't want this to happen, you have to perform an **assignment by value**\n",
    "- that is, make a copy of the original memory contents to the new variable\n",
    "- this can be done by specifying that you want a new copy"
   ]
  },
  {
   "cell_type": "code",
   "execution_count": null,
   "metadata": {},
   "outputs": [],
   "source": [
    "second_dict = dict(my_dict)\n",
    "print( my_dict == second_dict )\n",
    "print( my_dict is second_dict )"
   ]
  },
  {
   "cell_type": "markdown",
   "metadata": {},
   "source": [
    "The same thing holds for lists, but instead of dict(my_dict) you would have to call list(my_list)\n",
    "\n",
    "Now see what happens if you make changes:"
   ]
  },
  {
   "cell_type": "code",
   "execution_count": null,
   "metadata": {},
   "outputs": [],
   "source": [
    "my_dict['the butterfly'] = 'der Schmetterling'\n",
    "\n",
    "# changes are now only reflected in one of the two variables\n",
    "# since the two variables refer to **different** copies of the dictionary (different places in memory)\n",
    "print(my_dict)\n",
    "print(second_dict)"
   ]
  },
  {
   "cell_type": "markdown",
   "metadata": {},
   "source": [
    "## Another example\n",
    "\n",
    "Let's create a dictionary as follows"
   ]
  },
  {
   "cell_type": "code",
   "execution_count": 2,
   "metadata": {},
   "outputs": [
    {
     "name": "stdout",
     "output_type": "stream",
     "text": [
      "{'a': 1, 'b': 2, 'c': [5, 6, 7], 'd': [5, 6, 7]}\n"
     ]
    }
   ],
   "source": [
    "x = [5,6,7]\n",
    "\n",
    "my_dict = {\n",
    "    'a': 1,\n",
    "    'b': 2,\n",
    "    'c': x,\n",
    "    'd': x\n",
    "}\n",
    "\n",
    "print(my_dict)"
   ]
  },
  {
   "cell_type": "markdown",
   "metadata": {},
   "source": [
    "Now let's change the variable `x`"
   ]
  },
  {
   "cell_type": "code",
   "execution_count": 3,
   "metadata": {},
   "outputs": [
    {
     "name": "stdout",
     "output_type": "stream",
     "text": [
      "{'a': 1, 'b': 2, 'c': [5, 6, 7, 8], 'd': [5, 6, 7, 8]}\n"
     ]
    }
   ],
   "source": [
    "x.append(8)\n",
    "print(my_dict)"
   ]
  },
  {
   "cell_type": "markdown",
   "metadata": {},
   "source": [
    "Note that you didn't just change the list that x refers to, but also the values associated with keys `c` and `d`. \n",
    "The reason is that Python does assignment by reference! "
   ]
  },
  {
   "cell_type": "markdown",
   "metadata": {},
   "source": [
    "### Always be aware of whether you're working with a reference or a copy of your data. When in doubt, make an explicit copy"
   ]
  },
  {
   "cell_type": "markdown",
   "metadata": {},
   "source": []
  }
 ],
 "metadata": {
  "kernelspec": {
   "display_name": "Python 3",
   "language": "python",
   "name": "python3"
  },
  "language_info": {
   "codemirror_mode": {
    "name": "ipython",
    "version": 3
   },
   "file_extension": ".py",
   "mimetype": "text/x-python",
   "name": "python",
   "nbconvert_exporter": "python",
   "pygments_lexer": "ipython3",
   "version": "3.10.4"
  }
 },
 "nbformat": 4,
 "nbformat_minor": 1
}
