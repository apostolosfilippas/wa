{
 "cells": [
  {
   "cell_type": "markdown",
   "metadata": {
    "id": "txUWuvYVZiu5"
   },
   "source": [
    "---\n",
    "\n",
    "### 🎓 **Professor**: Apostolos Filippas\n",
    "\n",
    "### 📘 **Class**: Web Analytics\n",
    "\n",
    "### 📋 **Topic**: Loops, files, and working with data\n",
    "\n",
    "🚫 **Note**: You are not allowed to share the contents of this notebook with anyone outside this class without written permission by the professor.\n",
    "\n",
    "---\n",
    "\n",
    "# 🔄 1. Iterating..\n",
    "\n",
    "A for loop in python acts as **an iterator** \n",
    "- An iterator goes into an object, and runs throught all of its items\n",
    "- That object can be a sequence, mutable or immutable. Objects that we've learnt about and we can iterate over include strings, lists, dictionary keys and values.\n",
    "- There are also other objects, called iterables, which we are able to iterate over. We'll learn about such an object today!\n",
    "\n",
    "A general statement for a for loop is the following\n",
    "\n",
    "    for item_name in object:\n",
    "        do something\n",
    "        \n",
    "Some observations are in order.\n",
    "- The variable name (item_name) that you use is up to you and makes no difference.\n",
    "- The variable name can be referenced inside the loop to for example print it or check whether a condition holds.\n",
    "\n",
    "Let's go see some examples!\n",
    "\n",
    "## 1.1 Iterating over a list\n"
   ]
  },
  {
   "cell_type": "code",
   "execution_count": null,
   "metadata": {
    "id": "NqKRcPHIZiu6"
   },
   "outputs": [],
   "source": [
    "my_list = [1,2,3,4,[1,2,3,4]]\n",
    "\n",
    "for item in my_list:\n",
    "    print(item)\n",
    "    print('hi')\n",
    "\n",
    "print('end of program')"
   ]
  },
  {
   "cell_type": "code",
   "execution_count": null,
   "metadata": {
    "id": "OoMvmdllZiu6"
   },
   "outputs": [],
   "source": [
    "my_list.reverse()\n",
    "for item in my_list:\n",
    "    print(item)"
   ]
  },
  {
   "cell_type": "code",
   "execution_count": null,
   "metadata": {
    "id": "Ze66o_wFZiu7"
   },
   "outputs": [],
   "source": [
    "my_list = [1,2,3,4,5,6,7,8,9,10]\n",
    "\n",
    "#we can also have conditions inside the loop\n",
    "for item in my_list:\n",
    "    if item>5:\n",
    "        print(item)"
   ]
  },
  {
   "cell_type": "code",
   "execution_count": null,
   "metadata": {
    "id": "CSGbfCyoZiu7"
   },
   "outputs": [],
   "source": [
    "#in another example, we only print even numbers\n",
    "for item in my_list:\n",
    "    if item%2 == 0:\n",
    "        print(item)"
   ]
  },
  {
   "cell_type": "code",
   "execution_count": null,
   "metadata": {
    "id": "rUXTS1gtZiu8"
   },
   "outputs": [],
   "source": [
    "#and we could have also had more statements such as else inside the loop\n",
    "for item in my_list:\n",
    "    if item%2==0:\n",
    "        print(item)\n",
    "    else:\n",
    "        print('Number is not even')"
   ]
  },
  {
   "cell_type": "code",
   "execution_count": null,
   "metadata": {
    "id": "9sq7oYIbZiu8"
   },
   "outputs": [],
   "source": [
    "#######################\n",
    "#    IN CLASS EXERCISE\n",
    "#######################\n",
    "\n",
    "#  another common use for loops is summing over things\n",
    "total = 0\n",
    "for item in my_list:\n",
    "    total += item\n",
    "    print(total)"
   ]
  },
  {
   "cell_type": "markdown",
   "metadata": {
    "id": "zS303uR5Ziu9"
   },
   "source": [
    "## 1.2 Iterating over a string"
   ]
  },
  {
   "cell_type": "code",
   "execution_count": null,
   "metadata": {
    "id": "ddpNcA3WZiu9"
   },
   "outputs": [],
   "source": [
    "#iterating through a string, for iterates from the first to the last letter\n",
    "#as one would expect!\n",
    "for item in 'Learning Python':\n",
    "    print(item)"
   ]
  },
  {
   "cell_type": "markdown",
   "metadata": {
    "id": "CaBAQrHzZiu9"
   },
   "source": [
    "## 1.3 Iterating over a dictionary"
   ]
  },
  {
   "cell_type": "code",
   "execution_count": null,
   "metadata": {
    "id": "nKOZpdV0Ziu9"
   },
   "outputs": [],
   "source": [
    "# when iterating over a dictionary, we iterate over its KEYS\n",
    "my_dict = {'Dog':'Hund', 'Cat':'Katze', 'Mouse':'Maus'}\n",
    "for k in my_dict:\n",
    "    print(k)"
   ]
  },
  {
   "cell_type": "code",
   "execution_count": null,
   "metadata": {
    "id": "KcUVN71FZiu-"
   },
   "outputs": [],
   "source": [
    "my_dict = {'Dog':'Hund', 'Cat':'Katze', 'Mouse':'Maus'}\n",
    "for k in my_dict:\n",
    "    print(my_dict[k])"
   ]
  },
  {
   "cell_type": "markdown",
   "metadata": {
    "id": "mRy9laRJZiu-"
   },
   "source": [
    "Note from the above that the order that for prints the keys of the dictionaries appear random. \n",
    "\n",
    "This is because as we said before, there is **no concept of index in dictionaries, as they are not sequences**.\n"
   ]
  },
  {
   "cell_type": "markdown",
   "metadata": {
    "id": "fWbrP80LZiu-"
   },
   "source": [
    "## 1.4 Loops inside Loops\n",
    "\n",
    "We can - of course - have a loop inside a loop. Here's an example"
   ]
  },
  {
   "cell_type": "code",
   "execution_count": null,
   "metadata": {
    "id": "0hspxm6fZiu-"
   },
   "outputs": [],
   "source": [
    "list1 = [1,3,5]\n",
    "list2 = [2,4,6]\n",
    "\n",
    "for x in list1:\n",
    "    for y in list2:\n",
    "        print(str(x*y))"
   ]
  },
  {
   "cell_type": "code",
   "execution_count": null,
   "metadata": {
    "id": "4CTlPk_aZiu-"
   },
   "outputs": [],
   "source": [
    "list1 = [1,3,5]\n",
    "list2 = [2,4,6]\n",
    "\n",
    "for x in list1:\n",
    "    if x >= 3:\n",
    "        for y in list2:\n",
    "            print(str(x*y))"
   ]
  },
  {
   "cell_type": "markdown",
   "metadata": {
    "id": "RNcEQtbQZiu_"
   },
   "source": [
    "## 1.5 Break, Continue\n",
    "\n",
    "The break and continue statements are extremely useful to add further functionality to loops.\n",
    "- **break** when the break command is executed, we break out of the current loop\n",
    "- **continue** when the continue command is executed, we skip all of the other code in the current iteration of the current loop\n",
    "\n",
    "Let's see examples."
   ]
  },
  {
   "cell_type": "code",
   "execution_count": null,
   "metadata": {
    "id": "pt0fezqVZiu_"
   },
   "outputs": [],
   "source": [
    "my_list = [0,1,2,3,4,5,6,7,8,9,10]\n",
    "for k in my_list:\n",
    "    #when the number is even, we just go to the next iteration\n",
    "    # hence k will not be printed\n",
    "    if k%2==0:\n",
    "        continue\n",
    "    print(k)"
   ]
  },
  {
   "cell_type": "code",
   "execution_count": null,
   "metadata": {
    "id": "_I_xhYTLZiu_"
   },
   "outputs": [],
   "source": [
    "my_list = [0,1,2,3,4,5,6,7,8,9,10]\n",
    "for k in my_list:\n",
    "    #when k==6 we escape the loop\n",
    "    if k==6:\n",
    "        break\n",
    "    print(k)"
   ]
  },
  {
   "cell_type": "markdown",
   "metadata": {
    "id": "ZQu-8jLvZiu_"
   },
   "source": [
    "## 1.6 range\n",
    "\n",
    "The range function is one of the most useful built-in methods, and shines in the context of loops.\n",
    "\n",
    "In Python 3, range is a generator of numbers.\n",
    "- range(x,y) generates all integers from x to y-1"
   ]
  },
  {
   "cell_type": "code",
   "execution_count": null,
   "metadata": {
    "id": "e1YC-ks2Ziu_"
   },
   "outputs": [],
   "source": [
    "range(0,10)"
   ]
  },
  {
   "cell_type": "markdown",
   "metadata": {
    "id": "P8qhDy_JZiu_"
   },
   "source": [
    "Again, this is just a generator. Let's see its use in the context of for loops."
   ]
  },
  {
   "cell_type": "code",
   "execution_count": null,
   "metadata": {
    "id": "Wi8ifEDuZivA"
   },
   "outputs": [],
   "source": [
    "for k in range(0,10):\n",
    "    print(k)"
   ]
  },
  {
   "cell_type": "code",
   "execution_count": null,
   "metadata": {
    "id": "yzHunsA0ZivA"
   },
   "outputs": [],
   "source": [
    "my_list = [0,100,12,3,14,5]\n",
    "for k in range(0,len(my_list)):\n",
    "    print(my_list[k])"
   ]
  },
  {
   "cell_type": "markdown",
   "metadata": {
    "id": "Ip8BlIL2ZivA"
   },
   "source": [
    "## 1.7 \"While\" loops\n",
    "\n",
    "While loops are pretty similar to for loops, but they just iterate until a condition is met.\n",
    "\n",
    "For example"
   ]
  },
  {
   "cell_type": "code",
   "execution_count": null,
   "metadata": {
    "id": "mPOl7CDhZivA"
   },
   "outputs": [],
   "source": [
    "count = 0\n",
    "while count < 5:\n",
    "    print(count)\n",
    "    count += 1  # This is the same as count = count + 1"
   ]
  },
  {
   "cell_type": "markdown",
   "metadata": {
    "id": "KEueqfOAZivA"
   },
   "source": [
    "Pretty easy, huh? :) \n",
    "\n",
    "\n",
    "\n",
    "\n",
    "\n",
    "\n",
    "\n",
    "\n",
    "\n",
    "\n",
    "\n"
   ]
  },
  {
   "cell_type": "markdown",
   "metadata": {
    "id": "WUUtvYmdZivA"
   },
   "source": [
    "---\n",
    "# 📄 2. Files\n",
    "\n",
    "The computer I was using when writing this has more than 271,925 files stored in its disk. \n",
    "\n",
    "Installing Python 3 added more than 3,00 files to that total. Your computer is, metaphorically speaking, drowning in files. Files are the prime storage device of every operating system, and are actually a paradigm so well-established and ingrained in our thinking that we would have a hard time imagining any alternative.\n",
    "\n",
    "Files can be of many formats: audio, video, programs with obscure formats, excels, powerpoints, xsl, etc. You probably need to install certain modules/libraries to interact with most of the file types. Our focus for today will be the simple but powerful text files. So let's get cracking.\n",
    "\n",
    "## 2.1 More Unix\n",
    "\n",
    "Before we open our first file, let's look at some other useful commands.\n",
    "\n",
    "The *mkdir* command will create a new directory."
   ]
  },
  {
   "cell_type": "code",
   "execution_count": null,
   "metadata": {
    "id": "djpp9GaGZivB"
   },
   "outputs": [],
   "source": [
    "%mkdir new_directory"
   ]
  },
  {
   "cell_type": "markdown",
   "metadata": {
    "id": "dyYaiPv4ZivB"
   },
   "source": [
    "We can check whether the directory was created with *ls*"
   ]
  },
  {
   "cell_type": "code",
   "execution_count": null,
   "metadata": {
    "id": "pAR84XN3ZivB"
   },
   "outputs": [],
   "source": [
    "ls"
   ]
  },
  {
   "cell_type": "markdown",
   "metadata": {
    "id": "XXfdx0CwZivC"
   },
   "source": [
    "## 2.2 Opening and Reading a file\n",
    "\n",
    "Let's now start working with files.\n",
    "\n",
    "- First, go to http://bit.ly/aVerySimpleFile and download 'simple_file.txt'\n",
    "- After you download it put it on your working directory\n"
   ]
  },
  {
   "cell_type": "code",
   "execution_count": null,
   "metadata": {
    "id": "huHosRW0ZivC"
   },
   "outputs": [],
   "source": [
    "#open the file\n",
    "my_file = open('./files/simple_file.txt', mode='r', encoding='utf-8')"
   ]
  },
  {
   "cell_type": "markdown",
   "metadata": {
    "id": "Nm0IEYEpZivC"
   },
   "source": [
    "A couple of notes are in order:\n",
    "- the first argument of the open method is the file's path (culminating in the file's name). So far so good.\n",
    "- the second argument tells python why we are opening the file. We open it to read its contents, therefore we are using the 'r' mode.\n",
    "- to read a file we have to know how its contents were encoded. Most of the time the encoding type is 'utf-8', and the third argument containts this information"
   ]
  },
  {
   "cell_type": "code",
   "execution_count": null,
   "metadata": {
    "id": "HfKMsupRZivD"
   },
   "outputs": [],
   "source": [
    "#we can now read the contents of the file\n",
    "#the contents of a file are just a simple string!\n",
    "my_file.read()"
   ]
  },
  {
   "cell_type": "code",
   "execution_count": null,
   "metadata": {
    "id": "K6MDohq6ZivD"
   },
   "outputs": [],
   "source": [
    "#what if we try to read the file again?\n",
    "my_file.read()"
   ]
  },
  {
   "cell_type": "markdown",
   "metadata": {
    "id": "n7HQbq6OZivD"
   },
   "source": [
    "When we tried to re-read the file, nothing happened. This is because the imaginary \"cursor\" pointed at the end of the file after reading it, so there was nothing to be read. If we want to read the file again, we have to put the cursor back to position 0."
   ]
  },
  {
   "cell_type": "code",
   "execution_count": null,
   "metadata": {
    "id": "BcUJfmtrZivD"
   },
   "outputs": [],
   "source": [
    "#Seek to the start of file (index 0)\n",
    "my_file.seek(0)"
   ]
  },
  {
   "cell_type": "code",
   "execution_count": null,
   "metadata": {
    "id": "OZWZURJ5ZivD"
   },
   "outputs": [],
   "source": [
    "my_file.read()"
   ]
  },
  {
   "cell_type": "code",
   "execution_count": null,
   "metadata": {
    "id": "R0cv9d0sZivD"
   },
   "outputs": [],
   "source": [
    "#If you put the cursor at position 5, you ignore the first five characters!\n",
    "my_file.seek(5)"
   ]
  },
  {
   "cell_type": "code",
   "execution_count": null,
   "metadata": {
    "id": "qjJQX98fZivD"
   },
   "outputs": [],
   "source": [
    "my_file.read()"
   ]
  },
  {
   "cell_type": "code",
   "execution_count": null,
   "metadata": {
    "id": "5-6-ZLx0ZivD"
   },
   "outputs": [],
   "source": [
    "#to close a file you've oppened, simply:\n",
    "my_file.close()"
   ]
  },
  {
   "cell_type": "code",
   "execution_count": null,
   "metadata": {
    "id": "pwSX1H3qZivE"
   },
   "outputs": [],
   "source": [
    "# let's go from the beggining, and assign the file string to a variable\n",
    "my_file = open('files/simple_file.txt', mode='r', encoding='utf-8')\n",
    "contents= my_file.read()\n",
    "my_file.close()\n",
    "contents"
   ]
  },
  {
   "cell_type": "code",
   "execution_count": null,
   "metadata": {
    "id": "H7UbK7HdZivE"
   },
   "outputs": [],
   "source": [
    "#if we want to have each line of the file in a separate location, \n",
    "#we can just use the split('\\n') method to split in every newline character\n",
    "lines = contents.split('\\n')\n",
    "lines"
   ]
  },
  {
   "cell_type": "code",
   "execution_count": null,
   "metadata": {
    "id": "DAr63D5SZivE"
   },
   "outputs": [],
   "source": [
    "#Python also has a method for that called readlines()\n",
    "my_file = open('files/simple_file.txt', mode='r', encoding='utf-8')\n",
    "lines = my_file.readlines()\n",
    "my_file.close()\n",
    "\n",
    "lines"
   ]
  },
  {
   "cell_type": "markdown",
   "metadata": {
    "id": "sQpgvzEzfzZz"
   },
   "source": [
    "Even though you all will most likely be using *.CSV* files for most of your assignments in the rest of the MSBA program, it is important to learn how to read and use .txt files to focus on string manipulation. \n",
    "\n",
    "Having a strong coding foundation is fundamental before moving into more complex functions and libraries. "
   ]
  },
  {
   "cell_type": "markdown",
   "metadata": {
    "id": "Y9O-GnyjZivE"
   },
   "source": [
    "## 2.3 Writing to a file\n",
    "\n",
    "We now want to add a line to the file. Let's say we want to add a line saying 'files are interesting'. \n",
    "\n",
    "We will see how we are going to do that."
   ]
  },
  {
   "cell_type": "code",
   "execution_count": null,
   "metadata": {
    "id": "XcZB2UpFZivE"
   },
   "outputs": [],
   "source": [
    "#open the file, read it, then close it\n",
    "my_file = open('files/simple_file.txt', mode='r', encoding='utf-8')\n",
    "file_contents = my_file.read()\n",
    "my_file.close()\n",
    "\n",
    "# paste your new content in the end of the string\n",
    "# since we want our new content to be a new line, \n",
    "# our content should start with the new line character \\n\n",
    "file_contents = file_contents+'\\nfiles are interesting'\n",
    "file_contents"
   ]
  },
  {
   "cell_type": "code",
   "execution_count": null,
   "metadata": {
    "id": "CkmJ0QlWZivE"
   },
   "outputs": [],
   "source": [
    "# we now open a new file with mode 'w', to write on it.\n",
    "# opening a file that does not exist   with mode = 'w' will CREATE a new file\n",
    "# opening a file that exists           with mode = 'w' will OVERWRITE the old file\n",
    "#writing on a file erases its previous content - but luckily for us we stored it in the variable 'file_contents'\n",
    "my_file = open('files/new_simple_file.txt', mode='w', encoding='utf-8')\n",
    "my_file.write(file_contents)\n",
    "my_file.close()"
   ]
  },
  {
   "cell_type": "code",
   "execution_count": null,
   "metadata": {
    "id": "u3IPKhWIZivE"
   },
   "outputs": [],
   "source": [
    "#lets see what the file now containts\n",
    "my_file = open('files/new_simple_file.txt', mode='r', encoding='utf-8')\n",
    "file_contents = my_file.read()\n",
    "my_file.close()\n",
    "file_contents"
   ]
  },
  {
   "cell_type": "code",
   "execution_count": null,
   "metadata": {
    "id": "B6mn0_y8ZivF"
   },
   "outputs": [],
   "source": [
    "#alternatively, using the readlines method\n",
    "my_file = open('files/new_simple_file.txt', mode='r', encoding='utf-8')\n",
    "lines = my_file.readlines()\n",
    "my_file.close()\n",
    "lines"
   ]
  },
  {
   "cell_type": "markdown",
   "metadata": {
    "id": "nUU-Jy-sZivF"
   },
   "source": [
    "## 2.4 Reading data one line at a time\n",
    "\n",
    "Python offers a convenient way to read files one line at a time.\n",
    "\n",
    "This is done through the **for** loop, which we will dive deeper into in a bit. But as a first interaction, let's see an example"
   ]
  },
  {
   "cell_type": "code",
   "execution_count": null,
   "metadata": {
    "id": "jCrWIHq3ZivF"
   },
   "outputs": [],
   "source": [
    "for line in open('files/simple_file.txt', mode='r', encoding='utf-8'):\n",
    "    print(line)"
   ]
  },
  {
   "cell_type": "markdown",
   "metadata": {
    "id": "3uCesR_XZivF"
   },
   "source": [
    "Let's break down what we did above. \n",
    "\n",
    "We said that for every line in this text file, go ahead and print that line. Its important to note a few things:\n",
    "\n",
    "    1.) We could have called the 'line' object anything (see example below).\n",
    "    2.) By not calling .read() on the file, the whole text file was not stored in memory.\n",
    "\n",
    "Now let's see an example of (1)"
   ]
  },
  {
   "cell_type": "markdown",
   "metadata": {
    "id": "bTMOV7qZZivF"
   },
   "source": [
    "## 2.5 Closing Files Automatically\n",
    "\n",
    "A very useful way to open files is by using the context manager. This is done by using the **with** statement."
   ]
  },
  {
   "cell_type": "code",
   "execution_count": null,
   "metadata": {
    "id": "qRgBiDBPZivF"
   },
   "outputs": [],
   "source": [
    "with open('files/simple_file.txt', mode='r', encoding='utf-8') as file:\n",
    "    for line in file:\n",
    "        print(line)"
   ]
  },
  {
   "cell_type": "markdown",
   "metadata": {
    "id": "4m80SzpQZivF"
   },
   "source": [
    "The with statement creates an code block and the for statement create another code block. That is why print is indented twice (it belongs to the code block inside a code block).\n",
    "\n",
    "- The with statement makes sure that our file will be closed without actually calling the close() command.\n",
    "- The file will be closed even if the program crashes while we read the file.\n",
    "- It is a (extremely) good practice to read our files using the with statement!\n",
    "\n",
    "Context managers ensure that resources are efficiently and properly managed. The most common use case is with file handling, but context managers can be applied in numerous scenarios to handle resources.\n",
    "\n",
    "(advanced) For those of you who are curious,\n",
    "- In the code above, the open() function returns a file object, and it's this object that acts as the context manager. When the block of code under with completes, the file's __exit__ method is called, automatically closing the file, even if an exception was raised.\n",
    "- You can create your own context managers, but we'd have to get into python classes to understand how!\n",
    "\n"
   ]
  },
  {
   "cell_type": "markdown",
   "metadata": {
    "id": "y5MxtrlLZivG"
   },
   "source": [
    "---\n",
    "# 🗂️ 3. Data Analysis - Amazon reviews\n",
    "Now that we have gone over our Python basics, we are fully equipped to perform our first dataset analysis.\n",
    "\n",
    "Our dataset is contained in the file *amazon_reviews.txt* (you can download it through http://bit.ly/someAmazonReviews\n",
    "\n",
    "Each line contains tab-separated ('\\t' character used as separator)information about a review.\n",
    "\n",
    "In each review (and therefore in each line), we have the following information\n",
    "1. ID of the product reviewed\n",
    "2. ID of the reviewer\n",
    "3. rating\n",
    "4. space separated helpful/not helpful votes\n",
    "5. summary of the review\n",
    "6. review text\n",
    "\n",
    "## 3.1 Opening and making data workable\n",
    "\n",
    "Let's begin by opening the file and puting its contents in a list."
   ]
  },
  {
   "cell_type": "code",
   "execution_count": null,
   "metadata": {
    "id": "Nu243Ij8ZivG"
   },
   "outputs": [],
   "source": [
    "with open('files/amazon_reviews.txt', mode='r', encoding='utf-8') as f:\n",
    "    reviews = f.read()"
   ]
  },
  {
   "cell_type": "code",
   "execution_count": null,
   "metadata": {
    "id": "wTewnJgSZivG"
   },
   "outputs": [],
   "source": [
    "#reviews is now a string containing the whole file.\n",
    "#to have every review separately, we will use a list and split the contents at every new line\n",
    "reviews = reviews.split('\\n')\n",
    "#alright, let's check how many reviews we have\n",
    "len(reviews)"
   ]
  },
  {
   "cell_type": "code",
   "execution_count": null,
   "metadata": {
    "id": "sfpfDkpOZivG"
   },
   "outputs": [],
   "source": [
    "#also, let's check whether everything appears to be right grabbing a couple of the reviews\n",
    "reviews[500]"
   ]
  },
  {
   "cell_type": "markdown",
   "metadata": {
    "id": "bwA96sr2ZivG"
   },
   "source": [
    "Everything seems to be fine, but every entry is still tab separated. \n",
    "\n",
    "Let's fix that (and make it easier to work with) by splitting every entry at the tab ('\\t') character, and reassigning the resulting list."
   ]
  },
  {
   "cell_type": "code",
   "execution_count": null,
   "metadata": {
    "id": "DZ61XHInZivG"
   },
   "outputs": [],
   "source": [
    "for i in range(0,len(reviews)):\n",
    "    reviews[i] = reviews[i].split('\\t')"
   ]
  },
  {
   "cell_type": "code",
   "execution_count": null,
   "metadata": {
    "id": "6HX-XXTCZivH"
   },
   "outputs": [],
   "source": [
    "reviews[500]"
   ]
  },
  {
   "cell_type": "code",
   "execution_count": null,
   "metadata": {
    "id": "kpOhu1FjZivH"
   },
   "outputs": [],
   "source": [
    "reviews[150]"
   ]
  },
  {
   "cell_type": "markdown",
   "metadata": {
    "id": "S0wd4g25ZivH"
   },
   "source": [
    "## 3.2 How many different Products in our data set?\n",
    "\n",
    "Since every product has a unique id (entry1) we just have to find the number of distinct entries. We will use *sets* and a simple for loop to find them."
   ]
  },
  {
   "cell_type": "code",
   "execution_count": null,
   "metadata": {
    "id": "qQveaQLcZivH"
   },
   "outputs": [],
   "source": [
    "##################\n",
    "#  In - CLASS\n",
    "##################\n",
    "\n",
    "products = set()\n",
    "for i in range(0,len(reviews)):\n",
    "    products.add(reviews[i][0])\n",
    "print(len(products))"
   ]
  },
  {
   "cell_type": "markdown",
   "metadata": {
    "id": "hVUps8zZZivH"
   },
   "source": [
    "## 3.3 How many different reviewers in our data set?\n",
    "\n",
    "We should just use the very same idea, but instead gather the distinct reviewers (entry 2). \n",
    "\n",
    "We will find out that the reviewers are around three times as many as the video games."
   ]
  },
  {
   "cell_type": "code",
   "execution_count": null,
   "metadata": {
    "id": "eLRetiRBZivH"
   },
   "outputs": [],
   "source": [
    "##################\n",
    "#  In - CLASS\n",
    "##################\n",
    "\n",
    "reviewers = set()\n",
    "for i in range(0,len(reviews)):\n",
    "    reviewers.add(reviews[i][1])\n",
    "print(len(reviewers))"
   ]
  },
  {
   "cell_type": "markdown",
   "metadata": {
    "id": "SOgsHiCFZivI"
   },
   "source": [
    "## 3.4 Who are the top 50 most prolific reviewers?\n",
    "\n",
    "To answer that question, we will have to find how many reviews each reviewer has written. \n",
    "\n",
    "Dictionaries are perfectly suited for this endeavor, since we can have keys to be the reviwer ids, and values to be the number of reviews."
   ]
  },
  {
   "cell_type": "code",
   "execution_count": null,
   "metadata": {
    "id": "MP7TwDEvZivI"
   },
   "outputs": [],
   "source": [
    "##################\n",
    "#  In - CLASS\n",
    "#       hint: use dict\n",
    "##################\n",
    "\n",
    "num_reviews = dict()\n",
    "for i in range(0,len(reviews)):\n",
    "    if reviews[i][1] in num_reviews:\n",
    "        num_reviews[reviews[i][1]]+=1\n",
    "    else:\n",
    "        num_reviews[reviews[i][1]]=1"
   ]
  },
  {
   "cell_type": "markdown",
   "metadata": {
    "id": "oiQpSKGNZivI"
   },
   "source": [
    "Alright, we now have each reviewer's id and the number of reviews they have written, but we want to find out the top 50. We can think of many ways to do it, and we will follow a specific one here. Let's put everything into a list of lists!"
   ]
  },
  {
   "cell_type": "code",
   "execution_count": null,
   "metadata": {
    "id": "E2gtihC8ZivI"
   },
   "outputs": [],
   "source": [
    "sorted_reviews = []\n",
    "for k in num_reviews:\n",
    "    sorted_reviews.append([num_reviews[k],k])\n",
    "sorted_reviews[:10]"
   ]
  },
  {
   "cell_type": "code",
   "execution_count": null,
   "metadata": {
    "id": "549_Bq-dZivI"
   },
   "outputs": [],
   "source": [
    "sorted_reviews.sort(key=lambda x: x[0])\n",
    "sorted_reviews.reverse()\n",
    "sorted_reviews[:50]\n"
   ]
  },
  {
   "cell_type": "markdown",
   "metadata": {
    "id": "Vg1RHhjeZivI"
   },
   "source": [
    "## 3.5 Finding the ratings distribution\n",
    "\n",
    "We may also find the ratings distribution - how many instances of each rating are present in our data set.\n",
    "\n",
    "The idea here is similar to what we did before, and we will use a dictionary."
   ]
  },
  {
   "cell_type": "code",
   "execution_count": null,
   "metadata": {
    "id": "Uw1EKkfPZivI"
   },
   "outputs": [],
   "source": [
    "##################\n",
    "#  In - CLASS\n",
    "##################\n",
    "\n",
    "ratings = dict()\n",
    "for i in range(0,len(reviews)):\n",
    "    if reviews[i][2] in ratings:\n",
    "        ratings[reviews[i][2]] +=1\n",
    "    else:\n",
    "        ratings[reviews[i][2]] =1     "
   ]
  },
  {
   "cell_type": "code",
   "execution_count": null,
   "metadata": {
    "id": "tA-TxeihZivI"
   },
   "outputs": [],
   "source": [
    "ratings"
   ]
  },
  {
   "cell_type": "code",
   "execution_count": null,
   "metadata": {},
   "outputs": [],
   "source": [
    "# if you wanna how it works step by step, for the first 5 reviews:\n",
    "\n",
    "ratings = {}\n",
    "\n",
    "for review in reviews[:5]:\n",
    "    print(f\"Current ratings: {ratings}\")\n",
    "    print(f\"Current review: {review[2]}\")\n",
    "    if review[2] not in ratings:\n",
    "        ratings[review[2]] = 1\n",
    "    else:\n",
    "        ratings[review[2]] += 1\n",
    "    print(f\"New ratings: {ratings}\")\n",
    "    print(\"-------------------------\")"
   ]
  },
  {
   "cell_type": "markdown",
   "metadata": {
    "id": "zp_0MxcpZivJ"
   },
   "source": [
    "## 3.6 Plotting the distribution.\n",
    "We can also use python to make plots! Here's a very not-fancy one. \n",
    "\n",
    "If you want to make it fancier you can google how matplotlib works in python!"
   ]
  },
  {
   "cell_type": "code",
   "execution_count": null,
   "metadata": {
    "id": "LkQu9H6UZivJ"
   },
   "outputs": [],
   "source": [
    "import matplotlib.pyplot as plt\n",
    "\n",
    "# the next line tells jupyter to display the picture inline---in the notebook\n",
    "%matplotlib inline  \n",
    "\n",
    "x = [1,2,3,4,5]\n",
    "y = [2599,2894, 5918, 12533, 26056]\n",
    "plt.bar(x, y)\n",
    "plt.xlabel(\"Rating\")\n",
    "plt.ylabel(\"Number of Reviews\")\n",
    "plt.title(\"Distribution of Ratings\")\n",
    "\n",
    "# uncomment if you want to save your figure!\n",
    "#plt.savefig(\"files/a_figure.png\",dpi=72)"
   ]
  },
  {
   "cell_type": "markdown",
   "metadata": {},
   "source": [
    "## Quiz: Correlation between review length and rating"
   ]
  },
  {
   "cell_type": "code",
   "execution_count": null,
   "metadata": {},
   "outputs": [],
   "source": [
    "# get all review lengths\n",
    "review_lengths = [len(review[5]) for review in reviews]\n",
    "# create a dictionary with the lengths as keys and the number of reviews with that length as values\n",
    "reviews_by_rating = {'1.0':[], '2.0':[], '3.0':[], '4.0':[], '5.0':[]}\n",
    "\n",
    "for i in range(len(reviews)):\n",
    "    rating = reviews[i][2]\n",
    "    reviews_by_rating[rating].append(len(reviews[i][5]))\n",
    "\n",
    "avg_lengths = {}\n",
    "for rating, lengths in reviews_by_rating.items():\n",
    "    avg_lengths[rating] = sum(lengths) / len(lengths)\n",
    "\n"
   ]
  },
  {
   "cell_type": "code",
   "execution_count": null,
   "metadata": {},
   "outputs": [],
   "source": [
    "avg_lengths"
   ]
  },
  {
   "cell_type": "code",
   "execution_count": null,
   "metadata": {},
   "outputs": [],
   "source": [
    "import matplotlib.pyplot as plt\n",
    "\n",
    "ratings = list(avg_lengths.keys())\n",
    "avg_len_values = list(avg_lengths.values())\n",
    "\n",
    "plt.bar(ratings, avg_len_values, color='blue', alpha=0.7)\n",
    "plt.xlabel(\"Rating\")\n",
    "plt.ylabel(\"Average Review Length\")\n",
    "plt.title(\"Average Review Length by Rating\")\n",
    "plt.show()\n"
   ]
  },
  {
   "cell_type": "code",
   "execution_count": null,
   "metadata": {},
   "outputs": [],
   "source": []
  }
 ],
 "metadata": {
  "colab": {
   "collapsed_sections": [
    "RNcEQtbQZiu_",
    "ZQu-8jLvZiu_",
    "Ip8BlIL2ZivA",
    "Y9O-GnyjZivE",
    "nUU-Jy-sZivF",
    "bTMOV7qZZivF",
    "S0wd4g25ZivH",
    "hVUps8zZZivH",
    "SOgsHiCFZivI",
    "Vg1RHhjeZivI",
    "zp_0MxcpZivJ"
   ],
   "name": "03.1 Loops, files, and working with data.ipynb",
   "provenance": []
  },
  "kernelspec": {
   "display_name": "Python 3 (ipykernel)",
   "language": "python",
   "name": "python3"
  },
  "language_info": {
   "codemirror_mode": {
    "name": "ipython",
    "version": 3
   },
   "file_extension": ".py",
   "mimetype": "text/x-python",
   "name": "python",
   "nbconvert_exporter": "python",
   "pygments_lexer": "ipython3",
   "version": "3.10.4"
  }
 },
 "nbformat": 4,
 "nbformat_minor": 1
}
