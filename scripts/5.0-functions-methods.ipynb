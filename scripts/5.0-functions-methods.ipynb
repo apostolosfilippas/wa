{
 "cells": [
  {
   "cell_type": "markdown",
   "metadata": {
    "id": "1IgSqXmWB4sy"
   },
   "source": [
    "---\n",
    "\n",
    "### 🎓 **Professor**: Apostolos Filippas\n",
    "\n",
    "### 📘 **Class**: Web Analytics\n",
    "\n",
    "### 📋 **Topic**: Functions and methods\n",
    "\n",
    "🚫 **Note**: You are not allowed to share the contents of this notebook with anyone outside this class without written permission by the professor.\n",
    "\n",
    "---\n",
    "\n",
    "# 🛠 1. Methods\n",
    "\n",
    "Everthing in python is an **object**. \n",
    "- Strings are objects, lists are objects, dictionaries are objects, and so on. \n",
    "- While we have abstracted away the details of what an object is, we have been using objects all along. \n",
    "- One important thing to know about objects is that they have **attributes** and **methods**. \n",
    "\n",
    "\n",
    "In this notebook, we'll be focusing on methods. \n",
    "- Methods are functions built into objects \n",
    "- Every object of the same type will have access to the same methods. \n",
    "- We have used several methods so far.\n",
    "\n",
    "Methods will generally perform certain actions on the object, and can also take arguments, just like a function does (more on that in a minute).\n",
    "\n",
    "Methods generally have the following form\n",
    "\n",
    "    object.method(arg1,arg2,....)\n",
    "    \n",
    "We will not dive deeper into methods, but it's sufficient for our purposes to know how they work. Let's revisit some examples that will help us realize when we have been using methods thus far."
   ]
  },
  {
   "cell_type": "code",
   "execution_count": null,
   "metadata": {
    "id": "unnaKeXwB4s8"
   },
   "outputs": [],
   "source": [
    "#lists are objects and have their own built-in methods\n",
    "my_list = [1,2,3,4]"
   ]
  },
  {
   "cell_type": "code",
   "execution_count": null,
   "metadata": {
    "id": "9wWmx_frB4tC",
    "outputId": "ba5d03b8-9e6f-4a3a-b97d-874e090d9edc"
   },
   "outputs": [],
   "source": [
    "#one of these methods is the .append() method that we've used before!\n",
    "my_list.append(6)\n",
    "my_list.append(6)\n",
    "my_list"
   ]
  },
  {
   "cell_type": "code",
   "execution_count": null,
   "metadata": {
    "id": "GSxck-Y3B4tJ",
    "outputId": "d3f1d8bf-5098-45d6-cf91-1b275335027e"
   },
   "outputs": [],
   "source": [
    "# or the count.(arg1) method that counts the occurences of arg1 in the list\n",
    "my_list.count(4)"
   ]
  },
  {
   "cell_type": "code",
   "execution_count": null,
   "metadata": {
    "id": "-idqyzi1B4tM",
    "outputId": "f6819e04-0a50-41a2-b862-65da3c686adf"
   },
   "outputs": [],
   "source": [
    "my_list.count(6)"
   ]
  },
  {
   "cell_type": "code",
   "execution_count": null,
   "metadata": {},
   "outputs": [],
   "source": [
    "# remember .upper() and .lower() methods for strings?\n",
    "hi = \"hello\"\n",
    "hi.upper()"
   ]
  },
  {
   "cell_type": "markdown",
   "metadata": {
    "id": "BI3OohqnB4tP"
   },
   "source": [
    "---\n",
    "# 🌀 2. Functions\n",
    "\n",
    "\n",
    "A function is, broadly, a useful device that groups together a number of statements so they can run more than once. Functions become increasingly important as our code grows and we want to perform the same thing many times in our code. \n",
    "\n",
    "Functions are pretty similar to mathematical functions. Let's see an example.\n",
    "- Consider the function f(x) = 5\\*x\n",
    "- what that does is get an argument, and multiply it by the number 5\n",
    "- so f(5) = 25, f(0) = 0, and f(30)=150.\n",
    "\n",
    "Functions work similarly in Python. To use a function we must first define it with the **def** statement"
   ]
  },
  {
   "cell_type": "code",
   "execution_count": null,
   "metadata": {
    "id": "X8PnqWwnB4tU"
   },
   "outputs": [],
   "source": [
    "def my_function(arg1, arg2):\n",
    "    #statement 1\n",
    "    #...\n",
    "    #statement n\n",
    "    #return something\n",
    "    pass"
   ]
  },
  {
   "cell_type": "markdown",
   "metadata": {
    "id": "uGbYVM_0B4tW"
   },
   "source": [
    "So let's take a look at the structure of our function.\n",
    "- function definitions begin with def. Pretty straightforward\n",
    "- the arguments are enclosed in parentheses. A function can have 0 arguments. the function can use these arguments as input and reference them by name. (we'll see examples in a second)\n",
    "- in the code block of the function we can have one or more code statements\n",
    "- optionally, our function can return an object.\n",
    "\n",
    "Let's see some examples"
   ]
  },
  {
   "cell_type": "code",
   "execution_count": null,
   "metadata": {
    "id": "MpZCMtstB4te"
   },
   "outputs": [],
   "source": [
    "# a function that prints hello world\n",
    "def hello():\n",
    "    print('hello world')"
   ]
  },
  {
   "cell_type": "code",
   "execution_count": null,
   "metadata": {
    "id": "o70k1eNVB4tm",
    "outputId": "a5c4216c-4811-4585-d63a-c27852aaf89c"
   },
   "outputs": [],
   "source": [
    "hello()"
   ]
  },
  {
   "cell_type": "markdown",
   "metadata": {
    "id": "HEDKTWnGB4tu"
   },
   "source": [
    "This function had zero arguments and just did the same thing every time. Let's proceed to more complex examples."
   ]
  },
  {
   "cell_type": "code",
   "execution_count": null,
   "metadata": {
    "id": "uueiu4AqB4t3"
   },
   "outputs": [],
   "source": [
    "def welcome(arg1):\n",
    "    print('Welcome '+arg1+'!!!')"
   ]
  },
  {
   "cell_type": "code",
   "execution_count": null,
   "metadata": {
    "id": "5PUkO2izB4t8",
    "outputId": "6d90a7f8-2048-4422-e586-8ca7c031823b"
   },
   "outputs": [],
   "source": [
    "welcome('Apostolos')"
   ]
  },
  {
   "cell_type": "code",
   "execution_count": null,
   "metadata": {
    "id": "p35-rF7NB4uD",
    "outputId": "600c9f96-a284-4f33-8497-646e625587e7"
   },
   "outputs": [],
   "source": [
    "welcome('Aja')"
   ]
  },
  {
   "cell_type": "markdown",
   "metadata": {
    "id": "N_0xqG6oB4uH"
   },
   "source": [
    "This is the first function that has some functionality. we call the function inputing an argument that is a string, and the function welcomes the person whose name is represented by that string. \n",
    "\n",
    "Let's see a more complicated example."
   ]
  },
  {
   "cell_type": "code",
   "execution_count": null,
   "metadata": {
    "id": "4HXj9MYJB4uL"
   },
   "outputs": [],
   "source": [
    "def multi(x,y):\n",
    "    return(x*y)"
   ]
  },
  {
   "cell_type": "code",
   "execution_count": null,
   "metadata": {
    "id": "_g3K4u3lB4uN",
    "outputId": "f4a09c08-6dce-44a2-dcd1-194f39ed5d81"
   },
   "outputs": [],
   "source": [
    "multi(3,4)"
   ]
  },
  {
   "cell_type": "code",
   "execution_count": null,
   "metadata": {
    "id": "Kf4RTz8dB4uQ",
    "outputId": "9734557e-f5a0-4817-8151-e0f7c506559c"
   },
   "outputs": [],
   "source": [
    "multi(5,10)"
   ]
  },
  {
   "cell_type": "code",
   "execution_count": null,
   "metadata": {
    "id": "GqiaX-BDB4uT"
   },
   "outputs": [],
   "source": [
    "x = multi(5.5,5)"
   ]
  },
  {
   "cell_type": "code",
   "execution_count": null,
   "metadata": {
    "id": "JGfQQM2IB4uV",
    "outputId": "571304b3-9b31-4645-f274-d9c6e7f14660"
   },
   "outputs": [],
   "source": [
    "x"
   ]
  },
  {
   "cell_type": "markdown",
   "metadata": {
    "id": "FwOf6AniB4ua"
   },
   "source": [
    "This function takes two arguments and multiplies them. We can also save the result to a variable, since the function **returns** that value!\n",
    "\n",
    "The value that a function returns need not only be a number. For example, the following function returns a list!"
   ]
  },
  {
   "cell_type": "code",
   "execution_count": null,
   "metadata": {
    "id": "3-oBmu1HB4ud"
   },
   "outputs": [],
   "source": [
    "def multi(x,y):\n",
    "    return([x*x,y*y, x*y])"
   ]
  },
  {
   "cell_type": "code",
   "execution_count": null,
   "metadata": {
    "colab": {
     "base_uri": "https://localhost:8080/"
    },
    "executionInfo": {
     "elapsed": 127,
     "status": "ok",
     "timestamp": 1624925261713,
     "user": {
      "displayName": "Leonardo Luchetti",
      "photoUrl": "https://lh3.googleusercontent.com/a-/AOh14Gj7abvlnZb1Gu1xalxFnLFcMHF0epo2McTfuXnM=s64",
      "userId": "05854504905374019893"
     },
     "user_tz": 240
    },
    "id": "lKAFL1-3B4ue",
    "outputId": "d35be60c-d052-49e0-96f1-1533d7580c5f"
   },
   "outputs": [],
   "source": [
    "multi(5,10)"
   ]
  },
  {
   "cell_type": "markdown",
   "metadata": {
    "id": "oU59QsIhE0yu"
   },
   "source": [
    "Suggestion: emphasize function's ability to simplify code"
   ]
  },
  {
   "cell_type": "code",
   "execution_count": null,
   "metadata": {
    "id": "CgT7_0m-E1-s"
   },
   "outputs": [],
   "source": [
    "def multi(x,y):\n",
    "    a = x*x\n",
    "    b = y*y\n",
    "    c = x*y\n",
    "    d = [a,b,c]\n",
    "    return(d)"
   ]
  },
  {
   "cell_type": "code",
   "execution_count": null,
   "metadata": {},
   "outputs": [],
   "source": [
    "# you can -- of course -- declare functions within functions..\n",
    "def calculate_statistics(nums):\n",
    "    def mean(nums):\n",
    "        return sum(nums) / len(nums)\n",
    "    \n",
    "    def median(nums):\n",
    "        sorted_nums = sorted(nums)\n",
    "        mid = len(nums) // 2\n",
    "        if len(nums) % 2 == 0:\n",
    "            return (sorted_nums[mid - 1] + sorted_nums[mid]) / 2\n",
    "        else:\n",
    "            return sorted_nums[mid]\n",
    "    \n",
    "    def mode(nums):\n",
    "        from collections import Counter\n",
    "        counts = Counter(nums)\n",
    "        max_count = max(counts.values())\n",
    "        return [num for num, count in counts.items() if count == max_count]\n",
    "\n",
    "    return {\n",
    "        'mean': mean(nums),\n",
    "        'median': median(nums),\n",
    "        'mode': mode(nums)\n",
    "    }\n",
    "\n",
    "\n",
    "numbers = [4, 5, 5, 6, 7, 8, 8, 9]\n",
    "stats = calculate_statistics(numbers)\n",
    "print(stats)"
   ]
  },
  {
   "cell_type": "markdown",
   "metadata": {},
   "source": [
    "## Challenge"
   ]
  },
  {
   "cell_type": "markdown",
   "metadata": {},
   "source": [
    "Go to a previous lecture, and try to implement something we did functions!"
   ]
  },
  {
   "cell_type": "code",
   "execution_count": null,
   "metadata": {},
   "outputs": [],
   "source": []
  }
 ],
 "metadata": {
  "colab": {
   "name": "04.3 Methods, Functions, Importing and Making modules (bonus material).ipynb",
   "provenance": []
  },
  "kernelspec": {
   "display_name": "Python 3 (ipykernel)",
   "language": "python",
   "name": "python3"
  },
  "language_info": {
   "codemirror_mode": {
    "name": "ipython",
    "version": 3
   },
   "file_extension": ".py",
   "mimetype": "text/x-python",
   "name": "python",
   "nbconvert_exporter": "python",
   "pygments_lexer": "ipython3",
   "version": "3.10.4"
  }
 },
 "nbformat": 4,
 "nbformat_minor": 1
}
