{
 "cells": [
  {
   "cell_type": "markdown",
   "metadata": {},
   "source": [
    "---\n",
    "\n",
    "### 🎓 **Professor**: Apostolos Filippas w/ Reina Chehayeb's help!\n",
    "\n",
    "### 📘 **Class**: Web Analytics\n",
    "\n",
    "### 📋 **Topic**: Using Selenium to Parse Web Content\n",
    "\n",
    "### 🔗 **Link**: https://www.bit.ly/WA_selenium\n",
    "\n",
    "🚫 **Note**: You are not allowed to share the contents of this notebook with anyone outside this class without written permission by the professor.\n",
    "\n",
    "---\n"
   ]
  },
  {
   "cell_type": "markdown",
   "metadata": {},
   "source": [
    "## 1. Static content 🔒 vs. Dynamic content 🍃"
   ]
  },
  {
   "cell_type": "markdown",
   "metadata": {},
   "source": [
    "<div style=\"text-align: center;\">\n",
    "<br>\n",
    "<img src=\"https://www.cloudflare.com/resources/images/slt3lc6tev37/6ijRQV6QxiyG4zyidpgJmi/23088f026f5b01cd671274b9b994096f/caching-dynamic-content.svg\" width=\"800\" height=\"480\">\n",
    "<br>\n",
    "</div>\n",
    "\n",
    "> 🔒 **Static content**: files that are stored in the server and are the same every time they are delivered to users. \n",
    "> Unless the developer makes changes, the web page always remains the same. It is like a newspaper: once an issue of a newspaper is published, it features the same articles and photos all day for everyone who picks up a copy.\n",
    "\n",
    "<div style=\"text-align: center;\">\n",
    "        <img src=\"https://i.imgur.com/mxfom84.png\" title=\"source: imgur.com\" width=\"350\" height=\"350\" />\n",
    "</div>\n",
    "\n",
    "> 🍃 **Dynamic content** is content that changes based on factors specific to the user such as time of visit, location, and device. A dynamic webpage will not look the same for everybody, and it can change as users interact with it – like if a newspaper could rewrite itself as someone is reading it. This makes webpages more personalized and more interactive.\n",
    "\n",
    "<div style=\"text-align: center;\">\n",
    "        <img src=\"https://i.imgur.com/TjkGFKx.png\" title=\"source: imgur.com\" width=\"350\" height=\"350\" />\n",
    "</div>"
   ]
  },
  {
   "cell_type": "markdown",
   "metadata": {},
   "source": [
    "---\n",
    "## 2. How do dynamic websites work?\n",
    "\n",
    "There are many external services that dynamic webpages interact with. Here we cover 3 common services:\n"
   ]
  },
  {
   "cell_type": "markdown",
   "metadata": {},
   "source": [
    "### **🌐 Server-side scripting** \n",
    "\n",
    "When a user requests a webpage, the server processes the script, and interacts with databases or external services. Then, it sends the dynamically generated HTML back to the user's browser.\n",
    "\n",
    "**Used for**: detecting that you are logging in from a certain geographic location, and shows you relevant information for that location\n",
    "\n",
    "<div style=\"text-align: center;\">\n",
    "<a href=\"https://imgur.com/VR0xInc\"><img src=\"https://i.imgur.com/VR0xInc.png\" title=\"source: imgur.com\" width=\"400\" height=\"300\" /></a>\n",
    "</div>\n",
    "\n",
    "### **💻 Client-side scripting** \n",
    "#### This involves using **_JavaScript_** to manipulate the content and behavior of web pages directly within the user's browser (i.e., click, scroll, play, pause, and more). It allows for interactive features, such as real-time updates and dynamic animations.\n",
    "***Used for**: Scrolling and clicking, form validation (submitting a form), real-time chat and messaging, image carousels\n",
    "\n",
    "<div style=\"text-align: center;\">\n",
    "<a href=\"https://imgur.com/N8VXk0G\"><img src=\"https://i.imgur.com/N8VXk0G.png\" title=\"source: imgur.com\" width=\"400\" height=\"300\" /></a>\n",
    "</div>\n",
    "\n",
    "### **☎️ Application Programming Interfaces (APIs)** \n",
    "#### APIs enable different systems to communicate and share data. In the dynamic websites, APIs can connect to external services or retrieve data from other sources, such as social media platforms, weather services, or payment gateways.\n",
    "**Used for**: Allowing users to view and interact with external services without having to leave the website (ex. live Twitter feeds, PayPal).\n",
    "\n",
    "<div style=\"text-align: center;\">\n",
    "<a href=\"https://imgur.com/HJl6RSl\"><img src=\"https://i.imgur.com/HJl6RSl.png\" title=\"source: imgur.com\" width=\"375\" height=\"300\" /></a>\n",
    "</div>"
   ]
  },
  {
   "cell_type": "markdown",
   "metadata": {},
   "source": [
    "### Why can't we just use Beautiful Soup to scrape dynamic content?\n",
    "- **Beautiful Soup**: It does only static scraping. Static scraping doesn't take JavaScript into consideration. When using Beautiful Soup to fetch web pages from the servers, it doesn't interact with the browser. \n",
    "\n",
    "- **Selenium**: In many cases, you need data that are hidden in components which get rendered on clicking JavaScript links. For example, for long reviews on many websites, you often need to click \"read more\" to view the full content. If you scraped a website using BeautifulSoup without clicking the \"read more\" button, you would only get part of that review."
   ]
  },
  {
   "cell_type": "markdown",
   "metadata": {},
   "source": [
    "---\n",
    "## 3. Getting started with Selenium"
   ]
  },
  {
   "cell_type": "markdown",
   "metadata": {},
   "source": [
    "As always, we start by importing all the useful packages. \n",
    "\n",
    "Note that to be able to follow along, you should have followed the steps in the \"Before class\" portion of Lecture 6.\n",
    "\n",
    "We will be using chrome throughout."
   ]
  },
  {
   "cell_type": "code",
   "execution_count": 2,
   "metadata": {},
   "outputs": [],
   "source": [
    "from selenium import webdriver\n",
    "from selenium.common.exceptions import NoSuchElementException\n",
    "from selenium.webdriver.common.by import By\n",
    "\n",
    "\n",
    "import time \n",
    "import pandas as pd\n",
    "from bs4 import BeautifulSoup"
   ]
  },
  {
   "cell_type": "markdown",
   "metadata": {},
   "source": [
    "Above:\n",
    "- **time** will allow us to build \"breaks\" into our code to slow it down.\n",
    "- **pandas** will allow us to store data that we parsed from the website (you will learn more about this next week)\n",
    "\n",
    "\n",
    "Below:\n",
    "- The following scripts will open an instance of the Chrome browser. The instance of Chrome that opened will indicate that \"Chrome is now being controlled by automated test software\"."
   ]
  },
  {
   "cell_type": "code",
   "execution_count": 3,
   "metadata": {},
   "outputs": [],
   "source": [
    "# create a browser object-- this should open a chrome browser using selenium\n",
    "browser = webdriver.Chrome()"
   ]
  },
  {
   "cell_type": "code",
   "execution_count": 4,
   "metadata": {},
   "outputs": [],
   "source": [
    "# go to a website\n",
    "browser.get(\"http:/www.newyorktimes.com/\")\n",
    "time.sleep(2)\n",
    "browser.get(\"http://www.crunchbase.com/\")"
   ]
  },
  {
   "cell_type": "code",
   "execution_count": 5,
   "metadata": {},
   "outputs": [],
   "source": [
    "# close the browser\n",
    "browser.quit()\n",
    "\n",
    "# take a look at other browser methods\n",
    "# browser."
   ]
  },
  {
   "cell_type": "markdown",
   "metadata": {},
   "source": [
    "That's it! Now you're ready to use this powerful tool! "
   ]
  },
  {
   "cell_type": "markdown",
   "metadata": {},
   "source": [
    "---\n",
    "## 4. Navigating around a website with Selenium "
   ]
  },
  {
   "cell_type": "code",
   "execution_count": 6,
   "metadata": {},
   "outputs": [],
   "source": [
    "# initialize our browser\n",
    "browser = webdriver.Chrome()\n",
    "\n",
    "time.sleep(1)\n",
    "browser.maximize_window()\n",
    "time.sleep(2)\n",
    "\n",
    "# let's go to the review page of BBQ Sailing Trip on TripAdviser\n",
    "link = \"https://www.tripadvisor.com/Attraction_Review-g1187810-d10127777-Reviews-BBQ_Sailing_Trip-Skopelos_Town_Skopelos_Sporades.html\"\n",
    "browser.get(link)\n",
    "\n",
    "time.sleep(2)"
   ]
  },
  {
   "cell_type": "markdown",
   "metadata": {},
   "source": [
    "\n",
    "\n",
    "Just like HTML is used to find static content, we can use __**XML**__ (Extensible Markup Language) to find and interact with dynamic content."
   ]
  },
  {
   "cell_type": "markdown",
   "metadata": {},
   "source": [
    "## XML\n",
    "- XML is a markup language,designed to store, structure, and transport data or information.\n",
    "- It focuses on representing the content of data rather than specifying how it should be displayed (unlike HTML)\n",
    "- XML is widely used for data interchange and storage, providing a standardized way to format and organize data.\n",
    "- XML documents use tags to enclose data elements, creating a hierarchical structure. For example:\n",
    "\n",
    "```xml\n",
    "<bookstore>\n",
    "  <book>\n",
    "    <title lang=\"en\">Harry Potter and the mid-life crisis</title>\n",
    "    <description>Go on a journey with Harry Potter and his friends as they navigate the challenges of middle age by buying a Porsche.</description>\n",
    "    <price>29.99</price>\n",
    "  </book>\n",
    "</bookstore>\n",
    "```\n",
    "\n",
    "## XPath\n",
    "- XPath (XML Path Language) is a query language used in Selenium to navigate and locate elements within a web page's DOM (Document Object Model).\n",
    "- XPath is used to locate and interact with elements within XML or HTML documents, making it particularly useful for tasks like web scraping and automated testing. While XPath is often associated with XML because it was originally designed for XML documents, it can also be applied to HTML documents. \n",
    "- XPath allows you to traverse the hierarchy of elements within both XML and HTML, making it a valuable tool for selecting and manipulating data in these structured documents. So, while they are separate concepts, XPath is frequently used in conjunction with XML and HTML to access and work with data in these formats.\n",
    "- You can find the XPATH by right click the web page, click the inspect button and select the element you want to check. It's very similar to access content with id, class and other attributes, but gives us even more freedom.\n",
    "\n",
    "A sample XPath is shown below: "
   ]
  },
  {
   "cell_type": "markdown",
   "metadata": {},
   "source": [
    "<div style=\"text-align: center;\">\n",
    "<br>\n",
    "<img src=\"https://www.guru99.com/images/3-2016/032816_0758_XPathinSele1.png\" width=\"800\" height=\"280\">\n",
    "<br>\n",
    "</div>"
   ]
  },
  {
   "cell_type": "markdown",
   "metadata": {},
   "source": [
    "- `//`:  This selects all elements in the document that match the criteria that follow, regardless of their location within the document's hierarchy.\n",
    "- `tagname`: This selects all elements with the specified tag name.\n",
    "- `[@attribute='value']`: This selects all elements that have the specified attribute with a value equal to the specified value."
   ]
  },
  {
   "cell_type": "markdown",
   "metadata": {},
   "source": [
    "## Manipulating content using XPath \n",
    "\n",
    "Now let's click apply some filters using Selenium, so that we only see summer reviews."
   ]
  },
  {
   "cell_type": "markdown",
   "metadata": {},
   "source": [
    "<div style=\"text-align: center;\">\n",
    "<a href=\"https://imgur.com/F13dxbp\"><img src=\"https://i.imgur.com/F13dxbp.png\" title=\"source: imgur.com\" width=\"350\" height=\"200\" /></a>\n",
    "<div style=\"text-align: center;\">\n",
    "\n",
    "<div style=\"text-align: center;\">\n",
    "<a href=\"https://imgur.com/2QZRoBu\"><img src=\"https://i.imgur.com/2QZRoBu.png\" title=\"source: imgur.com\" /></a>\n",
    "<div style=\"text-align: center;\">\n"
   ]
  },
  {
   "cell_type": "markdown",
   "metadata": {},
   "source": [
    "By inspecting the elements on this web page, we can see that:\n",
    "\n",
    "- **tagname** = button\n",
    "- **attribute** = aria-label\n",
    "- **value** = \"Click to open the filter\"\n",
    "\n",
    "From here we can fill in those parameters into our xpath:\n",
    "\n",
    "//button[@aria-label='Click to open the filter']"
   ]
  },
  {
   "cell_type": "code",
   "execution_count": 7,
   "metadata": {},
   "outputs": [],
   "source": [
    "# use xpath to click the Filter button\n",
    "\n",
    "#get xpath for \"Filters\"\n",
    "xp = \"//button[@aria-label='Click to open the filter']\"\n",
    "\n",
    "#click on that object\n",
    "time.sleep(1)\n",
    "browser.find_element(By.XPATH,xp).click()\n",
    "time.sleep(2)\n",
    "\n",
    "# finding elements other ways\n",
    "# By."
   ]
  },
  {
   "cell_type": "code",
   "execution_count": 8,
   "metadata": {},
   "outputs": [],
   "source": [
    "#get xpath of months to select:\n",
    "xpath_june = \"//button[@aria-label='Enable filter: June']\"\n",
    "xpath_july = \"//button[@aria-label='Enable filter: July']\"\n",
    "xpath_august = \"//button[@aria-label='Enable filter: August']\"\n",
    "\n",
    "#select months\n",
    "time.sleep(1)\n",
    "browser.find_element(By.XPATH, xpath_june).click()\n",
    "time.sleep(1)\n",
    "browser.find_element(By.XPATH, xpath_july).click()\n",
    "time.sleep(1)\n",
    "browser.find_element(By.XPATH, xpath_august).click()\n",
    "time.sleep(2)"
   ]
  },
  {
   "cell_type": "code",
   "execution_count": 9,
   "metadata": {},
   "outputs": [],
   "source": [
    "# and then, we click the \"Apply\" button to see the resulting reviews\n",
    "\n",
    "time.sleep(1)\n",
    "xpath_apply = '//button[@class=\"rmyCe _G B- z _S c Wc wSSLS AeLHi sOtnj\"]'\n",
    "browser.find_element(By.XPATH, xpath_apply).click()\n",
    "time.sleep(2)"
   ]
  },
  {
   "cell_type": "markdown",
   "metadata": {},
   "source": [
    "## Other ways to locate elements"
   ]
  },
  {
   "cell_type": "markdown",
   "metadata": {},
   "source": [
    "Alternatively, we can right click the element we want > Copy > Copy XPath\n",
    "\n",
    "- This will give you the Absolute XPath\n",
    "<div style=\"text-align: center;\">\n",
    "<a href=\"https://imgur.com/JkXWlcn\"><img src=\"https://i.imgur.com/JkXWlcn.png\" title=\"source: imgur.com\" width = \"500\" height=\"400\" /></a>\n",
    "<div style=\"text-align: center;\">"
   ]
  },
  {
   "cell_type": "markdown",
   "metadata": {},
   "source": [
    "For the filter button, it looks like this:\n",
    "- `/*[@id=\"tab-data-qa-reviews-0\"]/div/div[1]/div/div/div[2]/div/div/div[1]/div/button`\n",
    "\n",
    "\n",
    "**Why don't we do this instead?**\n",
    "\n",
    "- It makes your code longer\n",
    "- Your code will be more likely to break if anything changes on the web page (ex. a review gets deleted)"
   ]
  },
  {
   "cell_type": "markdown",
   "metadata": {},
   "source": [
    "## Selecting multiple elements by xPath\n",
    "\n",
    "There are multiple buttons on the page. Let's say we want to click on the button that scrolls down to the reviews.\n",
    "\n",
    "Here is the XPath for some clickable buttons on the page:\n",
    "\n",
    "//button[@type='button']"
   ]
  },
  {
   "cell_type": "code",
   "execution_count": 10,
   "metadata": {},
   "outputs": [
    {
     "name": "stdout",
     "output_type": "stream",
     "text": [
      "<class 'list'>\n",
      "175\n"
     ]
    },
    {
     "data": {
      "text/plain": [
       "[<selenium.webdriver.remote.webelement.WebElement (session=\"8ed97202f1343551657f8f8ddcff8aa6\", element=\"f.0C699189A69148C06E149C1F13ABAD36.d.5994C6A28E772DBA6082763DCBD97DB8.e.78\")>,\n",
       " <selenium.webdriver.remote.webelement.WebElement (session=\"8ed97202f1343551657f8f8ddcff8aa6\", element=\"f.0C699189A69148C06E149C1F13ABAD36.d.5994C6A28E772DBA6082763DCBD97DB8.e.79\")>,\n",
       " <selenium.webdriver.remote.webelement.WebElement (session=\"8ed97202f1343551657f8f8ddcff8aa6\", element=\"f.0C699189A69148C06E149C1F13ABAD36.d.5994C6A28E772DBA6082763DCBD97DB8.e.80\")>,\n",
       " <selenium.webdriver.remote.webelement.WebElement (session=\"8ed97202f1343551657f8f8ddcff8aa6\", element=\"f.0C699189A69148C06E149C1F13ABAD36.d.5994C6A28E772DBA6082763DCBD97DB8.e.81\")>,\n",
       " <selenium.webdriver.remote.webelement.WebElement (session=\"8ed97202f1343551657f8f8ddcff8aa6\", element=\"f.0C699189A69148C06E149C1F13ABAD36.d.5994C6A28E772DBA6082763DCBD97DB8.e.82\")>,\n",
       " <selenium.webdriver.remote.webelement.WebElement (session=\"8ed97202f1343551657f8f8ddcff8aa6\", element=\"f.0C699189A69148C06E149C1F13ABAD36.d.5994C6A28E772DBA6082763DCBD97DB8.e.83\")>,\n",
       " <selenium.webdriver.remote.webelement.WebElement (session=\"8ed97202f1343551657f8f8ddcff8aa6\", element=\"f.0C699189A69148C06E149C1F13ABAD36.d.5994C6A28E772DBA6082763DCBD97DB8.e.84\")>,\n",
       " <selenium.webdriver.remote.webelement.WebElement (session=\"8ed97202f1343551657f8f8ddcff8aa6\", element=\"f.0C699189A69148C06E149C1F13ABAD36.d.5994C6A28E772DBA6082763DCBD97DB8.e.85\")>,\n",
       " <selenium.webdriver.remote.webelement.WebElement (session=\"8ed97202f1343551657f8f8ddcff8aa6\", element=\"f.0C699189A69148C06E149C1F13ABAD36.d.5994C6A28E772DBA6082763DCBD97DB8.e.86\")>,\n",
       " <selenium.webdriver.remote.webelement.WebElement (session=\"8ed97202f1343551657f8f8ddcff8aa6\", element=\"f.0C699189A69148C06E149C1F13ABAD36.d.5994C6A28E772DBA6082763DCBD97DB8.e.87\")>]"
      ]
     },
     "execution_count": 10,
     "metadata": {},
     "output_type": "execute_result"
    }
   ],
   "source": [
    "# finding multiple buttons with the same parameter\n",
    "# we use .find_elements() with an s to get all elements on a page with a given XPath\n",
    "\n",
    "xpath_buttons = \"//button[@type='button']\"\n",
    "\n",
    "time.sleep(2)\n",
    "elements = browser.find_elements(By.XPATH, xpath_buttons)\n",
    "\n",
    "print(type(elements))\n",
    "print(len(elements))\n",
    "elements[:10]"
   ]
  },
  {
   "cell_type": "markdown",
   "metadata": {},
   "source": [
    "**How do I know which element is which??**\n",
    "\n",
    "**We can extract the innerHTML or property or text information by .get_attribute('innerHTML'), .get_property() or .text methods** "
   ]
  },
  {
   "cell_type": "code",
   "execution_count": 11,
   "metadata": {},
   "outputs": [
    {
     "name": "stdout",
     "output_type": "stream",
     "text": [
      "0: \t <span class=\"biGQs _P XWJSj Wb\">Skip to main content</span>\n",
      "1: \t <span class=\"biGQs _P ttuOS\">Discover</span>\n",
      "2: \t <span class=\"biGQs _P ttuOS\">Trips</span>\n",
      "3: \t <span class=\"biGQs _P ttuOS\">Review</span>\n",
      "4: \t <span class=\"biGQs _P ttuOS\"><span class=\"q\"><svg viewBox=\"0 0 24 24\" width=\"20px\" height=\"20px\" class=\"d Vb UmNoP\"><path fill-rule=\"evenodd\" clip-rule=\"evenodd\" d=\"M9.31 9.82h4.178c-.069-1.591-.356-2.993-.766-4.017-.237-.593-.501-1.023-.756-1.293-.211-.223-.38-.3-.5-.32h-.133c-.12.02-.289.097-.5.32-.255.27-.519.7-.756 1.293-.41 1.024-.697 2.426-.767 4.017m-.374-5.14q-.135.272-.252.566C8.194 6.472 7.88 8.07 7.81 9.82H5.055a6.39 6.39 0 0 1 3.88-5.14m2.301-1.989a7.883 7.883 0 0 0-7.726 7.88 7.88 7.88 0 0 0 7.884 7.885c.584 0 .871-.014 1.11-.074.124-.031.172-.049.213-.064.058-.02.099-.036.312-.073l-.26-1.477a4 4 0 0 0-.628.159c-.031.007-.132.029-.743.029-.121 0-.313-.06-.566-.327-.255-.27-.519-.699-.756-1.292-.41-1.025-.697-2.426-.767-4.017h4.203a4.7 4.7 0 0 1-.113.843 6 6 0 0 1-.112.413l-.012.04-.004.016c-.034.114-.089.298-.1.478l1.498.088v.006s.007-.035.044-.161l.012-.04c.038-.126.09-.298.136-.505.072-.313.134-.698.152-1.178h2.734a4.2 4.2 0 0 1-.195.949c-.055.16-.11.28-.166.403l-.004.01-.01.02c-.046.101-.132.288-.161.486l1.484.219-.005.026s.012-.032.057-.13l.008-.018c.056-.123.137-.3.216-.529.168-.49.31-1.168.31-2.186a7.88 7.88 0 0 0-7.72-7.879 2 2 0 0 0-.325 0m2.626 1.99q.134.271.252.565c.49 1.226.805 2.824.875 4.574h2.75a6.38 6.38 0 0 0-3.877-5.14M8.94 16.466a8 8 0 0 1-.256-.573c-.49-1.227-.805-2.824-.875-4.574H5.055a6.39 6.39 0 0 0 3.885 5.147\"></path><path fill-rule=\"evenodd\" clip-rule=\"evenodd\" d=\"M20.489 12.343h-8.75v6.648h5.255l3.495 2.325zm-1.5 1.5v4.674l-1.542-1.026H13.24v-3.648z\"></path></svg><div class=\"TzXjz d Vb\"></div>USD</span></span>\n",
      "5: \t <span class=\"biGQs _P ngXxk\"><a class=\"JBbKZ Q1 nadlY\" href=\"/Tourism-g1187810-Skopelos_Town_Skopelos_Sporades-Vacations.html\"><svg viewBox=\"0 0 24 24\" width=\"24px\" height=\"24px\" class=\"d Vb egaXP UmNoP\"><path fill-rule=\"evenodd\" clip-rule=\"evenodd\" d=\"M14.256 7.032A2.441 2.441 0 1 0 9.746 8.9a2.441 2.441 0 0 0 4.51-1.868m-2.615.065a.941.941 0 1 1 .72 1.738.941.941 0 0 1-.72-1.738\"></path><path fill-rule=\"evenodd\" clip-rule=\"evenodd\" d=\"M7.26 5.882 2.748 6.91v14.1l6.418-1.951 5.64 1.714 6.446-1.47V5.708l-4.185.954a5.34 5.34 0 0 0-5.066-3.67 5.34 5.34 0 0 0-4.741 2.89M6.73 7.54a5 5 0 0 0-.053.745c0 1.265.506 2.476 1.163 3.536l-3.592.955v-4.67zm10.592.6q.003.073.002.145c0 1.573-.782 3.063-1.663 4.284l-.077.105v.353l4.168-.95v-4.49zm-3.288 6.368c-.363.386-.706.73-.996 1.019l-.057.057-.002.002-.987.98-.974-.998-.03-.03a44 44 0 0 1-1.072-1.093v3.273l4.168 1.266v-4.46zm.41-2.817c-.778 1.077-1.72 2.028-2.437 2.745-.72-.716-1.676-1.675-2.462-2.765-.814-1.128-1.368-2.294-1.368-3.386 0-2.082 1.717-3.795 3.824-3.795s3.823 1.713 3.823 3.795c0 1.098-.56 2.27-1.38 3.406m5.308 1.924-4.168.95v4.491l4.168-.95zm-15.504.713 4.168-1.108v4.498l-4.168 1.266z\"></path></svg>Skopelos Town</a></span>\n",
      "6: \t <span class=\"biGQs _P fOtGX\"><a class=\"JBbKZ Q1\" href=\"/Hotels-g1187810-Skopelos_Town_Skopelos_Sporades-Hotels.html\">Hotels</a></span>\n",
      "7: \t <span class=\"biGQs _P fOtGX\"><a class=\"JBbKZ Q1\" href=\"/Attractions-g1187810-Activities-Skopelos_Town_Skopelos_Sporades.html\">Things to Do</a></span>\n",
      "8: \t <span class=\"biGQs _P fOtGX\"><a class=\"JBbKZ Q1\" href=\"/Restaurants-g1187810-Skopelos_Town_Skopelos_Sporades.html\">Restaurants</a></span>\n",
      "9: \t <span class=\"biGQs _P fOtGX\"><a class=\"JBbKZ Q1\" href=\"/Flights-g1187810-Skopelos_Town_Skopelos_Sporades-Cheap_Discount_Airfares.html\">Flights</a></span>\n",
      "10: \t <span class=\"biGQs _P fOtGX\"><a class=\"JBbKZ Q1\" href=\"/VacationRentals-g1187810-Reviews-Skopelos_Town_Skopelos_Sporades-Vacation_Rentals.html\">Vacation Rentals</a></span>\n",
      "11: \t <span class=\"biGQs _P fOtGX\"><a class=\"JBbKZ Q1\" href=\"/Cruises\">Cruises</a></span>\n",
      "12: \t <span class=\"biGQs _P fOtGX\"><a class=\"JBbKZ Q1\" href=\"/RentalCars-g1187810-Skopelos_Town_Skopelos_Sporades.html\">Rental Cars</a></span>\n",
      "13: \t <span class=\"biGQs _P fOtGX\"><a class=\"JBbKZ Q1\" href=\"/ShowForum-g1187810-Skopelos_Town_Skopelos_Sporades.html\">Forums</a></span>\n",
      "14: \t <svg viewBox=\"0 0 24 24\" width=\"20px\" height=\"20px\" class=\"d Vb UmNoP\"><path fill-rule=\"evenodd\" clip-rule=\"evenodd\" d=\"m12 .94 4.102 4.101-1.06 1.06-2.292-2.29V12.5h-1.5V3.81L8.959 6.103l-1.061-1.06zM4.043 8.301C4.505 7.73 5.2 7.25 6.003 7.25H8v1.5H6.004c-.196 0-.503.134-.793.494-.28.347-.461.81-.461 1.256v7.956c0 1.17.72 1.794 1.254 1.794h11.992c.538 0 1.254-.628 1.254-1.794V10.5c0-.448-.18-.91-.46-1.257-.289-.359-.596-.493-.794-.493H16v-1.5h1.996c.806 0 1.501.48 1.963 1.052.47.585.791 1.372.791 2.198v7.956c0 1.638-1.072 3.294-2.754 3.294H6.004c-1.674 0-2.754-1.645-2.754-3.294V10.5c0-.826.322-1.614.793-2.198\"></path></svg>\n",
      "15: \t <svg viewBox=\"0 0 24 24\" width=\"20px\" height=\"20px\" class=\"d Vb icjEL\"><path fill-rule=\"evenodd\" clip-rule=\"evenodd\" d=\"M3.798 5.166A5.77 5.77 0 0 1 7.72 3.63c1.455 0 2.857.548 3.922 1.536l.005.005.341.322.332-.317a5.77 5.77 0 0 1 3.928-1.54c1.458 0 2.862.55 3.928 1.54l.004.004c1.093 1.032 1.598 2.324 1.569 3.662-.03 1.323-.579 2.643-1.5 3.785-.884 1.096-2.85 2.943-4.547 4.478a185 185 0 0 1-3.153 2.785l-.069.059-.489-.569.489.569-.485.416-.488-.412a102 102 0 0 1-7.75-7.288l-.021-.021-.02-.023c-1.725-2.115-2.203-5.32.08-7.453zm8.19 13.226.472-.412a184 184 0 0 0 2.236-1.988c1.72-1.556 3.59-3.32 4.385-4.306.757-.939 1.147-1.948 1.168-2.877.02-.912-.313-1.795-1.097-2.536a4.27 4.27 0 0 0-2.904-1.138c-1.08 0-2.117.407-2.903 1.136l-1.35 1.292-1.375-1.3a4.27 4.27 0 0 0-2.9-1.133 4.27 4.27 0 0 0-2.901 1.135c-1.507 1.408-1.353 3.659.042 5.385a101 101 0 0 0 7.127 6.742\"></path></svg><div class=\"xAoOI H4 b KKNvb\">Save</div>\n",
      "16: \t <svg viewBox=\"0 0 24 24\" width=\"20px\" height=\"20px\" class=\"d Vb UmNoP\"><path fill-rule=\"evenodd\" clip-rule=\"evenodd\" d=\"m12 .94 4.102 4.101-1.06 1.06-2.292-2.29V12.5h-1.5V3.81L8.959 6.103l-1.061-1.06zM4.043 8.301C4.505 7.73 5.2 7.25 6.003 7.25H8v1.5H6.004c-.196 0-.503.134-.793.494-.28.347-.461.81-.461 1.256v7.956c0 1.17.72 1.794 1.254 1.794h11.992c.538 0 1.254-.628 1.254-1.794V10.5c0-.448-.18-.91-.46-1.257-.289-.359-.596-.493-.794-.493H16v-1.5h1.996c.806 0 1.501.48 1.963 1.052.47.585.791 1.372.791 2.198v7.956c0 1.638-1.072 3.294-2.754 3.294H6.004c-1.674 0-2.754-1.645-2.754-3.294V10.5c0-.826.322-1.614.793-2.198\"></path></svg>\n",
      "17: \t <svg viewBox=\"0 0 24 24\" width=\"20px\" height=\"20px\" class=\"d Vb icjEL\"><path fill-rule=\"evenodd\" clip-rule=\"evenodd\" d=\"M3.798 5.166A5.77 5.77 0 0 1 7.72 3.63c1.455 0 2.857.548 3.922 1.536l.005.005.341.322.332-.317a5.77 5.77 0 0 1 3.928-1.54c1.458 0 2.862.55 3.928 1.54l.004.004c1.093 1.032 1.598 2.324 1.569 3.662-.03 1.323-.579 2.643-1.5 3.785-.884 1.096-2.85 2.943-4.547 4.478a185 185 0 0 1-3.153 2.785l-.069.059-.489-.569.489.569-.485.416-.488-.412a102 102 0 0 1-7.75-7.288l-.021-.021-.02-.023c-1.725-2.115-2.203-5.32.08-7.453zm8.19 13.226.472-.412a184 184 0 0 0 2.236-1.988c1.72-1.556 3.59-3.32 4.385-4.306.757-.939 1.147-1.948 1.168-2.877.02-.912-.313-1.795-1.097-2.536a4.27 4.27 0 0 0-2.904-1.138c-1.08 0-2.117.407-2.903 1.136l-1.35 1.292-1.375-1.3a4.27 4.27 0 0 0-2.9-1.133 4.27 4.27 0 0 0-2.901 1.135c-1.507 1.408-1.353 3.659.042 5.385a101 101 0 0 0 7.127 6.742\"></path></svg><div class=\"xAoOI H4 b KKNvb\">Save</div>\n",
      "18: \t <svg viewBox=\"0 0 24 24\" width=\"20px\" height=\"20px\" class=\"d Vb UmNoP\"><path fill-rule=\"evenodd\" clip-rule=\"evenodd\" d=\"m12 .94 4.102 4.101-1.06 1.06-2.292-2.29V12.5h-1.5V3.81L8.959 6.103l-1.061-1.06zM4.043 8.301C4.505 7.73 5.2 7.25 6.003 7.25H8v1.5H6.004c-.196 0-.503.134-.793.494-.28.347-.461.81-.461 1.256v7.956c0 1.17.72 1.794 1.254 1.794h11.992c.538 0 1.254-.628 1.254-1.794V10.5c0-.448-.18-.91-.46-1.257-.289-.359-.596-.493-.794-.493H16v-1.5h1.996c.806 0 1.501.48 1.963 1.052.47.585.791 1.372.791 2.198v7.956c0 1.638-1.072 3.294-2.754 3.294H6.004c-1.674 0-2.754-1.645-2.754-3.294V10.5c0-.826.322-1.614.793-2.198\"></path></svg>\n",
      "19: \t <svg viewBox=\"0 0 24 24\" width=\"20px\" height=\"20px\" class=\"d Vb icjEL\"><path fill-rule=\"evenodd\" clip-rule=\"evenodd\" d=\"M3.798 5.166A5.77 5.77 0 0 1 7.72 3.63c1.455 0 2.857.548 3.922 1.536l.005.005.341.322.332-.317a5.77 5.77 0 0 1 3.928-1.54c1.458 0 2.862.55 3.928 1.54l.004.004c1.093 1.032 1.598 2.324 1.569 3.662-.03 1.323-.579 2.643-1.5 3.785-.884 1.096-2.85 2.943-4.547 4.478a185 185 0 0 1-3.153 2.785l-.069.059-.489-.569.489.569-.485.416-.488-.412a102 102 0 0 1-7.75-7.288l-.021-.021-.02-.023c-1.725-2.115-2.203-5.32.08-7.453zm8.19 13.226.472-.412a184 184 0 0 0 2.236-1.988c1.72-1.556 3.59-3.32 4.385-4.306.757-.939 1.147-1.948 1.168-2.877.02-.912-.313-1.795-1.097-2.536a4.27 4.27 0 0 0-2.904-1.138c-1.08 0-2.117.407-2.903 1.136l-1.35 1.292-1.375-1.3a4.27 4.27 0 0 0-2.9-1.133 4.27 4.27 0 0 0-2.901 1.135c-1.507 1.408-1.353 3.659.042 5.385a101 101 0 0 0 7.127 6.742\"></path></svg>\n",
      "20: \t <span class=\"biGQs _P XWJSj Wb\"><div class=\"biGQs _P pZUbB KxBGd\"><span style=\"font-variant-numeric:tabular-nums\">129 reviews</span></div></span>\n",
      "21: \t <span class=\"biGQs _P XWJSj Wb\"><div data-automation=\"attractionsPoiHoursOpenNow\" class=\"Ulhqi VlzGd\">Open now</div></span>\n",
      "22: \t <svg viewBox=\"0 0 24 24\" width=\"24px\" height=\"24px\" class=\"d Vb UmNoP\"><path fill-rule=\"evenodd\" clip-rule=\"evenodd\" d=\"m10.736 20.792-8.58-8.58 8.58-8.582 1.06 1.061-6.77 6.77h16.08v1.5H5.026l6.77 6.77z\"></path></svg>\n",
      "23: \t <svg viewBox=\"0 0 24 24\" width=\"24px\" height=\"24px\" class=\"d Vb UmNoP\"><path fill-rule=\"evenodd\" clip-rule=\"evenodd\" d=\"M8.358 11.033a1.5 1.5 0 1 0 0-3 1.5 1.5 0 0 0 0 3m-2 5c-.5 0-.7-.5-.4-.9l1.6-1.4c.2-.2.6-.2.8 0l1.1 1.1c.2.2.6.2.8 0l3-2.7c.198-.2.6-.2.8 0l3.6 3c.3.3.1.9-.4.9z\"></path><path fill-rule=\"evenodd\" clip-rule=\"evenodd\" d=\"M20.017 5.737H3.184v12.526h16.833zm-18.333-1.5v15.526h19.833V4.237z\"></path></svg><span class=\"kLqdM\"><span class=\"biGQs _P FwFXZ\">See all photos</span></span>\n",
      "24: \t <svg viewBox=\"0 0 24 24\" width=\"24px\" height=\"24px\" class=\"d Vb UmNoP\"><path fill-rule=\"evenodd\" clip-rule=\"evenodd\" d=\"m12.631 3.632 8.578 8.577-8.58 8.58-1.062-1.06 6.77-6.77-16.075.004v-1.5l16.076-.004-6.767-6.767z\"></path></svg>\n",
      "25: \t <svg viewBox=\"0 0 24 24\" width=\"24px\" height=\"24px\" class=\"d Vb UmNoP\"><path fill-rule=\"evenodd\" clip-rule=\"evenodd\" d=\"m10.736 20.792-8.58-8.58 8.58-8.582 1.06 1.061-6.77 6.77h16.08v1.5H5.026l6.77 6.77z\"></path></svg>\n",
      "26: \t <svg viewBox=\"0 0 24 24\" width=\"24px\" height=\"24px\" class=\"d Vb UmNoP\"><path fill-rule=\"evenodd\" clip-rule=\"evenodd\" d=\"m12.631 3.632 8.578 8.577-8.58 8.58-1.062-1.06 6.77-6.77-16.075.004v-1.5l16.076-.004-6.767-6.767z\"></path></svg>\n",
      "27: \t <svg viewBox=\"0 0 24 24\" width=\"20px\" height=\"20px\" class=\"d Vb UmNoP\"><path fill-rule=\"evenodd\" clip-rule=\"evenodd\" d=\"M8.358 11.033a1.5 1.5 0 1 0 0-3 1.5 1.5 0 0 0 0 3m-2 5c-.5 0-.7-.5-.4-.9l1.6-1.4c.2-.2.6-.2.8 0l1.1 1.1c.2.2.6.2.8 0l3-2.7c.198-.2.6-.2.8 0l3.6 3c.3.3.1.9-.4.9z\"></path><path fill-rule=\"evenodd\" clip-rule=\"evenodd\" d=\"M20.017 5.737H3.184v12.526h16.833zm-18.333-1.5v15.526h19.833V4.237z\"></path></svg><span class=\"kLqdM\"><span class=\"biGQs _P FwFXZ\">240</span></span>\n",
      "28: \t <span class=\"biGQs _P XWJSj Wb\">Read more</span><div class=\"CECjK _W\"><svg viewBox=\"0 0 24 24\" width=\"20px\" height=\"20px\" class=\"d Vb UmNoP\"><path d=\"M18.4 7.4 12 13.7 5.6 7.4 4.2 8.8l7.8 7.8 7.8-7.8z\"></path></svg></div>\n",
      "29: \t <span class=\"biGQs _P XWJSj Wb\">Contact</span><div class=\"CECjK _W\"><svg viewBox=\"0 0 24 24\" width=\"20px\" height=\"20px\" class=\"d Vb UmNoP\"><path d=\"M18.4 7.4 12 13.7 5.6 7.4 4.2 8.8l7.8 7.8 7.8-7.8z\"></path></svg></div>\n",
      "30: \t <svg viewBox=\"0 0 24 24\" width=\"24px\" height=\"24px\" class=\"d Vb UmNoP\"><path fill-rule=\"evenodd\" clip-rule=\"evenodd\" d=\"m10.736 20.792-8.58-8.58 8.58-8.582 1.06 1.061-6.77 6.77h16.08v1.5H5.026l6.77 6.77z\"></path></svg>\n",
      "31: \t <svg viewBox=\"0 0 24 24\" width=\"24px\" height=\"24px\" class=\"d Vb icjEL\"><path fill-rule=\"evenodd\" clip-rule=\"evenodd\" d=\"M3.798 5.166A5.77 5.77 0 0 1 7.72 3.63c1.455 0 2.857.548 3.922 1.536l.005.005.341.322.332-.317a5.77 5.77 0 0 1 3.928-1.54c1.458 0 2.862.55 3.928 1.54l.004.004c1.093 1.032 1.598 2.324 1.569 3.662-.03 1.323-.579 2.643-1.5 3.785-.884 1.096-2.85 2.943-4.547 4.478a185 185 0 0 1-3.153 2.785l-.069.059-.489-.569.489.569-.485.416-.488-.412a102 102 0 0 1-7.75-7.288l-.021-.021-.02-.023c-1.725-2.115-2.203-5.32.08-7.453zm8.19 13.226.472-.412a184 184 0 0 0 2.236-1.988c1.72-1.556 3.59-3.32 4.385-4.306.757-.939 1.147-1.948 1.168-2.877.02-.912-.313-1.795-1.097-2.536a4.27 4.27 0 0 0-2.904-1.138c-1.08 0-2.117.407-2.903 1.136l-1.35 1.292-1.375-1.3a4.27 4.27 0 0 0-2.9-1.133 4.27 4.27 0 0 0-2.901 1.135c-1.507 1.408-1.353 3.659.042 5.385a101 101 0 0 0 7.127 6.742\"></path></svg>\n",
      "32: \t <svg viewBox=\"0 0 24 24\" width=\"24px\" height=\"24px\" class=\"d Vb icjEL\"><path fill-rule=\"evenodd\" clip-rule=\"evenodd\" d=\"M3.798 5.166A5.77 5.77 0 0 1 7.72 3.63c1.455 0 2.857.548 3.922 1.536l.005.005.341.322.332-.317a5.77 5.77 0 0 1 3.928-1.54c1.458 0 2.862.55 3.928 1.54l.004.004c1.093 1.032 1.598 2.324 1.569 3.662-.03 1.323-.579 2.643-1.5 3.785-.884 1.096-2.85 2.943-4.547 4.478a185 185 0 0 1-3.153 2.785l-.069.059-.489-.569.489.569-.485.416-.488-.412a102 102 0 0 1-7.75-7.288l-.021-.021-.02-.023c-1.725-2.115-2.203-5.32.08-7.453zm8.19 13.226.472-.412a184 184 0 0 0 2.236-1.988c1.72-1.556 3.59-3.32 4.385-4.306.757-.939 1.147-1.948 1.168-2.877.02-.912-.313-1.795-1.097-2.536a4.27 4.27 0 0 0-2.904-1.138c-1.08 0-2.117.407-2.903 1.136l-1.35 1.292-1.375-1.3a4.27 4.27 0 0 0-2.9-1.133 4.27 4.27 0 0 0-2.901 1.135c-1.507 1.408-1.353 3.659.042 5.385a101 101 0 0 0 7.127 6.742\"></path></svg>\n",
      "33: \t <svg viewBox=\"0 0 24 24\" width=\"24px\" height=\"24px\" class=\"d Vb icjEL\"><path fill-rule=\"evenodd\" clip-rule=\"evenodd\" d=\"M3.798 5.166A5.77 5.77 0 0 1 7.72 3.63c1.455 0 2.857.548 3.922 1.536l.005.005.341.322.332-.317a5.77 5.77 0 0 1 3.928-1.54c1.458 0 2.862.55 3.928 1.54l.004.004c1.093 1.032 1.598 2.324 1.569 3.662-.03 1.323-.579 2.643-1.5 3.785-.884 1.096-2.85 2.943-4.547 4.478a185 185 0 0 1-3.153 2.785l-.069.059-.489-.569.489.569-.485.416-.488-.412a102 102 0 0 1-7.75-7.288l-.021-.021-.02-.023c-1.725-2.115-2.203-5.32.08-7.453zm8.19 13.226.472-.412a184 184 0 0 0 2.236-1.988c1.72-1.556 3.59-3.32 4.385-4.306.757-.939 1.147-1.948 1.168-2.877.02-.912-.313-1.795-1.097-2.536a4.27 4.27 0 0 0-2.904-1.138c-1.08 0-2.117.407-2.903 1.136l-1.35 1.292-1.375-1.3a4.27 4.27 0 0 0-2.9-1.133 4.27 4.27 0 0 0-2.901 1.135c-1.507 1.408-1.353 3.659.042 5.385a101 101 0 0 0 7.127 6.742\"></path></svg>\n",
      "34: \t <svg viewBox=\"0 0 24 24\" width=\"24px\" height=\"24px\" class=\"d Vb icjEL\"><path fill-rule=\"evenodd\" clip-rule=\"evenodd\" d=\"M3.798 5.166A5.77 5.77 0 0 1 7.72 3.63c1.455 0 2.857.548 3.922 1.536l.005.005.341.322.332-.317a5.77 5.77 0 0 1 3.928-1.54c1.458 0 2.862.55 3.928 1.54l.004.004c1.093 1.032 1.598 2.324 1.569 3.662-.03 1.323-.579 2.643-1.5 3.785-.884 1.096-2.85 2.943-4.547 4.478a185 185 0 0 1-3.153 2.785l-.069.059-.489-.569.489.569-.485.416-.488-.412a102 102 0 0 1-7.75-7.288l-.021-.021-.02-.023c-1.725-2.115-2.203-5.32.08-7.453zm8.19 13.226.472-.412a184 184 0 0 0 2.236-1.988c1.72-1.556 3.59-3.32 4.385-4.306.757-.939 1.147-1.948 1.168-2.877.02-.912-.313-1.795-1.097-2.536a4.27 4.27 0 0 0-2.904-1.138c-1.08 0-2.117.407-2.903 1.136l-1.35 1.292-1.375-1.3a4.27 4.27 0 0 0-2.9-1.133 4.27 4.27 0 0 0-2.901 1.135c-1.507 1.408-1.353 3.659.042 5.385a101 101 0 0 0 7.127 6.742\"></path></svg>\n",
      "35: \t <svg viewBox=\"0 0 24 24\" width=\"24px\" height=\"24px\" class=\"d Vb icjEL\"><path fill-rule=\"evenodd\" clip-rule=\"evenodd\" d=\"M3.798 5.166A5.77 5.77 0 0 1 7.72 3.63c1.455 0 2.857.548 3.922 1.536l.005.005.341.322.332-.317a5.77 5.77 0 0 1 3.928-1.54c1.458 0 2.862.55 3.928 1.54l.004.004c1.093 1.032 1.598 2.324 1.569 3.662-.03 1.323-.579 2.643-1.5 3.785-.884 1.096-2.85 2.943-4.547 4.478a185 185 0 0 1-3.153 2.785l-.069.059-.489-.569.489.569-.485.416-.488-.412a102 102 0 0 1-7.75-7.288l-.021-.021-.02-.023c-1.725-2.115-2.203-5.32.08-7.453zm8.19 13.226.472-.412a184 184 0 0 0 2.236-1.988c1.72-1.556 3.59-3.32 4.385-4.306.757-.939 1.147-1.948 1.168-2.877.02-.912-.313-1.795-1.097-2.536a4.27 4.27 0 0 0-2.904-1.138c-1.08 0-2.117.407-2.903 1.136l-1.35 1.292-1.375-1.3a4.27 4.27 0 0 0-2.9-1.133 4.27 4.27 0 0 0-2.901 1.135c-1.507 1.408-1.353 3.659.042 5.385a101 101 0 0 0 7.127 6.742\"></path></svg>\n",
      "36: \t <svg viewBox=\"0 0 24 24\" width=\"24px\" height=\"24px\" class=\"d Vb icjEL\"><path fill-rule=\"evenodd\" clip-rule=\"evenodd\" d=\"M3.798 5.166A5.77 5.77 0 0 1 7.72 3.63c1.455 0 2.857.548 3.922 1.536l.005.005.341.322.332-.317a5.77 5.77 0 0 1 3.928-1.54c1.458 0 2.862.55 3.928 1.54l.004.004c1.093 1.032 1.598 2.324 1.569 3.662-.03 1.323-.579 2.643-1.5 3.785-.884 1.096-2.85 2.943-4.547 4.478a185 185 0 0 1-3.153 2.785l-.069.059-.489-.569.489.569-.485.416-.488-.412a102 102 0 0 1-7.75-7.288l-.021-.021-.02-.023c-1.725-2.115-2.203-5.32.08-7.453zm8.19 13.226.472-.412a184 184 0 0 0 2.236-1.988c1.72-1.556 3.59-3.32 4.385-4.306.757-.939 1.147-1.948 1.168-2.877.02-.912-.313-1.795-1.097-2.536a4.27 4.27 0 0 0-2.904-1.138c-1.08 0-2.117.407-2.903 1.136l-1.35 1.292-1.375-1.3a4.27 4.27 0 0 0-2.9-1.133 4.27 4.27 0 0 0-2.901 1.135c-1.507 1.408-1.353 3.659.042 5.385a101 101 0 0 0 7.127 6.742\"></path></svg>\n",
      "37: \t <svg viewBox=\"0 0 24 24\" width=\"24px\" height=\"24px\" class=\"d Vb icjEL\"><path fill-rule=\"evenodd\" clip-rule=\"evenodd\" d=\"M3.798 5.166A5.77 5.77 0 0 1 7.72 3.63c1.455 0 2.857.548 3.922 1.536l.005.005.341.322.332-.317a5.77 5.77 0 0 1 3.928-1.54c1.458 0 2.862.55 3.928 1.54l.004.004c1.093 1.032 1.598 2.324 1.569 3.662-.03 1.323-.579 2.643-1.5 3.785-.884 1.096-2.85 2.943-4.547 4.478a185 185 0 0 1-3.153 2.785l-.069.059-.489-.569.489.569-.485.416-.488-.412a102 102 0 0 1-7.75-7.288l-.021-.021-.02-.023c-1.725-2.115-2.203-5.32.08-7.453zm8.19 13.226.472-.412a184 184 0 0 0 2.236-1.988c1.72-1.556 3.59-3.32 4.385-4.306.757-.939 1.147-1.948 1.168-2.877.02-.912-.313-1.795-1.097-2.536a4.27 4.27 0 0 0-2.904-1.138c-1.08 0-2.117.407-2.903 1.136l-1.35 1.292-1.375-1.3a4.27 4.27 0 0 0-2.9-1.133 4.27 4.27 0 0 0-2.901 1.135c-1.507 1.408-1.353 3.659.042 5.385a101 101 0 0 0 7.127 6.742\"></path></svg>\n",
      "38: \t <svg viewBox=\"0 0 24 24\" width=\"24px\" height=\"24px\" class=\"d Vb icjEL\"><path fill-rule=\"evenodd\" clip-rule=\"evenodd\" d=\"M3.798 5.166A5.77 5.77 0 0 1 7.72 3.63c1.455 0 2.857.548 3.922 1.536l.005.005.341.322.332-.317a5.77 5.77 0 0 1 3.928-1.54c1.458 0 2.862.55 3.928 1.54l.004.004c1.093 1.032 1.598 2.324 1.569 3.662-.03 1.323-.579 2.643-1.5 3.785-.884 1.096-2.85 2.943-4.547 4.478a185 185 0 0 1-3.153 2.785l-.069.059-.489-.569.489.569-.485.416-.488-.412a102 102 0 0 1-7.75-7.288l-.021-.021-.02-.023c-1.725-2.115-2.203-5.32.08-7.453zm8.19 13.226.472-.412a184 184 0 0 0 2.236-1.988c1.72-1.556 3.59-3.32 4.385-4.306.757-.939 1.147-1.948 1.168-2.877.02-.912-.313-1.795-1.097-2.536a4.27 4.27 0 0 0-2.904-1.138c-1.08 0-2.117.407-2.903 1.136l-1.35 1.292-1.375-1.3a4.27 4.27 0 0 0-2.9-1.133 4.27 4.27 0 0 0-2.901 1.135c-1.507 1.408-1.353 3.659.042 5.385a101 101 0 0 0 7.127 6.742\"></path></svg>\n",
      "39: \t <svg viewBox=\"0 0 24 24\" width=\"24px\" height=\"24px\" class=\"d Vb icjEL\"><path fill-rule=\"evenodd\" clip-rule=\"evenodd\" d=\"M3.798 5.166A5.77 5.77 0 0 1 7.72 3.63c1.455 0 2.857.548 3.922 1.536l.005.005.341.322.332-.317a5.77 5.77 0 0 1 3.928-1.54c1.458 0 2.862.55 3.928 1.54l.004.004c1.093 1.032 1.598 2.324 1.569 3.662-.03 1.323-.579 2.643-1.5 3.785-.884 1.096-2.85 2.943-4.547 4.478a185 185 0 0 1-3.153 2.785l-.069.059-.489-.569.489.569-.485.416-.488-.412a102 102 0 0 1-7.75-7.288l-.021-.021-.02-.023c-1.725-2.115-2.203-5.32.08-7.453zm8.19 13.226.472-.412a184 184 0 0 0 2.236-1.988c1.72-1.556 3.59-3.32 4.385-4.306.757-.939 1.147-1.948 1.168-2.877.02-.912-.313-1.795-1.097-2.536a4.27 4.27 0 0 0-2.904-1.138c-1.08 0-2.117.407-2.903 1.136l-1.35 1.292-1.375-1.3a4.27 4.27 0 0 0-2.9-1.133 4.27 4.27 0 0 0-2.901 1.135c-1.507 1.408-1.353 3.659.042 5.385a101 101 0 0 0 7.127 6.742\"></path></svg>\n",
      "40: \t <svg viewBox=\"0 0 24 24\" width=\"24px\" height=\"24px\" class=\"d Vb UmNoP\"><path fill-rule=\"evenodd\" clip-rule=\"evenodd\" d=\"m12.631 3.632 8.578 8.577-8.58 8.58-1.062-1.06 6.77-6.77-16.075.004v-1.5l16.076-.004-6.767-6.767z\"></path></svg>\n",
      "41: \t <span class=\"biGQs _P XWJSj Wb\"><div class=\"biGQs _P pZUbB iktvT KxBGd\">“<!-- -->sea urchins<!-- -->”</div></span>\n",
      "42: \t <span class=\"biGQs _P uuBRH\">Reviews</span>\n",
      "43: \t <span class=\"biGQs _P uuBRH\">Q&amp;A</span>\n",
      "44: \t <div class=\"RCAPL j u\"><span class=\"biGQs _P FvqAl FGgoA vvmrG\">Filters<span class=\"oKsxY\">3</span></span></div>\n",
      "45: \t <div class=\"RCAPL j u\"><span class=\"biGQs _P FvqAl FGgoA vvmrG\">English</span><span class=\"NK\"><svg viewBox=\"0 0 24 24\" width=\"20px\" height=\"20px\" class=\"d Vb UmNoP\"><path d=\"M18.4 7.4 12 13.7 5.6 7.4 4.2 8.8l7.8 7.8 7.8-7.8z\"></path></svg></span></div>\n",
      "46: \t <div class=\"RCAPL j u\"><span class=\"biGQs _P FvqAl FGgoA vvmrG\">Most Recent</span><span class=\"NK\"><svg viewBox=\"0 0 24 24\" width=\"20px\" height=\"20px\" class=\"d Vb UmNoP\"><path d=\"M18.4 7.4 12 13.7 5.6 7.4 4.2 8.8l7.8 7.8 7.8-7.8z\"></path></svg></span></div>\n",
      "47: \t <span class=\"aUXjw\"><span class=\"WXEJy s\" style=\"width: 44px; height: 44px; left: -14px; top: -14px\"></span></span><span class=\"ZumfG\"></span><svg viewBox=\"0 0 24 24\" width=\"16px\" height=\"16px\" class=\"d Vb UmNoP\"><path d=\"M11 10v7h2v-7zm-.034-2.952a1.25 1.25 0 0 0-.216.692A1.24 1.24 0 0 0 12 9a1.25 1.25 0 1 0-1.034-1.952\"></path><path fill-rule=\"evenodd\" clip-rule=\"evenodd\" d=\"M12 2C6.477 2 2 6.477 2 12s4.477 10 10 10 10-4.477 10-10S17.523 2 12 2M4 12a8 8 0 1 1 16 0 8 8 0 0 1-16 0\"></path></svg>\n",
      "48: \t <div class=\"RCAPL j u\"><span class=\"biGQs _P FvqAl FGgoA vvmrG\">sea urchins</span></div>\n",
      "49: \t <div class=\"RCAPL j u\"><span class=\"biGQs _P FvqAl FGgoA vvmrG\">great company</span></div>\n",
      "50: \t <div class=\"RCAPL j u\"><span class=\"biGQs _P FvqAl FGgoA vvmrG\">met juan</span></div>\n",
      "51: \t <div class=\"RCAPL j u\"><span class=\"biGQs _P FvqAl FGgoA vvmrG\">sailing yacht</span></div>\n",
      "52: \t <div class=\"RCAPL j u\"><span class=\"biGQs _P FvqAl FGgoA vvmrG\">only accessible by boat</span></div>\n",
      "53: \t <div class=\"RCAPL j u\"><span class=\"biGQs _P FvqAl FGgoA vvmrG\">fellow passengers</span></div>\n",
      "54: \t <div class=\"RCAPL j u\"><span class=\"biGQs _P FvqAl FGgoA vvmrG\">perfect hosts</span></div>\n",
      "55: \t <div class=\"RCAPL j u\"><span class=\"biGQs _P FvqAl FGgoA vvmrG\">breakfast and lunch</span></div>\n",
      "56: \t <div class=\"RCAPL j u\"><span class=\"biGQs _P FvqAl FGgoA vvmrG\">don t hesitate</span></div>\n",
      "57: \t <div class=\"RCAPL j u\"><span class=\"biGQs _P FvqAl FGgoA vvmrG\">feel very welcome</span></div>\n",
      "58: \t <div class=\"RCAPL j u\"><span class=\"biGQs _P FvqAl FGgoA vvmrG\">skopelos port</span></div>\n",
      "59: \t <div class=\"RCAPL j u\"><span class=\"biGQs _P FvqAl FGgoA vvmrG\">lilly</span></div>\n",
      "60: \t <div class=\"RCAPL j u\"><span class=\"biGQs _P FvqAl FGgoA vvmrG\">board</span></div>\n",
      "61: \t <div class=\"RCAPL j u\"><span class=\"biGQs _P FvqAl FGgoA vvmrG\">skipper</span></div>\n",
      "62: \t <div class=\"RCAPL j u\"><span class=\"biGQs _P FvqAl FGgoA vvmrG\">holiday</span></div>\n",
      "63: \t <div class=\"RCAPL j u\"><span class=\"biGQs _P FvqAl FGgoA vvmrG\">crew</span></div>\n",
      "64: \t <div class=\"RCAPL j u\"><span class=\"biGQs _P FvqAl FGgoA vvmrG\">6pm</span></div>\n",
      "65: \t <div class=\"RCAPL j u\"><span class=\"biGQs _P FvqAl FGgoA vvmrG\">trips</span></div>\n",
      "66: \t <div class=\"RCAPL j u\"><span class=\"biGQs _P FvqAl FGgoA vvmrG\">island</span></div>\n",
      "67: \t <div class=\"RCAPL j u\"><span class=\"biGQs _P FvqAl FGgoA vvmrG\">cove</span></div>\n",
      "68: \t <div class=\"RCAPL j u\"><span class=\"biGQs _P FvqAl FGgoA vvmrG\">conversation</span></div>\n",
      "69: \t <svg viewBox=\"0 0 24 24\" width=\"20px\" height=\"20px\" class=\"d Vb UmNoP\"><path fill-rule=\"evenodd\" clip-rule=\"evenodd\" d=\"m14.539 4.661-.004.04-.003.04-.006.072a1 1 0 0 1-.016.116l-1.03 5.017h6.765a.267.267 0 0 1 .264.301l-1.311 8.533v.002a.27.27 0 0 1-.267.227H7.708v-7.9l5.224-5.017 1.027-.963c.066-.054.134-.117.18-.161l.022-.02c.07-.066.132-.122.195-.172a.7.7 0 0 1 .183-.115m.692-1.49c.246.097.41.239.51.334.22.206.31.465.349.618.044.172.058.342.058.478v.038l-.003.038a9 9 0 0 0-.024.28 3 3 0 0 1-.043.293l-.635 3.095h4.802a1.867 1.867 0 0 1 1.849 2.13l-.002.009-1.312 8.538a1.87 1.87 0 0 1-1.862 1.588H6.108V10.427l5.725-5.5 1.081-1.012.03-.023.032-.029c.02-.017.038-.035.063-.058l.03-.028c.073-.068.175-.163.292-.256.218-.172.59-.425 1.068-.458.29-.02.557.01.802.108M2.688 10.013a.8.8 0 0 1 .8.8v10.13h-1.6v-10.13a.8.8 0 0 1 .8-.8\"></path></svg><span class=\"kLqdM\"><span class=\"biGQs _P FwFXZ\">0</span></span>\n",
      "70: \t <svg viewBox=\"0 0 24 24\" width=\"20px\" height=\"20px\" class=\"d Vb UmNoP\"><path d=\"M5 14a2 2 0 1 0 0-4 2 2 0 0 0 0 4m14 0a2 2 0 1 0 0-4 2 2 0 0 0 0 4m-7 0a2 2 0 1 0 0-4 2 2 0 0 0 0 4\"></path></svg>\n",
      "71: \t <span class=\"biGQs _P XWJSj Wb\">Read more</span><div class=\"CECjK _W\"><svg viewBox=\"0 0 24 24\" width=\"20px\" height=\"20px\" class=\"d Vb UmNoP\"><path d=\"M18.4 7.4 12 13.7 5.6 7.4 4.2 8.8l7.8 7.8 7.8-7.8z\"></path></svg></div>\n",
      "72: \t <span class=\"biGQs _P XWJSj Wb\"><picture class=\"NhWcC _R o afQPz SyjMH qcDHf\" style=\"width:100px;height:100px\"><img srcset=\"https://dynamic-media-cdn.tripadvisor.com/media/photo-o/2d/23/92/8c/caption.jpg?w=100&amp;h=-1&amp;s=1 1x,https://dynamic-media-cdn.tripadvisor.com/media/photo-o/2d/23/92/8c/caption.jpg?w=200&amp;h=200&amp;s=1 2x\" src=\"https://dynamic-media-cdn.tripadvisor.com/media/photo-o/2d/23/92/8c/caption.jpg?w=100&amp;h=-1&amp;s=1\" width=\"100\" height=\"134\" role=\"none\" alt=\"\" loading=\"lazy\"></picture></span>\n",
      "73: \t <span class=\"biGQs _P XWJSj Wb\"><picture class=\"NhWcC _R o afQPz SyjMH qcDHf\" style=\"width:100px;height:100px\"><img srcset=\"https://dynamic-media-cdn.tripadvisor.com/media/photo-o/2d/23/92/8b/caption.jpg?w=100&amp;h=-1&amp;s=1 1x,https://dynamic-media-cdn.tripadvisor.com/media/photo-o/2d/23/92/8b/caption.jpg?w=200&amp;h=200&amp;s=1 2x\" src=\"https://dynamic-media-cdn.tripadvisor.com/media/photo-o/2d/23/92/8b/caption.jpg?w=100&amp;h=-1&amp;s=1\" width=\"100\" height=\"134\" role=\"none\" alt=\"\" loading=\"lazy\"></picture></span>\n",
      "74: \t <span class=\"biGQs _P XWJSj Wb\"><picture class=\"NhWcC _R o afQPz SyjMH qcDHf\" style=\"width:100px;height:100px\"><img srcset=\"https://dynamic-media-cdn.tripadvisor.com/media/photo-o/2d/23/92/8a/caption.jpg?w=100&amp;h=-1&amp;s=1 1x,https://dynamic-media-cdn.tripadvisor.com/media/photo-o/2d/23/92/8a/caption.jpg?w=200&amp;h=200&amp;s=1 2x\" src=\"https://dynamic-media-cdn.tripadvisor.com/media/photo-o/2d/23/92/8a/caption.jpg?w=100&amp;h=-1&amp;s=1\" width=\"100\" height=\"134\" role=\"none\" alt=\"\" loading=\"lazy\"></picture></span>\n",
      "75: \t <span class=\"biGQs _P XWJSj Wb\"><picture class=\"NhWcC _R o afQPz SyjMH qcDHf\" style=\"width:100px;height:100px\"><img srcset=\"https://dynamic-media-cdn.tripadvisor.com/media/photo-o/2d/23/92/89/caption.jpg?w=100&amp;h=-1&amp;s=1 1x,https://dynamic-media-cdn.tripadvisor.com/media/photo-o/2d/23/92/89/caption.jpg?w=200&amp;h=200&amp;s=1 2x\" src=\"https://dynamic-media-cdn.tripadvisor.com/media/photo-o/2d/23/92/89/caption.jpg?w=100&amp;h=-1&amp;s=1\" width=\"100\" height=\"134\" role=\"none\" alt=\"\" loading=\"lazy\"></picture></span>\n",
      "76: \t <span class=\"biGQs _P XWJSj Wb\"><picture class=\"NhWcC _R o afQPz SyjMH qcDHf\" style=\"width:100px;height:100px\"><img srcset=\"https://dynamic-media-cdn.tripadvisor.com/media/photo-o/2d/23/92/88/caption.jpg?w=100&amp;h=-1&amp;s=1 1x,https://dynamic-media-cdn.tripadvisor.com/media/photo-o/2d/23/92/88/caption.jpg?w=200&amp;h=200&amp;s=1 2x\" src=\"https://dynamic-media-cdn.tripadvisor.com/media/photo-o/2d/23/92/88/caption.jpg?w=100&amp;h=-1&amp;s=1\" width=\"100\" height=\"134\" role=\"none\" alt=\"\" loading=\"lazy\"></picture></span>\n",
      "77: \t <svg viewBox=\"0 0 24 24\" width=\"20px\" height=\"20px\" class=\"d Vb UmNoP\"><path fill-rule=\"evenodd\" clip-rule=\"evenodd\" d=\"m14.539 4.661-.004.04-.003.04-.006.072a1 1 0 0 1-.016.116l-1.03 5.017h6.765a.267.267 0 0 1 .264.301l-1.311 8.533v.002a.27.27 0 0 1-.267.227H7.708v-7.9l5.224-5.017 1.027-.963c.066-.054.134-.117.18-.161l.022-.02c.07-.066.132-.122.195-.172a.7.7 0 0 1 .183-.115m.692-1.49c.246.097.41.239.51.334.22.206.31.465.349.618.044.172.058.342.058.478v.038l-.003.038a9 9 0 0 0-.024.28 3 3 0 0 1-.043.293l-.635 3.095h4.802a1.867 1.867 0 0 1 1.849 2.13l-.002.009-1.312 8.538a1.87 1.87 0 0 1-1.862 1.588H6.108V10.427l5.725-5.5 1.081-1.012.03-.023.032-.029c.02-.017.038-.035.063-.058l.03-.028c.073-.068.175-.163.292-.256.218-.172.59-.425 1.068-.458.29-.02.557.01.802.108M2.688 10.013a.8.8 0 0 1 .8.8v10.13h-1.6v-10.13a.8.8 0 0 1 .8-.8\"></path></svg><span class=\"kLqdM\"><span class=\"biGQs _P FwFXZ\">0</span></span>\n",
      "78: \t <svg viewBox=\"0 0 24 24\" width=\"20px\" height=\"20px\" class=\"d Vb UmNoP\"><path d=\"M5 14a2 2 0 1 0 0-4 2 2 0 0 0 0 4m14 0a2 2 0 1 0 0-4 2 2 0 0 0 0 4m-7 0a2 2 0 1 0 0-4 2 2 0 0 0 0 4\"></path></svg>\n",
      "79: \t <span class=\"biGQs _P XWJSj Wb\">Read more</span><div class=\"CECjK _W\"><svg viewBox=\"0 0 24 24\" width=\"20px\" height=\"20px\" class=\"d Vb UmNoP\"><path d=\"M18.4 7.4 12 13.7 5.6 7.4 4.2 8.8l7.8 7.8 7.8-7.8z\"></path></svg></div>\n",
      "80: \t <svg viewBox=\"0 0 24 24\" width=\"20px\" height=\"20px\" class=\"d Vb UmNoP\"><path fill-rule=\"evenodd\" clip-rule=\"evenodd\" d=\"m14.539 4.661-.004.04-.003.04-.006.072a1 1 0 0 1-.016.116l-1.03 5.017h6.765a.267.267 0 0 1 .264.301l-1.311 8.533v.002a.27.27 0 0 1-.267.227H7.708v-7.9l5.224-5.017 1.027-.963c.066-.054.134-.117.18-.161l.022-.02c.07-.066.132-.122.195-.172a.7.7 0 0 1 .183-.115m.692-1.49c.246.097.41.239.51.334.22.206.31.465.349.618.044.172.058.342.058.478v.038l-.003.038a9 9 0 0 0-.024.28 3 3 0 0 1-.043.293l-.635 3.095h4.802a1.867 1.867 0 0 1 1.849 2.13l-.002.009-1.312 8.538a1.87 1.87 0 0 1-1.862 1.588H6.108V10.427l5.725-5.5 1.081-1.012.03-.023.032-.029c.02-.017.038-.035.063-.058l.03-.028c.073-.068.175-.163.292-.256.218-.172.59-.425 1.068-.458.29-.02.557.01.802.108M2.688 10.013a.8.8 0 0 1 .8.8v10.13h-1.6v-10.13a.8.8 0 0 1 .8-.8\"></path></svg><span class=\"kLqdM\"><span class=\"biGQs _P FwFXZ\">0</span></span>\n",
      "81: \t <svg viewBox=\"0 0 24 24\" width=\"20px\" height=\"20px\" class=\"d Vb UmNoP\"><path d=\"M5 14a2 2 0 1 0 0-4 2 2 0 0 0 0 4m14 0a2 2 0 1 0 0-4 2 2 0 0 0 0 4m-7 0a2 2 0 1 0 0-4 2 2 0 0 0 0 4\"></path></svg>\n",
      "82: \t <span class=\"biGQs _P XWJSj Wb\">Read more</span><div class=\"CECjK _W\"><svg viewBox=\"0 0 24 24\" width=\"20px\" height=\"20px\" class=\"d Vb UmNoP\"><path d=\"M18.4 7.4 12 13.7 5.6 7.4 4.2 8.8l7.8 7.8 7.8-7.8z\"></path></svg></div>\n",
      "83: \t <span class=\"biGQs _P XWJSj Wb\"><picture class=\"NhWcC _R mdkdE o afQPz SyjMH qcDHf\" style=\"width: 100px; height: 100px;\"><img srcset=\"https://dynamic-media-cdn.tripadvisor.com/media/photo-o/29/f3/3d/3e/caption.jpg?w=100&amp;h=-1&amp;s=1 1x,https://dynamic-media-cdn.tripadvisor.com/media/photo-o/29/f3/3d/3e/caption.jpg?w=200&amp;h=200&amp;s=1 2x\" src=\"https://dynamic-media-cdn.tripadvisor.com/media/photo-o/29/f3/3d/3e/caption.jpg?w=100&amp;h=-1&amp;s=1\" width=\"100\" height=\"134\" role=\"none\" alt=\"\" loading=\"lazy\"></picture></span>\n",
      "84: \t <span class=\"biGQs _P XWJSj Wb\"><picture class=\"NhWcC _R mdkdE o afQPz SyjMH qcDHf\" style=\"width: 100px; height: 100px;\"><img srcset=\"https://dynamic-media-cdn.tripadvisor.com/media/photo-o/29/f3/3d/3d/caption.jpg?w=100&amp;h=-1&amp;s=1 1x,https://dynamic-media-cdn.tripadvisor.com/media/photo-o/29/f3/3d/3d/caption.jpg?w=200&amp;h=200&amp;s=1 2x\" src=\"https://dynamic-media-cdn.tripadvisor.com/media/photo-o/29/f3/3d/3d/caption.jpg?w=100&amp;h=-1&amp;s=1\" width=\"100\" height=\"134\" role=\"none\" alt=\"\" loading=\"lazy\"></picture></span>\n",
      "85: \t <span class=\"biGQs _P XWJSj Wb\"><picture class=\"NhWcC _R mdkdE o afQPz SyjMH qcDHf\" style=\"width: 100px; height: 100px;\"><img srcset=\"https://dynamic-media-cdn.tripadvisor.com/media/photo-o/29/f3/3d/3c/caption.jpg?w=100&amp;h=-1&amp;s=1 1x,https://dynamic-media-cdn.tripadvisor.com/media/photo-o/29/f3/3d/3c/caption.jpg?w=200&amp;h=200&amp;s=1 2x\" src=\"https://dynamic-media-cdn.tripadvisor.com/media/photo-o/29/f3/3d/3c/caption.jpg?w=100&amp;h=-1&amp;s=1\" width=\"100\" height=\"134\" role=\"none\" alt=\"\" loading=\"lazy\"></picture></span>\n",
      "86: \t <span class=\"biGQs _P XWJSj Wb\"><picture class=\"NhWcC _R mdkdE o afQPz SyjMH qcDHf\" style=\"width: 100px; height: 100px;\"><img srcset=\"https://dynamic-media-cdn.tripadvisor.com/media/photo-o/29/f3/3d/3b/caption.jpg?w=200&amp;h=-1&amp;s=1 1x,https://dynamic-media-cdn.tripadvisor.com/media/photo-o/29/f3/3d/3b/caption.jpg?w=200&amp;h=200&amp;s=1 2x\" src=\"https://dynamic-media-cdn.tripadvisor.com/media/photo-o/29/f3/3d/3b/caption.jpg?w=200&amp;h=-1&amp;s=1\" width=\"200\" height=\"150\" role=\"none\" alt=\"\" loading=\"lazy\"></picture></span>\n",
      "87: \t <svg viewBox=\"0 0 24 24\" width=\"20px\" height=\"20px\" class=\"d Vb UmNoP\"><path fill-rule=\"evenodd\" clip-rule=\"evenodd\" d=\"m14.539 4.661-.004.04-.003.04-.006.072a1 1 0 0 1-.016.116l-1.03 5.017h6.765a.267.267 0 0 1 .264.301l-1.311 8.533v.002a.27.27 0 0 1-.267.227H7.708v-7.9l5.224-5.017 1.027-.963c.066-.054.134-.117.18-.161l.022-.02c.07-.066.132-.122.195-.172a.7.7 0 0 1 .183-.115m.692-1.49c.246.097.41.239.51.334.22.206.31.465.349.618.044.172.058.342.058.478v.038l-.003.038a9 9 0 0 0-.024.28 3 3 0 0 1-.043.293l-.635 3.095h4.802a1.867 1.867 0 0 1 1.849 2.13l-.002.009-1.312 8.538a1.87 1.87 0 0 1-1.862 1.588H6.108V10.427l5.725-5.5 1.081-1.012.03-.023.032-.029c.02-.017.038-.035.063-.058l.03-.028c.073-.068.175-.163.292-.256.218-.172.59-.425 1.068-.458.29-.02.557.01.802.108M2.688 10.013a.8.8 0 0 1 .8.8v10.13h-1.6v-10.13a.8.8 0 0 1 .8-.8\"></path></svg><span class=\"kLqdM\"><span class=\"biGQs _P FwFXZ\">0</span></span>\n",
      "88: \t <svg viewBox=\"0 0 24 24\" width=\"20px\" height=\"20px\" class=\"d Vb UmNoP\"><path d=\"M5 14a2 2 0 1 0 0-4 2 2 0 0 0 0 4m14 0a2 2 0 1 0 0-4 2 2 0 0 0 0 4m-7 0a2 2 0 1 0 0-4 2 2 0 0 0 0 4\"></path></svg>\n",
      "89: \t <span class=\"biGQs _P XWJSj Wb\">Read more</span><div class=\"CECjK _W\"><svg viewBox=\"0 0 24 24\" width=\"20px\" height=\"20px\" class=\"d Vb UmNoP\"><path d=\"M18.4 7.4 12 13.7 5.6 7.4 4.2 8.8l7.8 7.8 7.8-7.8z\"></path></svg></div>\n",
      "90: \t <svg viewBox=\"0 0 24 24\" width=\"20px\" height=\"20px\" class=\"d Vb UmNoP\"><path fill-rule=\"evenodd\" clip-rule=\"evenodd\" d=\"m14.539 4.661-.004.04-.003.04-.006.072a1 1 0 0 1-.016.116l-1.03 5.017h6.765a.267.267 0 0 1 .264.301l-1.311 8.533v.002a.27.27 0 0 1-.267.227H7.708v-7.9l5.224-5.017 1.027-.963c.066-.054.134-.117.18-.161l.022-.02c.07-.066.132-.122.195-.172a.7.7 0 0 1 .183-.115m.692-1.49c.246.097.41.239.51.334.22.206.31.465.349.618.044.172.058.342.058.478v.038l-.003.038a9 9 0 0 0-.024.28 3 3 0 0 1-.043.293l-.635 3.095h4.802a1.867 1.867 0 0 1 1.849 2.13l-.002.009-1.312 8.538a1.87 1.87 0 0 1-1.862 1.588H6.108V10.427l5.725-5.5 1.081-1.012.03-.023.032-.029c.02-.017.038-.035.063-.058l.03-.028c.073-.068.175-.163.292-.256.218-.172.59-.425 1.068-.458.29-.02.557.01.802.108M2.688 10.013a.8.8 0 0 1 .8.8v10.13h-1.6v-10.13a.8.8 0 0 1 .8-.8\"></path></svg><span class=\"kLqdM\"><span class=\"biGQs _P FwFXZ\">0</span></span>\n",
      "91: \t <svg viewBox=\"0 0 24 24\" width=\"20px\" height=\"20px\" class=\"d Vb UmNoP\"><path d=\"M5 14a2 2 0 1 0 0-4 2 2 0 0 0 0 4m14 0a2 2 0 1 0 0-4 2 2 0 0 0 0 4m-7 0a2 2 0 1 0 0-4 2 2 0 0 0 0 4\"></path></svg>\n",
      "92: \t <span class=\"biGQs _P XWJSj Wb\">Read more</span><div class=\"CECjK _W\"><svg viewBox=\"0 0 24 24\" width=\"20px\" height=\"20px\" class=\"d Vb UmNoP\"><path d=\"M18.4 7.4 12 13.7 5.6 7.4 4.2 8.8l7.8 7.8 7.8-7.8z\"></path></svg></div>\n",
      "93: \t <span class=\"biGQs _P XWJSj Wb\"><picture class=\"NhWcC _R mdkdE o afQPz SyjMH qcDHf\" style=\"width: 100px; height: 100px;\"><img srcset=\"https://dynamic-media-cdn.tripadvisor.com/media/photo-o/29/d3/31/bb/caption.jpg?w=100&amp;h=-1&amp;s=1 1x,https://dynamic-media-cdn.tripadvisor.com/media/photo-o/29/d3/31/bb/caption.jpg?w=200&amp;h=200&amp;s=1 2x\" src=\"https://dynamic-media-cdn.tripadvisor.com/media/photo-o/29/d3/31/bb/caption.jpg?w=100&amp;h=-1&amp;s=1\" width=\"100\" height=\"134\" role=\"none\" alt=\"\" loading=\"lazy\"></picture></span>\n",
      "94: \t <span class=\"biGQs _P XWJSj Wb\"><picture class=\"NhWcC _R mdkdE o afQPz SyjMH qcDHf\" style=\"width: 100px; height: 100px;\"><img srcset=\"https://dynamic-media-cdn.tripadvisor.com/media/photo-o/29/d3/31/ba/caption.jpg?w=100&amp;h=-1&amp;s=1 1x,https://dynamic-media-cdn.tripadvisor.com/media/photo-o/29/d3/31/ba/caption.jpg?w=200&amp;h=200&amp;s=1 2x\" src=\"https://dynamic-media-cdn.tripadvisor.com/media/photo-o/29/d3/31/ba/caption.jpg?w=100&amp;h=-1&amp;s=1\" width=\"100\" height=\"134\" role=\"none\" alt=\"\" loading=\"lazy\"></picture></span>\n",
      "95: \t <span class=\"biGQs _P XWJSj Wb\"><picture class=\"NhWcC _R mdkdE o afQPz SyjMH qcDHf\" style=\"width: 100px; height: 100px;\"><img srcset=\"https://dynamic-media-cdn.tripadvisor.com/media/photo-o/29/d3/31/b9/caption.jpg?w=100&amp;h=-1&amp;s=1 1x,https://dynamic-media-cdn.tripadvisor.com/media/photo-o/29/d3/31/b9/caption.jpg?w=200&amp;h=200&amp;s=1 2x\" src=\"https://dynamic-media-cdn.tripadvisor.com/media/photo-o/29/d3/31/b9/caption.jpg?w=100&amp;h=-1&amp;s=1\" width=\"100\" height=\"134\" role=\"none\" alt=\"\" loading=\"lazy\"></picture></span>\n",
      "96: \t <span class=\"biGQs _P XWJSj Wb\"><picture class=\"NhWcC _R mdkdE o afQPz SyjMH qcDHf\" style=\"width: 100px; height: 100px;\"><img srcset=\"https://dynamic-media-cdn.tripadvisor.com/media/photo-o/29/d3/31/b8/caption.jpg?w=100&amp;h=-1&amp;s=1 1x,https://dynamic-media-cdn.tripadvisor.com/media/photo-o/29/d3/31/b8/caption.jpg?w=200&amp;h=200&amp;s=1 2x\" src=\"https://dynamic-media-cdn.tripadvisor.com/media/photo-o/29/d3/31/b8/caption.jpg?w=100&amp;h=-1&amp;s=1\" width=\"100\" height=\"134\" role=\"none\" alt=\"\" loading=\"lazy\"></picture></span>\n",
      "97: \t <span class=\"biGQs _P XWJSj Wb\"><picture class=\"NhWcC _R mdkdE o afQPz SyjMH qcDHf\" style=\"width: 100px; height: 100px;\"><img srcset=\"https://dynamic-media-cdn.tripadvisor.com/media/photo-o/29/d3/31/b7/caption.jpg?w=100&amp;h=-1&amp;s=1 1x,https://dynamic-media-cdn.tripadvisor.com/media/photo-o/29/d3/31/b7/caption.jpg?w=200&amp;h=200&amp;s=1 2x\" src=\"https://dynamic-media-cdn.tripadvisor.com/media/photo-o/29/d3/31/b7/caption.jpg?w=100&amp;h=-1&amp;s=1\" width=\"100\" height=\"134\" role=\"none\" alt=\"\" loading=\"lazy\"></picture></span>\n",
      "98: \t <span class=\"biGQs _P XWJSj Wb\"><picture class=\"NhWcC _R mdkdE o afQPz SyjMH qcDHf\" style=\"width: 100px; height: 100px;\"><img srcset=\"https://dynamic-media-cdn.tripadvisor.com/media/photo-o/29/d3/31/b6/caption.jpg?w=100&amp;h=-1&amp;s=1 1x,https://dynamic-media-cdn.tripadvisor.com/media/photo-o/29/d3/31/b6/caption.jpg?w=200&amp;h=200&amp;s=1 2x\" src=\"https://dynamic-media-cdn.tripadvisor.com/media/photo-o/29/d3/31/b6/caption.jpg?w=100&amp;h=-1&amp;s=1\" width=\"100\" height=\"134\" role=\"none\" alt=\"\" loading=\"lazy\"></picture></span>\n",
      "99: \t <span class=\"biGQs _P XWJSj Wb\"><picture class=\"NhWcC _R mdkdE o afQPz SyjMH qcDHf\" style=\"width: 100px; height: 100px;\"><img srcset=\"https://dynamic-media-cdn.tripadvisor.com/media/photo-o/29/d3/31/b5/caption.jpg?w=100&amp;h=-1&amp;s=1 1x,https://dynamic-media-cdn.tripadvisor.com/media/photo-o/29/d3/31/b5/caption.jpg?w=200&amp;h=200&amp;s=1 2x\" src=\"https://dynamic-media-cdn.tripadvisor.com/media/photo-o/29/d3/31/b5/caption.jpg?w=100&amp;h=-1&amp;s=1\" width=\"100\" height=\"134\" role=\"none\" alt=\"\" loading=\"lazy\"></picture></span>\n",
      "100: \t <span class=\"biGQs _P XWJSj Wb\"><picture class=\"NhWcC _R mdkdE o afQPz SyjMH qcDHf\" style=\"width: 100px; height: 100px;\"><img srcset=\"https://dynamic-media-cdn.tripadvisor.com/media/photo-o/29/d3/31/b4/caption.jpg?w=100&amp;h=-1&amp;s=1 1x,https://dynamic-media-cdn.tripadvisor.com/media/photo-o/29/d3/31/b4/caption.jpg?w=200&amp;h=200&amp;s=1 2x\" src=\"https://dynamic-media-cdn.tripadvisor.com/media/photo-o/29/d3/31/b4/caption.jpg?w=100&amp;h=-1&amp;s=1\" width=\"100\" height=\"134\" role=\"none\" alt=\"\" loading=\"lazy\"></picture></span>\n",
      "101: \t <span class=\"biGQs _P XWJSj Wb\"><picture class=\"NhWcC _R mdkdE o afQPz SyjMH qcDHf\" style=\"width: 100px; height: 100px;\"><img srcset=\"https://dynamic-media-cdn.tripadvisor.com/media/photo-o/29/d3/31/b3/caption.jpg?w=100&amp;h=-1&amp;s=1 1x,https://dynamic-media-cdn.tripadvisor.com/media/photo-o/29/d3/31/b3/caption.jpg?w=200&amp;h=200&amp;s=1 2x\" src=\"https://dynamic-media-cdn.tripadvisor.com/media/photo-o/29/d3/31/b3/caption.jpg?w=100&amp;h=-1&amp;s=1\" width=\"100\" height=\"134\" role=\"none\" alt=\"\" loading=\"lazy\"></picture></span>\n",
      "102: \t <span class=\"biGQs _P XWJSj Wb\"><picture class=\"NhWcC _R mdkdE o afQPz SyjMH qcDHf\" style=\"width: 100px; height: 100px;\"><img srcset=\"https://dynamic-media-cdn.tripadvisor.com/media/photo-o/29/d3/31/b2/caption.jpg?w=100&amp;h=-1&amp;s=1 1x,https://dynamic-media-cdn.tripadvisor.com/media/photo-o/29/d3/31/b2/caption.jpg?w=200&amp;h=200&amp;s=1 2x\" src=\"https://dynamic-media-cdn.tripadvisor.com/media/photo-o/29/d3/31/b2/caption.jpg?w=100&amp;h=-1&amp;s=1\" width=\"100\" height=\"134\" role=\"none\" alt=\"\" loading=\"lazy\"></picture></span>\n",
      "103: \t <span class=\"biGQs _P XWJSj Wb\"><picture class=\"NhWcC _R mdkdE o afQPz SyjMH qcDHf\" style=\"width: 100px; height: 100px;\"><img srcset=\"https://dynamic-media-cdn.tripadvisor.com/media/photo-o/29/d3/31/b1/caption.jpg?w=100&amp;h=-1&amp;s=1 1x,https://dynamic-media-cdn.tripadvisor.com/media/photo-o/29/d3/31/b1/caption.jpg?w=200&amp;h=200&amp;s=1 2x\" src=\"https://dynamic-media-cdn.tripadvisor.com/media/photo-o/29/d3/31/b1/caption.jpg?w=100&amp;h=-1&amp;s=1\" width=\"100\" height=\"134\" role=\"none\" alt=\"\" loading=\"lazy\"></picture></span>\n",
      "104: \t <span class=\"biGQs _P XWJSj Wb\"><picture class=\"NhWcC _R mdkdE o afQPz SyjMH qcDHf\" style=\"width: 100px; height: 100px;\"><img srcset=\"https://dynamic-media-cdn.tripadvisor.com/media/photo-o/29/d3/31/b0/caption.jpg?w=100&amp;h=-1&amp;s=1 1x,https://dynamic-media-cdn.tripadvisor.com/media/photo-o/29/d3/31/b0/caption.jpg?w=200&amp;h=200&amp;s=1 2x\" src=\"https://dynamic-media-cdn.tripadvisor.com/media/photo-o/29/d3/31/b0/caption.jpg?w=100&amp;h=-1&amp;s=1\" width=\"100\" height=\"134\" role=\"none\" alt=\"\" loading=\"lazy\"></picture></span>\n",
      "105: \t <svg viewBox=\"0 0 24 24\" width=\"20px\" height=\"20px\" class=\"d Vb UmNoP\"><path fill-rule=\"evenodd\" clip-rule=\"evenodd\" d=\"m14.539 4.661-.004.04-.003.04-.006.072a1 1 0 0 1-.016.116l-1.03 5.017h6.765a.267.267 0 0 1 .264.301l-1.311 8.533v.002a.27.27 0 0 1-.267.227H7.708v-7.9l5.224-5.017 1.027-.963c.066-.054.134-.117.18-.161l.022-.02c.07-.066.132-.122.195-.172a.7.7 0 0 1 .183-.115m.692-1.49c.246.097.41.239.51.334.22.206.31.465.349.618.044.172.058.342.058.478v.038l-.003.038a9 9 0 0 0-.024.28 3 3 0 0 1-.043.293l-.635 3.095h4.802a1.867 1.867 0 0 1 1.849 2.13l-.002.009-1.312 8.538a1.87 1.87 0 0 1-1.862 1.588H6.108V10.427l5.725-5.5 1.081-1.012.03-.023.032-.029c.02-.017.038-.035.063-.058l.03-.028c.073-.068.175-.163.292-.256.218-.172.59-.425 1.068-.458.29-.02.557.01.802.108M2.688 10.013a.8.8 0 0 1 .8.8v10.13h-1.6v-10.13a.8.8 0 0 1 .8-.8\"></path></svg><span class=\"kLqdM\"><span class=\"biGQs _P FwFXZ\">0</span></span>\n",
      "106: \t <svg viewBox=\"0 0 24 24\" width=\"20px\" height=\"20px\" class=\"d Vb UmNoP\"><path d=\"M5 14a2 2 0 1 0 0-4 2 2 0 0 0 0 4m14 0a2 2 0 1 0 0-4 2 2 0 0 0 0 4m-7 0a2 2 0 1 0 0-4 2 2 0 0 0 0 4\"></path></svg>\n",
      "107: \t <span class=\"biGQs _P XWJSj Wb\">Read more</span><div class=\"CECjK _W\"><svg viewBox=\"0 0 24 24\" width=\"20px\" height=\"20px\" class=\"d Vb UmNoP\"><path d=\"M18.4 7.4 12 13.7 5.6 7.4 4.2 8.8l7.8 7.8 7.8-7.8z\"></path></svg></div>\n",
      "108: \t <span class=\"biGQs _P XWJSj Wb\"><picture class=\"NhWcC _R mdkdE o afQPz SyjMH qcDHf\" style=\"width: 100px; height: 100px;\"><img srcset=\"https://dynamic-media-cdn.tripadvisor.com/media/photo-o/29/b7/82/e9/caption.jpg?w=200&amp;h=-1&amp;s=1 1x,https://dynamic-media-cdn.tripadvisor.com/media/photo-o/29/b7/82/e9/caption.jpg?w=200&amp;h=200&amp;s=1 2x\" src=\"https://dynamic-media-cdn.tripadvisor.com/media/photo-o/29/b7/82/e9/caption.jpg?w=200&amp;h=-1&amp;s=1\" width=\"200\" height=\"150\" role=\"none\" alt=\"\" loading=\"lazy\"></picture></span>\n",
      "109: \t <span class=\"biGQs _P XWJSj Wb\"><picture class=\"NhWcC _R mdkdE o afQPz SyjMH qcDHf\" style=\"width: 100px; height: 100px;\"><img srcset=\"https://dynamic-media-cdn.tripadvisor.com/media/photo-o/29/b7/82/e8/caption.jpg?w=100&amp;h=-1&amp;s=1 1x,https://dynamic-media-cdn.tripadvisor.com/media/photo-o/29/b7/82/e8/caption.jpg?w=200&amp;h=200&amp;s=1 2x\" src=\"https://dynamic-media-cdn.tripadvisor.com/media/photo-o/29/b7/82/e8/caption.jpg?w=100&amp;h=-1&amp;s=1\" width=\"100\" height=\"134\" role=\"none\" alt=\"\" loading=\"lazy\"></picture></span>\n",
      "110: \t <span class=\"biGQs _P XWJSj Wb\"><picture class=\"NhWcC _R mdkdE o afQPz SyjMH qcDHf\" style=\"width: 100px; height: 100px;\"><img srcset=\"https://dynamic-media-cdn.tripadvisor.com/media/photo-o/29/b7/82/e7/caption.jpg?w=100&amp;h=-1&amp;s=1 1x,https://dynamic-media-cdn.tripadvisor.com/media/photo-o/29/b7/82/e7/caption.jpg?w=200&amp;h=200&amp;s=1 2x\" src=\"https://dynamic-media-cdn.tripadvisor.com/media/photo-o/29/b7/82/e7/caption.jpg?w=100&amp;h=-1&amp;s=1\" width=\"100\" height=\"134\" role=\"none\" alt=\"\" loading=\"lazy\"></picture></span>\n",
      "111: \t <span class=\"biGQs _P XWJSj Wb\"><picture class=\"NhWcC _R mdkdE o afQPz SyjMH qcDHf\" style=\"width: 100px; height: 100px;\"><img srcset=\"https://dynamic-media-cdn.tripadvisor.com/media/photo-o/29/b7/82/e6/caption.jpg?w=100&amp;h=-1&amp;s=1 1x,https://dynamic-media-cdn.tripadvisor.com/media/photo-o/29/b7/82/e6/caption.jpg?w=200&amp;h=200&amp;s=1 2x\" src=\"https://dynamic-media-cdn.tripadvisor.com/media/photo-o/29/b7/82/e6/caption.jpg?w=100&amp;h=-1&amp;s=1\" width=\"100\" height=\"134\" role=\"none\" alt=\"\" loading=\"lazy\"></picture></span>\n",
      "112: \t <span class=\"biGQs _P XWJSj Wb\"><picture class=\"NhWcC _R mdkdE o afQPz SyjMH qcDHf\" style=\"width: 100px; height: 100px;\"><img srcset=\"https://dynamic-media-cdn.tripadvisor.com/media/photo-o/29/b7/82/e5/caption.jpg?w=100&amp;h=-1&amp;s=1 1x,https://dynamic-media-cdn.tripadvisor.com/media/photo-o/29/b7/82/e5/caption.jpg?w=200&amp;h=200&amp;s=1 2x\" src=\"https://dynamic-media-cdn.tripadvisor.com/media/photo-o/29/b7/82/e5/caption.jpg?w=100&amp;h=-1&amp;s=1\" width=\"100\" height=\"134\" role=\"none\" alt=\"\" loading=\"lazy\"></picture></span>\n",
      "113: \t <svg viewBox=\"0 0 24 24\" width=\"20px\" height=\"20px\" class=\"d Vb UmNoP\"><path fill-rule=\"evenodd\" clip-rule=\"evenodd\" d=\"m14.539 4.661-.004.04-.003.04-.006.072a1 1 0 0 1-.016.116l-1.03 5.017h6.765a.267.267 0 0 1 .264.301l-1.311 8.533v.002a.27.27 0 0 1-.267.227H7.708v-7.9l5.224-5.017 1.027-.963c.066-.054.134-.117.18-.161l.022-.02c.07-.066.132-.122.195-.172a.7.7 0 0 1 .183-.115m.692-1.49c.246.097.41.239.51.334.22.206.31.465.349.618.044.172.058.342.058.478v.038l-.003.038a9 9 0 0 0-.024.28 3 3 0 0 1-.043.293l-.635 3.095h4.802a1.867 1.867 0 0 1 1.849 2.13l-.002.009-1.312 8.538a1.87 1.87 0 0 1-1.862 1.588H6.108V10.427l5.725-5.5 1.081-1.012.03-.023.032-.029c.02-.017.038-.035.063-.058l.03-.028c.073-.068.175-.163.292-.256.218-.172.59-.425 1.068-.458.29-.02.557.01.802.108M2.688 10.013a.8.8 0 0 1 .8.8v10.13h-1.6v-10.13a.8.8 0 0 1 .8-.8\"></path></svg><span class=\"kLqdM\"><span class=\"biGQs _P FwFXZ\">0</span></span>\n",
      "114: \t <svg viewBox=\"0 0 24 24\" width=\"20px\" height=\"20px\" class=\"d Vb UmNoP\"><path d=\"M5 14a2 2 0 1 0 0-4 2 2 0 0 0 0 4m14 0a2 2 0 1 0 0-4 2 2 0 0 0 0 4m-7 0a2 2 0 1 0 0-4 2 2 0 0 0 0 4\"></path></svg>\n",
      "115: \t <span class=\"biGQs _P XWJSj Wb\">Read more</span><div class=\"CECjK _W\"><svg viewBox=\"0 0 24 24\" width=\"20px\" height=\"20px\" class=\"d Vb UmNoP\"><path d=\"M18.4 7.4 12 13.7 5.6 7.4 4.2 8.8l7.8 7.8 7.8-7.8z\"></path></svg></div>\n",
      "116: \t <span class=\"biGQs _P XWJSj Wb\"><picture class=\"NhWcC _R o afQPz SyjMH qcDHf\" style=\"width: 100px; height: 100px;\"><img srcset=\"https://dynamic-media-cdn.tripadvisor.com/media/photo-o/29/85/ed/57/caption.jpg?w=100&amp;h=-1&amp;s=1 1x,https://dynamic-media-cdn.tripadvisor.com/media/photo-o/29/85/ed/57/caption.jpg?w=200&amp;h=200&amp;s=1 2x\" src=\"https://dynamic-media-cdn.tripadvisor.com/media/photo-o/29/85/ed/57/caption.jpg?w=100&amp;h=-1&amp;s=1\" width=\"100\" height=\"134\" role=\"none\" alt=\"\" loading=\"lazy\"></picture></span>\n",
      "117: \t <span class=\"biGQs _P XWJSj Wb\"><picture class=\"NhWcC _R o afQPz SyjMH qcDHf\" style=\"width: 100px; height: 100px;\"><img srcset=\"https://dynamic-media-cdn.tripadvisor.com/media/photo-o/29/85/ed/56/caption.jpg?w=100&amp;h=-1&amp;s=1 1x,https://dynamic-media-cdn.tripadvisor.com/media/photo-o/29/85/ed/56/caption.jpg?w=200&amp;h=200&amp;s=1 2x\" src=\"https://dynamic-media-cdn.tripadvisor.com/media/photo-o/29/85/ed/56/caption.jpg?w=100&amp;h=-1&amp;s=1\" width=\"100\" height=\"134\" role=\"none\" alt=\"\" loading=\"lazy\"></picture></span>\n",
      "118: \t <svg viewBox=\"0 0 24 24\" width=\"20px\" height=\"20px\" class=\"d Vb UmNoP\"><path fill-rule=\"evenodd\" clip-rule=\"evenodd\" d=\"m14.539 4.661-.004.04-.003.04-.006.072a1 1 0 0 1-.016.116l-1.03 5.017h6.765a.267.267 0 0 1 .264.301l-1.311 8.533v.002a.27.27 0 0 1-.267.227H7.708v-7.9l5.224-5.017 1.027-.963c.066-.054.134-.117.18-.161l.022-.02c.07-.066.132-.122.195-.172a.7.7 0 0 1 .183-.115m.692-1.49c.246.097.41.239.51.334.22.206.31.465.349.618.044.172.058.342.058.478v.038l-.003.038a9 9 0 0 0-.024.28 3 3 0 0 1-.043.293l-.635 3.095h4.802a1.867 1.867 0 0 1 1.849 2.13l-.002.009-1.312 8.538a1.87 1.87 0 0 1-1.862 1.588H6.108V10.427l5.725-5.5 1.081-1.012.03-.023.032-.029c.02-.017.038-.035.063-.058l.03-.028c.073-.068.175-.163.292-.256.218-.172.59-.425 1.068-.458.29-.02.557.01.802.108M2.688 10.013a.8.8 0 0 1 .8.8v10.13h-1.6v-10.13a.8.8 0 0 1 .8-.8\"></path></svg><span class=\"kLqdM\"><span class=\"biGQs _P FwFXZ\">0</span></span>\n",
      "119: \t <svg viewBox=\"0 0 24 24\" width=\"20px\" height=\"20px\" class=\"d Vb UmNoP\"><path d=\"M5 14a2 2 0 1 0 0-4 2 2 0 0 0 0 4m14 0a2 2 0 1 0 0-4 2 2 0 0 0 0 4m-7 0a2 2 0 1 0 0-4 2 2 0 0 0 0 4\"></path></svg>\n",
      "120: \t <span class=\"biGQs _P XWJSj Wb\">Read more</span><div class=\"CECjK _W\"><svg viewBox=\"0 0 24 24\" width=\"20px\" height=\"20px\" class=\"d Vb UmNoP\"><path d=\"M18.4 7.4 12 13.7 5.6 7.4 4.2 8.8l7.8 7.8 7.8-7.8z\"></path></svg></div>\n",
      "121: \t <span class=\"biGQs _P XWJSj Wb\"><picture class=\"NhWcC _R o afQPz SyjMH qcDHf\" style=\"width: 100px; height: 100px;\"><img srcset=\"https://dynamic-media-cdn.tripadvisor.com/media/photo-o/29/84/e5/f8/bbq-sailing-trip.jpg?w=100&amp;h=-1&amp;s=1 1x,https://dynamic-media-cdn.tripadvisor.com/media/photo-o/29/84/e5/f8/bbq-sailing-trip.jpg?w=200&amp;h=200&amp;s=1 2x\" src=\"https://dynamic-media-cdn.tripadvisor.com/media/photo-o/29/84/e5/f8/bbq-sailing-trip.jpg?w=100&amp;h=-1&amp;s=1\" width=\"100\" height=\"134\" role=\"none\" alt=\"\" loading=\"lazy\"></picture></span>\n",
      "122: \t <span class=\"biGQs _P XWJSj Wb\"><picture class=\"NhWcC _R o afQPz SyjMH qcDHf\" style=\"width: 100px; height: 100px;\"><img srcset=\"https://dynamic-media-cdn.tripadvisor.com/media/photo-o/29/84/e5/f5/bbq-sailing-trip.jpg?w=100&amp;h=-1&amp;s=1 1x,https://dynamic-media-cdn.tripadvisor.com/media/photo-o/29/84/e5/f5/bbq-sailing-trip.jpg?w=200&amp;h=200&amp;s=1 2x\" src=\"https://dynamic-media-cdn.tripadvisor.com/media/photo-o/29/84/e5/f5/bbq-sailing-trip.jpg?w=100&amp;h=-1&amp;s=1\" width=\"100\" height=\"134\" role=\"none\" alt=\"\" loading=\"lazy\"></picture></span>\n",
      "123: \t <span class=\"biGQs _P XWJSj Wb\"><picture class=\"NhWcC _R o afQPz SyjMH qcDHf\" style=\"width: 100px; height: 100px;\"><img srcset=\"https://dynamic-media-cdn.tripadvisor.com/media/photo-o/29/84/e5/f3/bbq-sailing-trip.jpg?w=100&amp;h=-1&amp;s=1 1x,https://dynamic-media-cdn.tripadvisor.com/media/photo-o/29/84/e5/f3/bbq-sailing-trip.jpg?w=200&amp;h=200&amp;s=1 2x\" src=\"https://dynamic-media-cdn.tripadvisor.com/media/photo-o/29/84/e5/f3/bbq-sailing-trip.jpg?w=100&amp;h=-1&amp;s=1\" width=\"100\" height=\"134\" role=\"none\" alt=\"\" loading=\"lazy\"></picture></span>\n",
      "124: \t <svg viewBox=\"0 0 24 24\" width=\"20px\" height=\"20px\" class=\"d Vb UmNoP\"><path fill-rule=\"evenodd\" clip-rule=\"evenodd\" d=\"m14.539 4.661-.004.04-.003.04-.006.072a1 1 0 0 1-.016.116l-1.03 5.017h6.765a.267.267 0 0 1 .264.301l-1.311 8.533v.002a.27.27 0 0 1-.267.227H7.708v-7.9l5.224-5.017 1.027-.963c.066-.054.134-.117.18-.161l.022-.02c.07-.066.132-.122.195-.172a.7.7 0 0 1 .183-.115m.692-1.49c.246.097.41.239.51.334.22.206.31.465.349.618.044.172.058.342.058.478v.038l-.003.038a9 9 0 0 0-.024.28 3 3 0 0 1-.043.293l-.635 3.095h4.802a1.867 1.867 0 0 1 1.849 2.13l-.002.009-1.312 8.538a1.87 1.87 0 0 1-1.862 1.588H6.108V10.427l5.725-5.5 1.081-1.012.03-.023.032-.029c.02-.017.038-.035.063-.058l.03-.028c.073-.068.175-.163.292-.256.218-.172.59-.425 1.068-.458.29-.02.557.01.802.108M2.688 10.013a.8.8 0 0 1 .8.8v10.13h-1.6v-10.13a.8.8 0 0 1 .8-.8\"></path></svg><span class=\"kLqdM\"><span class=\"biGQs _P FwFXZ\">0</span></span>\n",
      "125: \t <svg viewBox=\"0 0 24 24\" width=\"20px\" height=\"20px\" class=\"d Vb UmNoP\"><path d=\"M5 14a2 2 0 1 0 0-4 2 2 0 0 0 0 4m14 0a2 2 0 1 0 0-4 2 2 0 0 0 0 4m-7 0a2 2 0 1 0 0-4 2 2 0 0 0 0 4\"></path></svg>\n",
      "126: \t <span class=\"biGQs _P XWJSj Wb\">Read more</span><div class=\"CECjK _W\"><svg viewBox=\"0 0 24 24\" width=\"20px\" height=\"20px\" class=\"d Vb UmNoP\"><path d=\"M18.4 7.4 12 13.7 5.6 7.4 4.2 8.8l7.8 7.8 7.8-7.8z\"></path></svg></div>\n",
      "127: \t <svg viewBox=\"0 0 24 24\" width=\"20px\" height=\"20px\" class=\"d Vb UmNoP\"><path fill-rule=\"evenodd\" clip-rule=\"evenodd\" d=\"m14.539 4.661-.004.04-.003.04-.006.072a1 1 0 0 1-.016.116l-1.03 5.017h6.765a.267.267 0 0 1 .264.301l-1.311 8.533v.002a.27.27 0 0 1-.267.227H7.708v-7.9l5.224-5.017 1.027-.963c.066-.054.134-.117.18-.161l.022-.02c.07-.066.132-.122.195-.172a.7.7 0 0 1 .183-.115m.692-1.49c.246.097.41.239.51.334.22.206.31.465.349.618.044.172.058.342.058.478v.038l-.003.038a9 9 0 0 0-.024.28 3 3 0 0 1-.043.293l-.635 3.095h4.802a1.867 1.867 0 0 1 1.849 2.13l-.002.009-1.312 8.538a1.87 1.87 0 0 1-1.862 1.588H6.108V10.427l5.725-5.5 1.081-1.012.03-.023.032-.029c.02-.017.038-.035.063-.058l.03-.028c.073-.068.175-.163.292-.256.218-.172.59-.425 1.068-.458.29-.02.557.01.802.108M2.688 10.013a.8.8 0 0 1 .8.8v10.13h-1.6v-10.13a.8.8 0 0 1 .8-.8\"></path></svg><span class=\"kLqdM\"><span class=\"biGQs _P FwFXZ\">0</span></span>\n",
      "128: \t <svg viewBox=\"0 0 24 24\" width=\"20px\" height=\"20px\" class=\"d Vb UmNoP\"><path d=\"M5 14a2 2 0 1 0 0-4 2 2 0 0 0 0 4m14 0a2 2 0 1 0 0-4 2 2 0 0 0 0 4m-7 0a2 2 0 1 0 0-4 2 2 0 0 0 0 4\"></path></svg>\n",
      "129: \t <span class=\"biGQs _P XWJSj Wb\">Read more</span><div class=\"CECjK _W\"><svg viewBox=\"0 0 24 24\" width=\"20px\" height=\"20px\" class=\"d Vb UmNoP\"><path d=\"M18.4 7.4 12 13.7 5.6 7.4 4.2 8.8l7.8 7.8 7.8-7.8z\"></path></svg></div>\n",
      "130: \t <span class=\"biGQs _P XWJSj Wb\"><picture class=\"NhWcC _R o afQPz SyjMH qcDHf\" style=\"width: 100px; height: 100px;\"><img srcset=\"https://dynamic-media-cdn.tripadvisor.com/media/photo-o/29/80/1c/ec/caption.jpg?w=100&amp;h=-1&amp;s=1 1x,https://dynamic-media-cdn.tripadvisor.com/media/photo-o/29/80/1c/ec/caption.jpg?w=200&amp;h=200&amp;s=1 2x\" src=\"https://dynamic-media-cdn.tripadvisor.com/media/photo-o/29/80/1c/ec/caption.jpg?w=100&amp;h=-1&amp;s=1\" width=\"100\" height=\"134\" role=\"none\" alt=\"\" loading=\"lazy\"></picture></span>\n",
      "131: \t <span class=\"biGQs _P XWJSj Wb\"><picture class=\"NhWcC _R o afQPz SyjMH qcDHf\" style=\"width: 100px; height: 100px;\"><img srcset=\"https://dynamic-media-cdn.tripadvisor.com/media/photo-o/29/80/1c/eb/caption.jpg?w=100&amp;h=-1&amp;s=1 1x,https://dynamic-media-cdn.tripadvisor.com/media/photo-o/29/80/1c/eb/caption.jpg?w=200&amp;h=200&amp;s=1 2x\" src=\"https://dynamic-media-cdn.tripadvisor.com/media/photo-o/29/80/1c/eb/caption.jpg?w=100&amp;h=-1&amp;s=1\" width=\"100\" height=\"134\" role=\"none\" alt=\"\" loading=\"lazy\"></picture></span>\n",
      "132: \t <span class=\"biGQs _P XWJSj Wb\"><picture class=\"NhWcC _R o afQPz SyjMH qcDHf\" style=\"width: 100px; height: 100px;\"><img srcset=\"https://dynamic-media-cdn.tripadvisor.com/media/photo-o/29/80/1c/ea/caption.jpg?w=200&amp;h=-1&amp;s=1 1x,https://dynamic-media-cdn.tripadvisor.com/media/photo-o/29/80/1c/ea/caption.jpg?w=200&amp;h=200&amp;s=1 2x\" src=\"https://dynamic-media-cdn.tripadvisor.com/media/photo-o/29/80/1c/ea/caption.jpg?w=200&amp;h=-1&amp;s=1\" width=\"200\" height=\"150\" role=\"none\" alt=\"\" loading=\"lazy\"></picture></span>\n",
      "133: \t <span class=\"biGQs _P XWJSj Wb\"><picture class=\"NhWcC _R o afQPz SyjMH qcDHf\" style=\"width: 100px; height: 100px;\"><img srcset=\"https://dynamic-media-cdn.tripadvisor.com/media/photo-o/29/80/1c/e9/caption.jpg?w=200&amp;h=-1&amp;s=1 1x,https://dynamic-media-cdn.tripadvisor.com/media/photo-o/29/80/1c/e9/caption.jpg?w=200&amp;h=200&amp;s=1 2x\" src=\"https://dynamic-media-cdn.tripadvisor.com/media/photo-o/29/80/1c/e9/caption.jpg?w=200&amp;h=-1&amp;s=1\" width=\"200\" height=\"150\" role=\"none\" alt=\"\" loading=\"lazy\"></picture></span>\n",
      "134: \t <span class=\"kLqdM\"><span class=\"biGQs _P ttuOS\">1</span></span>\n",
      "135: \t <span class=\"biGQs _P ttuOS\">Ask a question</span>\n",
      "136: \t <svg viewBox=\"0 0 24 24\" width=\"24px\" height=\"24px\" class=\"d Vb UmNoP\"><path d=\"M5 14a2 2 0 1 0 0-4 2 2 0 0 0 0 4m14 0a2 2 0 1 0 0-4 2 2 0 0 0 0 4m-7 0a2 2 0 1 0 0-4 2 2 0 0 0 0 4\"></path></svg>\n",
      "137: \t <span class=\"biGQs _P XWJSj Wb\">Read more</span><div class=\"CECjK _W\"><svg viewBox=\"0 0 24 24\" width=\"20px\" height=\"20px\" class=\"d Vb UmNoP\"><path d=\"M18.4 7.4 12 13.7 5.6 7.4 4.2 8.8l7.8 7.8 7.8-7.8z\"></path></svg></div>\n",
      "138: \t <svg viewBox=\"0 0 24 24\" width=\"24px\" height=\"24px\" class=\"d Vb UmNoP\"><path fill-rule=\"evenodd\" clip-rule=\"evenodd\" d=\"m14.539 4.661-.004.04-.003.04-.006.072a1 1 0 0 1-.016.116l-1.03 5.017h6.765a.267.267 0 0 1 .264.301l-1.311 8.533v.002a.27.27 0 0 1-.267.227H7.708v-7.9l5.224-5.017 1.027-.963c.066-.054.134-.117.18-.161l.022-.02c.07-.066.132-.122.195-.172a.7.7 0 0 1 .183-.115m.692-1.49c.246.097.41.239.51.334.22.206.31.465.349.618.044.172.058.342.058.478v.038l-.003.038a9 9 0 0 0-.024.28 3 3 0 0 1-.043.293l-.635 3.095h4.802a1.867 1.867 0 0 1 1.849 2.13l-.002.009-1.312 8.538a1.87 1.87 0 0 1-1.862 1.588H6.108V10.427l5.725-5.5 1.081-1.012.03-.023.032-.029c.02-.017.038-.035.063-.058l.03-.028c.073-.068.175-.163.292-.256.218-.172.59-.425 1.068-.458.29-.02.557.01.802.108M2.688 10.013a.8.8 0 0 1 .8.8v10.13h-1.6v-10.13a.8.8 0 0 1 .8-.8\"></path></svg><span class=\"kLqdM\"><span class=\"biGQs _P FwFXZ\">0</span></span>\n",
      "139: \t <svg viewBox=\"0 0 24 24\" width=\"24px\" height=\"24px\" class=\"d Vb UmNoP\"><path d=\"M5 14a2 2 0 1 0 0-4 2 2 0 0 0 0 4m14 0a2 2 0 1 0 0-4 2 2 0 0 0 0 4m-7 0a2 2 0 1 0 0-4 2 2 0 0 0 0 4\"></path></svg>\n",
      "140: \t <span class=\"biGQs _P XWJSj Wb\">Read more</span><div class=\"CECjK _W\"><svg viewBox=\"0 0 24 24\" width=\"20px\" height=\"20px\" class=\"d Vb UmNoP\"><path d=\"M18.4 7.4 12 13.7 5.6 7.4 4.2 8.8l7.8 7.8 7.8-7.8z\"></path></svg></div>\n",
      "141: \t <span class=\"biGQs _P XWJSj Wb\">Answer</span>\n",
      "142: \t <svg viewBox=\"0 0 24 24\" width=\"24px\" height=\"24px\" class=\"d Vb UmNoP\"><path d=\"M5 14a2 2 0 1 0 0-4 2 2 0 0 0 0 4m14 0a2 2 0 1 0 0-4 2 2 0 0 0 0 4m-7 0a2 2 0 1 0 0-4 2 2 0 0 0 0 4\"></path></svg>\n",
      "143: \t <span class=\"biGQs _P XWJSj Wb\">Read more</span><div class=\"CECjK _W\"><svg viewBox=\"0 0 24 24\" width=\"20px\" height=\"20px\" class=\"d Vb UmNoP\"><path d=\"M18.4 7.4 12 13.7 5.6 7.4 4.2 8.8l7.8 7.8 7.8-7.8z\"></path></svg></div>\n",
      "144: \t <span class=\"biGQs _P XWJSj Wb\">Answer</span>\n",
      "145: \t <svg viewBox=\"0 0 24 24\" width=\"24px\" height=\"24px\" class=\"d Vb UmNoP\"><path d=\"M5 14a2 2 0 1 0 0-4 2 2 0 0 0 0 4m14 0a2 2 0 1 0 0-4 2 2 0 0 0 0 4m-7 0a2 2 0 1 0 0-4 2 2 0 0 0 0 4\"></path></svg>\n",
      "146: \t <span class=\"biGQs _P XWJSj Wb\">Read more</span><div class=\"CECjK _W\"><svg viewBox=\"0 0 24 24\" width=\"20px\" height=\"20px\" class=\"d Vb UmNoP\"><path d=\"M18.4 7.4 12 13.7 5.6 7.4 4.2 8.8l7.8 7.8 7.8-7.8z\"></path></svg></div>\n",
      "147: \t <span class=\"biGQs _P XWJSj Wb\">Answer</span>\n",
      "148: \t <svg viewBox=\"0 0 24 24\" width=\"24px\" height=\"24px\" class=\"d Vb UmNoP\"><path d=\"M5 14a2 2 0 1 0 0-4 2 2 0 0 0 0 4m14 0a2 2 0 1 0 0-4 2 2 0 0 0 0 4m-7 0a2 2 0 1 0 0-4 2 2 0 0 0 0 4\"></path></svg>\n",
      "149: \t <span class=\"biGQs _P XWJSj Wb\">Read more</span><div class=\"CECjK _W\"><svg viewBox=\"0 0 24 24\" width=\"20px\" height=\"20px\" class=\"d Vb UmNoP\"><path d=\"M18.4 7.4 12 13.7 5.6 7.4 4.2 8.8l7.8 7.8 7.8-7.8z\"></path></svg></div>\n",
      "150: \t <span class=\"biGQs _P XWJSj Wb\">Answer</span>\n",
      "151: \t <svg viewBox=\"0 0 24 24\" width=\"24px\" height=\"24px\" class=\"d Vb UmNoP\"><path d=\"M5 14a2 2 0 1 0 0-4 2 2 0 0 0 0 4m14 0a2 2 0 1 0 0-4 2 2 0 0 0 0 4m-7 0a2 2 0 1 0 0-4 2 2 0 0 0 0 4\"></path></svg>\n",
      "152: \t <span class=\"biGQs _P XWJSj Wb\">Read more</span><div class=\"CECjK _W\"><svg viewBox=\"0 0 24 24\" width=\"20px\" height=\"20px\" class=\"d Vb UmNoP\"><path d=\"M18.4 7.4 12 13.7 5.6 7.4 4.2 8.8l7.8 7.8 7.8-7.8z\"></path></svg></div>\n",
      "153: \t <span class=\"biGQs _P XWJSj Wb\">Answer</span>\n",
      "154: \t <svg viewBox=\"0 0 24 24\" width=\"24px\" height=\"24px\" class=\"d Vb UmNoP\"><path d=\"M5 14a2 2 0 1 0 0-4 2 2 0 0 0 0 4m14 0a2 2 0 1 0 0-4 2 2 0 0 0 0 4m-7 0a2 2 0 1 0 0-4 2 2 0 0 0 0 4\"></path></svg>\n",
      "155: \t <span class=\"biGQs _P XWJSj Wb\">Read more</span><div class=\"CECjK _W\"><svg viewBox=\"0 0 24 24\" width=\"20px\" height=\"20px\" class=\"d Vb UmNoP\"><path d=\"M18.4 7.4 12 13.7 5.6 7.4 4.2 8.8l7.8 7.8 7.8-7.8z\"></path></svg></div>\n",
      "156: \t <span class=\"biGQs _P XWJSj Wb\">Answer</span>\n",
      "157: \t <svg viewBox=\"0 0 24 24\" width=\"24px\" height=\"24px\" class=\"d Vb UmNoP\"><path d=\"M5 14a2 2 0 1 0 0-4 2 2 0 0 0 0 4m14 0a2 2 0 1 0 0-4 2 2 0 0 0 0 4m-7 0a2 2 0 1 0 0-4 2 2 0 0 0 0 4\"></path></svg>\n",
      "158: \t <span class=\"biGQs _P XWJSj Wb\">Read more</span><div class=\"CECjK _W\"><svg viewBox=\"0 0 24 24\" width=\"20px\" height=\"20px\" class=\"d Vb UmNoP\"><path d=\"M18.4 7.4 12 13.7 5.6 7.4 4.2 8.8l7.8 7.8 7.8-7.8z\"></path></svg></div>\n",
      "159: \t <svg viewBox=\"0 0 24 24\" width=\"24px\" height=\"24px\" class=\"d Vb UmNoP\"><path fill-rule=\"evenodd\" clip-rule=\"evenodd\" d=\"m14.539 4.661-.004.04-.003.04-.006.072a1 1 0 0 1-.016.116l-1.03 5.017h6.765a.267.267 0 0 1 .264.301l-1.311 8.533v.002a.27.27 0 0 1-.267.227H7.708v-7.9l5.224-5.017 1.027-.963c.066-.054.134-.117.18-.161l.022-.02c.07-.066.132-.122.195-.172a.7.7 0 0 1 .183-.115m.692-1.49c.246.097.41.239.51.334.22.206.31.465.349.618.044.172.058.342.058.478v.038l-.003.038a9 9 0 0 0-.024.28 3 3 0 0 1-.043.293l-.635 3.095h4.802a1.867 1.867 0 0 1 1.849 2.13l-.002.009-1.312 8.538a1.87 1.87 0 0 1-1.862 1.588H6.108V10.427l5.725-5.5 1.081-1.012.03-.023.032-.029c.02-.017.038-.035.063-.058l.03-.028c.073-.068.175-.163.292-.256.218-.172.59-.425 1.068-.458.29-.02.557.01.802.108M2.688 10.013a.8.8 0 0 1 .8.8v10.13h-1.6v-10.13a.8.8 0 0 1 .8-.8\"></path></svg><span class=\"kLqdM\"><span class=\"biGQs _P FwFXZ\">-1</span></span>\n",
      "160: \t <svg viewBox=\"0 0 24 24\" width=\"24px\" height=\"24px\" class=\"d Vb UmNoP\"><path d=\"M5 14a2 2 0 1 0 0-4 2 2 0 0 0 0 4m14 0a2 2 0 1 0 0-4 2 2 0 0 0 0 4m-7 0a2 2 0 1 0 0-4 2 2 0 0 0 0 4\"></path></svg>\n",
      "161: \t <span class=\"biGQs _P XWJSj Wb\">Read more</span><div class=\"CECjK _W\"><svg viewBox=\"0 0 24 24\" width=\"20px\" height=\"20px\" class=\"d Vb UmNoP\"><path d=\"M18.4 7.4 12 13.7 5.6 7.4 4.2 8.8l7.8 7.8 7.8-7.8z\"></path></svg></div>\n",
      "162: \t <span class=\"biGQs _P XWJSj Wb\">Answer</span>\n",
      "163: \t <svg viewBox=\"0 0 24 24\" width=\"24px\" height=\"24px\" class=\"d Vb UmNoP\"><path d=\"M5 14a2 2 0 1 0 0-4 2 2 0 0 0 0 4m14 0a2 2 0 1 0 0-4 2 2 0 0 0 0 4m-7 0a2 2 0 1 0 0-4 2 2 0 0 0 0 4\"></path></svg>\n",
      "164: \t <span class=\"biGQs _P XWJSj Wb\">Read more</span><div class=\"CECjK _W\"><svg viewBox=\"0 0 24 24\" width=\"20px\" height=\"20px\" class=\"d Vb UmNoP\"><path d=\"M18.4 7.4 12 13.7 5.6 7.4 4.2 8.8l7.8 7.8 7.8-7.8z\"></path></svg></div>\n",
      "165: \t <svg viewBox=\"0 0 24 24\" width=\"24px\" height=\"24px\" class=\"d Vb UmNoP\"><path fill-rule=\"evenodd\" clip-rule=\"evenodd\" d=\"m14.539 4.661-.004.04-.003.04-.006.072a1 1 0 0 1-.016.116l-1.03 5.017h6.765a.267.267 0 0 1 .264.301l-1.311 8.533v.002a.27.27 0 0 1-.267.227H7.708v-7.9l5.224-5.017 1.027-.963c.066-.054.134-.117.18-.161l.022-.02c.07-.066.132-.122.195-.172a.7.7 0 0 1 .183-.115m.692-1.49c.246.097.41.239.51.334.22.206.31.465.349.618.044.172.058.342.058.478v.038l-.003.038a9 9 0 0 0-.024.28 3 3 0 0 1-.043.293l-.635 3.095h4.802a1.867 1.867 0 0 1 1.849 2.13l-.002.009-1.312 8.538a1.87 1.87 0 0 1-1.862 1.588H6.108V10.427l5.725-5.5 1.081-1.012.03-.023.032-.029c.02-.017.038-.035.063-.058l.03-.028c.073-.068.175-.163.292-.256.218-.172.59-.425 1.068-.458.29-.02.557.01.802.108M2.688 10.013a.8.8 0 0 1 .8.8v10.13h-1.6v-10.13a.8.8 0 0 1 .8-.8\"></path></svg><span class=\"kLqdM\"><span class=\"biGQs _P FwFXZ\">0</span></span>\n",
      "166: \t <svg viewBox=\"0 0 24 24\" width=\"24px\" height=\"24px\" class=\"d Vb UmNoP\"><path d=\"M5 14a2 2 0 1 0 0-4 2 2 0 0 0 0 4m14 0a2 2 0 1 0 0-4 2 2 0 0 0 0 4m-7 0a2 2 0 1 0 0-4 2 2 0 0 0 0 4\"></path></svg>\n",
      "167: \t <span class=\"biGQs _P XWJSj Wb\">Read more</span><div class=\"CECjK _W\"><svg viewBox=\"0 0 24 24\" width=\"20px\" height=\"20px\" class=\"d Vb UmNoP\"><path d=\"M18.4 7.4 12 13.7 5.6 7.4 4.2 8.8l7.8 7.8 7.8-7.8z\"></path></svg></div>\n",
      "168: \t <span class=\"biGQs _P XWJSj Wb\">Answer</span>\n",
      "169: \t <span class=\"kLqdM\"><span class=\"biGQs _P ttuOS\">1</span></span>\n",
      "170: \t <span class=\"biGQs _P fOtGX\">$ USD</span><svg viewBox=\"0 0 24 24\" width=\"20px\" height=\"20px\" class=\"d Vb UmNoP\"><path d=\"M18.4 7.4 12 13.7 5.6 7.4 4.2 8.8l7.8 7.8 7.8-7.8z\"></path></svg>\n",
      "171: \t <span class=\"biGQs _P fOtGX\">United States</span><svg viewBox=\"0 0 24 24\" width=\"20px\" height=\"20px\" class=\"d Vb UmNoP\"><path d=\"M18.4 7.4 12 13.7 5.6 7.4 4.2 8.8l7.8 7.8 7.8-7.8z\"></path></svg>\n",
      "172: \t <span class=\"biGQs _P XWJSj Wb\">Cookie consent</span>\n",
      "173: \t <svg xmlns=\"http://www.w3.org/2000/svg\"><path class=\"ot-floating-button__svg-fill\" d=\"M14.588 0l.445.328c1.807 1.303 3.961 2.533 6.461 3.688 2.015.93 4.576 1.746 7.682 2.446 0 14.178-4.73 24.133-14.19 29.864l-.398.236C4.863 30.87 0 20.837 0 6.462c3.107-.7 5.668-1.516 7.682-2.446 2.709-1.251 5.01-2.59 6.906-4.016zm5.87 13.88a.75.75 0 00-.974.159l-5.475 6.625-3.005-2.997-.077-.067a.75.75 0 00-.983 1.13l4.172 4.16 6.525-7.895.06-.083a.75.75 0 00-.16-.973z\" fill=\"#FFF\" fill-rule=\"evenodd\"></path></svg>\n",
      "174: \t <!--?xml version=\"1.0\" encoding=\"UTF-8\"?--> <svg role=\"presentation\" tabindex=\"-1\" viewBox=\"0 0 24 24\" version=\"1.1\" xmlns=\"http://www.w3.org/2000/svg\"><g id=\"Page-1\" stroke=\"none\" stroke-width=\"1\" fill=\"none\" fill-rule=\"evenodd\"><g id=\"Banner_02\" class=\"ot-floating-button__svg-fill\" transform=\"translate(-318.000000, -725.000000)\" fill=\"#ffffff\" fill-rule=\"nonzero\"><g id=\"Group-2\" transform=\"translate(305.000000, 712.000000)\"><g id=\"icon/16px/white/close\"><polygon id=\"Line1\" points=\"13.3333333 14.9176256 35.0823744 36.6666667 36.6666667 35.0823744 14.9176256 13.3333333\"></polygon><polygon id=\"Line2\" transform=\"translate(25.000000, 25.000000) scale(-1, 1) translate(-25.000000, -25.000000) \" points=\"13.3333333 14.9176256 35.0823744 36.6666667 36.6666667 35.0823744 14.9176256 13.3333333\"></polygon></g></g></g></g></svg>\n"
     ]
    }
   ],
   "source": [
    "# we can extract the inner HTML as such:\n",
    "for element in elements:\n",
    "    ind = elements.index(element)\n",
    "    html = element.get_attribute('innerHTML')\n",
    "    print(f'{ind}: \\t {html}')\n",
    "    "
   ]
  },
  {
   "cell_type": "markdown",
   "metadata": {},
   "source": [
    "Is there **another** way of identifying the button?"
   ]
  },
  {
   "cell_type": "code",
   "execution_count": 12,
   "metadata": {},
   "outputs": [
    {
     "name": "stdout",
     "output_type": "stream",
     "text": [
      "28: \t <span class=\"biGQs _P XWJSj Wb\">Read more</span><div class=\"CECjK _W\"><svg viewBox=\"0 0 24 24\" width=\"20px\" height=\"20px\" class=\"d Vb UmNoP\"><path d=\"M18.4 7.4 12 13.7 5.6 7.4 4.2 8.8l7.8 7.8 7.8-7.8z\"></path></svg></div>\n",
      "71: \t <span class=\"biGQs _P XWJSj Wb\">Read more</span><div class=\"CECjK _W\"><svg viewBox=\"0 0 24 24\" width=\"20px\" height=\"20px\" class=\"d Vb UmNoP\"><path d=\"M18.4 7.4 12 13.7 5.6 7.4 4.2 8.8l7.8 7.8 7.8-7.8z\"></path></svg></div>\n",
      "79: \t <span class=\"biGQs _P XWJSj Wb\">Read more</span><div class=\"CECjK _W\"><svg viewBox=\"0 0 24 24\" width=\"20px\" height=\"20px\" class=\"d Vb UmNoP\"><path d=\"M18.4 7.4 12 13.7 5.6 7.4 4.2 8.8l7.8 7.8 7.8-7.8z\"></path></svg></div>\n",
      "89: \t <span class=\"biGQs _P XWJSj Wb\">Read more</span><div class=\"CECjK _W\"><svg viewBox=\"0 0 24 24\" width=\"20px\" height=\"20px\" class=\"d Vb UmNoP\"><path d=\"M18.4 7.4 12 13.7 5.6 7.4 4.2 8.8l7.8 7.8 7.8-7.8z\"></path></svg></div>\n",
      "107: \t <span class=\"biGQs _P XWJSj Wb\">Read more</span><div class=\"CECjK _W\"><svg viewBox=\"0 0 24 24\" width=\"20px\" height=\"20px\" class=\"d Vb UmNoP\"><path d=\"M18.4 7.4 12 13.7 5.6 7.4 4.2 8.8l7.8 7.8 7.8-7.8z\"></path></svg></div>\n"
     ]
    }
   ],
   "source": [
    "for element in elements:\n",
    "    element_text = element.text\n",
    "    search_term = 'read more'\n",
    "    if search_term in element_text.lower():\n",
    "        print(f\"{elements.index(element)}: \\t {element.get_attribute('innerHTML')}\")"
   ]
  },
  {
   "cell_type": "markdown",
   "metadata": {},
   "source": [
    "---\n",
    "## 5. Using the CSS selector to find elements\n",
    "\n",
    "We can use CSS Selectors instead of XPath to find and interact with elements"
   ]
  },
  {
   "cell_type": "markdown",
   "metadata": {},
   "source": [
    "##### **What is a CSS Selector?**\n",
    "\n",
    "A CSS selector is like a set of instructions that tells a web browser how to find and style elements on a web page. Remember that elements have different attributes; we can use CSS to look for elements with specific attribute values.\n",
    "\n",
    "\n",
    "##### **Examples of CSS Selectors:**\n",
    "1. Element Selector\n",
    "\n",
    "    < button > or < a > will point to elements with those respective types\n",
    "\n",
    "2. Class Selector --> .\n",
    "    \n",
    "    '.expand' points to all elements with class='expand'\n",
    "\n",
    "3. ID Selector--> #\n",
    "    \n",
    "     #submit-button points to the element with id=\"submit-button\"\n",
    "\n",
    "4. Attribute Selector --> [type=\" \"]\n",
    "\n",
    "    eg. [ type=\"text\" ] points to all elements with type=\"text\""
   ]
  },
  {
   "cell_type": "code",
   "execution_count": 13,
   "metadata": {},
   "outputs": [],
   "source": [
    "# locating by CSS selector\n",
    "example_button = \"#tab-review-content > div > div.LbPSX > div > div:nth-child(1) > div > div > div._T.FKffI.bmUTE > div.lszDU > button\"\n",
    "# inspect -> \"Copy Selector\"\n",
    "\n",
    "time.sleep(2)\n",
    "browser.find_element(By.CSS_SELECTOR,example_button).click()\n",
    "time.sleep(2)\n"
   ]
  },
  {
   "cell_type": "markdown",
   "metadata": {},
   "source": [
    "**How did this work?** \n",
    "\n",
    "- `#tab-data-qa-reviews-0`: find the element of which the attribute id = tab-data-qa-reviews-0;\n",
    "\n",
    "- `'> div'` find element in the child nodes of last element, with tag 'div';\n",
    "\n",
    "- `'> div.LbPSX'` target an element with the class = LbPSX \n",
    "\n",
    "- `'> div:nth-child(1)>'` looks for nth (in this case, 1st) child of its siblings\n",
    "\n",
    "- `'> div'` again, going further into child nodes of last element\n",
    "\n",
    "- `'div._T.FKffI.bmUTE`: target element with class = \"_T\", class = \"FKffI\", AND class = \"bmUTE\"\n",
    "\n",
    "- `'button'` finally, target the button element"
   ]
  },
  {
   "cell_type": "markdown",
   "metadata": {},
   "source": [
    "There are multiple ways to locate elements using selenium. For the full list, you can refer to: https://selenium-python.readthedocs.io/locating-elements.html"
   ]
  },
  {
   "cell_type": "markdown",
   "metadata": {},
   "source": [
    "Because the webpage is dynamically generated, we often need to click the **read more** button to reveal content. \n",
    "- For example, some long reviews are only partially available on TripAdvisor-- you would need to click on \"Read More\" to access the full review. Other short reviews are fully available.\n",
    "\n",
    "## Trying to click a button that doesn't exist"
   ]
  },
  {
   "cell_type": "code",
   "execution_count": 14,
   "metadata": {},
   "outputs": [
    {
     "ename": "NoSuchElementException",
     "evalue": "Message: no such element: Unable to locate element: {\"method\":\"css selector\",\"selector\":\"#tab-review-content > div > div.LbPSX > div > div:nth-child(1) > div > div > div._T.FKffI.bmUTE > div.lszDU > button\"}\n  (Session info: chrome=129.0.6668.91); For documentation on this error, please visit: https://www.selenium.dev/documentation/webdriver/troubleshooting/errors#no-such-element-exception\nStacktrace:\n0   chromedriver                        0x0000000104f10500 cxxbridge1$str$ptr + 1917112\n1   chromedriver                        0x0000000104f08890 cxxbridge1$str$ptr + 1885256\n2   chromedriver                        0x0000000104b18538 cxxbridge1$string$len + 89424\n3   chromedriver                        0x0000000104b5c878 cxxbridge1$string$len + 368784\n4   chromedriver                        0x0000000104b96b7c cxxbridge1$string$len + 607124\n5   chromedriver                        0x0000000104b51374 cxxbridge1$string$len + 322444\n6   chromedriver                        0x0000000104b51fc4 cxxbridge1$string$len + 325596\n7   chromedriver                        0x0000000104ed7d2c cxxbridge1$str$ptr + 1685732\n8   chromedriver                        0x0000000104edc530 cxxbridge1$str$ptr + 1704168\n9   chromedriver                        0x0000000104ebce08 cxxbridge1$str$ptr + 1575360\n10  chromedriver                        0x0000000104edce00 cxxbridge1$str$ptr + 1706424\n11  chromedriver                        0x0000000104eadf94 cxxbridge1$str$ptr + 1514316\n12  chromedriver                        0x0000000104ef962c cxxbridge1$str$ptr + 1823204\n13  chromedriver                        0x0000000104ef97ac cxxbridge1$str$ptr + 1823588\n14  chromedriver                        0x0000000104f08530 cxxbridge1$str$ptr + 1884392\n15  libsystem_pthread.dylib             0x0000000198f2df94 _pthread_start + 136\n16  libsystem_pthread.dylib             0x0000000198f28d34 thread_start + 8\n",
     "output_type": "error",
     "traceback": [
      "\u001b[0;31m---------------------------------------------------------------------------\u001b[0m",
      "\u001b[0;31mNoSuchElementException\u001b[0m                    Traceback (most recent call last)",
      "Cell \u001b[0;32mIn[14], line 4\u001b[0m\n\u001b[1;32m      1\u001b[0m \u001b[38;5;66;03m# we have already expanded this review. Since we interacted with a dynamic page, the button is no longer on it now.\u001b[39;00m\n\u001b[1;32m      2\u001b[0m \u001b[38;5;66;03m# what will happen if we try to click the button that doesn't exist?\u001b[39;00m\n\u001b[0;32m----> 4\u001b[0m \u001b[43mbrowser\u001b[49m\u001b[38;5;241;43m.\u001b[39;49m\u001b[43mfind_element\u001b[49m\u001b[43m(\u001b[49m\u001b[43mBy\u001b[49m\u001b[38;5;241;43m.\u001b[39;49m\u001b[43mCSS_SELECTOR\u001b[49m\u001b[43m,\u001b[49m\u001b[43mexample_button\u001b[49m\u001b[43m)\u001b[49m\u001b[38;5;241m.\u001b[39mclick()\n",
      "File \u001b[0;32m~/Google Drive/My Drive/Teaching/Web Analytics/Hands-on/venv/lib/python3.12/site-packages/selenium/webdriver/remote/webdriver.py:748\u001b[0m, in \u001b[0;36mWebDriver.find_element\u001b[0;34m(self, by, value)\u001b[0m\n\u001b[1;32m    745\u001b[0m     by \u001b[38;5;241m=\u001b[39m By\u001b[38;5;241m.\u001b[39mCSS_SELECTOR\n\u001b[1;32m    746\u001b[0m     value \u001b[38;5;241m=\u001b[39m \u001b[38;5;124mf\u001b[39m\u001b[38;5;124m'\u001b[39m\u001b[38;5;124m[name=\u001b[39m\u001b[38;5;124m\"\u001b[39m\u001b[38;5;132;01m{\u001b[39;00mvalue\u001b[38;5;132;01m}\u001b[39;00m\u001b[38;5;124m\"\u001b[39m\u001b[38;5;124m]\u001b[39m\u001b[38;5;124m'\u001b[39m\n\u001b[0;32m--> 748\u001b[0m \u001b[38;5;28;01mreturn\u001b[39;00m \u001b[38;5;28;43mself\u001b[39;49m\u001b[38;5;241;43m.\u001b[39;49m\u001b[43mexecute\u001b[49m\u001b[43m(\u001b[49m\u001b[43mCommand\u001b[49m\u001b[38;5;241;43m.\u001b[39;49m\u001b[43mFIND_ELEMENT\u001b[49m\u001b[43m,\u001b[49m\u001b[43m \u001b[49m\u001b[43m{\u001b[49m\u001b[38;5;124;43m\"\u001b[39;49m\u001b[38;5;124;43musing\u001b[39;49m\u001b[38;5;124;43m\"\u001b[39;49m\u001b[43m:\u001b[49m\u001b[43m \u001b[49m\u001b[43mby\u001b[49m\u001b[43m,\u001b[49m\u001b[43m \u001b[49m\u001b[38;5;124;43m\"\u001b[39;49m\u001b[38;5;124;43mvalue\u001b[39;49m\u001b[38;5;124;43m\"\u001b[39;49m\u001b[43m:\u001b[49m\u001b[43m \u001b[49m\u001b[43mvalue\u001b[49m\u001b[43m}\u001b[49m\u001b[43m)\u001b[49m[\u001b[38;5;124m\"\u001b[39m\u001b[38;5;124mvalue\u001b[39m\u001b[38;5;124m\"\u001b[39m]\n",
      "File \u001b[0;32m~/Google Drive/My Drive/Teaching/Web Analytics/Hands-on/venv/lib/python3.12/site-packages/selenium/webdriver/remote/webdriver.py:354\u001b[0m, in \u001b[0;36mWebDriver.execute\u001b[0;34m(self, driver_command, params)\u001b[0m\n\u001b[1;32m    352\u001b[0m response \u001b[38;5;241m=\u001b[39m \u001b[38;5;28mself\u001b[39m\u001b[38;5;241m.\u001b[39mcommand_executor\u001b[38;5;241m.\u001b[39mexecute(driver_command, params)\n\u001b[1;32m    353\u001b[0m \u001b[38;5;28;01mif\u001b[39;00m response:\n\u001b[0;32m--> 354\u001b[0m     \u001b[38;5;28;43mself\u001b[39;49m\u001b[38;5;241;43m.\u001b[39;49m\u001b[43merror_handler\u001b[49m\u001b[38;5;241;43m.\u001b[39;49m\u001b[43mcheck_response\u001b[49m\u001b[43m(\u001b[49m\u001b[43mresponse\u001b[49m\u001b[43m)\u001b[49m\n\u001b[1;32m    355\u001b[0m     response[\u001b[38;5;124m\"\u001b[39m\u001b[38;5;124mvalue\u001b[39m\u001b[38;5;124m\"\u001b[39m] \u001b[38;5;241m=\u001b[39m \u001b[38;5;28mself\u001b[39m\u001b[38;5;241m.\u001b[39m_unwrap_value(response\u001b[38;5;241m.\u001b[39mget(\u001b[38;5;124m\"\u001b[39m\u001b[38;5;124mvalue\u001b[39m\u001b[38;5;124m\"\u001b[39m, \u001b[38;5;28;01mNone\u001b[39;00m))\n\u001b[1;32m    356\u001b[0m     \u001b[38;5;28;01mreturn\u001b[39;00m response\n",
      "File \u001b[0;32m~/Google Drive/My Drive/Teaching/Web Analytics/Hands-on/venv/lib/python3.12/site-packages/selenium/webdriver/remote/errorhandler.py:229\u001b[0m, in \u001b[0;36mErrorHandler.check_response\u001b[0;34m(self, response)\u001b[0m\n\u001b[1;32m    227\u001b[0m         alert_text \u001b[38;5;241m=\u001b[39m value[\u001b[38;5;124m\"\u001b[39m\u001b[38;5;124malert\u001b[39m\u001b[38;5;124m\"\u001b[39m]\u001b[38;5;241m.\u001b[39mget(\u001b[38;5;124m\"\u001b[39m\u001b[38;5;124mtext\u001b[39m\u001b[38;5;124m\"\u001b[39m)\n\u001b[1;32m    228\u001b[0m     \u001b[38;5;28;01mraise\u001b[39;00m exception_class(message, screen, stacktrace, alert_text)  \u001b[38;5;66;03m# type: ignore[call-arg]  # mypy is not smart enough here\u001b[39;00m\n\u001b[0;32m--> 229\u001b[0m \u001b[38;5;28;01mraise\u001b[39;00m exception_class(message, screen, stacktrace)\n",
      "\u001b[0;31mNoSuchElementException\u001b[0m: Message: no such element: Unable to locate element: {\"method\":\"css selector\",\"selector\":\"#tab-review-content > div > div.LbPSX > div > div:nth-child(1) > div > div > div._T.FKffI.bmUTE > div.lszDU > button\"}\n  (Session info: chrome=129.0.6668.91); For documentation on this error, please visit: https://www.selenium.dev/documentation/webdriver/troubleshooting/errors#no-such-element-exception\nStacktrace:\n0   chromedriver                        0x0000000104f10500 cxxbridge1$str$ptr + 1917112\n1   chromedriver                        0x0000000104f08890 cxxbridge1$str$ptr + 1885256\n2   chromedriver                        0x0000000104b18538 cxxbridge1$string$len + 89424\n3   chromedriver                        0x0000000104b5c878 cxxbridge1$string$len + 368784\n4   chromedriver                        0x0000000104b96b7c cxxbridge1$string$len + 607124\n5   chromedriver                        0x0000000104b51374 cxxbridge1$string$len + 322444\n6   chromedriver                        0x0000000104b51fc4 cxxbridge1$string$len + 325596\n7   chromedriver                        0x0000000104ed7d2c cxxbridge1$str$ptr + 1685732\n8   chromedriver                        0x0000000104edc530 cxxbridge1$str$ptr + 1704168\n9   chromedriver                        0x0000000104ebce08 cxxbridge1$str$ptr + 1575360\n10  chromedriver                        0x0000000104edce00 cxxbridge1$str$ptr + 1706424\n11  chromedriver                        0x0000000104eadf94 cxxbridge1$str$ptr + 1514316\n12  chromedriver                        0x0000000104ef962c cxxbridge1$str$ptr + 1823204\n13  chromedriver                        0x0000000104ef97ac cxxbridge1$str$ptr + 1823588\n14  chromedriver                        0x0000000104f08530 cxxbridge1$str$ptr + 1884392\n15  libsystem_pthread.dylib             0x0000000198f2df94 _pthread_start + 136\n16  libsystem_pthread.dylib             0x0000000198f28d34 thread_start + 8\n"
     ]
    }
   ],
   "source": [
    "# we have already expanded this review. Since we interacted with a dynamic page, the button is no longer on it now.\n",
    "# what will happen if we try to click the button that doesn't exist?\n",
    "\n",
    "browser.find_element(By.CSS_SELECTOR,example_button).click()"
   ]
  },
  {
   "cell_type": "code",
   "execution_count": 15,
   "metadata": {},
   "outputs": [],
   "source": [
    "# a helper function to check if the button exists on the page\n",
    "def check_exists_by_css(selector):\n",
    "    try:\n",
    "        browser.find_element(By.CSS_SELECTOR,selector)\n",
    "    except NoSuchElementException:\n",
    "        return False\n",
    "    return True\n",
    "\n",
    "def check_exists_by_xpath(xp):\n",
    "    try:\n",
    "        browser.find_element(By.XPATH,xp)\n",
    "    except NoSuchElementException:\n",
    "        return False\n",
    "    return True"
   ]
  },
  {
   "cell_type": "code",
   "execution_count": 16,
   "metadata": {},
   "outputs": [
    {
     "data": {
      "text/plain": [
       "False"
      ]
     },
     "execution_count": 16,
     "metadata": {},
     "output_type": "execute_result"
    }
   ],
   "source": [
    "# so if we try to find a nonsense element, it will just return False instead of breaking the code\n",
    "\n",
    "check_exists_by_css('hahaha')"
   ]
  },
  {
   "cell_type": "code",
   "execution_count": 17,
   "metadata": {},
   "outputs": [],
   "source": [
    "# check if the read more button exists\n",
    "# note: the xpath can be a different one if you search for other places\n",
    "\n",
    "readmore_css = \"#tab-review-content > div > div.LbPSX > div > div:nth-child(4) > div > div > div._T.FKffI.bmUTE > div.lszDU > button\"\n",
    "\n",
    "read_more_exists = check_exists_by_css(readmore_css)\n",
    "\n",
    "# if the reviews are expanable, expand the reviews\n",
    "if read_more_exists:\n",
    "    browser.find_element(By.CSS_SELECTOR,readmore_css).click()\n",
    "    time.sleep(5)\n",
    "else:\n",
    "    print('No element found!')"
   ]
  },
  {
   "cell_type": "code",
   "execution_count": 19,
   "metadata": {},
   "outputs": [],
   "source": [
    "# let's make the previous code a helper function too\n",
    "\n",
    "def click_read_more():\n",
    "    \n",
    "    # set the xpath to the buttons and the search term \"read more\"\n",
    "    readmore_xpath = \"//button[@class='UikNM _G B- _S _W _T c G_ wSSLS wnNQG']\"\n",
    "    search_term = 'read more'\n",
    "    # find all buttons on the page and save to a list\n",
    "    buttons = browser.find_elements(By.XPATH, readmore_xpath)\n",
    "\n",
    "    # for each button, check if the text is \"read more\"\n",
    "    for button in buttons:\n",
    "        if search_term in button.text.lower():\n",
    "            try:\n",
    "                button.click() # if so, click it\n",
    "            except: # otherwise do nothing\n",
    "                continue\n",
    "        time.sleep(1)"
   ]
  },
  {
   "cell_type": "code",
   "execution_count": 20,
   "metadata": {},
   "outputs": [],
   "source": [
    "click_read_more()"
   ]
  },
  {
   "cell_type": "code",
   "execution_count": 21,
   "metadata": {},
   "outputs": [],
   "source": [
    "# close the browser\n",
    "browser.quit()"
   ]
  },
  {
   "cell_type": "markdown",
   "metadata": {},
   "source": [
    "---\n",
    "## 6. Combining Selenium and BeautifulSoup"
   ]
  },
  {
   "cell_type": "markdown",
   "metadata": {},
   "source": [
    "Whereas we cna use Selenium alone to scrape content, we prefer to use it together with beautifulsoup to make our lives easier. \n",
    "\n",
    "The complete workflow would be like:\n",
    "1. Using Selenium to automate web browser interaction so that hidden content can be made available by automating actions such as the button clicks, screen scrolling and so on\n",
    "2. After all the content we want to parse is revealed, we'll use BeautifulSoup to parse it like we did in Lecture 5\n",
    "\n",
    "---\n",
    "# 7. Challenge\n",
    "\n",
    "1. Use Selenium to click all the \"Read More\" buttons \n",
    "2. Use BeautifulSoup to parse the content of the reviews\n",
    "3. Locate and click the \"next page\" button, if it exists and if you're scraping more pages"
   ]
  },
  {
   "cell_type": "code",
   "execution_count": 19,
   "metadata": {},
   "outputs": [],
   "source": [
    "# set the number of pages you want to parse, and the link you want to parse from\n",
    "page_num = 1\n",
    "link = \"https://www.tripadvisor.com/Attraction_Review-g1187810-d10127777-Reviews-BBQ_Sailing_Trip-Skopelos_Town_Skopelos_Sporades.html\"\n",
    "\n",
    "# create some empty lists to store the reviews, ratings, and authors as you go\n",
    "reviews = []\n",
    "ratings = []\n",
    "authors = []\n",
    "\n",
    "# Open browser\n",
    "browser = webdriver.Chrome()\n",
    "# Go to the link\n",
    "browser.get(link)\n",
    "time.sleep(2)\n",
    "\n",
    "# loop through the pages you want to scrape\n",
    "for i in range(0, page_num):\n",
    "    \n",
    "    # expand the reviews on that page\n",
    "    click_read_more() \n",
    "    time.sleep(1)\n",
    "\n",
    "    \n",
    "    # parse the page to a soup\n",
    "    page_source     = browser.page_source\n",
    "    soup            = BeautifulSoup(page_source, 'html.parser')\n",
    "    reviews_content = soup.find_all('div', class_=\"_c\")\n",
    "    \n",
    "    # extract the author, review_text and rating for each review on the page\n",
    "    # You need to fill in the elements for the text, author, and rating (hint: use inspect)\n",
    "    for review in reviews_content:\n",
    "        review_text = None # <<< Get the text content of the review >>>\n",
    "        author      = None # <<< Get the author name >>>\n",
    "        rating      = None # <<< how many stars out of 5? >>>\n",
    "        \n",
    "        # append to our accumulative lists\n",
    "        reviews.append(review_text)\n",
    "        ratings.append(rating)\n",
    "        authors.append(author)\n",
    "        \n",
    "    # use selenium to go to the next page\n",
    "    next_page = None \n",
    "    # << Find the xpath or CSS selector for the next page button >>\n",
    "    # << check if the next page button exists for the page you are currently on. If it does, click it. If not, exit the loop.>>\n",
    "    # << FILL IN YOUR CODE HERE! >>\n"
   ]
  },
  {
   "cell_type": "markdown",
   "metadata": {},
   "source": [
    "---\n",
    "# 8. Dataframes\n",
    "\n",
    "A nicer way to deal with data such as the ones we're scraping is by putting them into a dataframe. \n",
    "You'll learn the basics of data frames in the \"before class\" module of the next lecture!"
   ]
  },
  {
   "cell_type": "code",
   "execution_count": 20,
   "metadata": {},
   "outputs": [
    {
     "data": {
      "text/plain": [
       "[None, None, None, None, None, None, None, None, None, None]"
      ]
     },
     "execution_count": 20,
     "metadata": {},
     "output_type": "execute_result"
    }
   ],
   "source": [
    "reviews"
   ]
  },
  {
   "cell_type": "markdown",
   "metadata": {},
   "source": [
    "In the last step, we will store the results into a dataframe."
   ]
  },
  {
   "cell_type": "code",
   "execution_count": 21,
   "metadata": {},
   "outputs": [
    {
     "data": {
      "text/plain": [
       "(10, 3)"
      ]
     },
     "execution_count": 21,
     "metadata": {},
     "output_type": "execute_result"
    }
   ],
   "source": [
    "data = {\n",
    "    'reviews': reviews,\n",
    "    'ratings': ratings,\n",
    "    'authors': authors\n",
    "}\n",
    "\n",
    "df = pd.DataFrame(data)\n",
    "\n",
    "# check the shape of our dataframe\n",
    "df.shape"
   ]
  },
  {
   "cell_type": "code",
   "execution_count": 22,
   "metadata": {},
   "outputs": [
    {
     "data": {
      "text/html": [
       "<div>\n",
       "<style scoped>\n",
       "    .dataframe tbody tr th:only-of-type {\n",
       "        vertical-align: middle;\n",
       "    }\n",
       "\n",
       "    .dataframe tbody tr th {\n",
       "        vertical-align: top;\n",
       "    }\n",
       "\n",
       "    .dataframe thead th {\n",
       "        text-align: right;\n",
       "    }\n",
       "</style>\n",
       "<table border=\"1\" class=\"dataframe\">\n",
       "  <thead>\n",
       "    <tr style=\"text-align: right;\">\n",
       "      <th></th>\n",
       "      <th>reviews</th>\n",
       "      <th>ratings</th>\n",
       "      <th>authors</th>\n",
       "    </tr>\n",
       "  </thead>\n",
       "  <tbody>\n",
       "    <tr>\n",
       "      <th>0</th>\n",
       "      <td>None</td>\n",
       "      <td>None</td>\n",
       "      <td>None</td>\n",
       "    </tr>\n",
       "    <tr>\n",
       "      <th>1</th>\n",
       "      <td>None</td>\n",
       "      <td>None</td>\n",
       "      <td>None</td>\n",
       "    </tr>\n",
       "    <tr>\n",
       "      <th>2</th>\n",
       "      <td>None</td>\n",
       "      <td>None</td>\n",
       "      <td>None</td>\n",
       "    </tr>\n",
       "    <tr>\n",
       "      <th>3</th>\n",
       "      <td>None</td>\n",
       "      <td>None</td>\n",
       "      <td>None</td>\n",
       "    </tr>\n",
       "    <tr>\n",
       "      <th>4</th>\n",
       "      <td>None</td>\n",
       "      <td>None</td>\n",
       "      <td>None</td>\n",
       "    </tr>\n",
       "    <tr>\n",
       "      <th>5</th>\n",
       "      <td>None</td>\n",
       "      <td>None</td>\n",
       "      <td>None</td>\n",
       "    </tr>\n",
       "    <tr>\n",
       "      <th>6</th>\n",
       "      <td>None</td>\n",
       "      <td>None</td>\n",
       "      <td>None</td>\n",
       "    </tr>\n",
       "    <tr>\n",
       "      <th>7</th>\n",
       "      <td>None</td>\n",
       "      <td>None</td>\n",
       "      <td>None</td>\n",
       "    </tr>\n",
       "    <tr>\n",
       "      <th>8</th>\n",
       "      <td>None</td>\n",
       "      <td>None</td>\n",
       "      <td>None</td>\n",
       "    </tr>\n",
       "    <tr>\n",
       "      <th>9</th>\n",
       "      <td>None</td>\n",
       "      <td>None</td>\n",
       "      <td>None</td>\n",
       "    </tr>\n",
       "  </tbody>\n",
       "</table>\n",
       "</div>"
      ],
      "text/plain": [
       "  reviews ratings authors\n",
       "0    None    None    None\n",
       "1    None    None    None\n",
       "2    None    None    None\n",
       "3    None    None    None\n",
       "4    None    None    None\n",
       "5    None    None    None\n",
       "6    None    None    None\n",
       "7    None    None    None\n",
       "8    None    None    None\n",
       "9    None    None    None"
      ]
     },
     "execution_count": 22,
     "metadata": {},
     "output_type": "execute_result"
    }
   ],
   "source": [
    "df"
   ]
  },
  {
   "cell_type": "markdown",
   "metadata": {},
   "source": [
    "---\n",
    "# 9. Extra Practice\n",
    "\n",
    "If you'd like to get some more practice in using Selenium, you can try the following exercise:\n",
    "1. Open a browser with Selenium, go to the review page of [Wall Street](https://www.tripadvisor.com/Attraction_Review-g60763-d136051-Reviews-Wall_Street-New_York_City_New_York.html) on TripAdvisor (or any other attraction place of your choice)\n",
    "2. Select only the **Business trip** in the filter.\n",
    "3. Scrape the full reviews from the first 5 pages. Can you also include the date of the review?\n",
    "4. Can you see any relationship between the review months and rating scores?"
   ]
  }
 ],
 "metadata": {
  "colab": {
   "collapsed_sections": [],
   "provenance": []
  },
  "kernelspec": {
   "display_name": "venv",
   "language": "python",
   "name": "python3"
  },
  "language_info": {
   "codemirror_mode": {
    "name": "ipython",
    "version": 3
   },
   "file_extension": ".py",
   "mimetype": "text/x-python",
   "name": "python",
   "nbconvert_exporter": "python",
   "pygments_lexer": "ipython3",
   "version": "3.12.3"
  }
 },
 "nbformat": 4,
 "nbformat_minor": 1
}
