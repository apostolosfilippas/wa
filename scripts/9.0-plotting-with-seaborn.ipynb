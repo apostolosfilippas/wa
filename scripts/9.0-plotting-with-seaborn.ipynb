{
 "cells": [
  {
   "cell_type": "markdown",
   "metadata": {
    "id": "cyQM60jLRxD5"
   },
   "source": [
    "---\n",
    "\n",
    "### 🎓 **Professor**: Apostolos Filippas\n",
    "\n",
    "### 📘 **Class**: Web Analytics\n",
    "\n",
    "### 📋 **Topic**: Pandas (self-study)\n",
    "\n",
    "### 🔗 **Link**: https://bit.ly/WA_LEC9_SEABORN\n",
    "\n",
    "🚫 **Note**: This notebook was developed by Jie Lu. You are not allowed to share the contents of this notebook with anyone outside this class without written permission by the professor.\n",
    "\n",
    "---"
   ]
  },
  {
   "cell_type": "markdown",
   "metadata": {},
   "source": [
    "# 1. Data Vizualization with Seaborn"
   ]
  },
  {
   "cell_type": "markdown",
   "metadata": {
    "id": "h49xLwKKRxD8"
   },
   "source": [
    "The purpose of this notebook is to teach you some basic elements of visualization in Python. "
   ]
  },
  {
   "cell_type": "markdown",
   "metadata": {
    "id": "Dnq8WftBRxD9"
   },
   "source": [
    "### Data Source: Survey on Mental Health in the Tech Workplace in 2014"
   ]
  },
  {
   "cell_type": "markdown",
   "metadata": {
    "id": "jgNrroGqRxD-"
   },
   "source": [
    "- Our data comes from a 2014 survey that measures attitudes towards mental health, and frequency of mental health disorders in tech workplaces.\n",
    "- Data since year 2014 can be found on [OSMI](https://osmihelp.org/research)\n",
    "- Here are the features of the data set:"
   ]
  },
  {
   "cell_type": "markdown",
   "metadata": {
    "id": "dNtLiiwZRxD-"
   },
   "source": [
    "| Feature | Description | \n",
    "| --- | --- | \n",
    "| Timestamp |The time when the survey is conducted  | \n",
    "|Age|Age|\n",
    "|Gender|Male or Female|\n",
    "|Country| Country|\n",
    "|state|If you live in the United States, which state or territory do you live in?|\n",
    "|self_employed|Are you self-employed?|\n",
    "|family_history| Do you have a family history of mental illness?\n",
    "|treatment|Have you sought treatment for a mental health condition?\n",
    "|work_interfere|If you have a mental health condition, do you feel that it interferes with your work?\n",
    "|no_employees | How many employees does your company or organization have?\n",
    "|remote_work | Do you work remotely (outside of an office) at least 50% of the time?\n",
    "|tech_company | Is your employer primarily a tech company/organization?\n",
    "| benefits | Does your employer provide mental health benefits?\n",
    "| care_options | Do you know the options for mental health care your employer provides?\n",
    "| wellness_program | Has your employer ever discussed mental health as part of an employee wellness program?\n",
    "| seek_help | Does your employer provide resources to learn more about mental health issues and how to seek help?\n",
    "| anonymity | Is your anonymity protected if you choose to take advantage of mental health or substance abuse treatment resources?\n",
    "| leave | How easy is it for you to take medical leave for a mental health condition?\n",
    "| mentalhealthconsequence | Do you think that discussing a mental health issue with your employer would have negative consequences?\n",
    "|physhealthconsequence | Do you think that discussing a physical health issue with your employer would have negative consequences?\n",
    "| coworkers | Would you be willing to discuss a mental health issue with your coworkers?\n",
    "| supervisor | Would you be willing to discuss a mental health issue with your direct supervisor(s)?\n",
    "| mentalhealthinterview | Would you bring up a mental health issue with a potential employer in an interview?\n",
    "|physhealthinterview | Would you bring up a physical health issue with a potential employer in an interview?\n",
    "|mentalvsphysical|Do you feel that your employer takes mental health as seriously as physical health?\n",
    "|obs_consequence|Have you heard of or observed negative consequences for coworkers with mental health conditions in your workplace?\n",
    "|comments|Any additional notes or comments"
   ]
  },
  {
   "cell_type": "code",
   "execution_count": null,
   "metadata": {
    "id": "H5_U59HgRxD_"
   },
   "outputs": [],
   "source": [
    "# load data, data source: mental health in tech survey\n",
    "import pandas as pd\n",
    "import seaborn as sns\n",
    "import matplotlib.pyplot as plt\n",
    "import matplotlib\n",
    "\n",
    "# ignore future warning\n",
    "import warnings\n",
    "warnings.simplefilter(action='ignore', category=FutureWarning)\n",
    "pd.options.mode.chained_assignment = None\n",
    "\n",
    "# set up global figure and font size\n",
    "matplotlib.rcParams.update({'font.size': 18})\n",
    "matplotlib.rcParams['figure.figsize'] = (16.0, 10.0)"
   ]
  },
  {
   "cell_type": "code",
   "execution_count": null,
   "metadata": {
    "id": "r5m7fRmvRxEC",
    "outputId": "08d1c656-8e41-4ea1-921e-9e649ad6b1aa"
   },
   "outputs": [],
   "source": [
    "# you can also get the data here: https://drive.google.com/file/d/1JFvtWmu9qV68dZpJEPEethYiNGh_U-uE/view?usp=sharing\n",
    "df = pd.read_csv(\"files/mental_survey.csv\")\n",
    "df.head()"
   ]
  },
  {
   "cell_type": "code",
   "execution_count": null,
   "metadata": {
    "id": "GYUn1gS7RxEF",
    "outputId": "5c3236a0-f344-4f8e-d0e4-de5fe4ffd633"
   },
   "outputs": [],
   "source": [
    "# a quick view of num_missing and num_unique\n",
    "\n",
    "pd.concat([df.apply(lambda x: sum(x.isnull())).rename(\"num_missing\"),\n",
    "          df.apply(lambda x: len(x.unique())).rename(\"num_unique\")], axis=1)"
   ]
  },
  {
   "cell_type": "markdown",
   "metadata": {
    "id": "WZWzdqHNRxEH"
   },
   "source": [
    "## Example: Barchart for Missing Value"
   ]
  },
  {
   "cell_type": "markdown",
   "metadata": {
    "id": "ZMs7QjD6RxEH"
   },
   "source": [
    "Plot rectangular data as a color-encoded matrix. In this example, it's useful to examine the missing value pattern."
   ]
  },
  {
   "cell_type": "code",
   "execution_count": null,
   "metadata": {
    "id": "DEfUYSiFRxEI",
    "outputId": "6e507e7c-983c-485d-ddf9-d53149b5d35a"
   },
   "outputs": [],
   "source": [
    "# let's take a look of the missing value\n",
    "missing_values = df.isnull().sum() / len(df)   # normalize as a percentage of columns\n",
    "missing_values = missing_values[missing_values > 0]\n",
    "missing_values.sort_values(inplace=True, ascending=False)\n",
    "missing_values"
   ]
  },
  {
   "cell_type": "code",
   "execution_count": null,
   "metadata": {
    "id": "9bi5k8udRxEK",
    "outputId": "98e9dab5-8513-4eda-bb82-c47f73570f8c"
   },
   "outputs": [],
   "source": [
    "missing_values = missing_values.reset_index()\n",
    "missing_values.columns = ['name', 'count']\n",
    "sns.barplot(y = 'name', x='count', data=missing_values)\n",
    "plt.title('Missing Values')\n",
    "plt.ylabel('Featurs')\n",
    "plt.xlabel('Missing Percentage')"
   ]
  },
  {
   "cell_type": "markdown",
   "metadata": {
    "id": "7DZojFAJRxEM"
   },
   "source": [
    "## Example: barplot"
   ]
  },
  {
   "cell_type": "markdown",
   "metadata": {
    "id": "6FOeJRFmRxEN"
   },
   "source": [
    "This example avoids countplot on purpose, and shows how seaborn can be matplotlib alike. It can work well with fig and ax if you want to customize the details."
   ]
  },
  {
   "cell_type": "markdown",
   "metadata": {
    "id": "mg-c7heYRxEN"
   },
   "source": [
    "### Some illustration:\n",
    "- **Counter**: A Counter is a container that keeps track of how many times equivalent values are added.\n",
    "- **List comprehensions** It provide a concise way to create lists. It consists of brackets containing an expression followed by a for clause, then zero or more for or if clauses. The expressions can be anything, meaning you can put in all kinds of objects in lists."
   ]
  },
  {
   "cell_type": "code",
   "execution_count": null,
   "metadata": {
    "id": "RwWb_a3YRxEO",
    "outputId": "af83b66e-9617-4489-f092-2fa1f5d5f238"
   },
   "outputs": [],
   "source": [
    "# quick example: list comprehension\n",
    "[y for y in range(10) if y % 2 == 0]"
   ]
  },
  {
   "cell_type": "code",
   "execution_count": null,
   "metadata": {
    "id": "pe1VM9elRxEQ"
   },
   "outputs": [],
   "source": [
    "from collections import Counter\n",
    "\n",
    "country_count = Counter(df['Country'].dropna().tolist()).most_common(10)\n",
    "country_idx = [country[0] for country in country_count]\n",
    "country_val = [country[1] for country in country_count]"
   ]
  },
  {
   "cell_type": "code",
   "execution_count": null,
   "metadata": {
    "id": "Srl5o1WvRxES",
    "outputId": "5b7f4497-afb2-4092-d69a-7d7f300701fd"
   },
   "outputs": [],
   "source": [
    "sns.barplot(y = country_idx, x=country_val)\n",
    "plt.title('Top Ten Countries in the Survey')\n",
    "plt.ylabel('Country')\n",
    "plt.xlabel('Count')"
   ]
  },
  {
   "cell_type": "markdown",
   "metadata": {
    "id": "eMDtzeq3RxEV"
   },
   "source": [
    "## Example: Catplot \n",
    "\n",
    "This function provides access to several axes-level functions that show the relationship between a numerical and one or more categorical variables using one of several visual representations."
   ]
  },
  {
   "cell_type": "markdown",
   "metadata": {
    "id": "_6KmVflFRxEV"
   },
   "source": [
    "* self_employed - Are you self-employed?\n",
    "* remote_work - Do you work remotely (outside of an office) at least 50% of the time?\n",
    "* tech_company - Is your employer primarily a tech company/organization?"
   ]
  },
  {
   "cell_type": "code",
   "execution_count": null,
   "metadata": {
    "id": "9zkPXx4tRxEV",
    "outputId": "8f8e59cd-2aa3-43d5-e41c-56a52d16d1fc"
   },
   "outputs": [],
   "source": [
    "sns.catplot(x='self_employed', hue='remote_work', col='tech_company', kind='count', data=df)"
   ]
  },
  {
   "cell_type": "markdown",
   "metadata": {
    "id": "qvyfm190RxEY"
   },
   "source": [
    "## Example: distplot\n",
    "This function combines the matplotlib hist function (with automatic calculation of a good default bin size) with the seaborn kdeplot() and rugplot() functions."
   ]
  },
  {
   "cell_type": "code",
   "execution_count": null,
   "metadata": {
    "id": "zYfdJoGPRxEY",
    "outputId": "0008b10e-81ac-4ebd-e558-7764c590bf18"
   },
   "outputs": [],
   "source": [
    "# use discribe to display basic stats \n",
    "df.Age.describe()"
   ]
  },
  {
   "cell_type": "markdown",
   "metadata": {
    "id": "Uh7xk3ZoRxEa"
   },
   "source": [
    "This indicates there must be some outliers for the Age feature."
   ]
  },
  {
   "cell_type": "code",
   "execution_count": null,
   "metadata": {
    "id": "3dkH7vktRxEb",
    "outputId": "ce06adf0-9ea9-407b-b47c-ea6deb07217d"
   },
   "outputs": [],
   "source": [
    "# filter age from 0 to 100\n",
    "df = df[(df['Age'] <= 100) & (df['Age']>=0)]\n",
    "sns.displot(pd.Series(df['Age']), bins=24)"
   ]
  },
  {
   "cell_type": "markdown",
   "metadata": {
    "id": "Ydnsd5RyRxEd"
   },
   "source": [
    "## Example: Box Plot"
   ]
  },
  {
   "cell_type": "markdown",
   "metadata": {
    "id": "8JFWraYTRxEd"
   },
   "source": [
    "A box plot shows the distribution of quantitative data in a way that facilitates comparisons between variables or across levels of a categorical variable. The box shows the quartiles of the dataset "
   ]
  },
  {
   "cell_type": "code",
   "execution_count": null,
   "metadata": {
    "id": "Ff3PpRRpRxEe",
    "outputId": "976ee74d-f429-4041-83bc-f665bf702736"
   },
   "outputs": [],
   "source": [
    "sns.boxplot(df['Age'])"
   ]
  },
  {
   "cell_type": "markdown",
   "metadata": {
    "id": "xRlzufDURxEh"
   },
   "source": [
    "How to read a box plot:\n",
    "- The minimum (the smallest number in the data set). The minimum is shown at the far left of the chart, at the end of the left “whisker.”\n",
    "- First quartile, Q1, is the far left of the box (or the far right of the left whisker).\n",
    "- The median is shown as a line in the center of the box.\n",
    "- Third quartile, Q3, shown at the far right of the box (at the far left of the right whisker).\n",
    "- The maximum (the largest number in the data set), shown at the far right of the box."
   ]
  },
  {
   "cell_type": "markdown",
   "metadata": {
    "id": "woATSaogRxEh"
   },
   "source": [
    "## Example: FacetGrid"
   ]
  },
  {
   "cell_type": "markdown",
   "metadata": {
    "id": "aOtkuQrjRxEh"
   },
   "source": [
    "This class maps a dataset onto multiple axes arrayed in a grid of rows and columns that correspond to levels of variables in the dataset. The plots it produces are often called “lattice”, “trellis”, or “small-multiple” graphics."
   ]
  },
  {
   "cell_type": "markdown",
   "metadata": {
    "id": "pr62OSooRxEi"
   },
   "source": [
    "* treatment: Have you sought treatment for a mental health condition?"
   ]
  },
  {
   "cell_type": "code",
   "execution_count": null,
   "metadata": {
    "id": "3RmH4rGnRxEi",
    "outputId": "f7012464-fab5-404b-f119-66f4090c01b0"
   },
   "outputs": [],
   "source": [
    "g = sns.FacetGrid(df, col='treatment', height=5)\n",
    "g = g.map(sns.distplot, \"Age\")"
   ]
  },
  {
   "cell_type": "markdown",
   "metadata": {
    "id": "jTZO2nM9RxEk"
   },
   "source": [
    "## Example: Catplot with FacetGrid"
   ]
  },
  {
   "cell_type": "code",
   "execution_count": null,
   "metadata": {
    "id": "HzH9itmdRxEl"
   },
   "outputs": [],
   "source": [
    "# map Age to age_range\n",
    "# map treatment to category\n",
    "\n",
    "df['age_range'] = pd.cut(df['Age'], [0,20,30,65,100], labels=[\"0-20\", \"21-30\", \"31-65\", \"66-100\"], include_lowest=True)\n",
    "df['treatment'] = df['treatment'].map(dict(Yes=1, No=0)).values"
   ]
  },
  {
   "cell_type": "markdown",
   "metadata": {
    "id": "YDjpwZevRxEn"
   },
   "source": [
    "The code block below can be skipped. It just shows sometimes a feature can be very noisy. And need manually clean."
   ]
  },
  {
   "cell_type": "code",
   "execution_count": null,
   "metadata": {
    "id": "MCfbehT7RxEo",
    "outputId": "f4d6b967-51e7-4e27-99d3-7583a57b7e5b"
   },
   "outputs": [],
   "source": [
    "# TL;DR --- clean 'Gender', map it into ['female' 'male' 'trans']\n",
    "\n",
    "gender = df['Gender'].str.lower()\n",
    "gender = df['Gender'].unique()\n",
    "\n",
    "# manually code\n",
    "male_str = [\"male\", \"m\", \"male-ish\", \"maile\", \"mal\", \"male (cis)\",\n",
    "            \"make\", \"male \", \"man\",\"msle\", \"mail\", \"malr\",\"cis man\", \"Cis Male\", \"cis male\"]\n",
    "trans_str = [\"trans-female\", \"something kinda male?\", \"queer/she/they\", \n",
    "             \"non-binary\",\"nah\", \"all\", \"enby\", \"fluid\", \"genderqueer\", \"androgyne\", \"agender\", \"male leaning androgynous\", \"guy (-ish) ^_^\", \"trans woman\", \"neuter\", \"female (trans)\", \"queer\", \"ostensibly male, unsure what that really means\"]           \n",
    "female_str = [\"cis female\", \"f\", \"female\", \"woman\",  \"femake\", \"female \",\n",
    "              \"cis-female/femme\", \"female (cis)\", \"femail\"]\n",
    "\n",
    "for (row, col) in df.iterrows():\n",
    "    if str.lower(col.Gender) in male_str:\n",
    "        df['Gender'].replace(to_replace=col.Gender, value='male', inplace=True)\n",
    "    if str.lower(col.Gender) in female_str:\n",
    "        df['Gender'].replace(to_replace=col.Gender, value='female', inplace=True)\n",
    "    if str.lower(col.Gender) in trans_str:\n",
    "        df['Gender'].replace(to_replace=col.Gender, value='trans', inplace=True)\n",
    "\n",
    "rest = ['A little about you', 'p']\n",
    "df = df[~df['Gender'].isin(rest)]\n",
    "\n",
    "print(df['Gender'].unique())"
   ]
  },
  {
   "cell_type": "code",
   "execution_count": null,
   "metadata": {
    "id": "qFmQ9OgGRxEq",
    "outputId": "3ba0b847-927f-4fa2-aadc-f3d4c047e04a"
   },
   "outputs": [],
   "source": [
    "plt.figure(figsize=(40,5))\n",
    "sns.catplot(x=\"age_range\", y=\"treatment\", hue=\"Gender\", data=df,\n",
    "            kind=\"bar\", ci=None, height=5, aspect=2, legend_out = True)\n",
    "\n",
    "plt.title('Probability of mental health condition')"
   ]
  },
  {
   "cell_type": "markdown",
   "metadata": {
    "id": "WC9165IdRxEr"
   },
   "source": [
    "Similarly, we can examine the mental health condition with family history and age. And play with some other parameters.\n",
    "\n",
    "The default value of ci is 95, which shows us a 95% confidence interval."
   ]
  },
  {
   "cell_type": "code",
   "execution_count": null,
   "metadata": {
    "id": "Ys966WsnRxEs",
    "outputId": "7eec6f4b-8489-4396-a2ec-20ff2c0098de"
   },
   "outputs": [],
   "source": [
    "sns.catplot(x=\"family_history\", y=\"treatment\", hue=\"Gender\", data=df, kind=\"bar\", height=5, aspect=3, legend_out = True)"
   ]
  },
  {
   "cell_type": "markdown",
   "metadata": {
    "id": "X6vkhJP-RxEu"
   },
   "source": [
    "## Example: Time series plot\n",
    "\n",
    "Seaborn can also plot multiple time series easily with a line chart"
   ]
  },
  {
   "cell_type": "code",
   "execution_count": null,
   "metadata": {
    "id": "hWA4M98BRxEu",
    "outputId": "028e5241-18ea-4237-af8b-b4400bed219b"
   },
   "outputs": [],
   "source": [
    "# example using US Treasury interest rate\n",
    "import requests # to access the web page\n",
    "import pandas as pd\n",
    "\n",
    "# get the tables from the US Treasury interest rate table\n",
    "dfs = pd.read_html('https://home.treasury.gov/resource-center/data-chart-center/interest-rates/TextView?type=daily_treasury_yield_curve&field_tdr_date_value_month=202210')\n",
    "df_line = dfs[0][['Date','1 Mo', '2 Mo', '3 Mo', '6 Mo']]\n",
    "\n",
    "df_line['Date'] = pd.to_datetime(df_line.Date)\n",
    "df_line.set_index(\"Date\", drop=True, inplace=True)\n",
    "df_line.head()"
   ]
  },
  {
   "cell_type": "code",
   "execution_count": null,
   "metadata": {
    "id": "iYjmKF6oRxEx",
    "outputId": "a59818f2-5e5c-4b0c-c008-e781a8b7fc66"
   },
   "outputs": [],
   "source": [
    "sns.lineplot(data=df_line, dashes=False)"
   ]
  },
  {
   "cell_type": "code",
   "execution_count": null,
   "metadata": {
    "id": "nSdaz2ZgRxEz",
    "outputId": "e365ccdd-1d92-438a-c3e8-7cf2befedad0"
   },
   "outputs": [],
   "source": [
    "# regplot shows the correlation between 1 month and 2 month yields\n",
    "sns.regplot(x='1 Mo', y='2 Mo', data=df_line)"
   ]
  },
  {
   "cell_type": "markdown",
   "metadata": {
    "id": "se70Wha-RxE1"
   },
   "source": [
    "## Example: Correlation Matrix"
   ]
  },
  {
   "cell_type": "markdown",
   "metadata": {
    "id": "TI0SffWfRxE1"
   },
   "source": [
    "When exploring the data, it's natural to check what features are correlated with each other. "
   ]
  },
  {
   "cell_type": "code",
   "execution_count": null,
   "metadata": {
    "id": "wuiwSSqCRxE1"
   },
   "outputs": [],
   "source": [
    "# some preprocessing work\n",
    "\n",
    "df = df.drop(['Country'], axis= 1)\n",
    "df = df.drop(['comments'], axis= 1)\n",
    "df = df.drop(['state'], axis= 1)\n",
    "df = df.drop(['Timestamp'], axis= 1)\n",
    "# df = df.drop(['date'], axis= 1)\n",
    "df = df.dropna()       # dropna to make life easier"
   ]
  },
  {
   "cell_type": "code",
   "execution_count": null,
   "metadata": {
    "id": "rJPiYrbbRxE4",
    "outputId": "b2db996e-2c1c-46c4-dca7-b14b469f97c9"
   },
   "outputs": [],
   "source": [
    "# use labelencoder to transform every column from str to numeric\n",
    "from sklearn.preprocessing import LabelEncoder\n",
    "\n",
    "for feature in df:\n",
    "    le = LabelEncoder()\n",
    "    df[feature] = le.fit_transform(df[feature])\n",
    "    \n",
    "df.head()"
   ]
  },
  {
   "cell_type": "markdown",
   "metadata": {
    "id": "OD1sgRraRxE6"
   },
   "source": [
    "**LabelEncoder**: This method encodes target labels with value between 0 and n_classes-1 for categorical variables. For example, genders would be mapped to (0, 1), while numeric variables such as ages would remain unchanged."
   ]
  },
  {
   "cell_type": "code",
   "execution_count": null,
   "metadata": {
    "id": "giP-8Q4oRxE6",
    "outputId": "3fc6b04b-825c-49cb-ff80-f1de43cc2348"
   },
   "outputs": [],
   "source": [
    "# correlation matrix\n",
    "corrmat = df.corr()\n",
    "fig, ax = plt.subplots(figsize=(12, 9))\n",
    "sns.heatmap(corrmat, vmax=.8, square=True);\n",
    "plt.show()"
   ]
  },
  {
   "cell_type": "markdown",
   "metadata": {
    "id": "neNdX0HfRxE8"
   },
   "source": [
    "We can see benefits, care_options, wellness_program, seek_help and anonymity are closely correlated with each other."
   ]
  },
  {
   "cell_type": "markdown",
   "metadata": {
    "id": "LInAV98JRxE9"
   },
   "source": [
    "* benefits: Does your employer provide mental health benefits?\n",
    "\n",
    "* care_options: Do you know the options for mental health care your employer provides?\n",
    "\n",
    "* wellness_program: Has your employer ever discussed mental health as part of an employee wellness program?\n",
    "\n",
    "* seek_help: Does your employer provide resources to learn more about mental health issues and how to seek help?\n",
    "\n",
    "* anonymity: Is your anonymity protected if you choose to take advantage of mental health or substance abuse treatment resources?"
   ]
  },
  {
   "cell_type": "markdown",
   "metadata": {
    "id": "byCunZGERxE9"
   },
   "source": [
    "## We are also interested in what are closely correlated with treatment?"
   ]
  },
  {
   "cell_type": "code",
   "execution_count": null,
   "metadata": {
    "id": "CNZWVRszRxE-",
    "outputId": "abab630c-18a0-41bf-962e-e74d536b0fc9"
   },
   "outputs": [],
   "source": [
    "# treatment correlation matrix\n",
    "# pickup top 5 variables for heatmap\n",
    "\n",
    "import numpy as np\n",
    "k = 5\n",
    "cols = corrmat.nlargest(k, 'treatment')['treatment'].index\n",
    "cm = np.corrcoef(df[cols].values.T)\n",
    "sns.set(font_scale=1.25)\n",
    "hm = sns.heatmap(cm, cbar=True, annot=True, square=True, fmt='.2f', annot_kws={'size': 10}, yticklabels=cols.values, xticklabels=cols.values)\n",
    "plt.show()"
   ]
  },
  {
   "cell_type": "markdown",
   "metadata": {
    "id": "TesbTHqORxE_"
   },
   "source": [
    "* work_interfere: If you have a mental health condition, do you feel that it interferes with your work?\n",
    "* family_history: Do you have a family history of mental illness?\n",
    "* benefits: Does your employer provide mental health benefits?\n",
    "* care_options: Do you know the options for mental health care your employer provides?"
   ]
  },
  {
   "cell_type": "markdown",
   "metadata": {
    "id": "4SRGUxeDRxFA"
   },
   "source": [
    "## There is a lot of fun stuff to explore in seaborn. Enjoy!"
   ]
  },
  {
   "cell_type": "code",
   "execution_count": null,
   "metadata": {
    "id": "8FCTw1Z9RxFA",
    "outputId": "901b5c03-c389-4dfc-974e-b1ed2b0cde29"
   },
   "outputs": [],
   "source": [
    "# dogplot - post-credit scene\n",
    "\n",
    "sns.dogplot()"
   ]
  }
 ],
 "metadata": {
  "colab": {
   "name": "SeabornExamples_Jie.ipynb",
   "provenance": []
  },
  "kernelspec": {
   "display_name": "Python 3 (ipykernel)",
   "language": "python",
   "name": "python3"
  },
  "language_info": {
   "codemirror_mode": {
    "name": "ipython",
    "version": 3
   },
   "file_extension": ".py",
   "mimetype": "text/x-python",
   "name": "python",
   "nbconvert_exporter": "python",
   "pygments_lexer": "ipython3",
   "version": "3.10.4"
  }
 },
 "nbformat": 4,
 "nbformat_minor": 1
}
